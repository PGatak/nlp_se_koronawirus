{
 "cells": [
  {
   "cell_type": "code",
   "execution_count": 177,
   "metadata": {},
   "outputs": [],
   "source": [
    "from bs4 import BeautifulSoup\n",
    "import matplotlib.pyplot as plt\n",
    "import pandas as pd\n",
    "import pickle\n",
    "import re\n",
    "import requests\n",
    "import seaborn as sns"
   ]
  },
  {
   "cell_type": "code",
   "execution_count": 178,
   "metadata": {},
   "outputs": [],
   "source": [
    "pd.set_option('max_colwidth', 400)"
   ]
  },
  {
   "cell_type": "markdown",
   "metadata": {},
   "source": [
    "### Import data"
   ]
  },
  {
   "cell_type": "code",
   "execution_count": 179,
   "metadata": {},
   "outputs": [],
   "source": [
    "df = pd.read_csv('se_lublin.csv')"
   ]
  },
  {
   "cell_type": "code",
   "execution_count": 180,
   "metadata": {},
   "outputs": [
    {
     "data": {
      "text/plain": [
       "Index(['Unnamed: 0', 'publication_date', 'publication_month',\n",
       "       'publication_day', 'author', 'title', 'url', 'koronawirus_in_text',\n",
       "       'koronawirus_in_title', 'question_mark', 'exclamation_mark',\n",
       "       'all_words', 'koronawirus_anywhere', 'koronawirus_anywhere_count'],\n",
       "      dtype='object')"
      ]
     },
     "execution_count": 180,
     "metadata": {},
     "output_type": "execute_result"
    }
   ],
   "source": [
    "df.columns"
   ]
  },
  {
   "cell_type": "code",
   "execution_count": 181,
   "metadata": {},
   "outputs": [
    {
     "data": {
      "text/html": [
       "<div>\n",
       "<style scoped>\n",
       "    .dataframe tbody tr th:only-of-type {\n",
       "        vertical-align: middle;\n",
       "    }\n",
       "\n",
       "    .dataframe tbody tr th {\n",
       "        vertical-align: top;\n",
       "    }\n",
       "\n",
       "    .dataframe thead th {\n",
       "        text-align: right;\n",
       "    }\n",
       "</style>\n",
       "<table border=\"1\" class=\"dataframe\">\n",
       "  <thead>\n",
       "    <tr style=\"text-align: right;\">\n",
       "      <th></th>\n",
       "      <th>publication_date</th>\n",
       "      <th>publication_month</th>\n",
       "      <th>publication_day</th>\n",
       "      <th>author</th>\n",
       "      <th>title</th>\n",
       "      <th>url</th>\n",
       "      <th>koronawirus_in_text</th>\n",
       "      <th>koronawirus_in_title</th>\n",
       "      <th>question_mark</th>\n",
       "      <th>exclamation_mark</th>\n",
       "      <th>all_words</th>\n",
       "      <th>koronawirus_anywhere</th>\n",
       "      <th>koronawirus_anywhere_count</th>\n",
       "    </tr>\n",
       "  </thead>\n",
       "  <tbody>\n",
       "    <tr>\n",
       "      <td>0</td>\n",
       "      <td>2020-04-15 10:42:00</td>\n",
       "      <td>2020-04</td>\n",
       "      <td>2020-04-15</td>\n",
       "      <td>marek targoński</td>\n",
       "      <td>Lubelskie: AŻ 25 NOWYCH ZAKAŻEŃ. Koronawirus atakuje z ogromną siłą! [NOWE DANE]</td>\n",
       "      <td>https://www.se.pl/lublin/lubelskie-az-25-nowych-zakazen-koronawirus-atakuje-z-ogromna-sila-nowe-dane-aa-xMvU-hSfD-xgA8.html</td>\n",
       "      <td>13</td>\n",
       "      <td>1</td>\n",
       "      <td>0</td>\n",
       "      <td>2</td>\n",
       "      <td>160</td>\n",
       "      <td>14</td>\n",
       "      <td>1</td>\n",
       "    </tr>\n",
       "    <tr>\n",
       "      <td>1</td>\n",
       "      <td>2020-08-19 21:41:00</td>\n",
       "      <td>2020-08</td>\n",
       "      <td>2020-08-19</td>\n",
       "      <td>mariusz mucha</td>\n",
       "      <td>Tragedia pod Parczewem. Piotrek w SZALE zatłukł cegłą nie tego brata</td>\n",
       "      <td>https://lublin.se.pl/tragedia-pod-parczewem-zatlukl-cegla-nie-tego-brata-aa-pG2R-Mdb2-2su2.html</td>\n",
       "      <td>0</td>\n",
       "      <td>0</td>\n",
       "      <td>1</td>\n",
       "      <td>0</td>\n",
       "      <td>340</td>\n",
       "      <td>0</td>\n",
       "      <td>0</td>\n",
       "    </tr>\n",
       "  </tbody>\n",
       "</table>\n",
       "</div>"
      ],
      "text/plain": [
       "      publication_date publication_month publication_day           author  \\\n",
       "0  2020-04-15 10:42:00           2020-04      2020-04-15  marek targoński   \n",
       "1  2020-08-19 21:41:00           2020-08      2020-08-19    mariusz mucha   \n",
       "\n",
       "                                                                              title  \\\n",
       "0  Lubelskie: AŻ 25 NOWYCH ZAKAŻEŃ. Koronawirus atakuje z ogromną siłą! [NOWE DANE]   \n",
       "1              Tragedia pod Parczewem. Piotrek w SZALE zatłukł cegłą nie tego brata   \n",
       "\n",
       "                                                                                                                           url  \\\n",
       "0  https://www.se.pl/lublin/lubelskie-az-25-nowych-zakazen-koronawirus-atakuje-z-ogromna-sila-nowe-dane-aa-xMvU-hSfD-xgA8.html   \n",
       "1                              https://lublin.se.pl/tragedia-pod-parczewem-zatlukl-cegla-nie-tego-brata-aa-pG2R-Mdb2-2su2.html   \n",
       "\n",
       "   koronawirus_in_text  koronawirus_in_title  question_mark  exclamation_mark  \\\n",
       "0                   13                     1              0                 2   \n",
       "1                    0                     0              1                 0   \n",
       "\n",
       "   all_words  koronawirus_anywhere  koronawirus_anywhere_count  \n",
       "0        160                    14                           1  \n",
       "1        340                     0                           0  "
      ]
     },
     "execution_count": 181,
     "metadata": {},
     "output_type": "execute_result"
    }
   ],
   "source": [
    "df.drop('Unnamed: 0', axis=1, inplace=True)\n",
    "df.head(2)"
   ]
  },
  {
   "cell_type": "markdown",
   "metadata": {},
   "source": [
    "# Project"
   ]
  },
  {
   "cell_type": "markdown",
   "metadata": {},
   "source": [
    "### First articles with covid in the title"
   ]
  },
  {
   "cell_type": "code",
   "execution_count": 116,
   "metadata": {
    "scrolled": false
   },
   "outputs": [
    {
     "data": {
      "text/html": [
       "<div>\n",
       "<style scoped>\n",
       "    .dataframe tbody tr th:only-of-type {\n",
       "        vertical-align: middle;\n",
       "    }\n",
       "\n",
       "    .dataframe tbody tr th {\n",
       "        vertical-align: top;\n",
       "    }\n",
       "\n",
       "    .dataframe thead th {\n",
       "        text-align: right;\n",
       "    }\n",
       "</style>\n",
       "<table border=\"1\" class=\"dataframe\">\n",
       "  <thead>\n",
       "    <tr style=\"text-align: right;\">\n",
       "      <th></th>\n",
       "      <th>publication_date</th>\n",
       "      <th>author</th>\n",
       "      <th>title</th>\n",
       "      <th>url</th>\n",
       "    </tr>\n",
       "  </thead>\n",
       "  <tbody>\n",
       "    <tr>\n",
       "      <td>1452</td>\n",
       "      <td>2020-01-29 15:07:00</td>\n",
       "      <td>mpgt</td>\n",
       "      <td>Koronawirus na Lubelszczyźnie? Sześć osób trafiło na badania! [AKTUALIZACJA, AUDIO]</td>\n",
       "      <td>https://www.se.pl/lublin/koronawirus-na-lubelszczyznie-lecieli-samolotem-z-pasazerami-z-chin-trafili-na-badania-aa-u6Ye-EK9f-HCQa.html</td>\n",
       "    </tr>\n",
       "    <tr>\n",
       "      <td>820</td>\n",
       "      <td>2020-01-31 10:46:00</td>\n",
       "      <td>marek targoński</td>\n",
       "      <td>Koronawirus z Chin: Gdzie jest? Sprawdź swój region! Lubelskie jest bezpieczne? [MAPA]</td>\n",
       "      <td>https://www.se.pl/lublin/koronawirus-z-chin-gdzie-jest-sprawdz-swoj-region-lubelskie-jest-bezpieczne-mapa-aa-GhkG-KYdd-SAR3.html</td>\n",
       "    </tr>\n",
       "    <tr>\n",
       "      <td>1438</td>\n",
       "      <td>2020-02-05 16:54:00</td>\n",
       "      <td>ac</td>\n",
       "      <td>Koronawirus w Lublinie? Mężczyzna zgłosił się z do kliniki chorób zakaźnych! [AKTUALIZACJA]</td>\n",
       "      <td>https://www.se.pl/lublin/koronawirus-w-lublinie-mezczyzna-zglosil-sie-z-objawami-do-kliniki-chorob-zakaznych-aa-QMCk-3SQs-eVz3.html</td>\n",
       "    </tr>\n",
       "    <tr>\n",
       "      <td>1435</td>\n",
       "      <td>2020-02-08 22:25:00</td>\n",
       "      <td>marek targoński</td>\n",
       "      <td>KORONAWIRUS w Lublinie? Znamy wyniki badań! NOWE INFORMACJE [RELACJA]</td>\n",
       "      <td>https://www.se.pl/lublin/koronawirus-w-lublinie-pacjent-trafil-do-szpitala-trwaja-badania-audio-aa-mgQE-Sn8h-sSd3.html</td>\n",
       "    </tr>\n",
       "    <tr>\n",
       "      <td>1411</td>\n",
       "      <td>2020-02-26 09:33:00</td>\n",
       "      <td>marek targoński</td>\n",
       "      <td>Koronawirus w Lubelskiem? Wrócili z Włoch – 27 osób pod lupą sanepidu. „Zwiększone ryzyko” [AKTUALIZACJA]</td>\n",
       "      <td>https://www.se.pl/lublin/koronawirus-w-lubelskiem-wrocili-z-wloch-27-osob-pod-lupa-sanepidu-zwiekszone-ryzyko-aa-9VGu-q7k3-Bj45.html</td>\n",
       "    </tr>\n",
       "    <tr>\n",
       "      <td>1410</td>\n",
       "      <td>2020-02-26 13:31:00</td>\n",
       "      <td>marek targoński</td>\n",
       "      <td>Koronawirus w Lublinie? Uczelnia zawiesza rekrutację cudzoziemców. „Wszyscy się boimy”</td>\n",
       "      <td>https://www.se.pl/lublin/koronawirus-w-lublinie-uczelnia-zawiesza-rekrutacje-cudzoziemcow-wszyscy-sie-boimy-aa-CKyb-X5br-fqRb.html</td>\n",
       "    </tr>\n",
       "    <tr>\n",
       "      <td>763</td>\n",
       "      <td>2020-02-26 14:58:00</td>\n",
       "      <td>marek targoński</td>\n",
       "      <td>Koronawirus w Lubelskiem? Dwie osoby w szpitalu! Trwają badania [AKTUALIZACJA, AUDIO]</td>\n",
       "      <td>https://www.se.pl/lublin/koronawirus-na-lubelszczyznie-dwie-osoby-w-szpitalu-trwaja-badania-aa-aWVz-FSnY-zPri.html</td>\n",
       "    </tr>\n",
       "    <tr>\n",
       "      <td>762</td>\n",
       "      <td>2020-02-27 07:42:00</td>\n",
       "      <td>marek targoński</td>\n",
       "      <td>Koronawirus. Gdzie zgłosić się z objawami w Lublinie? Oddziały zakaźne w Lubelskiem [ADRESY]</td>\n",
       "      <td>https://www.se.pl/lublin/koronawirus-gdzie-zglosic-sie-z-objawami-w-lublinie-oddzialy-zakazne-w-lubelskiem-adresy-aa-HEUE-KYLF-y22f.html</td>\n",
       "    </tr>\n",
       "  </tbody>\n",
       "</table>\n",
       "</div>"
      ],
      "text/plain": [
       "         publication_date           author  \\\n",
       "1452  2020-01-29 15:07:00             mpgt   \n",
       "820   2020-01-31 10:46:00  marek targoński   \n",
       "1438  2020-02-05 16:54:00               ac   \n",
       "1435  2020-02-08 22:25:00  marek targoński   \n",
       "1411  2020-02-26 09:33:00  marek targoński   \n",
       "1410  2020-02-26 13:31:00  marek targoński   \n",
       "763   2020-02-26 14:58:00  marek targoński   \n",
       "762   2020-02-27 07:42:00  marek targoński   \n",
       "\n",
       "                                                                                                          title  \\\n",
       "1452                        Koronawirus na Lubelszczyźnie? Sześć osób trafiło na badania! [AKTUALIZACJA, AUDIO]   \n",
       "820                      Koronawirus z Chin: Gdzie jest? Sprawdź swój region! Lubelskie jest bezpieczne? [MAPA]   \n",
       "1438                Koronawirus w Lublinie? Mężczyzna zgłosił się z do kliniki chorób zakaźnych! [AKTUALIZACJA]   \n",
       "1435                                      KORONAWIRUS w Lublinie? Znamy wyniki badań! NOWE INFORMACJE [RELACJA]   \n",
       "1411  Koronawirus w Lubelskiem? Wrócili z Włoch – 27 osób pod lupą sanepidu. „Zwiększone ryzyko” [AKTUALIZACJA]   \n",
       "1410                     Koronawirus w Lublinie? Uczelnia zawiesza rekrutację cudzoziemców. „Wszyscy się boimy”   \n",
       "763                       Koronawirus w Lubelskiem? Dwie osoby w szpitalu! Trwają badania [AKTUALIZACJA, AUDIO]   \n",
       "762                Koronawirus. Gdzie zgłosić się z objawami w Lublinie? Oddziały zakaźne w Lubelskiem [ADRESY]   \n",
       "\n",
       "                                                                                                                                           url  \n",
       "1452    https://www.se.pl/lublin/koronawirus-na-lubelszczyznie-lecieli-samolotem-z-pasazerami-z-chin-trafili-na-badania-aa-u6Ye-EK9f-HCQa.html  \n",
       "820           https://www.se.pl/lublin/koronawirus-z-chin-gdzie-jest-sprawdz-swoj-region-lubelskie-jest-bezpieczne-mapa-aa-GhkG-KYdd-SAR3.html  \n",
       "1438       https://www.se.pl/lublin/koronawirus-w-lublinie-mezczyzna-zglosil-sie-z-objawami-do-kliniki-chorob-zakaznych-aa-QMCk-3SQs-eVz3.html  \n",
       "1435                    https://www.se.pl/lublin/koronawirus-w-lublinie-pacjent-trafil-do-szpitala-trwaja-badania-audio-aa-mgQE-Sn8h-sSd3.html  \n",
       "1411      https://www.se.pl/lublin/koronawirus-w-lubelskiem-wrocili-z-wloch-27-osob-pod-lupa-sanepidu-zwiekszone-ryzyko-aa-9VGu-q7k3-Bj45.html  \n",
       "1410        https://www.se.pl/lublin/koronawirus-w-lublinie-uczelnia-zawiesza-rekrutacje-cudzoziemcow-wszyscy-sie-boimy-aa-CKyb-X5br-fqRb.html  \n",
       "763                         https://www.se.pl/lublin/koronawirus-na-lubelszczyznie-dwie-osoby-w-szpitalu-trwaja-badania-aa-aWVz-FSnY-zPri.html  \n",
       "762   https://www.se.pl/lublin/koronawirus-gdzie-zglosic-sie-z-objawami-w-lublinie-oddzialy-zakazne-w-lubelskiem-adresy-aa-HEUE-KYLF-y22f.html  "
      ]
     },
     "execution_count": 116,
     "metadata": {},
     "output_type": "execute_result"
    }
   ],
   "source": [
    "covid_articles = df.sort_values(by=['koronawirus_in_title', 'publication_date'], ascending=[False, True])\n",
    "covid_articles[['publication_date', 'author', 'title', 'url']].head(8)"
   ]
  },
  {
   "cell_type": "markdown",
   "metadata": {},
   "source": [
    "### Number of articles with covid in the title"
   ]
  },
  {
   "cell_type": "code",
   "execution_count": 117,
   "metadata": {
    "scrolled": true
   },
   "outputs": [
    {
     "data": {
      "text/plain": [
       "345"
      ]
     },
     "execution_count": 117,
     "metadata": {},
     "output_type": "execute_result"
    }
   ],
   "source": [
    "df.koronawirus_in_title.sum()"
   ]
  },
  {
   "cell_type": "markdown",
   "metadata": {},
   "source": [
    "### Mean number of covid articles in the title"
   ]
  },
  {
   "cell_type": "code",
   "execution_count": 118,
   "metadata": {},
   "outputs": [
    {
     "data": {
      "text/plain": [
       "0.22893165228931653"
      ]
     },
     "execution_count": 118,
     "metadata": {},
     "output_type": "execute_result"
    }
   ],
   "source": [
    "df.koronawirus_in_title.mean()"
   ]
  },
  {
   "cell_type": "markdown",
   "metadata": {},
   "source": [
    "### Number of articles with covid in the title each month"
   ]
  },
  {
   "cell_type": "code",
   "execution_count": 119,
   "metadata": {
    "scrolled": false
   },
   "outputs": [
    {
     "data": {
      "image/png": "[encoded data removed]",
      "text/plain": [
       "<Figure size 576x360 with 1 Axes>"
      ]
     },
     "metadata": {
      "needs_background": "light"
     },
     "output_type": "display_data"
    }
   ],
   "source": [
    "df_with_koronawirus_in_title = df.where(df[\"koronawirus_in_title\"] > 0).dropna()\n",
    "publication_month_with_koronawirus_in_title_count = df_with_koronawirus_in_title.publication_month.astype('category').value_counts(normalize=True)\n",
    "plt.figure(figsize=(8, 5))\n",
    "sns.barplot(publication_month_with_koronawirus_in_title_count.index, publication_month_with_koronawirus_in_title_count.values, alpha=0.8)\n",
    "plt.show()"
   ]
  },
  {
   "cell_type": "code",
   "execution_count": 120,
   "metadata": {},
   "outputs": [
    {
     "data": {
      "text/html": [
       "<div>\n",
       "<style scoped>\n",
       "    .dataframe tbody tr th:only-of-type {\n",
       "        vertical-align: middle;\n",
       "    }\n",
       "\n",
       "    .dataframe tbody tr th {\n",
       "        vertical-align: top;\n",
       "    }\n",
       "\n",
       "    .dataframe thead th {\n",
       "        text-align: right;\n",
       "    }\n",
       "</style>\n",
       "<table border=\"1\" class=\"dataframe\">\n",
       "  <thead>\n",
       "    <tr style=\"text-align: right;\">\n",
       "      <th></th>\n",
       "      <th>publication_date</th>\n",
       "      <th>publication_day</th>\n",
       "      <th>author</th>\n",
       "      <th>title</th>\n",
       "      <th>url</th>\n",
       "      <th>koronawirus_in_text</th>\n",
       "      <th>koronawirus_in_title</th>\n",
       "      <th>question_mark</th>\n",
       "      <th>exclamation_mark</th>\n",
       "      <th>all_words</th>\n",
       "      <th>koronawirus_anywhere</th>\n",
       "      <th>koronawirus_anywhere_count</th>\n",
       "    </tr>\n",
       "    <tr>\n",
       "      <th>publication_month</th>\n",
       "      <th></th>\n",
       "      <th></th>\n",
       "      <th></th>\n",
       "      <th></th>\n",
       "      <th></th>\n",
       "      <th></th>\n",
       "      <th></th>\n",
       "      <th></th>\n",
       "      <th></th>\n",
       "      <th></th>\n",
       "      <th></th>\n",
       "      <th></th>\n",
       "    </tr>\n",
       "  </thead>\n",
       "  <tbody>\n",
       "    <tr>\n",
       "      <td>2020-01</td>\n",
       "      <td>2</td>\n",
       "      <td>2</td>\n",
       "      <td>2</td>\n",
       "      <td>2</td>\n",
       "      <td>2</td>\n",
       "      <td>2</td>\n",
       "      <td>2</td>\n",
       "      <td>2</td>\n",
       "      <td>2</td>\n",
       "      <td>2</td>\n",
       "      <td>2</td>\n",
       "      <td>2</td>\n",
       "    </tr>\n",
       "    <tr>\n",
       "      <td>2020-02</td>\n",
       "      <td>7</td>\n",
       "      <td>7</td>\n",
       "      <td>7</td>\n",
       "      <td>7</td>\n",
       "      <td>7</td>\n",
       "      <td>7</td>\n",
       "      <td>7</td>\n",
       "      <td>7</td>\n",
       "      <td>7</td>\n",
       "      <td>7</td>\n",
       "      <td>7</td>\n",
       "      <td>7</td>\n",
       "    </tr>\n",
       "    <tr>\n",
       "      <td>2020-03</td>\n",
       "      <td>111</td>\n",
       "      <td>111</td>\n",
       "      <td>111</td>\n",
       "      <td>111</td>\n",
       "      <td>111</td>\n",
       "      <td>111</td>\n",
       "      <td>111</td>\n",
       "      <td>111</td>\n",
       "      <td>111</td>\n",
       "      <td>111</td>\n",
       "      <td>111</td>\n",
       "      <td>111</td>\n",
       "    </tr>\n",
       "    <tr>\n",
       "      <td>2020-04</td>\n",
       "      <td>69</td>\n",
       "      <td>69</td>\n",
       "      <td>69</td>\n",
       "      <td>69</td>\n",
       "      <td>69</td>\n",
       "      <td>69</td>\n",
       "      <td>69</td>\n",
       "      <td>69</td>\n",
       "      <td>69</td>\n",
       "      <td>69</td>\n",
       "      <td>69</td>\n",
       "      <td>69</td>\n",
       "    </tr>\n",
       "    <tr>\n",
       "      <td>2020-05</td>\n",
       "      <td>30</td>\n",
       "      <td>30</td>\n",
       "      <td>30</td>\n",
       "      <td>30</td>\n",
       "      <td>30</td>\n",
       "      <td>30</td>\n",
       "      <td>30</td>\n",
       "      <td>30</td>\n",
       "      <td>30</td>\n",
       "      <td>30</td>\n",
       "      <td>30</td>\n",
       "      <td>30</td>\n",
       "    </tr>\n",
       "    <tr>\n",
       "      <td>2020-06</td>\n",
       "      <td>18</td>\n",
       "      <td>18</td>\n",
       "      <td>18</td>\n",
       "      <td>18</td>\n",
       "      <td>18</td>\n",
       "      <td>18</td>\n",
       "      <td>18</td>\n",
       "      <td>18</td>\n",
       "      <td>18</td>\n",
       "      <td>18</td>\n",
       "      <td>18</td>\n",
       "      <td>18</td>\n",
       "    </tr>\n",
       "    <tr>\n",
       "      <td>2020-07</td>\n",
       "      <td>64</td>\n",
       "      <td>64</td>\n",
       "      <td>64</td>\n",
       "      <td>64</td>\n",
       "      <td>64</td>\n",
       "      <td>64</td>\n",
       "      <td>64</td>\n",
       "      <td>64</td>\n",
       "      <td>64</td>\n",
       "      <td>64</td>\n",
       "      <td>64</td>\n",
       "      <td>64</td>\n",
       "    </tr>\n",
       "    <tr>\n",
       "      <td>2020-08</td>\n",
       "      <td>42</td>\n",
       "      <td>42</td>\n",
       "      <td>42</td>\n",
       "      <td>42</td>\n",
       "      <td>42</td>\n",
       "      <td>42</td>\n",
       "      <td>42</td>\n",
       "      <td>42</td>\n",
       "      <td>42</td>\n",
       "      <td>42</td>\n",
       "      <td>42</td>\n",
       "      <td>42</td>\n",
       "    </tr>\n",
       "  </tbody>\n",
       "</table>\n",
       "</div>"
      ],
      "text/plain": [
       "                   publication_date  publication_day  author  title  url  \\\n",
       "publication_month                                                          \n",
       "2020-01                           2                2       2      2    2   \n",
       "2020-02                           7                7       7      7    7   \n",
       "2020-03                         111              111     111    111  111   \n",
       "2020-04                          69               69      69     69   69   \n",
       "2020-05                          30               30      30     30   30   \n",
       "2020-06                          18               18      18     18   18   \n",
       "2020-07                          64               64      64     64   64   \n",
       "2020-08                          42               42      42     42   42   \n",
       "\n",
       "                   koronawirus_in_text  koronawirus_in_title  question_mark  \\\n",
       "publication_month                                                             \n",
       "2020-01                              2                     2              2   \n",
       "2020-02                              7                     7              7   \n",
       "2020-03                            111                   111            111   \n",
       "2020-04                             69                    69             69   \n",
       "2020-05                             30                    30             30   \n",
       "2020-06                             18                    18             18   \n",
       "2020-07                             64                    64             64   \n",
       "2020-08                             42                    42             42   \n",
       "\n",
       "                   exclamation_mark  all_words  koronawirus_anywhere  \\\n",
       "publication_month                                                      \n",
       "2020-01                           2          2                     2   \n",
       "2020-02                           7          7                     7   \n",
       "2020-03                         111        111                   111   \n",
       "2020-04                          69         69                    69   \n",
       "2020-05                          30         30                    30   \n",
       "2020-06                          18         18                    18   \n",
       "2020-07                          64         64                    64   \n",
       "2020-08                          42         42                    42   \n",
       "\n",
       "                   koronawirus_anywhere_count  \n",
       "publication_month                              \n",
       "2020-01                                     2  \n",
       "2020-02                                     7  \n",
       "2020-03                                   111  \n",
       "2020-04                                    69  \n",
       "2020-05                                    30  \n",
       "2020-06                                    18  \n",
       "2020-07                                    64  \n",
       "2020-08                                    42  "
      ]
     },
     "execution_count": 120,
     "metadata": {},
     "output_type": "execute_result"
    }
   ],
   "source": [
    "df_with_koronawirus_in_title.groupby('publication_month').count()"
   ]
  },
  {
   "cell_type": "code",
   "execution_count": 121,
   "metadata": {},
   "outputs": [
    {
     "data": {
      "image/png": "[encoded data removed]",
      "text/plain": [
       "<Figure size 432x288 with 1 Axes>"
      ]
     },
     "metadata": {
      "needs_background": "light"
     },
     "output_type": "display_data"
    }
   ],
   "source": [
    "df_with_koronawirus_in_title = df.where(df[\"koronawirus_in_title\"] > 0).dropna()\n",
    "# plt.style.use('ggplot')\n",
    "# plt.style.use('dark_background')\n",
    "#plt.style.use('seaborn-whitegrid')\n",
    "plt.plot(df_with_koronawirus_in_title.groupby('publication_month').count(),\n",
    "         color='g',\n",
    "        marker='o')\n",
    "plt.ylabel(\"liczba artykułów\")\n",
    "plt.legend([\"grupa* koronawirus w tytule\"])\n",
    "# plt.annotate([\"2\", (0, 8)], [\"7\", (1.2, 2)])\n",
    "plt.grid()\n",
    "plt.show()"
   ]
  },
  {
   "cell_type": "markdown",
   "metadata": {},
   "source": [
    "### Number of articles with covid in the text"
   ]
  },
  {
   "cell_type": "code",
   "execution_count": 122,
   "metadata": {},
   "outputs": [
    {
     "data": {
      "text/plain": [
       "555"
      ]
     },
     "execution_count": 122,
     "metadata": {},
     "output_type": "execute_result"
    }
   ],
   "source": [
    "koronawirus_in_text_true = df['koronawirus_in_text'] > 0\n",
    "df['koronawirus_in_text'][koronawirus_in_text_true].count()"
   ]
  },
  {
   "cell_type": "code",
   "execution_count": 123,
   "metadata": {
    "scrolled": true
   },
   "outputs": [
    {
     "data": {
      "text/plain": [
       "0.36828135368281356"
      ]
     },
     "execution_count": 123,
     "metadata": {},
     "output_type": "execute_result"
    }
   ],
   "source": [
    "koronawirus_in_text_true.mean()"
   ]
  },
  {
   "cell_type": "markdown",
   "metadata": {},
   "source": [
    "### Number of covid articles in the text each month"
   ]
  },
  {
   "cell_type": "code",
   "execution_count": 124,
   "metadata": {
    "scrolled": true
   },
   "outputs": [
    {
     "data": {
      "text/html": [
       "<div>\n",
       "<style scoped>\n",
       "    .dataframe tbody tr th:only-of-type {\n",
       "        vertical-align: middle;\n",
       "    }\n",
       "\n",
       "    .dataframe tbody tr th {\n",
       "        vertical-align: top;\n",
       "    }\n",
       "\n",
       "    .dataframe thead th {\n",
       "        text-align: right;\n",
       "    }\n",
       "</style>\n",
       "<table border=\"1\" class=\"dataframe\">\n",
       "  <thead>\n",
       "    <tr style=\"text-align: right;\">\n",
       "      <th></th>\n",
       "      <th>publication_date</th>\n",
       "      <th>publication_month</th>\n",
       "      <th>publication_day</th>\n",
       "      <th>author</th>\n",
       "      <th>title</th>\n",
       "      <th>url</th>\n",
       "      <th>koronawirus_in_text</th>\n",
       "      <th>koronawirus_in_title</th>\n",
       "      <th>question_mark</th>\n",
       "      <th>exclamation_mark</th>\n",
       "      <th>all_words</th>\n",
       "      <th>koronawirus_anywhere</th>\n",
       "      <th>koronawirus_anywhere_count</th>\n",
       "    </tr>\n",
       "  </thead>\n",
       "  <tbody>\n",
       "    <tr>\n",
       "      <td>0</td>\n",
       "      <td>2020-04-15 10:42:00</td>\n",
       "      <td>2020-04</td>\n",
       "      <td>2020-04-15</td>\n",
       "      <td>marek targoński</td>\n",
       "      <td>Lubelskie: AŻ 25 NOWYCH ZAKAŻEŃ. Koronawirus atakuje z ogromną siłą! [NOWE DANE]</td>\n",
       "      <td>https://www.se.pl/lublin/lubelskie-az-25-nowych-zakazen-koronawirus-atakuje-z-ogromna-sila-nowe-dane-aa-xMvU-hSfD-xgA8.html</td>\n",
       "      <td>13.0</td>\n",
       "      <td>1.0</td>\n",
       "      <td>0.0</td>\n",
       "      <td>2.0</td>\n",
       "      <td>160.0</td>\n",
       "      <td>14.0</td>\n",
       "      <td>1.0</td>\n",
       "    </tr>\n",
       "    <tr>\n",
       "      <td>4</td>\n",
       "      <td>2020-08-19 16:06:00</td>\n",
       "      <td>2020-08</td>\n",
       "      <td>2020-08-19</td>\n",
       "      <td>karolina januszek</td>\n",
       "      <td>Koniec zakazu handlu? Większość Polaków chce zmian</td>\n",
       "      <td>https://lublin.se.pl/koniec-zakazu-handlu-stanowcza-deklaracja-polakow-ak-JMnw-vRFC-xaa6.html</td>\n",
       "      <td>10.0</td>\n",
       "      <td>0.0</td>\n",
       "      <td>0.0</td>\n",
       "      <td>1.0</td>\n",
       "      <td>334.0</td>\n",
       "      <td>10.0</td>\n",
       "      <td>1.0</td>\n",
       "    </tr>\n",
       "    <tr>\n",
       "      <td>6</td>\n",
       "      <td>2020-08-19 14:07:00</td>\n",
       "      <td>2020-08</td>\n",
       "      <td>2020-08-19</td>\n",
       "      <td>km</td>\n",
       "      <td>Koronawirus na polskich weselach: zimna wódeczka, wspólne tańce, gorące pocałunki. LISTA</td>\n",
       "      <td>https://lublin.se.pl/koronawirus-w-polsce-te-wesela-okazaly-sie-ogniskami-koronawirusa-lista-ak-U5fw-zJ35-Wqmq.html</td>\n",
       "      <td>8.0</td>\n",
       "      <td>1.0</td>\n",
       "      <td>2.0</td>\n",
       "      <td>0.0</td>\n",
       "      <td>143.0</td>\n",
       "      <td>9.0</td>\n",
       "      <td>1.0</td>\n",
       "    </tr>\n",
       "  </tbody>\n",
       "</table>\n",
       "</div>"
      ],
      "text/plain": [
       "      publication_date publication_month publication_day             author  \\\n",
       "0  2020-04-15 10:42:00           2020-04      2020-04-15    marek targoński   \n",
       "4  2020-08-19 16:06:00           2020-08      2020-08-19  karolina januszek   \n",
       "6  2020-08-19 14:07:00           2020-08      2020-08-19                 km   \n",
       "\n",
       "                                                                                      title  \\\n",
       "0          Lubelskie: AŻ 25 NOWYCH ZAKAŻEŃ. Koronawirus atakuje z ogromną siłą! [NOWE DANE]   \n",
       "4                                        Koniec zakazu handlu? Większość Polaków chce zmian   \n",
       "6  Koronawirus na polskich weselach: zimna wódeczka, wspólne tańce, gorące pocałunki. LISTA   \n",
       "\n",
       "                                                                                                                           url  \\\n",
       "0  https://www.se.pl/lublin/lubelskie-az-25-nowych-zakazen-koronawirus-atakuje-z-ogromna-sila-nowe-dane-aa-xMvU-hSfD-xgA8.html   \n",
       "4                                https://lublin.se.pl/koniec-zakazu-handlu-stanowcza-deklaracja-polakow-ak-JMnw-vRFC-xaa6.html   \n",
       "6          https://lublin.se.pl/koronawirus-w-polsce-te-wesela-okazaly-sie-ogniskami-koronawirusa-lista-ak-U5fw-zJ35-Wqmq.html   \n",
       "\n",
       "   koronawirus_in_text  koronawirus_in_title  question_mark  exclamation_mark  \\\n",
       "0                 13.0                   1.0            0.0               2.0   \n",
       "4                 10.0                   0.0            0.0               1.0   \n",
       "6                  8.0                   1.0            2.0               0.0   \n",
       "\n",
       "   all_words  koronawirus_anywhere  koronawirus_anywhere_count  \n",
       "0      160.0                  14.0                         1.0  \n",
       "4      334.0                  10.0                         1.0  \n",
       "6      143.0                   9.0                         1.0  "
      ]
     },
     "execution_count": 124,
     "metadata": {},
     "output_type": "execute_result"
    }
   ],
   "source": [
    "df_with_koronawirus_in_text = df.where(df[\"koronawirus_in_text\"] > 0).dropna()\n",
    "df_with_koronawirus_in_text.head(3)"
   ]
  },
  {
   "cell_type": "code",
   "execution_count": 125,
   "metadata": {
    "scrolled": true
   },
   "outputs": [
    {
     "data": {
      "image/png": "[encoded data removed]",
      "text/plain": [
       "<Figure size 576x360 with 1 Axes>"
      ]
     },
     "metadata": {
      "needs_background": "light"
     },
     "output_type": "display_data"
    }
   ],
   "source": [
    "publication_month_with_koronawirus_in_text_count = df_with_koronawirus_in_text.publication_month.astype('category').value_counts(normalize=True)\n",
    "plt.figure(figsize=(8, 5))\n",
    "sns.barplot(publication_month_with_koronawirus_in_text_count.index, publication_month_with_koronawirus_in_text_count.values, alpha=0.8)\n",
    "plt.show()"
   ]
  },
  {
   "cell_type": "code",
   "execution_count": 126,
   "metadata": {
    "scrolled": false
   },
   "outputs": [
    {
     "data": {
      "image/png": "[encoded data removed]",
      "text/plain": [
       "<Figure size 432x288 with 1 Axes>"
      ]
     },
     "metadata": {
      "needs_background": "light"
     },
     "output_type": "display_data"
    }
   ],
   "source": [
    "plt.plot(df_with_koronawirus_in_text[['koronawirus_in_text', 'publication_month']].groupby('publication_month').count(),\n",
    "        color='r',\n",
    "        marker='o')\n",
    "\n",
    "plt.plot(df_with_koronawirus_in_title[['koronawirus_in_title', 'publication_month']].groupby('publication_month').count(),\n",
    "        color='g',\n",
    "        marker='o')\n",
    "\n",
    "plt.ylabel(\"liczba artykułów\")\n",
    "plt.grid()\n",
    "plt.legend([\"grupa* koronawirus w tekście\", \"grupa* koronawirus w tytule\"])\n",
    "plt.show()"
   ]
  },
  {
   "cell_type": "code",
   "execution_count": 127,
   "metadata": {
    "scrolled": true
   },
   "outputs": [
    {
     "data": {
      "text/html": [
       "<div>\n",
       "<style scoped>\n",
       "    .dataframe tbody tr th:only-of-type {\n",
       "        vertical-align: middle;\n",
       "    }\n",
       "\n",
       "    .dataframe tbody tr th {\n",
       "        vertical-align: top;\n",
       "    }\n",
       "\n",
       "    .dataframe thead th {\n",
       "        text-align: right;\n",
       "    }\n",
       "</style>\n",
       "<table border=\"1\" class=\"dataframe\">\n",
       "  <thead>\n",
       "    <tr style=\"text-align: right;\">\n",
       "      <th></th>\n",
       "      <th>publication_date</th>\n",
       "      <th>publication_day</th>\n",
       "      <th>author</th>\n",
       "      <th>title</th>\n",
       "      <th>url</th>\n",
       "      <th>koronawirus_in_text</th>\n",
       "      <th>koronawirus_in_title</th>\n",
       "      <th>question_mark</th>\n",
       "      <th>exclamation_mark</th>\n",
       "      <th>all_words</th>\n",
       "      <th>koronawirus_anywhere</th>\n",
       "      <th>koronawirus_anywhere_count</th>\n",
       "    </tr>\n",
       "    <tr>\n",
       "      <th>publication_month</th>\n",
       "      <th></th>\n",
       "      <th></th>\n",
       "      <th></th>\n",
       "      <th></th>\n",
       "      <th></th>\n",
       "      <th></th>\n",
       "      <th></th>\n",
       "      <th></th>\n",
       "      <th></th>\n",
       "      <th></th>\n",
       "      <th></th>\n",
       "      <th></th>\n",
       "    </tr>\n",
       "  </thead>\n",
       "  <tbody>\n",
       "    <tr>\n",
       "      <td>2020-01</td>\n",
       "      <td>5</td>\n",
       "      <td>5</td>\n",
       "      <td>5</td>\n",
       "      <td>5</td>\n",
       "      <td>5</td>\n",
       "      <td>5</td>\n",
       "      <td>5</td>\n",
       "      <td>5</td>\n",
       "      <td>5</td>\n",
       "      <td>5</td>\n",
       "      <td>5</td>\n",
       "      <td>5</td>\n",
       "    </tr>\n",
       "    <tr>\n",
       "      <td>2020-02</td>\n",
       "      <td>11</td>\n",
       "      <td>11</td>\n",
       "      <td>11</td>\n",
       "      <td>11</td>\n",
       "      <td>11</td>\n",
       "      <td>11</td>\n",
       "      <td>11</td>\n",
       "      <td>11</td>\n",
       "      <td>11</td>\n",
       "      <td>11</td>\n",
       "      <td>11</td>\n",
       "      <td>11</td>\n",
       "    </tr>\n",
       "    <tr>\n",
       "      <td>2020-03</td>\n",
       "      <td>116</td>\n",
       "      <td>116</td>\n",
       "      <td>116</td>\n",
       "      <td>116</td>\n",
       "      <td>116</td>\n",
       "      <td>116</td>\n",
       "      <td>116</td>\n",
       "      <td>116</td>\n",
       "      <td>116</td>\n",
       "      <td>116</td>\n",
       "      <td>116</td>\n",
       "      <td>116</td>\n",
       "    </tr>\n",
       "    <tr>\n",
       "      <td>2020-04</td>\n",
       "      <td>102</td>\n",
       "      <td>102</td>\n",
       "      <td>102</td>\n",
       "      <td>102</td>\n",
       "      <td>102</td>\n",
       "      <td>102</td>\n",
       "      <td>102</td>\n",
       "      <td>102</td>\n",
       "      <td>102</td>\n",
       "      <td>102</td>\n",
       "      <td>102</td>\n",
       "      <td>102</td>\n",
       "    </tr>\n",
       "    <tr>\n",
       "      <td>2020-05</td>\n",
       "      <td>61</td>\n",
       "      <td>61</td>\n",
       "      <td>61</td>\n",
       "      <td>61</td>\n",
       "      <td>61</td>\n",
       "      <td>61</td>\n",
       "      <td>61</td>\n",
       "      <td>61</td>\n",
       "      <td>61</td>\n",
       "      <td>61</td>\n",
       "      <td>61</td>\n",
       "      <td>61</td>\n",
       "    </tr>\n",
       "    <tr>\n",
       "      <td>2020-06</td>\n",
       "      <td>52</td>\n",
       "      <td>52</td>\n",
       "      <td>52</td>\n",
       "      <td>52</td>\n",
       "      <td>52</td>\n",
       "      <td>52</td>\n",
       "      <td>52</td>\n",
       "      <td>52</td>\n",
       "      <td>52</td>\n",
       "      <td>52</td>\n",
       "      <td>52</td>\n",
       "      <td>52</td>\n",
       "    </tr>\n",
       "    <tr>\n",
       "      <td>2020-07</td>\n",
       "      <td>142</td>\n",
       "      <td>142</td>\n",
       "      <td>142</td>\n",
       "      <td>142</td>\n",
       "      <td>142</td>\n",
       "      <td>142</td>\n",
       "      <td>142</td>\n",
       "      <td>142</td>\n",
       "      <td>142</td>\n",
       "      <td>142</td>\n",
       "      <td>142</td>\n",
       "      <td>142</td>\n",
       "    </tr>\n",
       "    <tr>\n",
       "      <td>2020-08</td>\n",
       "      <td>64</td>\n",
       "      <td>64</td>\n",
       "      <td>64</td>\n",
       "      <td>64</td>\n",
       "      <td>64</td>\n",
       "      <td>64</td>\n",
       "      <td>64</td>\n",
       "      <td>64</td>\n",
       "      <td>64</td>\n",
       "      <td>64</td>\n",
       "      <td>64</td>\n",
       "      <td>64</td>\n",
       "    </tr>\n",
       "  </tbody>\n",
       "</table>\n",
       "</div>"
      ],
      "text/plain": [
       "                   publication_date  publication_day  author  title  url  \\\n",
       "publication_month                                                          \n",
       "2020-01                           5                5       5      5    5   \n",
       "2020-02                          11               11      11     11   11   \n",
       "2020-03                         116              116     116    116  116   \n",
       "2020-04                         102              102     102    102  102   \n",
       "2020-05                          61               61      61     61   61   \n",
       "2020-06                          52               52      52     52   52   \n",
       "2020-07                         142              142     142    142  142   \n",
       "2020-08                          64               64      64     64   64   \n",
       "\n",
       "                   koronawirus_in_text  koronawirus_in_title  question_mark  \\\n",
       "publication_month                                                             \n",
       "2020-01                              5                     5              5   \n",
       "2020-02                             11                    11             11   \n",
       "2020-03                            116                   116            116   \n",
       "2020-04                            102                   102            102   \n",
       "2020-05                             61                    61             61   \n",
       "2020-06                             52                    52             52   \n",
       "2020-07                            142                   142            142   \n",
       "2020-08                             64                    64             64   \n",
       "\n",
       "                   exclamation_mark  all_words  koronawirus_anywhere  \\\n",
       "publication_month                                                      \n",
       "2020-01                           5          5                     5   \n",
       "2020-02                          11         11                    11   \n",
       "2020-03                         116        116                   116   \n",
       "2020-04                         102        102                   102   \n",
       "2020-05                          61         61                    61   \n",
       "2020-06                          52         52                    52   \n",
       "2020-07                         142        142                   142   \n",
       "2020-08                          64         64                    64   \n",
       "\n",
       "                   koronawirus_anywhere_count  \n",
       "publication_month                              \n",
       "2020-01                                     5  \n",
       "2020-02                                    11  \n",
       "2020-03                                   116  \n",
       "2020-04                                   102  \n",
       "2020-05                                    61  \n",
       "2020-06                                    52  \n",
       "2020-07                                   142  \n",
       "2020-08                                    64  "
      ]
     },
     "execution_count": 127,
     "metadata": {},
     "output_type": "execute_result"
    }
   ],
   "source": [
    "df_with_koronawirus_in_text.groupby('publication_month').count()"
   ]
  },
  {
   "cell_type": "markdown",
   "metadata": {},
   "source": [
    "### Articles from July with covid in the title / without covid in the text"
   ]
  },
  {
   "cell_type": "code",
   "execution_count": 128,
   "metadata": {
    "scrolled": false
   },
   "outputs": [
    {
     "data": {
      "text/html": [
       "<div>\n",
       "<style scoped>\n",
       "    .dataframe tbody tr th:only-of-type {\n",
       "        vertical-align: middle;\n",
       "    }\n",
       "\n",
       "    .dataframe tbody tr th {\n",
       "        vertical-align: top;\n",
       "    }\n",
       "\n",
       "    .dataframe thead th {\n",
       "        text-align: right;\n",
       "    }\n",
       "</style>\n",
       "<table border=\"1\" class=\"dataframe\">\n",
       "  <thead>\n",
       "    <tr style=\"text-align: right;\">\n",
       "      <th></th>\n",
       "      <th>publication_date</th>\n",
       "      <th>publication_month</th>\n",
       "      <th>publication_day</th>\n",
       "      <th>author</th>\n",
       "      <th>title</th>\n",
       "      <th>url</th>\n",
       "      <th>koronawirus_in_text</th>\n",
       "      <th>koronawirus_in_title</th>\n",
       "      <th>question_mark</th>\n",
       "      <th>exclamation_mark</th>\n",
       "      <th>all_words</th>\n",
       "      <th>koronawirus_anywhere</th>\n",
       "      <th>koronawirus_anywhere_count</th>\n",
       "    </tr>\n",
       "  </thead>\n",
       "  <tbody>\n",
       "    <tr>\n",
       "      <td>1089</td>\n",
       "      <td>2020-07-10 10:01:00</td>\n",
       "      <td>2020-07</td>\n",
       "      <td>2020-07-10</td>\n",
       "      <td>maal</td>\n",
       "      <td>Fundacja Poczty Polskiej pomaga nie tylko pocztowcom</td>\n",
       "      <td>https://lublin.se.pl/fundacja-poczty-polskiej-pomaga-nie-tylko-pocztowcom-ak-mhyB-eDys-5KSt.html</td>\n",
       "      <td>13</td>\n",
       "      <td>0</td>\n",
       "      <td>0</td>\n",
       "      <td>0</td>\n",
       "      <td>439</td>\n",
       "      <td>13</td>\n",
       "      <td>1</td>\n",
       "    </tr>\n",
       "    <tr>\n",
       "      <td>117</td>\n",
       "      <td>2020-07-28 17:28:00</td>\n",
       "      <td>2020-07</td>\n",
       "      <td>2020-07-28</td>\n",
       "      <td>karolina januszek</td>\n",
       "      <td>Zakaz handlu tymczasowo zniesiony? Jest projekt</td>\n",
       "      <td>https://lublin.se.pl/zakaz-handlu-tymczasowo-zniesiony-jest-projekt-ak-UDmc-xk46-WKyr.html</td>\n",
       "      <td>12</td>\n",
       "      <td>0</td>\n",
       "      <td>1</td>\n",
       "      <td>0</td>\n",
       "      <td>338</td>\n",
       "      <td>12</td>\n",
       "      <td>1</td>\n",
       "    </tr>\n",
       "    <tr>\n",
       "      <td>359</td>\n",
       "      <td>2020-07-01 07:42:00</td>\n",
       "      <td>2020-07</td>\n",
       "      <td>2020-07-01</td>\n",
       "      <td>bartłomiej ważny</td>\n",
       "      <td>Startuje Słoneczny Wrotków nad Zalewem Zemborzyckim. Sprawdź, co się zmieniło!</td>\n",
       "      <td>https://lublin.se.pl/startuje-sloneczny-wrotkow-nad-zalewem-zemborzyckim-sprawdz-co-sie-zmienilo-ak-fyZF-StCT-ebme.html</td>\n",
       "      <td>11</td>\n",
       "      <td>0</td>\n",
       "      <td>1</td>\n",
       "      <td>3</td>\n",
       "      <td>825</td>\n",
       "      <td>11</td>\n",
       "      <td>1</td>\n",
       "    </tr>\n",
       "    <tr>\n",
       "      <td>268</td>\n",
       "      <td>2020-07-09 18:24:00</td>\n",
       "      <td>2020-07</td>\n",
       "      <td>2020-07-09</td>\n",
       "      <td>maal</td>\n",
       "      <td>Obowiązkowe mierzenie temperatury pracownikom w Polsce! Ministerstwo reaguje</td>\n",
       "      <td>https://lublin.se.pl/obowiazkowe-mierzenie-temperatury-pracownikom-w-polsce-ministerstwo-reaguje-ak-NVmS-RHLu-NcPj.html</td>\n",
       "      <td>11</td>\n",
       "      <td>0</td>\n",
       "      <td>0</td>\n",
       "      <td>1</td>\n",
       "      <td>199</td>\n",
       "      <td>11</td>\n",
       "      <td>1</td>\n",
       "    </tr>\n",
       "    <tr>\n",
       "      <td>148</td>\n",
       "      <td>2020-07-24 17:07:00</td>\n",
       "      <td>2020-07</td>\n",
       "      <td>2020-07-24</td>\n",
       "      <td>kaja</td>\n",
       "      <td>Żabka przekazała 3 mln złotych polskim szpitalom. Wszystko dzięki klientom sieci</td>\n",
       "      <td>https://lublin.se.pl/zabka-przekazala-3-mln-zlotych-polskim-szpitalom-wszystko-dzieki-klientom-sieci-ak-EUZA-ARLQ-7Z7i.html</td>\n",
       "      <td>10</td>\n",
       "      <td>0</td>\n",
       "      <td>0</td>\n",
       "      <td>5</td>\n",
       "      <td>458</td>\n",
       "      <td>10</td>\n",
       "      <td>1</td>\n",
       "    </tr>\n",
       "    <tr>\n",
       "      <td>166</td>\n",
       "      <td>2020-07-22 15:39:00</td>\n",
       "      <td>2020-07</td>\n",
       "      <td>2020-07-22</td>\n",
       "      <td>karolina januszek</td>\n",
       "      <td>Zmiany w zakazie handlu. Jest nowy pomysł</td>\n",
       "      <td>https://lublin.se.pl/zmiany-w-zakazie-handlu-jest-nowy-pomysl-ak-2SVz-XDkR-RuTM.html</td>\n",
       "      <td>6</td>\n",
       "      <td>0</td>\n",
       "      <td>0</td>\n",
       "      <td>0</td>\n",
       "      <td>258</td>\n",
       "      <td>6</td>\n",
       "      <td>1</td>\n",
       "    </tr>\n",
       "    <tr>\n",
       "      <td>329</td>\n",
       "      <td>2020-07-03 14:20:00</td>\n",
       "      <td>2020-07</td>\n",
       "      <td>2020-07-03</td>\n",
       "      <td>karolina januszek</td>\n",
       "      <td>Primark w Polsce. Co dalej z otwarciem sklepu w Warszawie?</td>\n",
       "      <td>https://lublin.se.pl/primark-w-polsce-co-dalej-z-otwarciem-sklepu-w-warszawie-ak-7vbs-ADkt-xaho.html</td>\n",
       "      <td>5</td>\n",
       "      <td>0</td>\n",
       "      <td>0</td>\n",
       "      <td>0</td>\n",
       "      <td>246</td>\n",
       "      <td>5</td>\n",
       "      <td>1</td>\n",
       "    </tr>\n",
       "    <tr>\n",
       "      <td>189</td>\n",
       "      <td>2020-07-20 13:30:00</td>\n",
       "      <td>2020-07</td>\n",
       "      <td>2020-07-20</td>\n",
       "      <td>karolina januszek</td>\n",
       "      <td>Koniec pracy zdalnej. Jak przygotować firmę na powrót pracowników?</td>\n",
       "      <td>https://lublin.se.pl/koniec-pracy-zdalnej-jak-przygotowac-firme-na-powrot-pracownikow-ak-ftj7-XGSi-pprp.html</td>\n",
       "      <td>5</td>\n",
       "      <td>0</td>\n",
       "      <td>0</td>\n",
       "      <td>0</td>\n",
       "      <td>492</td>\n",
       "      <td>5</td>\n",
       "      <td>1</td>\n",
       "    </tr>\n",
       "    <tr>\n",
       "      <td>171</td>\n",
       "      <td>2020-07-22 12:13:00</td>\n",
       "      <td>2020-07</td>\n",
       "      <td>2020-07-22</td>\n",
       "      <td>karolina januszek</td>\n",
       "      <td>Minister Finansów o deficycie. Padła gigantyczna kwota</td>\n",
       "      <td>https://lublin.se.pl/minister-finansow-o-deficycie-padla-gigantyczna-kwota-ak-BwaP-W8ob-8aQ8.html</td>\n",
       "      <td>5</td>\n",
       "      <td>0</td>\n",
       "      <td>1</td>\n",
       "      <td>2</td>\n",
       "      <td>314</td>\n",
       "      <td>5</td>\n",
       "      <td>1</td>\n",
       "    </tr>\n",
       "    <tr>\n",
       "      <td>1068</td>\n",
       "      <td>2020-07-14 12:50:00</td>\n",
       "      <td>2020-07</td>\n",
       "      <td>2020-07-14</td>\n",
       "      <td>bartłomiej ważny</td>\n",
       "      <td>Nadwaga, cukrycza i inne schorzenia - sprawdź, co grozi Twojemu dziecku [AUDIO]</td>\n",
       "      <td>https://lublin.se.pl/nadwaga-cukrycza-i-inne-schorzenia-sprawdz-co-grozi-twojemu-dziecku-audio-ak-oiid-dbpd-kdXh.html</td>\n",
       "      <td>4</td>\n",
       "      <td>0</td>\n",
       "      <td>0</td>\n",
       "      <td>0</td>\n",
       "      <td>347</td>\n",
       "      <td>4</td>\n",
       "      <td>1</td>\n",
       "    </tr>\n",
       "    <tr>\n",
       "      <td>216</td>\n",
       "      <td>2020-07-15 14:13:00</td>\n",
       "      <td>2020-07</td>\n",
       "      <td>2020-07-15</td>\n",
       "      <td>sylwia sitka-czerniak</td>\n",
       "      <td>Matura 2020: Kiedy będą wyniki matur 2020 [WYNIKI MATURA 2020, CKE, OKE]</td>\n",
       "      <td>https://lublin.se.pl/matura-2020-kiedy-beda-wyniki-matur-2020-wyniki-matura-2020-cke-ak-7VZL-nb2b-jXd5.html</td>\n",
       "      <td>4</td>\n",
       "      <td>0</td>\n",
       "      <td>1</td>\n",
       "      <td>1</td>\n",
       "      <td>222</td>\n",
       "      <td>4</td>\n",
       "      <td>1</td>\n",
       "    </tr>\n",
       "    <tr>\n",
       "      <td>1135</td>\n",
       "      <td>2020-07-03 15:34:00</td>\n",
       "      <td>2020-07</td>\n",
       "      <td>2020-07-03</td>\n",
       "      <td>om</td>\n",
       "      <td>Studenci z Lublina zaprojektowali wyjątkowy bolid i wygrali konkurs dla konstruktorów [WIDEO]</td>\n",
       "      <td>https://lublin.se.pl/studenci-z-lublina-zaprojektowali-wyjatkowy-bolid-i-wygrali-konkurs-dla-konstruktorow-wideo-ak-f9K4-QhLX-YQbu.html</td>\n",
       "      <td>4</td>\n",
       "      <td>0</td>\n",
       "      <td>0</td>\n",
       "      <td>0</td>\n",
       "      <td>384</td>\n",
       "      <td>4</td>\n",
       "      <td>1</td>\n",
       "    </tr>\n",
       "    <tr>\n",
       "      <td>1091</td>\n",
       "      <td>2020-07-10 08:28:00</td>\n",
       "      <td>2020-07</td>\n",
       "      <td>2020-07-10</td>\n",
       "      <td>monika kowalewicz</td>\n",
       "      <td>Wypłata \"solidarnościowego\" od ZUS bez przeszkód. Na Zamojszczyźnie skorzystało ponad 1300 osób [AUDIO]</td>\n",
       "      <td>https://lublin.se.pl/wyplata-solidarnosciowego-od-zus-bez-przeszkod-na-zamojszczyznie-skorzystalo-ponad-1300-osob-audio-ak-UvUb-K5g6-e89z.html</td>\n",
       "      <td>3</td>\n",
       "      <td>0</td>\n",
       "      <td>0</td>\n",
       "      <td>0</td>\n",
       "      <td>201</td>\n",
       "      <td>3</td>\n",
       "      <td>1</td>\n",
       "    </tr>\n",
       "    <tr>\n",
       "      <td>282</td>\n",
       "      <td>2020-07-08 17:14:00</td>\n",
       "      <td>2020-07</td>\n",
       "      <td>2020-07-08</td>\n",
       "      <td>om</td>\n",
       "      <td>Policja i sanepid przestrzegali i informowali mieszkańców Lublina o obowiązku noszenia maseczek [GALERIA]</td>\n",
       "      <td>https://lublin.se.pl/policja-i-sanepid-przestrzegali-i-informowali-mieszkancow-lublina-o-obowiazku-noszenia-maseczek-ak-RPWz-8Cw2-3QCy.html</td>\n",
       "      <td>3</td>\n",
       "      <td>0</td>\n",
       "      <td>0</td>\n",
       "      <td>0</td>\n",
       "      <td>204</td>\n",
       "      <td>3</td>\n",
       "      <td>1</td>\n",
       "    </tr>\n",
       "    <tr>\n",
       "      <td>1043</td>\n",
       "      <td>2020-07-19 10:02:00</td>\n",
       "      <td>2020-07</td>\n",
       "      <td>2020-07-19</td>\n",
       "      <td>mariusz mucha</td>\n",
       "      <td>Lublin: W końcu mają gdzie harcować. Ruszył Rezerwat Dzikich Dzieci [ZDJĘCIA]</td>\n",
       "      <td>https://lublin.se.pl/lublin-w-koncu-maja-gdzie-harcowac-ruszyl-rezerwat-dzikich-dzieci-aa-pUGq-YcRu-ry1s.html</td>\n",
       "      <td>3</td>\n",
       "      <td>0</td>\n",
       "      <td>0</td>\n",
       "      <td>2</td>\n",
       "      <td>278</td>\n",
       "      <td>3</td>\n",
       "      <td>1</td>\n",
       "    </tr>\n",
       "    <tr>\n",
       "      <td>294</td>\n",
       "      <td>2020-07-08 10:20:00</td>\n",
       "      <td>2020-07</td>\n",
       "      <td>2020-07-08</td>\n",
       "      <td>mariusz mucha</td>\n",
       "      <td>Włodawa: Kajakiem na Białoruś. Ciekawscy turyści dostali mandat</td>\n",
       "      <td>https://lublin.se.pl/wlodawa-kajakiem-na-bialorus-ciekawscy-turysci-dostali-mandat-aa-b3qF-DPap-e4nf.html</td>\n",
       "      <td>3</td>\n",
       "      <td>0</td>\n",
       "      <td>2</td>\n",
       "      <td>0</td>\n",
       "      <td>271</td>\n",
       "      <td>3</td>\n",
       "      <td>1</td>\n",
       "    </tr>\n",
       "    <tr>\n",
       "      <td>1035</td>\n",
       "      <td>2020-07-21 12:47:00</td>\n",
       "      <td>2020-07</td>\n",
       "      <td>2020-07-21</td>\n",
       "      <td>rafał strzelec</td>\n",
       "      <td>Ruszył nabór do Szlachetnej Paczki 2020. Potrzeba tysięcy wolontariuszy!</td>\n",
       "      <td>https://lublin.se.pl/ruszyl-nabor-do-szlachetnej-paczki-2020-potrzeba-tysiecy-wolontariuszy-ak-4GYS-3ywK-TBfL.html</td>\n",
       "      <td>3</td>\n",
       "      <td>0</td>\n",
       "      <td>1</td>\n",
       "      <td>0</td>\n",
       "      <td>337</td>\n",
       "      <td>3</td>\n",
       "      <td>1</td>\n",
       "    </tr>\n",
       "    <tr>\n",
       "      <td>249</td>\n",
       "      <td>2020-07-12 11:04:00</td>\n",
       "      <td>2020-07</td>\n",
       "      <td>2020-07-12</td>\n",
       "      <td>mariusz mucha</td>\n",
       "      <td>W Wojciechowie kują żelazo w przyłbicach. Rzemiosło i sztuka w jednym [ZDJĘCIA]</td>\n",
       "      <td>https://lublin.se.pl/w-wojciechowie-kuja-zelazo-w-przylbicach-aa-f5Sh-kczQ-UFLd.html</td>\n",
       "      <td>3</td>\n",
       "      <td>0</td>\n",
       "      <td>0</td>\n",
       "      <td>0</td>\n",
       "      <td>283</td>\n",
       "      <td>3</td>\n",
       "      <td>1</td>\n",
       "    </tr>\n",
       "    <tr>\n",
       "      <td>235</td>\n",
       "      <td>2020-07-14 09:06:00</td>\n",
       "      <td>2020-07</td>\n",
       "      <td>2020-07-14</td>\n",
       "      <td>monika kowalewicz/wioletta sawa</td>\n",
       "      <td>Zamojski Ogród Zoologiczny ze wzrostem turystów indywidualnych. Placówka zaprasza do rodzinnego zwiedzania</td>\n",
       "      <td>https://lublin.se.pl/zamojski-ogrod-zoologiczny-ze-wzrostem-turystow-indywidualnych-placowka-zaprasza-do-rodzinnego-zwiedzania-ak-KJAA-VvcZ-zv5F.html</td>\n",
       "      <td>3</td>\n",
       "      <td>0</td>\n",
       "      <td>0</td>\n",
       "      <td>0</td>\n",
       "      <td>211</td>\n",
       "      <td>3</td>\n",
       "      <td>1</td>\n",
       "    </tr>\n",
       "    <tr>\n",
       "      <td>107</td>\n",
       "      <td>2020-07-29 14:57:00</td>\n",
       "      <td>2020-07</td>\n",
       "      <td>2020-07-29</td>\n",
       "      <td>karolina januszek</td>\n",
       "      <td>Tarcza Finansowa. Ostatnie dni, aby skorzystać ze wsparcia</td>\n",
       "      <td>https://lublin.se.pl/tarcza-finansowa-ostatnie-dni-aby-skorzystac-ze-wsparcia-ak-Dkhj-dVWx-GZ9s.html</td>\n",
       "      <td>3</td>\n",
       "      <td>0</td>\n",
       "      <td>3</td>\n",
       "      <td>0</td>\n",
       "      <td>381</td>\n",
       "      <td>3</td>\n",
       "      <td>1</td>\n",
       "    </tr>\n",
       "    <tr>\n",
       "      <td>352</td>\n",
       "      <td>2020-07-01 12:36:00</td>\n",
       "      <td>2020-07</td>\n",
       "      <td>2020-07-01</td>\n",
       "      <td>marek targoński</td>\n",
       "      <td>ZABIŁA człowieka, bo jej się spieszyło. Wstrząsająca TRAGEDIA w Łukowie</td>\n",
       "      <td>https://lublin.se.pl/zabila-czlowieka-bo-jej-sie-spieszylo-tragedia-w-lukowie-aa-uvfW-aLj6-GPLK.html</td>\n",
       "      <td>3</td>\n",
       "      <td>0</td>\n",
       "      <td>0</td>\n",
       "      <td>2</td>\n",
       "      <td>207</td>\n",
       "      <td>3</td>\n",
       "      <td>1</td>\n",
       "    </tr>\n",
       "    <tr>\n",
       "      <td>1061</td>\n",
       "      <td>2020-07-15 08:21:00</td>\n",
       "      <td>2020-07</td>\n",
       "      <td>2020-07-15</td>\n",
       "      <td>monika kowalewicz</td>\n",
       "      <td>Zamość: Nie będzie odkomarzania na terenach zielonych. Miasto stawia na naturalne metody</td>\n",
       "      <td>https://lublin.se.pl/zamosc-nie-bedzie-odkomarzania-na-terenach-zielonych-miasto-stawia-na-naturalne-metody-ak-j23m-HEx5-RmkR.html</td>\n",
       "      <td>3</td>\n",
       "      <td>0</td>\n",
       "      <td>0</td>\n",
       "      <td>0</td>\n",
       "      <td>209</td>\n",
       "      <td>3</td>\n",
       "      <td>1</td>\n",
       "    </tr>\n",
       "    <tr>\n",
       "      <td>1150</td>\n",
       "      <td>2020-07-01 12:26:00</td>\n",
       "      <td>2020-07</td>\n",
       "      <td>2020-07-01</td>\n",
       "      <td>karolina januszek</td>\n",
       "      <td>Rewolucyjne zmiany dla przedsiębiorców. Zobacz, co się zmieni</td>\n",
       "      <td>https://lublin.se.pl/rewolucyjne-zmiany-dla-przedsiebiorcow-zobacz-co-sie-zmieni-ak-teU8-HX74-iias.html</td>\n",
       "      <td>3</td>\n",
       "      <td>0</td>\n",
       "      <td>2</td>\n",
       "      <td>1</td>\n",
       "      <td>271</td>\n",
       "      <td>3</td>\n",
       "      <td>1</td>\n",
       "    </tr>\n",
       "    <tr>\n",
       "      <td>1129</td>\n",
       "      <td>2020-07-05 19:25:00</td>\n",
       "      <td>2020-07</td>\n",
       "      <td>2020-07-05</td>\n",
       "      <td>mariusz mucha</td>\n",
       "      <td>Żurawie na żużlu. Kibice speedwaya z Lublina nie mają sobie równych [ZDJĘCIA]</td>\n",
       "      <td>https://lublin.se.pl/zurawie-na-zuzlu-kibice-speedwaya-z-lublina-nie-maja-sobie-rownych-aa-Uuyi-fcDQ-a5R1.html</td>\n",
       "      <td>3</td>\n",
       "      <td>0</td>\n",
       "      <td>1</td>\n",
       "      <td>1</td>\n",
       "      <td>364</td>\n",
       "      <td>3</td>\n",
       "      <td>1</td>\n",
       "    </tr>\n",
       "    <tr>\n",
       "      <td>143</td>\n",
       "      <td>2020-07-25 08:12:00</td>\n",
       "      <td>2020-07</td>\n",
       "      <td>2020-07-25</td>\n",
       "      <td>karolina januszek</td>\n",
       "      <td>Podszywają się pod pracowników sanepidu. Nowa metoda oszustów</td>\n",
       "      <td>https://lublin.se.pl/podszywaja-sie-pod-pracownikow-sanepidu-nowa-metoda-oszustow-ak-rhp2-wZTf-gyN7.html</td>\n",
       "      <td>3</td>\n",
       "      <td>0</td>\n",
       "      <td>0</td>\n",
       "      <td>1</td>\n",
       "      <td>271</td>\n",
       "      <td>3</td>\n",
       "      <td>1</td>\n",
       "    </tr>\n",
       "    <tr>\n",
       "      <td>109</td>\n",
       "      <td>2020-07-29 13:51:00</td>\n",
       "      <td>2020-07</td>\n",
       "      <td>2020-07-29</td>\n",
       "      <td>karolina januszek</td>\n",
       "      <td>Naciągacze wzięli na cel przedsiębiorców. Dostałeś takie pismo?</td>\n",
       "      <td>https://lublin.se.pl/przestepcy-wzieli-na-cel-przedsiebiorcow-dostales-takie-pismo-ak-U86R-Y39Q-c9K1.html</td>\n",
       "      <td>3</td>\n",
       "      <td>0</td>\n",
       "      <td>1</td>\n",
       "      <td>0</td>\n",
       "      <td>282</td>\n",
       "      <td>3</td>\n",
       "      <td>1</td>\n",
       "    </tr>\n",
       "    <tr>\n",
       "      <td>1149</td>\n",
       "      <td>2020-07-01 13:29:00</td>\n",
       "      <td>2020-07</td>\n",
       "      <td>2020-07-01</td>\n",
       "      <td>marek targoński</td>\n",
       "      <td>Lubelskie: Wyłączenia prądu w Lublinie i regionie. W tych miejscach zgaśnie światło [1-5.07.2020]</td>\n",
       "      <td>https://lublin.se.pl/lubelskie-wylaczenia-pradu-w-lublinie-i-regionie-w-tych-miejscach-zgasnie-swiatlo-1-5-07-2020-aa-E4BG-JHdN-jYdq.html</td>\n",
       "      <td>3</td>\n",
       "      <td>0</td>\n",
       "      <td>2</td>\n",
       "      <td>2</td>\n",
       "      <td>258</td>\n",
       "      <td>3</td>\n",
       "      <td>1</td>\n",
       "    </tr>\n",
       "    <tr>\n",
       "      <td>1147</td>\n",
       "      <td>2020-07-01 16:58:00</td>\n",
       "      <td>2020-07</td>\n",
       "      <td>2020-07-01</td>\n",
       "      <td>marek targoński</td>\n",
       "      <td>Średnia pensja w Lublinie i na Lubelszczyźnie to... NIE UWIERZYCIE! ZASKAKUJĄCE dane</td>\n",
       "      <td>https://lublin.se.pl/srednia-pensja-w-lublinie-i-na-lubelszczyznie-to-nie-uwierzycie-zaskakujace-dane-aa-XNJs-YC8q-d3dv.html</td>\n",
       "      <td>3</td>\n",
       "      <td>0</td>\n",
       "      <td>2</td>\n",
       "      <td>2</td>\n",
       "      <td>305</td>\n",
       "      <td>3</td>\n",
       "      <td>1</td>\n",
       "    </tr>\n",
       "    <tr>\n",
       "      <td>124</td>\n",
       "      <td>2020-07-28 09:20:00</td>\n",
       "      <td>2020-07</td>\n",
       "      <td>2020-07-28</td>\n",
       "      <td>marek targoński</td>\n",
       "      <td>Odpoczywał nad jeziorem – pójdzie siedzieć na 3,5 roku! FAŁSZYWY WNUCZEK zatrzymany w Firleju</td>\n",
       "      <td>https://lublin.se.pl/odpoczywal-nad-jeziorem-pojdzie-siedziec-3-5-roku-falszywy-wnuczek-zatrzymany-w-firleju-aa-rmxe-1pzp-H6jA.html</td>\n",
       "      <td>3</td>\n",
       "      <td>0</td>\n",
       "      <td>0</td>\n",
       "      <td>1</td>\n",
       "      <td>220</td>\n",
       "      <td>3</td>\n",
       "      <td>1</td>\n",
       "    </tr>\n",
       "    <tr>\n",
       "      <td>1138</td>\n",
       "      <td>2020-07-03 09:22:00</td>\n",
       "      <td>2020-07</td>\n",
       "      <td>2020-07-03</td>\n",
       "      <td>marek targoński</td>\n",
       "      <td>Ślub i wesele w piątek? WAŻNA decyzja arcybiskupa. Kościół ZMIENIŁ zdanie?!</td>\n",
       "      <td>https://lublin.se.pl/slub-i-wesele-w-piatek-wazna-decyzja-arcybiskupa-kosciol-zmienil-zdanie-aa-UvSc-qUM9-57T5.html</td>\n",
       "      <td>3</td>\n",
       "      <td>0</td>\n",
       "      <td>5</td>\n",
       "      <td>1</td>\n",
       "      <td>314</td>\n",
       "      <td>3</td>\n",
       "      <td>1</td>\n",
       "    </tr>\n",
       "    <tr>\n",
       "      <td>196</td>\n",
       "      <td>2020-07-18 11:41:00</td>\n",
       "      <td>2020-07</td>\n",
       "      <td>2020-07-18</td>\n",
       "      <td>marcin długosz</td>\n",
       "      <td>Polscy fani byli WYPOSZCZENI. Wynajęli OSIEMNAŚCIE DŹWIGÓW! [ABSURDALNE ZDJĘCIE]</td>\n",
       "      <td>https://lublin.se.pl/polscy-fani-byli-wyposzczeni-wynajeli-osiemnascie-dzwigow-absurdalne-zdjecie-ak-g7cE-Zadj-cwgC.html</td>\n",
       "      <td>3</td>\n",
       "      <td>0</td>\n",
       "      <td>0</td>\n",
       "      <td>5</td>\n",
       "      <td>235</td>\n",
       "      <td>3</td>\n",
       "      <td>1</td>\n",
       "    </tr>\n",
       "    <tr>\n",
       "      <td>1094</td>\n",
       "      <td>2020-07-09 15:57:00</td>\n",
       "      <td>2020-07</td>\n",
       "      <td>2020-07-09</td>\n",
       "      <td>mk</td>\n",
       "      <td>Wybory 2020: Czy padnie rekord w liczbie głosujących korespondencyjnie? [AUDIO]</td>\n",
       "      <td>https://lublin.se.pl/wytbory-prezydenckie-2020-czy-padnie-rekord-w-liczbie-glosujacych-korespondencyjnie-audio-ak-Qy41-pidH-tHEK.html</td>\n",
       "      <td>3</td>\n",
       "      <td>0</td>\n",
       "      <td>0</td>\n",
       "      <td>0</td>\n",
       "      <td>266</td>\n",
       "      <td>3</td>\n",
       "      <td>1</td>\n",
       "    </tr>\n",
       "    <tr>\n",
       "      <td>144</td>\n",
       "      <td>2020-07-25 07:27:00</td>\n",
       "      <td>2020-07</td>\n",
       "      <td>2020-07-25</td>\n",
       "      <td>kaja</td>\n",
       "      <td>Rowerzyści obawiają się samochodów. Jakimi kierowcami są Polacy?</td>\n",
       "      <td>https://lublin.se.pl/rowerzysci-obawiaja-sie-samochodow-jakimi-kierowcami-sa-polacy-ak-dHzt-n1qU-hph8.html</td>\n",
       "      <td>3</td>\n",
       "      <td>0</td>\n",
       "      <td>1</td>\n",
       "      <td>0</td>\n",
       "      <td>527</td>\n",
       "      <td>3</td>\n",
       "      <td>1</td>\n",
       "    </tr>\n",
       "    <tr>\n",
       "      <td>1128</td>\n",
       "      <td>2020-07-06 09:00:00</td>\n",
       "      <td>2020-07</td>\n",
       "      <td>2020-07-06</td>\n",
       "      <td>monika kowalewicz/wioletta sawa</td>\n",
       "      <td>Zamość: Kąpieliska z powiatu po badaniach stanu wody. Nie wszystkie są w tym roku dostępne</td>\n",
       "      <td>https://lublin.se.pl/zamosc-kapieliska-z-powiatu-po-badaniach-stanu-wody-nie-wszystkie-sa-w-tym-roku-dostepne-ak-koh2-VTcA-TwHw.html</td>\n",
       "      <td>3</td>\n",
       "      <td>0</td>\n",
       "      <td>0</td>\n",
       "      <td>0</td>\n",
       "      <td>211</td>\n",
       "      <td>3</td>\n",
       "      <td>1</td>\n",
       "    </tr>\n",
       "    <tr>\n",
       "      <td>1124</td>\n",
       "      <td>2020-07-06 13:04:00</td>\n",
       "      <td>2020-07</td>\n",
       "      <td>2020-07-06</td>\n",
       "      <td>mk</td>\n",
       "      <td>Dziennie potrzeba 200 dawców, żeby zabezpieczyć krew dla mieszkańców Lubelszczyzny [AUDIO]</td>\n",
       "      <td>https://lublin.se.pl/dziennie-potrzeba-200-dawcow-zeby-zabezpieczyc-krew-dla-mieszkancow-lubelszczyzny-audio-ak-MYpA-qbuU-9e4o.html</td>\n",
       "      <td>3</td>\n",
       "      <td>0</td>\n",
       "      <td>0</td>\n",
       "      <td>0</td>\n",
       "      <td>245</td>\n",
       "      <td>3</td>\n",
       "      <td>1</td>\n",
       "    </tr>\n",
       "    <tr>\n",
       "      <td>1121</td>\n",
       "      <td>2020-07-06 16:31:00</td>\n",
       "      <td>2020-07</td>\n",
       "      <td>2020-07-06</td>\n",
       "      <td>marek targoński</td>\n",
       "      <td>Lublin: Potwór ZGWAŁCIŁ 14-latkę?! Wepchnął dziewczynę do piwnicy i zgotował jej PIEKŁO</td>\n",
       "      <td>https://lublin.se.pl/lublin-potwor-zgwalcil-14-latke-wepchnal-dziewczyne-do-piwnicy-i-zgotowal-jej-pieklo-aa-vjr4-EMm6-iDPp.html</td>\n",
       "      <td>3</td>\n",
       "      <td>0</td>\n",
       "      <td>1</td>\n",
       "      <td>2</td>\n",
       "      <td>181</td>\n",
       "      <td>3</td>\n",
       "      <td>1</td>\n",
       "    </tr>\n",
       "    <tr>\n",
       "      <td>1046</td>\n",
       "      <td>2020-07-17 16:32:00</td>\n",
       "      <td>2020-07</td>\n",
       "      <td>2020-07-17</td>\n",
       "      <td>marek targoński</td>\n",
       "      <td>Średnia pensja w Lublinie i w Lubelskiem? SZOKUJĄCE DANE statystyczne [WYNAGRODZENIA GUS]</td>\n",
       "      <td>https://lublin.se.pl/srednia-pensja-w-lublinie-i-w-lubelskiem-szokujace-dane-statystyczne-wynagrodzenia-gus-aa-9KcR-UjJV-7vj4.html</td>\n",
       "      <td>2</td>\n",
       "      <td>0</td>\n",
       "      <td>4</td>\n",
       "      <td>1</td>\n",
       "      <td>254</td>\n",
       "      <td>2</td>\n",
       "      <td>1</td>\n",
       "    </tr>\n",
       "    <tr>\n",
       "      <td>1049</td>\n",
       "      <td>2020-07-17 10:38:00</td>\n",
       "      <td>2020-07</td>\n",
       "      <td>2020-07-17</td>\n",
       "      <td>maal</td>\n",
       "      <td>Poczta Polska wprowadza dużą zmianę. Będzie szybciej sortować przesyłki</td>\n",
       "      <td>https://lublin.se.pl/poczta-polska-wprowadza-duza-zmiane-bedzie-szybciej-sortowac-przesylki-ak-dAT7-y6Q1-uHK9.html</td>\n",
       "      <td>2</td>\n",
       "      <td>0</td>\n",
       "      <td>1</td>\n",
       "      <td>0</td>\n",
       "      <td>430</td>\n",
       "      <td>2</td>\n",
       "      <td>1</td>\n",
       "    </tr>\n",
       "    <tr>\n",
       "      <td>1038</td>\n",
       "      <td>2020-07-20 17:07:00</td>\n",
       "      <td>2020-07</td>\n",
       "      <td>2020-07-20</td>\n",
       "      <td>karolina januszek</td>\n",
       "      <td>Jak wyłączyć nowy wygląd Facebooka?</td>\n",
       "      <td>https://lublin.se.pl/jak-wylaczyc-nowy-wyglad-facebooka-ak-SVcZ-cJGA-UH3L.html</td>\n",
       "      <td>2</td>\n",
       "      <td>0</td>\n",
       "      <td>2</td>\n",
       "      <td>0</td>\n",
       "      <td>230</td>\n",
       "      <td>2</td>\n",
       "      <td>1</td>\n",
       "    </tr>\n",
       "    <tr>\n",
       "      <td>1036</td>\n",
       "      <td>2020-07-21 07:05:00</td>\n",
       "      <td>2020-07</td>\n",
       "      <td>2020-07-21</td>\n",
       "      <td>km</td>\n",
       "      <td>Ochłodzenie i przelotne opady deszczu. Czy burze dadzą nam spokój? [PROGNOZA POGODY 21.07]</td>\n",
       "      <td>https://lublin.se.pl/ochlodzenie-i-przelotne-opady-deszczu-czy-burze-dadza-nam-spokoj-prognoza-pogody-21-07-ak-LqDv-hBTc-CCNA.html</td>\n",
       "      <td>2</td>\n",
       "      <td>0</td>\n",
       "      <td>3</td>\n",
       "      <td>1</td>\n",
       "      <td>369</td>\n",
       "      <td>2</td>\n",
       "      <td>1</td>\n",
       "    </tr>\n",
       "    <tr>\n",
       "      <td>1072</td>\n",
       "      <td>2020-07-14 06:00:00</td>\n",
       "      <td>2020-07</td>\n",
       "      <td>2020-07-14</td>\n",
       "      <td>artykuł sponsorowany</td>\n",
       "      <td>KINO PLENEROWE na dachu VIVO! Lublin. „Taras pełen atrakcji” [HARMONOGRAM]</td>\n",
       "      <td>https://lublin.se.pl/kino-plenerowe-na-dachu-vivo-lublin-taras-pelen-atrakcji-harmonogram-aa-rfSC-Uhhi-o89d.html</td>\n",
       "      <td>2</td>\n",
       "      <td>0</td>\n",
       "      <td>3</td>\n",
       "      <td>9</td>\n",
       "      <td>431</td>\n",
       "      <td>2</td>\n",
       "      <td>1</td>\n",
       "    </tr>\n",
       "    <tr>\n",
       "      <td>984</td>\n",
       "      <td>2020-07-30 07:41:00</td>\n",
       "      <td>2020-07</td>\n",
       "      <td>2020-07-30</td>\n",
       "      <td>karolina januszek</td>\n",
       "      <td>Lidl zaprasza na domówkę! Festiwal Pol'andRock online</td>\n",
       "      <td>https://lublin.se.pl/lidl-zaprasza-na-domowke-festiwal-polandrock-online-ak-3RqM-LCs3-hdF4.html</td>\n",
       "      <td>2</td>\n",
       "      <td>0</td>\n",
       "      <td>1</td>\n",
       "      <td>2</td>\n",
       "      <td>385</td>\n",
       "      <td>2</td>\n",
       "      <td>1</td>\n",
       "    </tr>\n",
       "    <tr>\n",
       "      <td>980</td>\n",
       "      <td>2020-07-30 19:05:00</td>\n",
       "      <td>2020-07</td>\n",
       "      <td>2020-07-30</td>\n",
       "      <td>marek targoński</td>\n",
       "      <td>Lublin: Fontanna multimedialna na Placu Litewskim [POKAZY FONTANN – HARMONOGRAM]</td>\n",
       "      <td>https://lublin.se.pl/lublin-fontanna-multimedialna-na-placu-litewskim-pokazy-fontann-harmonogram-aa-6EGe-zzfk-fnMY.html</td>\n",
       "      <td>2</td>\n",
       "      <td>0</td>\n",
       "      <td>0</td>\n",
       "      <td>1</td>\n",
       "      <td>201</td>\n",
       "      <td>2</td>\n",
       "      <td>1</td>\n",
       "    </tr>\n",
       "    <tr>\n",
       "      <td>1112</td>\n",
       "      <td>2020-07-07 22:15:00</td>\n",
       "      <td>2020-07</td>\n",
       "      <td>2020-07-07</td>\n",
       "      <td>marek targoński</td>\n",
       "      <td>II tura BEZ KOLEJEK? Seniorzy i osoby z dziećmi zagłosują poza kolejnością [WYBORY 2020]</td>\n",
       "      <td>https://lublin.se.pl/ii-tura-bez-kolejek-seniorzy-i-osoby-z-dziecmi-zaglosuja-poza-kolejnoscia-wybory-2020-aa-FMaE-KHRs-U1C6.html</td>\n",
       "      <td>2</td>\n",
       "      <td>0</td>\n",
       "      <td>2</td>\n",
       "      <td>0</td>\n",
       "      <td>179</td>\n",
       "      <td>2</td>\n",
       "      <td>1</td>\n",
       "    </tr>\n",
       "    <tr>\n",
       "      <td>968</td>\n",
       "      <td>2020-07-22 13:15:00</td>\n",
       "      <td>2020-07</td>\n",
       "      <td>2020-07-22</td>\n",
       "      <td>karolina januszek</td>\n",
       "      <td>Sklepy zmieniają godziny otwarcia. Wybrane placówki czynne całą dobę</td>\n",
       "      <td>https://lublin.se.pl/sklepy-zmieniaja-godziny-otwarcia-wybrane-placowki-czynne-cala-dobe-ak-nHMN-uWo3-mAWs.html</td>\n",
       "      <td>2</td>\n",
       "      <td>0</td>\n",
       "      <td>0</td>\n",
       "      <td>0</td>\n",
       "      <td>244</td>\n",
       "      <td>2</td>\n",
       "      <td>1</td>\n",
       "    </tr>\n",
       "    <tr>\n",
       "      <td>102</td>\n",
       "      <td>2020-07-30 10:45:00</td>\n",
       "      <td>2020-07</td>\n",
       "      <td>2020-07-30</td>\n",
       "      <td>kaja/maal</td>\n",
       "      <td>Polski bon turystyczny. Od kiedy będzie działać?</td>\n",
       "      <td>https://lublin.se.pl/polski-bon-turystyczny-od-kiedy-bedzie-dzialac-ak-Mg5m-vpc5-Z4L4.html</td>\n",
       "      <td>2</td>\n",
       "      <td>0</td>\n",
       "      <td>4</td>\n",
       "      <td>0</td>\n",
       "      <td>423</td>\n",
       "      <td>2</td>\n",
       "      <td>1</td>\n",
       "    </tr>\n",
       "    <tr>\n",
       "      <td>217</td>\n",
       "      <td>2020-07-15 11:55:00</td>\n",
       "      <td>2020-07</td>\n",
       "      <td>2020-07-15</td>\n",
       "      <td>bartłomiej ważny</td>\n",
       "      <td>Rozdają maseczki tym, którzy ich nie noszą. Akcja MPK Lublin i Straży Miejskiej [WIDEO, AUDIO]</td>\n",
       "      <td>https://lublin.se.pl/rozdaja-maseczki-tym-ktorzy-ich-nie-nosza-akcja-mpk-lublin-i-strazy-miejskiej-wideo-audio-ak-Tfuy-K2gL-Gvma.html</td>\n",
       "      <td>2</td>\n",
       "      <td>0</td>\n",
       "      <td>0</td>\n",
       "      <td>0</td>\n",
       "      <td>419</td>\n",
       "      <td>2</td>\n",
       "      <td>1</td>\n",
       "    </tr>\n",
       "    <tr>\n",
       "      <td>219</td>\n",
       "      <td>2020-07-15 11:29:00</td>\n",
       "      <td>2020-07</td>\n",
       "      <td>2020-07-15</td>\n",
       "      <td>jacek werner</td>\n",
       "      <td>Działa już jeden, wkrótce będą kolejne. Czy parkingi P&amp;R się w Lublinie sprawdzają?</td>\n",
       "      <td>https://lublin.se.pl/dziala-juz-jeden-wkrotce-beda-kolejne-czy-parkingi-p-r-sie-w-lublinie-sprawdzaja-ak-JHCo-9JL5-7xsr.html</td>\n",
       "      <td>2</td>\n",
       "      <td>0</td>\n",
       "      <td>0</td>\n",
       "      <td>0</td>\n",
       "      <td>181</td>\n",
       "      <td>2</td>\n",
       "      <td>1</td>\n",
       "    </tr>\n",
       "    <tr>\n",
       "      <td>118</td>\n",
       "      <td>2020-07-28 16:26:00</td>\n",
       "      <td>2020-07</td>\n",
       "      <td>2020-07-28</td>\n",
       "      <td>karolina januszek</td>\n",
       "      <td>Minimalne wynagrodzenie w górę. Rząd przyjął projekt</td>\n",
       "      <td>https://lublin.se.pl/minimalne-wynagrodzenie-w-gore-rzad-przyjal-projekt-ak-ua83-8Qcw-6tu9.html</td>\n",
       "      <td>2</td>\n",
       "      <td>0</td>\n",
       "      <td>1</td>\n",
       "      <td>0</td>\n",
       "      <td>160</td>\n",
       "      <td>2</td>\n",
       "      <td>1</td>\n",
       "    </tr>\n",
       "    <tr>\n",
       "      <td>131</td>\n",
       "      <td>2020-07-27 12:51:00</td>\n",
       "      <td>2020-07</td>\n",
       "      <td>2020-07-27</td>\n",
       "      <td>karolina januszek</td>\n",
       "      <td>Wypadki na drogach w Polsce. Tyle za nie płacimy</td>\n",
       "      <td>https://lublin.se.pl/wypadki-na-drogach-w-polsce-tyle-za-nie-placimy-ak-jg6Q-kpsD-erkz.html</td>\n",
       "      <td>2</td>\n",
       "      <td>0</td>\n",
       "      <td>0</td>\n",
       "      <td>0</td>\n",
       "      <td>187</td>\n",
       "      <td>2</td>\n",
       "      <td>1</td>\n",
       "    </tr>\n",
       "  </tbody>\n",
       "</table>\n",
       "</div>"
      ],
      "text/plain": [
       "         publication_date publication_month publication_day  \\\n",
       "1089  2020-07-10 10:01:00           2020-07      2020-07-10   \n",
       "117   2020-07-28 17:28:00           2020-07      2020-07-28   \n",
       "359   2020-07-01 07:42:00           2020-07      2020-07-01   \n",
       "268   2020-07-09 18:24:00           2020-07      2020-07-09   \n",
       "148   2020-07-24 17:07:00           2020-07      2020-07-24   \n",
       "166   2020-07-22 15:39:00           2020-07      2020-07-22   \n",
       "329   2020-07-03 14:20:00           2020-07      2020-07-03   \n",
       "189   2020-07-20 13:30:00           2020-07      2020-07-20   \n",
       "171   2020-07-22 12:13:00           2020-07      2020-07-22   \n",
       "1068  2020-07-14 12:50:00           2020-07      2020-07-14   \n",
       "216   2020-07-15 14:13:00           2020-07      2020-07-15   \n",
       "1135  2020-07-03 15:34:00           2020-07      2020-07-03   \n",
       "1091  2020-07-10 08:28:00           2020-07      2020-07-10   \n",
       "282   2020-07-08 17:14:00           2020-07      2020-07-08   \n",
       "1043  2020-07-19 10:02:00           2020-07      2020-07-19   \n",
       "294   2020-07-08 10:20:00           2020-07      2020-07-08   \n",
       "1035  2020-07-21 12:47:00           2020-07      2020-07-21   \n",
       "249   2020-07-12 11:04:00           2020-07      2020-07-12   \n",
       "235   2020-07-14 09:06:00           2020-07      2020-07-14   \n",
       "107   2020-07-29 14:57:00           2020-07      2020-07-29   \n",
       "352   2020-07-01 12:36:00           2020-07      2020-07-01   \n",
       "1061  2020-07-15 08:21:00           2020-07      2020-07-15   \n",
       "1150  2020-07-01 12:26:00           2020-07      2020-07-01   \n",
       "1129  2020-07-05 19:25:00           2020-07      2020-07-05   \n",
       "143   2020-07-25 08:12:00           2020-07      2020-07-25   \n",
       "109   2020-07-29 13:51:00           2020-07      2020-07-29   \n",
       "1149  2020-07-01 13:29:00           2020-07      2020-07-01   \n",
       "1147  2020-07-01 16:58:00           2020-07      2020-07-01   \n",
       "124   2020-07-28 09:20:00           2020-07      2020-07-28   \n",
       "1138  2020-07-03 09:22:00           2020-07      2020-07-03   \n",
       "196   2020-07-18 11:41:00           2020-07      2020-07-18   \n",
       "1094  2020-07-09 15:57:00           2020-07      2020-07-09   \n",
       "144   2020-07-25 07:27:00           2020-07      2020-07-25   \n",
       "1128  2020-07-06 09:00:00           2020-07      2020-07-06   \n",
       "1124  2020-07-06 13:04:00           2020-07      2020-07-06   \n",
       "1121  2020-07-06 16:31:00           2020-07      2020-07-06   \n",
       "1046  2020-07-17 16:32:00           2020-07      2020-07-17   \n",
       "1049  2020-07-17 10:38:00           2020-07      2020-07-17   \n",
       "1038  2020-07-20 17:07:00           2020-07      2020-07-20   \n",
       "1036  2020-07-21 07:05:00           2020-07      2020-07-21   \n",
       "1072  2020-07-14 06:00:00           2020-07      2020-07-14   \n",
       "984   2020-07-30 07:41:00           2020-07      2020-07-30   \n",
       "980   2020-07-30 19:05:00           2020-07      2020-07-30   \n",
       "1112  2020-07-07 22:15:00           2020-07      2020-07-07   \n",
       "968   2020-07-22 13:15:00           2020-07      2020-07-22   \n",
       "102   2020-07-30 10:45:00           2020-07      2020-07-30   \n",
       "217   2020-07-15 11:55:00           2020-07      2020-07-15   \n",
       "219   2020-07-15 11:29:00           2020-07      2020-07-15   \n",
       "118   2020-07-28 16:26:00           2020-07      2020-07-28   \n",
       "131   2020-07-27 12:51:00           2020-07      2020-07-27   \n",
       "\n",
       "                               author  \\\n",
       "1089                             maal   \n",
       "117                 karolina januszek   \n",
       "359                  bartłomiej ważny   \n",
       "268                              maal   \n",
       "148                              kaja   \n",
       "166                 karolina januszek   \n",
       "329                 karolina januszek   \n",
       "189                 karolina januszek   \n",
       "171                 karolina januszek   \n",
       "1068                 bartłomiej ważny   \n",
       "216             sylwia sitka-czerniak   \n",
       "1135                               om   \n",
       "1091                monika kowalewicz   \n",
       "282                                om   \n",
       "1043                    mariusz mucha   \n",
       "294                     mariusz mucha   \n",
       "1035                   rafał strzelec   \n",
       "249                     mariusz mucha   \n",
       "235   monika kowalewicz/wioletta sawa   \n",
       "107                 karolina januszek   \n",
       "352                   marek targoński   \n",
       "1061                monika kowalewicz   \n",
       "1150                karolina januszek   \n",
       "1129                    mariusz mucha   \n",
       "143                 karolina januszek   \n",
       "109                 karolina januszek   \n",
       "1149                  marek targoński   \n",
       "1147                  marek targoński   \n",
       "124                   marek targoński   \n",
       "1138                  marek targoński   \n",
       "196                    marcin długosz   \n",
       "1094                               mk   \n",
       "144                              kaja   \n",
       "1128  monika kowalewicz/wioletta sawa   \n",
       "1124                               mk   \n",
       "1121                  marek targoński   \n",
       "1046                  marek targoński   \n",
       "1049                             maal   \n",
       "1038                karolina januszek   \n",
       "1036                               km   \n",
       "1072             artykuł sponsorowany   \n",
       "984                 karolina januszek   \n",
       "980                   marek targoński   \n",
       "1112                  marek targoński   \n",
       "968                 karolina januszek   \n",
       "102                         kaja/maal   \n",
       "217                  bartłomiej ważny   \n",
       "219                      jacek werner   \n",
       "118                 karolina januszek   \n",
       "131                 karolina januszek   \n",
       "\n",
       "                                                                                                           title  \\\n",
       "1089                                                       Fundacja Poczty Polskiej pomaga nie tylko pocztowcom    \n",
       "117                                                             Zakaz handlu tymczasowo zniesiony? Jest projekt    \n",
       "359                               Startuje Słoneczny Wrotków nad Zalewem Zemborzyckim. Sprawdź, co się zmieniło!   \n",
       "268                                 Obowiązkowe mierzenie temperatury pracownikom w Polsce! Ministerstwo reaguje   \n",
       "148                             Żabka przekazała 3 mln złotych polskim szpitalom. Wszystko dzięki klientom sieci   \n",
       "166                                                                    Zmiany w zakazie handlu. Jest nowy pomysł   \n",
       "329                                                   Primark w Polsce. Co dalej z otwarciem sklepu w Warszawie?   \n",
       "189                                           Koniec pracy zdalnej. Jak przygotować firmę na powrót pracowników?   \n",
       "171                                                       Minister Finansów o deficycie. Padła gigantyczna kwota   \n",
       "1068                             Nadwaga, cukrycza i inne schorzenia - sprawdź, co grozi Twojemu dziecku [AUDIO]   \n",
       "216                                     Matura 2020: Kiedy będą wyniki matur 2020 [WYNIKI MATURA 2020, CKE, OKE]   \n",
       "1135               Studenci z Lublina zaprojektowali wyjątkowy bolid i wygrali konkurs dla konstruktorów [WIDEO]   \n",
       "1091     Wypłata \"solidarnościowego\" od ZUS bez przeszkód. Na Zamojszczyźnie skorzystało ponad 1300 osób [AUDIO]   \n",
       "282    Policja i sanepid przestrzegali i informowali mieszkańców Lublina o obowiązku noszenia maseczek [GALERIA]   \n",
       "1043                               Lublin: W końcu mają gdzie harcować. Ruszył Rezerwat Dzikich Dzieci [ZDJĘCIA]   \n",
       "294                                              Włodawa: Kajakiem na Białoruś. Ciekawscy turyści dostali mandat   \n",
       "1035                                    Ruszył nabór do Szlachetnej Paczki 2020. Potrzeba tysięcy wolontariuszy!   \n",
       "249                              W Wojciechowie kują żelazo w przyłbicach. Rzemiosło i sztuka w jednym [ZDJĘCIA]   \n",
       "235   Zamojski Ogród Zoologiczny ze wzrostem turystów indywidualnych. Placówka zaprasza do rodzinnego zwiedzania   \n",
       "107                                                   Tarcza Finansowa. Ostatnie dni, aby skorzystać ze wsparcia   \n",
       "352                                      ZABIŁA człowieka, bo jej się spieszyło. Wstrząsająca TRAGEDIA w Łukowie   \n",
       "1061                    Zamość: Nie będzie odkomarzania na terenach zielonych. Miasto stawia na naturalne metody   \n",
       "1150                                               Rewolucyjne zmiany dla przedsiębiorców. Zobacz, co się zmieni   \n",
       "1129                               Żurawie na żużlu. Kibice speedwaya z Lublina nie mają sobie równych [ZDJĘCIA]   \n",
       "143                                                Podszywają się pod pracowników sanepidu. Nowa metoda oszustów   \n",
       "109                                             Naciągacze wzięli na cel przedsiębiorców. Dostałeś takie pismo?    \n",
       "1149           Lubelskie: Wyłączenia prądu w Lublinie i regionie. W tych miejscach zgaśnie światło [1-5.07.2020]   \n",
       "1147                        Średnia pensja w Lublinie i na Lubelszczyźnie to... NIE UWIERZYCIE! ZASKAKUJĄCE dane   \n",
       "124                Odpoczywał nad jeziorem – pójdzie siedzieć na 3,5 roku! FAŁSZYWY WNUCZEK zatrzymany w Firleju   \n",
       "1138                                 Ślub i wesele w piątek? WAŻNA decyzja arcybiskupa. Kościół ZMIENIŁ zdanie?!   \n",
       "196                             Polscy fani byli WYPOSZCZENI. Wynajęli OSIEMNAŚCIE DŹWIGÓW! [ABSURDALNE ZDJĘCIE]   \n",
       "1094                             Wybory 2020: Czy padnie rekord w liczbie głosujących korespondencyjnie? [AUDIO]   \n",
       "144                                             Rowerzyści obawiają się samochodów. Jakimi kierowcami są Polacy?   \n",
       "1128                  Zamość: Kąpieliska z powiatu po badaniach stanu wody. Nie wszystkie są w tym roku dostępne   \n",
       "1124                  Dziennie potrzeba 200 dawców, żeby zabezpieczyć krew dla mieszkańców Lubelszczyzny [AUDIO]   \n",
       "1121                     Lublin: Potwór ZGWAŁCIŁ 14-latkę?! Wepchnął dziewczynę do piwnicy i zgotował jej PIEKŁO   \n",
       "1046                   Średnia pensja w Lublinie i w Lubelskiem? SZOKUJĄCE DANE statystyczne [WYNAGRODZENIA GUS]   \n",
       "1049                                     Poczta Polska wprowadza dużą zmianę. Będzie szybciej sortować przesyłki   \n",
       "1038                                                                        Jak wyłączyć nowy wygląd Facebooka?    \n",
       "1036                  Ochłodzenie i przelotne opady deszczu. Czy burze dadzą nam spokój? [PROGNOZA POGODY 21.07]   \n",
       "1072                                  KINO PLENEROWE na dachu VIVO! Lublin. „Taras pełen atrakcji” [HARMONOGRAM]   \n",
       "984                                                        Lidl zaprasza na domówkę! Festiwal Pol'andRock online   \n",
       "980                             Lublin: Fontanna multimedialna na Placu Litewskim [POKAZY FONTANN – HARMONOGRAM]   \n",
       "1112                    II tura BEZ KOLEJEK? Seniorzy i osoby z dziećmi zagłosują poza kolejnością [WYBORY 2020]   \n",
       "968                                         Sklepy zmieniają godziny otwarcia. Wybrane placówki czynne całą dobę   \n",
       "102                                                            Polski bon turystyczny. Od kiedy będzie działać?    \n",
       "217               Rozdają maseczki tym, którzy ich nie noszą. Akcja MPK Lublin i Straży Miejskiej [WIDEO, AUDIO]   \n",
       "219                          Działa już jeden, wkrótce będą kolejne. Czy parkingi P&R się w Lublinie sprawdzają?   \n",
       "118                                                         Minimalne wynagrodzenie w górę. Rząd przyjął projekt   \n",
       "131                                                             Wypadki na drogach w Polsce. Tyle za nie płacimy   \n",
       "\n",
       "                                                                                                                                                        url  \\\n",
       "1089                                                       https://lublin.se.pl/fundacja-poczty-polskiej-pomaga-nie-tylko-pocztowcom-ak-mhyB-eDys-5KSt.html   \n",
       "117                                                              https://lublin.se.pl/zakaz-handlu-tymczasowo-zniesiony-jest-projekt-ak-UDmc-xk46-WKyr.html   \n",
       "359                                 https://lublin.se.pl/startuje-sloneczny-wrotkow-nad-zalewem-zemborzyckim-sprawdz-co-sie-zmienilo-ak-fyZF-StCT-ebme.html   \n",
       "268                                 https://lublin.se.pl/obowiazkowe-mierzenie-temperatury-pracownikom-w-polsce-ministerstwo-reaguje-ak-NVmS-RHLu-NcPj.html   \n",
       "148                             https://lublin.se.pl/zabka-przekazala-3-mln-zlotych-polskim-szpitalom-wszystko-dzieki-klientom-sieci-ak-EUZA-ARLQ-7Z7i.html   \n",
       "166                                                                    https://lublin.se.pl/zmiany-w-zakazie-handlu-jest-nowy-pomysl-ak-2SVz-XDkR-RuTM.html   \n",
       "329                                                    https://lublin.se.pl/primark-w-polsce-co-dalej-z-otwarciem-sklepu-w-warszawie-ak-7vbs-ADkt-xaho.html   \n",
       "189                                            https://lublin.se.pl/koniec-pracy-zdalnej-jak-przygotowac-firme-na-powrot-pracownikow-ak-ftj7-XGSi-pprp.html   \n",
       "171                                                       https://lublin.se.pl/minister-finansow-o-deficycie-padla-gigantyczna-kwota-ak-BwaP-W8ob-8aQ8.html   \n",
       "1068                                  https://lublin.se.pl/nadwaga-cukrycza-i-inne-schorzenia-sprawdz-co-grozi-twojemu-dziecku-audio-ak-oiid-dbpd-kdXh.html   \n",
       "216                                             https://lublin.se.pl/matura-2020-kiedy-beda-wyniki-matur-2020-wyniki-matura-2020-cke-ak-7VZL-nb2b-jXd5.html   \n",
       "1135                https://lublin.se.pl/studenci-z-lublina-zaprojektowali-wyjatkowy-bolid-i-wygrali-konkurs-dla-konstruktorow-wideo-ak-f9K4-QhLX-YQbu.html   \n",
       "1091         https://lublin.se.pl/wyplata-solidarnosciowego-od-zus-bez-przeszkod-na-zamojszczyznie-skorzystalo-ponad-1300-osob-audio-ak-UvUb-K5g6-e89z.html   \n",
       "282             https://lublin.se.pl/policja-i-sanepid-przestrzegali-i-informowali-mieszkancow-lublina-o-obowiazku-noszenia-maseczek-ak-RPWz-8Cw2-3QCy.html   \n",
       "1043                                          https://lublin.se.pl/lublin-w-koncu-maja-gdzie-harcowac-ruszyl-rezerwat-dzikich-dzieci-aa-pUGq-YcRu-ry1s.html   \n",
       "294                                               https://lublin.se.pl/wlodawa-kajakiem-na-bialorus-ciekawscy-turysci-dostali-mandat-aa-b3qF-DPap-e4nf.html   \n",
       "1035                                     https://lublin.se.pl/ruszyl-nabor-do-szlachetnej-paczki-2020-potrzeba-tysiecy-wolontariuszy-ak-4GYS-3ywK-TBfL.html   \n",
       "249                                                                    https://lublin.se.pl/w-wojciechowie-kuja-zelazo-w-przylbicach-aa-f5Sh-kczQ-UFLd.html   \n",
       "235   https://lublin.se.pl/zamojski-ogrod-zoologiczny-ze-wzrostem-turystow-indywidualnych-placowka-zaprasza-do-rodzinnego-zwiedzania-ak-KJAA-VvcZ-zv5F.html   \n",
       "107                                                    https://lublin.se.pl/tarcza-finansowa-ostatnie-dni-aby-skorzystac-ze-wsparcia-ak-Dkhj-dVWx-GZ9s.html   \n",
       "352                                                    https://lublin.se.pl/zabila-czlowieka-bo-jej-sie-spieszylo-tragedia-w-lukowie-aa-uvfW-aLj6-GPLK.html   \n",
       "1061                     https://lublin.se.pl/zamosc-nie-bedzie-odkomarzania-na-terenach-zielonych-miasto-stawia-na-naturalne-metody-ak-j23m-HEx5-RmkR.html   \n",
       "1150                                                https://lublin.se.pl/rewolucyjne-zmiany-dla-przedsiebiorcow-zobacz-co-sie-zmieni-ak-teU8-HX74-iias.html   \n",
       "1129                                         https://lublin.se.pl/zurawie-na-zuzlu-kibice-speedwaya-z-lublina-nie-maja-sobie-rownych-aa-Uuyi-fcDQ-a5R1.html   \n",
       "143                                                https://lublin.se.pl/podszywaja-sie-pod-pracownikow-sanepidu-nowa-metoda-oszustow-ak-rhp2-wZTf-gyN7.html   \n",
       "109                                               https://lublin.se.pl/przestepcy-wzieli-na-cel-przedsiebiorcow-dostales-takie-pismo-ak-U86R-Y39Q-c9K1.html   \n",
       "1149              https://lublin.se.pl/lubelskie-wylaczenia-pradu-w-lublinie-i-regionie-w-tych-miejscach-zgasnie-swiatlo-1-5-07-2020-aa-E4BG-JHdN-jYdq.html   \n",
       "1147                           https://lublin.se.pl/srednia-pensja-w-lublinie-i-na-lubelszczyznie-to-nie-uwierzycie-zaskakujace-dane-aa-XNJs-YC8q-d3dv.html   \n",
       "124                     https://lublin.se.pl/odpoczywal-nad-jeziorem-pojdzie-siedziec-3-5-roku-falszywy-wnuczek-zatrzymany-w-firleju-aa-rmxe-1pzp-H6jA.html   \n",
       "1138                                    https://lublin.se.pl/slub-i-wesele-w-piatek-wazna-decyzja-arcybiskupa-kosciol-zmienil-zdanie-aa-UvSc-qUM9-57T5.html   \n",
       "196                                https://lublin.se.pl/polscy-fani-byli-wyposzczeni-wynajeli-osiemnascie-dzwigow-absurdalne-zdjecie-ak-g7cE-Zadj-cwgC.html   \n",
       "1094                  https://lublin.se.pl/wytbory-prezydenckie-2020-czy-padnie-rekord-w-liczbie-glosujacych-korespondencyjnie-audio-ak-Qy41-pidH-tHEK.html   \n",
       "144                                              https://lublin.se.pl/rowerzysci-obawiaja-sie-samochodow-jakimi-kierowcami-sa-polacy-ak-dHzt-n1qU-hph8.html   \n",
       "1128                   https://lublin.se.pl/zamosc-kapieliska-z-powiatu-po-badaniach-stanu-wody-nie-wszystkie-sa-w-tym-roku-dostepne-ak-koh2-VTcA-TwHw.html   \n",
       "1124                    https://lublin.se.pl/dziennie-potrzeba-200-dawcow-zeby-zabezpieczyc-krew-dla-mieszkancow-lubelszczyzny-audio-ak-MYpA-qbuU-9e4o.html   \n",
       "1121                       https://lublin.se.pl/lublin-potwor-zgwalcil-14-latke-wepchnal-dziewczyne-do-piwnicy-i-zgotowal-jej-pieklo-aa-vjr4-EMm6-iDPp.html   \n",
       "1046                     https://lublin.se.pl/srednia-pensja-w-lublinie-i-w-lubelskiem-szokujace-dane-statystyczne-wynagrodzenia-gus-aa-9KcR-UjJV-7vj4.html   \n",
       "1049                                     https://lublin.se.pl/poczta-polska-wprowadza-duza-zmiane-bedzie-szybciej-sortowac-przesylki-ak-dAT7-y6Q1-uHK9.html   \n",
       "1038                                                                         https://lublin.se.pl/jak-wylaczyc-nowy-wyglad-facebooka-ak-SVcZ-cJGA-UH3L.html   \n",
       "1036                     https://lublin.se.pl/ochlodzenie-i-przelotne-opady-deszczu-czy-burze-dadza-nam-spokoj-prognoza-pogody-21-07-ak-LqDv-hBTc-CCNA.html   \n",
       "1072                                       https://lublin.se.pl/kino-plenerowe-na-dachu-vivo-lublin-taras-pelen-atrakcji-harmonogram-aa-rfSC-Uhhi-o89d.html   \n",
       "984                                                         https://lublin.se.pl/lidl-zaprasza-na-domowke-festiwal-polandrock-online-ak-3RqM-LCs3-hdF4.html   \n",
       "980                                 https://lublin.se.pl/lublin-fontanna-multimedialna-na-placu-litewskim-pokazy-fontann-harmonogram-aa-6EGe-zzfk-fnMY.html   \n",
       "1112                      https://lublin.se.pl/ii-tura-bez-kolejek-seniorzy-i-osoby-z-dziecmi-zaglosuja-poza-kolejnoscia-wybory-2020-aa-FMaE-KHRs-U1C6.html   \n",
       "968                                         https://lublin.se.pl/sklepy-zmieniaja-godziny-otwarcia-wybrane-placowki-czynne-cala-dobe-ak-nHMN-uWo3-mAWs.html   \n",
       "102                                                              https://lublin.se.pl/polski-bon-turystyczny-od-kiedy-bedzie-dzialac-ak-Mg5m-vpc5-Z4L4.html   \n",
       "217                   https://lublin.se.pl/rozdaja-maseczki-tym-ktorzy-ich-nie-nosza-akcja-mpk-lublin-i-strazy-miejskiej-wideo-audio-ak-Tfuy-K2gL-Gvma.html   \n",
       "219                            https://lublin.se.pl/dziala-juz-jeden-wkrotce-beda-kolejne-czy-parkingi-p-r-sie-w-lublinie-sprawdzaja-ak-JHCo-9JL5-7xsr.html   \n",
       "118                                                         https://lublin.se.pl/minimalne-wynagrodzenie-w-gore-rzad-przyjal-projekt-ak-ua83-8Qcw-6tu9.html   \n",
       "131                                                             https://lublin.se.pl/wypadki-na-drogach-w-polsce-tyle-za-nie-placimy-ak-jg6Q-kpsD-erkz.html   \n",
       "\n",
       "      koronawirus_in_text  koronawirus_in_title  question_mark  \\\n",
       "1089                   13                     0              0   \n",
       "117                    12                     0              1   \n",
       "359                    11                     0              1   \n",
       "268                    11                     0              0   \n",
       "148                    10                     0              0   \n",
       "166                     6                     0              0   \n",
       "329                     5                     0              0   \n",
       "189                     5                     0              0   \n",
       "171                     5                     0              1   \n",
       "1068                    4                     0              0   \n",
       "216                     4                     0              1   \n",
       "1135                    4                     0              0   \n",
       "1091                    3                     0              0   \n",
       "282                     3                     0              0   \n",
       "1043                    3                     0              0   \n",
       "294                     3                     0              2   \n",
       "1035                    3                     0              1   \n",
       "249                     3                     0              0   \n",
       "235                     3                     0              0   \n",
       "107                     3                     0              3   \n",
       "352                     3                     0              0   \n",
       "1061                    3                     0              0   \n",
       "1150                    3                     0              2   \n",
       "1129                    3                     0              1   \n",
       "143                     3                     0              0   \n",
       "109                     3                     0              1   \n",
       "1149                    3                     0              2   \n",
       "1147                    3                     0              2   \n",
       "124                     3                     0              0   \n",
       "1138                    3                     0              5   \n",
       "196                     3                     0              0   \n",
       "1094                    3                     0              0   \n",
       "144                     3                     0              1   \n",
       "1128                    3                     0              0   \n",
       "1124                    3                     0              0   \n",
       "1121                    3                     0              1   \n",
       "1046                    2                     0              4   \n",
       "1049                    2                     0              1   \n",
       "1038                    2                     0              2   \n",
       "1036                    2                     0              3   \n",
       "1072                    2                     0              3   \n",
       "984                     2                     0              1   \n",
       "980                     2                     0              0   \n",
       "1112                    2                     0              2   \n",
       "968                     2                     0              0   \n",
       "102                     2                     0              4   \n",
       "217                     2                     0              0   \n",
       "219                     2                     0              0   \n",
       "118                     2                     0              1   \n",
       "131                     2                     0              0   \n",
       "\n",
       "      exclamation_mark  all_words  koronawirus_anywhere  \\\n",
       "1089                 0        439                    13   \n",
       "117                  0        338                    12   \n",
       "359                  3        825                    11   \n",
       "268                  1        199                    11   \n",
       "148                  5        458                    10   \n",
       "166                  0        258                     6   \n",
       "329                  0        246                     5   \n",
       "189                  0        492                     5   \n",
       "171                  2        314                     5   \n",
       "1068                 0        347                     4   \n",
       "216                  1        222                     4   \n",
       "1135                 0        384                     4   \n",
       "1091                 0        201                     3   \n",
       "282                  0        204                     3   \n",
       "1043                 2        278                     3   \n",
       "294                  0        271                     3   \n",
       "1035                 0        337                     3   \n",
       "249                  0        283                     3   \n",
       "235                  0        211                     3   \n",
       "107                  0        381                     3   \n",
       "352                  2        207                     3   \n",
       "1061                 0        209                     3   \n",
       "1150                 1        271                     3   \n",
       "1129                 1        364                     3   \n",
       "143                  1        271                     3   \n",
       "109                  0        282                     3   \n",
       "1149                 2        258                     3   \n",
       "1147                 2        305                     3   \n",
       "124                  1        220                     3   \n",
       "1138                 1        314                     3   \n",
       "196                  5        235                     3   \n",
       "1094                 0        266                     3   \n",
       "144                  0        527                     3   \n",
       "1128                 0        211                     3   \n",
       "1124                 0        245                     3   \n",
       "1121                 2        181                     3   \n",
       "1046                 1        254                     2   \n",
       "1049                 0        430                     2   \n",
       "1038                 0        230                     2   \n",
       "1036                 1        369                     2   \n",
       "1072                 9        431                     2   \n",
       "984                  2        385                     2   \n",
       "980                  1        201                     2   \n",
       "1112                 0        179                     2   \n",
       "968                  0        244                     2   \n",
       "102                  0        423                     2   \n",
       "217                  0        419                     2   \n",
       "219                  0        181                     2   \n",
       "118                  0        160                     2   \n",
       "131                  0        187                     2   \n",
       "\n",
       "      koronawirus_anywhere_count  \n",
       "1089                           1  \n",
       "117                            1  \n",
       "359                            1  \n",
       "268                            1  \n",
       "148                            1  \n",
       "166                            1  \n",
       "329                            1  \n",
       "189                            1  \n",
       "171                            1  \n",
       "1068                           1  \n",
       "216                            1  \n",
       "1135                           1  \n",
       "1091                           1  \n",
       "282                            1  \n",
       "1043                           1  \n",
       "294                            1  \n",
       "1035                           1  \n",
       "249                            1  \n",
       "235                            1  \n",
       "107                            1  \n",
       "352                            1  \n",
       "1061                           1  \n",
       "1150                           1  \n",
       "1129                           1  \n",
       "143                            1  \n",
       "109                            1  \n",
       "1149                           1  \n",
       "1147                           1  \n",
       "124                            1  \n",
       "1138                           1  \n",
       "196                            1  \n",
       "1094                           1  \n",
       "144                            1  \n",
       "1128                           1  \n",
       "1124                           1  \n",
       "1121                           1  \n",
       "1046                           1  \n",
       "1049                           1  \n",
       "1038                           1  \n",
       "1036                           1  \n",
       "1072                           1  \n",
       "984                            1  \n",
       "980                            1  \n",
       "1112                           1  \n",
       "968                            1  \n",
       "102                            1  \n",
       "217                            1  \n",
       "219                            1  \n",
       "118                            1  \n",
       "131                            1  "
      ]
     },
     "execution_count": 128,
     "metadata": {},
     "output_type": "execute_result"
    }
   ],
   "source": [
    "title_false = df['koronawirus_in_title'] == 0\n",
    "text_true = df['koronawirus_in_text'] > 0\n",
    "publication_month_07 = df['publication_month'] == \"2020-07\"\n",
    "\n",
    "df_title_false_and_text_true = df[title_false & text_true & publication_month_07]\n",
    "\n",
    "df_title_false_and_text_true.sort_values(by='koronawirus_in_text', ascending=False)[:50]"
   ]
  },
  {
   "cell_type": "markdown",
   "metadata": {},
   "source": [
    "### Total number of articles in the text each month"
   ]
  },
  {
   "cell_type": "code",
   "execution_count": 129,
   "metadata": {
    "scrolled": false
   },
   "outputs": [
    {
     "data": {
      "image/png": "[encoded data removed]",
      "text/plain": [
       "<Figure size 576x360 with 1 Axes>"
      ]
     },
     "metadata": {
      "needs_background": "light"
     },
     "output_type": "display_data"
    }
   ],
   "source": [
    "publication_month_count = df.publication_month.astype('category').value_counts(normalize=True)\n",
    "plt.figure(figsize=(8, 5))\n",
    "sns.barplot(publication_month_count.index, publication_month_count.values, alpha=0.8)\n",
    "plt.show()"
   ]
  },
  {
   "cell_type": "code",
   "execution_count": 130,
   "metadata": {
    "scrolled": false
   },
   "outputs": [
    {
     "data": {
      "image/png": "[encoded data removed]",
      "text/plain": [
       "<Figure size 432x288 with 1 Axes>"
      ]
     },
     "metadata": {
      "needs_background": "light"
     },
     "output_type": "display_data"
    }
   ],
   "source": [
    "df_with_koronawirus_in_title = df.where(df[\"koronawirus_in_title\"] > 0).dropna()\n",
    "\n",
    "df_with_koronawirus_in_text = df.where(df[\"koronawirus_in_text\"] > 0).dropna()\n",
    "\n",
    "plt.plot(df[['koronawirus_in_text', 'publication_month']].groupby('publication_month').count(),\n",
    "        color='y',\n",
    "        marker='o')\n",
    "\n",
    "plt.plot(df_with_koronawirus_in_text[['koronawirus_in_text', 'publication_month']].groupby('publication_month').count(),\n",
    "        color='r',\n",
    "        marker='o')\n",
    "\n",
    "plt.plot(df_with_koronawirus_in_title[['koronawirus_in_title', 'publication_month']].groupby('publication_month').count(),\n",
    "        color='g',\n",
    "        marker='o')\n",
    "\n",
    "plt.ylabel(\"liczba artykułów\")\n",
    "plt.grid()\n",
    "plt.legend([\"wszystkie artykuły\", \"grupa* koronawirus w tekście\", \"grupa* koronawirus w tytule\"])\n",
    "plt.show()"
   ]
  },
  {
   "cell_type": "code",
   "execution_count": 131,
   "metadata": {},
   "outputs": [
    {
     "data": {
      "text/html": [
       "<div>\n",
       "<style scoped>\n",
       "    .dataframe tbody tr th:only-of-type {\n",
       "        vertical-align: middle;\n",
       "    }\n",
       "\n",
       "    .dataframe tbody tr th {\n",
       "        vertical-align: top;\n",
       "    }\n",
       "\n",
       "    .dataframe thead th {\n",
       "        text-align: right;\n",
       "    }\n",
       "</style>\n",
       "<table border=\"1\" class=\"dataframe\">\n",
       "  <thead>\n",
       "    <tr style=\"text-align: right;\">\n",
       "      <th></th>\n",
       "      <th>koronawirus_in_text</th>\n",
       "    </tr>\n",
       "    <tr>\n",
       "      <th>publication_month</th>\n",
       "      <th></th>\n",
       "    </tr>\n",
       "  </thead>\n",
       "  <tbody>\n",
       "    <tr>\n",
       "      <td>2020-01</td>\n",
       "      <td>154</td>\n",
       "    </tr>\n",
       "    <tr>\n",
       "      <td>2020-02</td>\n",
       "      <td>105</td>\n",
       "    </tr>\n",
       "    <tr>\n",
       "      <td>2020-03</td>\n",
       "      <td>147</td>\n",
       "    </tr>\n",
       "    <tr>\n",
       "      <td>2020-04</td>\n",
       "      <td>138</td>\n",
       "    </tr>\n",
       "    <tr>\n",
       "      <td>2020-05</td>\n",
       "      <td>153</td>\n",
       "    </tr>\n",
       "    <tr>\n",
       "      <td>2020-06</td>\n",
       "      <td>214</td>\n",
       "    </tr>\n",
       "    <tr>\n",
       "      <td>2020-07</td>\n",
       "      <td>444</td>\n",
       "    </tr>\n",
       "    <tr>\n",
       "      <td>2020-08</td>\n",
       "      <td>152</td>\n",
       "    </tr>\n",
       "  </tbody>\n",
       "</table>\n",
       "</div>"
      ],
      "text/plain": [
       "                   koronawirus_in_text\n",
       "publication_month                     \n",
       "2020-01                            154\n",
       "2020-02                            105\n",
       "2020-03                            147\n",
       "2020-04                            138\n",
       "2020-05                            153\n",
       "2020-06                            214\n",
       "2020-07                            444\n",
       "2020-08                            152"
      ]
     },
     "execution_count": 131,
     "metadata": {},
     "output_type": "execute_result"
    }
   ],
   "source": [
    "df[['koronawirus_in_text', 'publication_month']].groupby('publication_month').count()"
   ]
  },
  {
   "cell_type": "markdown",
   "metadata": {},
   "source": [
    "### Total number of articles"
   ]
  },
  {
   "cell_type": "code",
   "execution_count": 132,
   "metadata": {
    "scrolled": false
   },
   "outputs": [
    {
     "data": {
      "text/plain": [
       "1507"
      ]
     },
     "execution_count": 132,
     "metadata": {},
     "output_type": "execute_result"
    }
   ],
   "source": [
    "df.shape[0]"
   ]
  },
  {
   "cell_type": "markdown",
   "metadata": {},
   "source": [
    "### Days with a record number of articles"
   ]
  },
  {
   "cell_type": "code",
   "execution_count": 133,
   "metadata": {
    "scrolled": false
   },
   "outputs": [
    {
     "data": {
      "text/plain": [
       "2020-06-29    28\n",
       "2020-07-08    26\n",
       "2020-07-01    25\n",
       "Name: publication_day, dtype: int64"
      ]
     },
     "execution_count": 133,
     "metadata": {},
     "output_type": "execute_result"
    }
   ],
   "source": [
    "df.publication_day.value_counts().head(3)"
   ]
  },
  {
   "cell_type": "markdown",
   "metadata": {},
   "source": [
    "### Covid article count per 100 articles"
   ]
  },
  {
   "cell_type": "code",
   "execution_count": 134,
   "metadata": {
    "scrolled": false
   },
   "outputs": [
    {
     "data": {
      "text/plain": [
       "<matplotlib.legend.Legend at 0x7f6248381d68>"
      ]
     },
     "execution_count": 134,
     "metadata": {},
     "output_type": "execute_result"
    },
    {
     "data": {
      "image/png": "[encoded data removed]",
      "text/plain": [
       "<Figure size 432x288 with 1 Axes>"
      ]
     },
     "metadata": {
      "needs_background": "light"
     },
     "output_type": "display_data"
    }
   ],
   "source": [
    "\n",
    "df_with_koronawirus_anywhere = df.where(df[\"koronawirus_anywhere\"] > 0).dropna()\n",
    "\n",
    "plt.plot((df_with_koronawirus_anywhere.groupby('publication_month').count() / df.groupby('publication_month').count()) * 100,\n",
    "        color=\"b\",\n",
    "        marker='o')\n",
    "plt.ylabel(\"% wszystkich artykułów\")\n",
    "plt.grid()\n",
    "plt.legend([\"grupa* koronawirus w tytule lub tekscie\"])"
   ]
  },
  {
   "cell_type": "code",
   "execution_count": 135,
   "metadata": {
    "scrolled": true
   },
   "outputs": [
    {
     "data": {
      "text/plain": [
       "publication_month\n",
       "2020-01     3.246753\n",
       "2020-02    10.476190\n",
       "2020-03    78.911565\n",
       "2020-04    73.913043\n",
       "2020-05    39.869281\n",
       "2020-06    24.299065\n",
       "2020-07    31.981982\n",
       "2020-08    42.105263\n",
       "Name: publication_date, dtype: float64"
      ]
     },
     "execution_count": 135,
     "metadata": {},
     "output_type": "execute_result"
    }
   ],
   "source": [
    "df_with_koronawirus_anywhere = df.where(df[\"koronawirus_anywhere\"] > 0).dropna()\n",
    "wskaznik = df_with_koronawirus_anywhere.groupby('publication_month').count() / df.groupby('publication_month').count() * 100\n",
    "wskaznik[\"publication_date\"]"
   ]
  },
  {
   "cell_type": "markdown",
   "metadata": {},
   "source": [
    "### The total number of covid words"
   ]
  },
  {
   "cell_type": "code",
   "execution_count": 136,
   "metadata": {
    "scrolled": true
   },
   "outputs": [
    {
     "data": {
      "text/plain": [
       "6576"
      ]
     },
     "execution_count": 136,
     "metadata": {},
     "output_type": "execute_result"
    }
   ],
   "source": [
    "df.koronawirus_in_text.sum()"
   ]
  },
  {
   "cell_type": "markdown",
   "metadata": {},
   "source": [
    "### Mean covid word count per article"
   ]
  },
  {
   "cell_type": "code",
   "execution_count": 137,
   "metadata": {
    "scrolled": true
   },
   "outputs": [
    {
     "data": {
      "text/plain": [
       "12.47027027027027"
      ]
     },
     "execution_count": 137,
     "metadata": {},
     "output_type": "execute_result"
    }
   ],
   "source": [
    "koronawirus_in_text_true = df['koronawirus_in_text'] > 0\n",
    "df['koronawirus_anywhere'][koronawirus_in_text_true].mean()"
   ]
  },
  {
   "cell_type": "markdown",
   "metadata": {},
   "source": [
    "### Articles with the highest number of words in the covid group"
   ]
  },
  {
   "cell_type": "code",
   "execution_count": 138,
   "metadata": {
    "scrolled": true
   },
   "outputs": [
    {
     "data": {
      "text/html": [
       "<div>\n",
       "<style scoped>\n",
       "    .dataframe tbody tr th:only-of-type {\n",
       "        vertical-align: middle;\n",
       "    }\n",
       "\n",
       "    .dataframe tbody tr th {\n",
       "        vertical-align: top;\n",
       "    }\n",
       "\n",
       "    .dataframe thead th {\n",
       "        text-align: right;\n",
       "    }\n",
       "</style>\n",
       "<table border=\"1\" class=\"dataframe\">\n",
       "  <thead>\n",
       "    <tr style=\"text-align: right;\">\n",
       "      <th></th>\n",
       "      <th>publication_date</th>\n",
       "      <th>publication_month</th>\n",
       "      <th>publication_day</th>\n",
       "      <th>author</th>\n",
       "      <th>title</th>\n",
       "      <th>url</th>\n",
       "      <th>koronawirus_in_text</th>\n",
       "      <th>koronawirus_in_title</th>\n",
       "      <th>question_mark</th>\n",
       "      <th>exclamation_mark</th>\n",
       "      <th>all_words</th>\n",
       "      <th>koronawirus_anywhere</th>\n",
       "      <th>koronawirus_anywhere_count</th>\n",
       "    </tr>\n",
       "  </thead>\n",
       "  <tbody>\n",
       "    <tr>\n",
       "      <td>1328</td>\n",
       "      <td>2020-04-16 22:42:00</td>\n",
       "      <td>2020-04</td>\n",
       "      <td>2020-04-16</td>\n",
       "      <td>paweł tabędzki / marek targoński / sylwia sitka-czerniak / konrad marzec</td>\n",
       "      <td>Przełom w walce z koronawirusem?! ARCYWAŻNE zmiany ogłoszone przez rząd. Koronawirus w Polsce [ZAPIS RELACJI NA ŻYWO]</td>\n",
       "      <td>https://www.se.pl/lublin/liczba-zgonow-i-zakazonych-rosnie-najnowsze-informacje-oraz-statystyki-koronawirus-w-polsce-relacja-na-zywo-aa-arVq-4nsQ-phQ6.html</td>\n",
       "      <td>525</td>\n",
       "      <td>1</td>\n",
       "      <td>99</td>\n",
       "      <td>123</td>\n",
       "      <td>11153</td>\n",
       "      <td>526</td>\n",
       "      <td>1</td>\n",
       "    </tr>\n",
       "    <tr>\n",
       "      <td>651</td>\n",
       "      <td>2020-04-07 07:00:00</td>\n",
       "      <td>2020-04</td>\n",
       "      <td>2020-04-07</td>\n",
       "      <td>magdalena jaśkiewicz-stawowczyk, marek targoński</td>\n",
       "      <td>Szokujący bilans koronawirusa w Polsce. Ważne słowa prezydenta Dudy. Groza w UK [ZAPIS RELACJI NA ŻYWO]</td>\n",
       "      <td>https://www.se.pl/lublin/koronawirus-w-polsce-dzis-niedziela-palmowa-pierwsza-taka-w-historii-kosciola-relacja-na-zywo-aa-Hp4w-RQKA-CX2T.html</td>\n",
       "      <td>477</td>\n",
       "      <td>1</td>\n",
       "      <td>47</td>\n",
       "      <td>66</td>\n",
       "      <td>11170</td>\n",
       "      <td>478</td>\n",
       "      <td>1</td>\n",
       "    </tr>\n",
       "    <tr>\n",
       "      <td>750</td>\n",
       "      <td>2020-03-04 22:25:00</td>\n",
       "      <td>2020-03</td>\n",
       "      <td>2020-03-04</td>\n",
       "      <td>marek targoński</td>\n",
       "      <td>Koronawirus w Polsce! Oto konsekwencje: wzrost cen i wysoki popyt [ZAPIS RELACJI NA ŻYWO]</td>\n",
       "      <td>https://www.se.pl/lublin/koronawirus-w-polsce-tytul-relacja-na-zywo-aa-jzM9-R6pH-GAfM.html</td>\n",
       "      <td>338</td>\n",
       "      <td>1</td>\n",
       "      <td>75</td>\n",
       "      <td>74</td>\n",
       "      <td>7144</td>\n",
       "      <td>339</td>\n",
       "      <td>1</td>\n",
       "    </tr>\n",
       "    <tr>\n",
       "      <td>713</td>\n",
       "      <td>2020-03-19 09:22:00</td>\n",
       "      <td>2020-03</td>\n",
       "      <td>2020-03-19</td>\n",
       "      <td>marek targoński</td>\n",
       "      <td>Koronawirus Lubelskie: COVID-19 na Lubelszczyźnie. Kto i gdzie choruje? Kim są pacjenci?</td>\n",
       "      <td>https://www.se.pl/lublin/koronawirus-lubelskie-covid-19-na-lubelszczyznie-kto-i-gdzie-choruje-kim-sa-pacjenci-aa-F4Hk-fcQg-hXY5.html</td>\n",
       "      <td>51</td>\n",
       "      <td>1</td>\n",
       "      <td>11</td>\n",
       "      <td>9</td>\n",
       "      <td>653</td>\n",
       "      <td>52</td>\n",
       "      <td>1</td>\n",
       "    </tr>\n",
       "    <tr>\n",
       "      <td>683</td>\n",
       "      <td>2020-03-27 10:14:00</td>\n",
       "      <td>2020-03</td>\n",
       "      <td>2020-03-27</td>\n",
       "      <td>NaN</td>\n",
       "      <td>Gdzie jest koronawisus w Polsce i Europie? Mapa zasięgu epidemii [MAPA KORONAWIRUSA]</td>\n",
       "      <td>https://www.se.pl/lublin/koronawirus-w-polsce-gdzie-jest-wirus-z-chin-koronawirus-mapa-aa-dSBK-o5RJ-2eA4.html</td>\n",
       "      <td>31</td>\n",
       "      <td>1</td>\n",
       "      <td>13</td>\n",
       "      <td>10</td>\n",
       "      <td>449</td>\n",
       "      <td>32</td>\n",
       "      <td>1</td>\n",
       "    </tr>\n",
       "  </tbody>\n",
       "</table>\n",
       "</div>"
      ],
      "text/plain": [
       "         publication_date publication_month publication_day  \\\n",
       "1328  2020-04-16 22:42:00           2020-04      2020-04-16   \n",
       "651   2020-04-07 07:00:00           2020-04      2020-04-07   \n",
       "750   2020-03-04 22:25:00           2020-03      2020-03-04   \n",
       "713   2020-03-19 09:22:00           2020-03      2020-03-19   \n",
       "683   2020-03-27 10:14:00           2020-03      2020-03-27   \n",
       "\n",
       "                                                                        author  \\\n",
       "1328  paweł tabędzki / marek targoński / sylwia sitka-czerniak / konrad marzec   \n",
       "651                           magdalena jaśkiewicz-stawowczyk, marek targoński   \n",
       "750                                                            marek targoński   \n",
       "713                                                            marek targoński   \n",
       "683                                                                        NaN   \n",
       "\n",
       "                                                                                                                      title  \\\n",
       "1328  Przełom w walce z koronawirusem?! ARCYWAŻNE zmiany ogłoszone przez rząd. Koronawirus w Polsce [ZAPIS RELACJI NA ŻYWO]   \n",
       "651                 Szokujący bilans koronawirusa w Polsce. Ważne słowa prezydenta Dudy. Groza w UK [ZAPIS RELACJI NA ŻYWO]   \n",
       "750                               Koronawirus w Polsce! Oto konsekwencje: wzrost cen i wysoki popyt [ZAPIS RELACJI NA ŻYWO]   \n",
       "713                                Koronawirus Lubelskie: COVID-19 na Lubelszczyźnie. Kto i gdzie choruje? Kim są pacjenci?   \n",
       "683                                    Gdzie jest koronawisus w Polsce i Europie? Mapa zasięgu epidemii [MAPA KORONAWIRUSA]   \n",
       "\n",
       "                                                                                                                                                              url  \\\n",
       "1328  https://www.se.pl/lublin/liczba-zgonow-i-zakazonych-rosnie-najnowsze-informacje-oraz-statystyki-koronawirus-w-polsce-relacja-na-zywo-aa-arVq-4nsQ-phQ6.html   \n",
       "651                 https://www.se.pl/lublin/koronawirus-w-polsce-dzis-niedziela-palmowa-pierwsza-taka-w-historii-kosciola-relacja-na-zywo-aa-Hp4w-RQKA-CX2T.html   \n",
       "750                                                                    https://www.se.pl/lublin/koronawirus-w-polsce-tytul-relacja-na-zywo-aa-jzM9-R6pH-GAfM.html   \n",
       "713                          https://www.se.pl/lublin/koronawirus-lubelskie-covid-19-na-lubelszczyznie-kto-i-gdzie-choruje-kim-sa-pacjenci-aa-F4Hk-fcQg-hXY5.html   \n",
       "683                                                 https://www.se.pl/lublin/koronawirus-w-polsce-gdzie-jest-wirus-z-chin-koronawirus-mapa-aa-dSBK-o5RJ-2eA4.html   \n",
       "\n",
       "      koronawirus_in_text  koronawirus_in_title  question_mark  \\\n",
       "1328                  525                     1             99   \n",
       "651                   477                     1             47   \n",
       "750                   338                     1             75   \n",
       "713                    51                     1             11   \n",
       "683                    31                     1             13   \n",
       "\n",
       "      exclamation_mark  all_words  koronawirus_anywhere  \\\n",
       "1328               123      11153                   526   \n",
       "651                 66      11170                   478   \n",
       "750                 74       7144                   339   \n",
       "713                  9        653                    52   \n",
       "683                 10        449                    32   \n",
       "\n",
       "      koronawirus_anywhere_count  \n",
       "1328                           1  \n",
       "651                            1  \n",
       "750                            1  \n",
       "713                            1  \n",
       "683                            1  "
      ]
     },
     "execution_count": 138,
     "metadata": {},
     "output_type": "execute_result"
    }
   ],
   "source": [
    "# df.loc[df.koronawirus_in_text.idxmax()]\n",
    "\n",
    "# df['koronawirus_in_text_rank'] = df['koronawirus_in_text'].rank(ascending=False)\n",
    "# df.sort_values(by='koronawirus_in_text', ascending=False).head(15)\n",
    "\n",
    "# df.sort_values(by='koronawirus_in_text', ascending=False)[:5]\n",
    "\n",
    "df.nlargest(n=5, columns='koronawirus_in_text')"
   ]
  },
  {
   "cell_type": "markdown",
   "metadata": {},
   "source": [
    "### Total covid words each month"
   ]
  },
  {
   "cell_type": "code",
   "execution_count": 139,
   "metadata": {},
   "outputs": [
    {
     "data": {
      "text/plain": [
       "<matplotlib.legend.Legend at 0x7f6248549400>"
      ]
     },
     "execution_count": 139,
     "metadata": {},
     "output_type": "execute_result"
    },
    {
     "data": {
      "image/png": "[encoded data removed]",
      "text/plain": [
       "<Figure size 432x288 with 1 Axes>"
      ]
     },
     "metadata": {
      "needs_background": "light"
     },
     "output_type": "display_data"
    }
   ],
   "source": [
    "df_with_koronawirus_in_text = df[[\"koronawirus_in_text\", 'publication_month']].where(df[\"koronawirus_in_text\"] > 0).dropna()\n",
    "plt.plot(\n",
    "    df_with_koronawirus_in_text.groupby('publication_month').sum(),\n",
    "    color=\"r\",\n",
    "    marker='o',\n",
    "    label='ilość słów z grupy covid'\n",
    ")\n",
    "plt.grid()\n",
    "plt.legend()"
   ]
  },
  {
   "cell_type": "code",
   "execution_count": 140,
   "metadata": {
    "scrolled": true
   },
   "outputs": [
    {
     "data": {
      "text/html": [
       "<div>\n",
       "<style scoped>\n",
       "    .dataframe tbody tr th:only-of-type {\n",
       "        vertical-align: middle;\n",
       "    }\n",
       "\n",
       "    .dataframe tbody tr th {\n",
       "        vertical-align: top;\n",
       "    }\n",
       "\n",
       "    .dataframe thead th {\n",
       "        text-align: right;\n",
       "    }\n",
       "</style>\n",
       "<table border=\"1\" class=\"dataframe\">\n",
       "  <thead>\n",
       "    <tr style=\"text-align: right;\">\n",
       "      <th></th>\n",
       "      <th>koronawirus_in_text</th>\n",
       "    </tr>\n",
       "    <tr>\n",
       "      <th>publication_month</th>\n",
       "      <th></th>\n",
       "    </tr>\n",
       "  </thead>\n",
       "  <tbody>\n",
       "    <tr>\n",
       "      <td>2020-01</td>\n",
       "      <td>27.0</td>\n",
       "    </tr>\n",
       "    <tr>\n",
       "      <td>2020-02</td>\n",
       "      <td>92.0</td>\n",
       "    </tr>\n",
       "    <tr>\n",
       "      <td>2020-03</td>\n",
       "      <td>1711.0</td>\n",
       "    </tr>\n",
       "    <tr>\n",
       "      <td>2020-04</td>\n",
       "      <td>2030.0</td>\n",
       "    </tr>\n",
       "    <tr>\n",
       "      <td>2020-05</td>\n",
       "      <td>576.0</td>\n",
       "    </tr>\n",
       "    <tr>\n",
       "      <td>2020-06</td>\n",
       "      <td>349.0</td>\n",
       "    </tr>\n",
       "    <tr>\n",
       "      <td>2020-07</td>\n",
       "      <td>1102.0</td>\n",
       "    </tr>\n",
       "    <tr>\n",
       "      <td>2020-08</td>\n",
       "      <td>689.0</td>\n",
       "    </tr>\n",
       "  </tbody>\n",
       "</table>\n",
       "</div>"
      ],
      "text/plain": [
       "                   koronawirus_in_text\n",
       "publication_month                     \n",
       "2020-01                           27.0\n",
       "2020-02                           92.0\n",
       "2020-03                         1711.0\n",
       "2020-04                         2030.0\n",
       "2020-05                          576.0\n",
       "2020-06                          349.0\n",
       "2020-07                         1102.0\n",
       "2020-08                          689.0"
      ]
     },
     "execution_count": 140,
     "metadata": {},
     "output_type": "execute_result"
    }
   ],
   "source": [
    "df_with_koronawirus_in_text.groupby('publication_month').sum()"
   ]
  },
  {
   "cell_type": "markdown",
   "metadata": {},
   "source": [
    "### Total covid words each month without top 3"
   ]
  },
  {
   "cell_type": "code",
   "execution_count": 141,
   "metadata": {},
   "outputs": [],
   "source": [
    "df_with_koronawirus_in_text_without_top3 = df_with_koronawirus_in_text['koronawirus_in_text'] = df_with_koronawirus_in_text['koronawirus_in_text'].replace([df_with_koronawirus_in_text.nlargest(n=3, columns='koronawirus_in_text')],\n",
    "        df_with_koronawirus_in_text['koronawirus_in_text'].mean().astype(int).round())"
   ]
  },
  {
   "cell_type": "code",
   "execution_count": 142,
   "metadata": {},
   "outputs": [
    {
     "data": {
      "text/plain": [
       "0    13.0\n",
       "Name: koronawirus_in_text, dtype: float64"
      ]
     },
     "execution_count": 142,
     "metadata": {},
     "output_type": "execute_result"
    }
   ],
   "source": [
    "df_with_koronawirus_in_text_without_top3.head(1)"
   ]
  },
  {
   "cell_type": "code",
   "execution_count": 143,
   "metadata": {},
   "outputs": [
    {
     "data": {
      "text/plain": [
       "51.0"
      ]
     },
     "execution_count": 143,
     "metadata": {},
     "output_type": "execute_result"
    }
   ],
   "source": [
    "df_with_koronawirus_in_text_without_top3.max()"
   ]
  },
  {
   "cell_type": "code",
   "execution_count": 144,
   "metadata": {
    "scrolled": false
   },
   "outputs": [
    {
     "data": {
      "text/plain": [
       "<matplotlib.legend.Legend at 0x7f621e43ca90>"
      ]
     },
     "execution_count": 144,
     "metadata": {},
     "output_type": "execute_result"
    },
    {
     "data": {
      "image/png": "[encoded data removed]",
      "text/plain": [
       "<Figure size 432x288 with 1 Axes>"
      ]
     },
     "metadata": {
      "needs_background": "light"
     },
     "output_type": "display_data"
    }
   ],
   "source": [
    "plt.plot(\n",
    "    df_with_koronawirus_in_text.groupby('publication_month').sum(),\n",
    "    color=\"r\",\n",
    "    marker='o',\n",
    "    label='ilość słów z grupy covid'\n",
    ")\n",
    "plt.grid()\n",
    "plt.legend()"
   ]
  },
  {
   "cell_type": "markdown",
   "metadata": {},
   "source": [
    "### Covid article without top 3 count per 1000 articles"
   ]
  },
  {
   "cell_type": "code",
   "execution_count": 145,
   "metadata": {},
   "outputs": [],
   "source": [
    "df_with_koronawirus_in_text_sum = df_with_koronawirus_in_text.groupby('publication_month').sum()"
   ]
  },
  {
   "cell_type": "code",
   "execution_count": 146,
   "metadata": {},
   "outputs": [],
   "source": [
    "all_words_sum = df[['all_words', 'publication_month']].groupby('publication_month').sum()"
   ]
  },
  {
   "cell_type": "code",
   "execution_count": 147,
   "metadata": {},
   "outputs": [
    {
     "data": {
      "text/plain": [
       "publication_month\n",
       "2020-01     0.779468\n",
       "2020-02     4.196506\n",
       "2020-03    32.777567\n",
       "2020-04    19.378414\n",
       "2020-05    15.137181\n",
       "2020-06     5.637033\n",
       "2020-07     9.505408\n",
       "2020-08    17.041379\n",
       "dtype: float64"
      ]
     },
     "execution_count": 147,
     "metadata": {},
     "output_type": "execute_result"
    }
   ],
   "source": [
    "article_with_covid_count_1000_articles = df_with_koronawirus_in_text_sum[\"koronawirus_in_text\"] / all_words_sum[\"all_words\"] * 1000\n",
    "article_with_covid_count_1000_articles"
   ]
  },
  {
   "cell_type": "code",
   "execution_count": 148,
   "metadata": {
    "scrolled": true
   },
   "outputs": [
    {
     "data": {
      "text/plain": [
       "<matplotlib.legend.Legend at 0x7f621e504a90>"
      ]
     },
     "execution_count": 148,
     "metadata": {},
     "output_type": "execute_result"
    },
    {
     "data": {
      "image/png": "[encoded data removed]",
      "text/plain": [
       "<Figure size 432x288 with 1 Axes>"
      ]
     },
     "metadata": {
      "needs_background": "light"
     },
     "output_type": "display_data"
    }
   ],
   "source": [
    "plt.plot(article_with_covid_count_1000_articles,\n",
    "    color=\"r\",\n",
    "    marker='o',\n",
    "    label='ilość słów z grupy covid na 1000 słów'\n",
    ")\n",
    "plt.grid()\n",
    "plt.legend()"
   ]
  },
  {
   "cell_type": "code",
   "execution_count": null,
   "metadata": {},
   "outputs": [],
   "source": []
  },
  {
   "cell_type": "code",
   "execution_count": null,
   "metadata": {},
   "outputs": [],
   "source": []
  },
  {
   "cell_type": "markdown",
   "metadata": {},
   "source": [
    "### The author of the largest number of articles with the word from the covid group in the title"
   ]
  },
  {
   "cell_type": "code",
   "execution_count": 149,
   "metadata": {
    "scrolled": false
   },
   "outputs": [
    {
     "data": {
      "text/plain": [
       "marek targoński    213\n",
       "Name: author, dtype: int64"
      ]
     },
     "execution_count": 149,
     "metadata": {},
     "output_type": "execute_result"
    }
   ],
   "source": [
    "df_with_koronawirus_in_title = df.where(df[\"koronawirus_in_title\"] > 0).dropna()\n",
    "df_with_koronawirus_in_title['author'].value_counts()[:1]"
   ]
  },
  {
   "cell_type": "markdown",
   "metadata": {},
   "source": [
    "### The author of the largest number of articles with the word from the covid group in the text"
   ]
  },
  {
   "cell_type": "code",
   "execution_count": 172,
   "metadata": {},
   "outputs": [
    {
     "data": {
      "text/plain": [
       "marek targoński    279\n",
       "Name: author, dtype: int64"
      ]
     },
     "execution_count": 172,
     "metadata": {},
     "output_type": "execute_result"
    }
   ],
   "source": [
    "df_with_koronawirus_in_text = df.where(df[\"koronawirus_in_text\"] > 0).dropna()\n",
    "df_with_koronawirus_in_text['author'].value_counts()[:1]\n"
   ]
  },
  {
   "cell_type": "code",
   "execution_count": 173,
   "metadata": {
    "scrolled": true
   },
   "outputs": [
    {
     "data": {
      "text/html": [
       "<div>\n",
       "<style scoped>\n",
       "    .dataframe tbody tr th:only-of-type {\n",
       "        vertical-align: middle;\n",
       "    }\n",
       "\n",
       "    .dataframe tbody tr th {\n",
       "        vertical-align: top;\n",
       "    }\n",
       "\n",
       "    .dataframe thead th {\n",
       "        text-align: right;\n",
       "    }\n",
       "</style>\n",
       "<table border=\"1\" class=\"dataframe\">\n",
       "  <thead>\n",
       "    <tr style=\"text-align: right;\">\n",
       "      <th></th>\n",
       "      <th>koronawirus_in_text</th>\n",
       "      <th>koronawirus_in_title</th>\n",
       "      <th>question_mark</th>\n",
       "      <th>exclamation_mark</th>\n",
       "      <th>all_words</th>\n",
       "      <th>koronawirus_anywhere</th>\n",
       "      <th>koronawirus_anywhere_count</th>\n",
       "    </tr>\n",
       "    <tr>\n",
       "      <th>publication_month</th>\n",
       "      <th></th>\n",
       "      <th></th>\n",
       "      <th></th>\n",
       "      <th></th>\n",
       "      <th></th>\n",
       "      <th></th>\n",
       "      <th></th>\n",
       "    </tr>\n",
       "  </thead>\n",
       "  <tbody>\n",
       "    <tr>\n",
       "      <td>2020-01</td>\n",
       "      <td>7</td>\n",
       "      <td>1</td>\n",
       "      <td>92</td>\n",
       "      <td>104</td>\n",
       "      <td>12664</td>\n",
       "      <td>8</td>\n",
       "      <td>1</td>\n",
       "    </tr>\n",
       "    <tr>\n",
       "      <td>2020-02</td>\n",
       "      <td>87</td>\n",
       "      <td>6</td>\n",
       "      <td>86</td>\n",
       "      <td>140</td>\n",
       "      <td>16818</td>\n",
       "      <td>93</td>\n",
       "      <td>10</td>\n",
       "    </tr>\n",
       "    <tr>\n",
       "      <td>2020-03</td>\n",
       "      <td>1324</td>\n",
       "      <td>73</td>\n",
       "      <td>239</td>\n",
       "      <td>242</td>\n",
       "      <td>29810</td>\n",
       "      <td>1397</td>\n",
       "      <td>76</td>\n",
       "    </tr>\n",
       "    <tr>\n",
       "      <td>2020-04</td>\n",
       "      <td>824</td>\n",
       "      <td>47</td>\n",
       "      <td>94</td>\n",
       "      <td>132</td>\n",
       "      <td>16624</td>\n",
       "      <td>871</td>\n",
       "      <td>63</td>\n",
       "    </tr>\n",
       "    <tr>\n",
       "      <td>2020-05</td>\n",
       "      <td>447</td>\n",
       "      <td>19</td>\n",
       "      <td>140</td>\n",
       "      <td>178</td>\n",
       "      <td>20887</td>\n",
       "      <td>466</td>\n",
       "      <td>39</td>\n",
       "    </tr>\n",
       "    <tr>\n",
       "      <td>2020-06</td>\n",
       "      <td>219</td>\n",
       "      <td>12</td>\n",
       "      <td>172</td>\n",
       "      <td>286</td>\n",
       "      <td>30773</td>\n",
       "      <td>231</td>\n",
       "      <td>23</td>\n",
       "    </tr>\n",
       "    <tr>\n",
       "      <td>2020-07</td>\n",
       "      <td>628</td>\n",
       "      <td>28</td>\n",
       "      <td>138</td>\n",
       "      <td>105</td>\n",
       "      <td>23284</td>\n",
       "      <td>656</td>\n",
       "      <td>39</td>\n",
       "    </tr>\n",
       "    <tr>\n",
       "      <td>2020-08</td>\n",
       "      <td>523</td>\n",
       "      <td>27</td>\n",
       "      <td>111</td>\n",
       "      <td>68</td>\n",
       "      <td>16075</td>\n",
       "      <td>550</td>\n",
       "      <td>28</td>\n",
       "    </tr>\n",
       "  </tbody>\n",
       "</table>\n",
       "</div>"
      ],
      "text/plain": [
       "                   koronawirus_in_text  koronawirus_in_title  question_mark  \\\n",
       "publication_month                                                             \n",
       "2020-01                              7                     1             92   \n",
       "2020-02                             87                     6             86   \n",
       "2020-03                           1324                    73            239   \n",
       "2020-04                            824                    47             94   \n",
       "2020-05                            447                    19            140   \n",
       "2020-06                            219                    12            172   \n",
       "2020-07                            628                    28            138   \n",
       "2020-08                            523                    27            111   \n",
       "\n",
       "                   exclamation_mark  all_words  koronawirus_anywhere  \\\n",
       "publication_month                                                      \n",
       "2020-01                         104      12664                     8   \n",
       "2020-02                         140      16818                    93   \n",
       "2020-03                         242      29810                  1397   \n",
       "2020-04                         132      16624                   871   \n",
       "2020-05                         178      20887                   466   \n",
       "2020-06                         286      30773                   231   \n",
       "2020-07                         105      23284                   656   \n",
       "2020-08                          68      16075                   550   \n",
       "\n",
       "                   koronawirus_anywhere_count  \n",
       "publication_month                              \n",
       "2020-01                                     1  \n",
       "2020-02                                    10  \n",
       "2020-03                                    76  \n",
       "2020-04                                    63  \n",
       "2020-05                                    39  \n",
       "2020-06                                    23  \n",
       "2020-07                                    39  \n",
       "2020-08                                    28  "
      ]
     },
     "execution_count": 173,
     "metadata": {},
     "output_type": "execute_result"
    }
   ],
   "source": [
    "df.query('author == \"marek targoński\"').groupby('publication_month').sum()"
   ]
  },
  {
   "cell_type": "code",
   "execution_count": 174,
   "metadata": {},
   "outputs": [],
   "source": [
    "#plt.plot(df.query('author == \"marek targoński\"').groupby('publication_month').sum())"
   ]
  },
  {
   "cell_type": "markdown",
   "metadata": {},
   "source": [
    "### The author of the largest number of articles with the word from the covid group in the title"
   ]
  },
  {
   "cell_type": "code",
   "execution_count": 153,
   "metadata": {
    "scrolled": true
   },
   "outputs": [
    {
     "data": {
      "text/plain": [
       "4272"
      ]
     },
     "execution_count": 153,
     "metadata": {},
     "output_type": "execute_result"
    }
   ],
   "source": [
    "mt = df[['koronawirus_anywhere', 'publication_month']][df['author'].isin(['marek targoński'])]\n",
    "mt['koronawirus_anywhere'].sum()"
   ]
  },
  {
   "cell_type": "markdown",
   "metadata": {},
   "source": [
    "### The author of the largest number of articles with the word from the covid - total covid words each month"
   ]
  },
  {
   "cell_type": "code",
   "execution_count": 154,
   "metadata": {
    "scrolled": false
   },
   "outputs": [
    {
     "data": {
      "text/plain": [
       "<matplotlib.legend.Legend at 0x7f621e3aecc0>"
      ]
     },
     "execution_count": 154,
     "metadata": {},
     "output_type": "execute_result"
    },
    {
     "data": {
      "image/png": "[encoded data removed]",
      "text/plain": [
       "<Figure size 432x288 with 1 Axes>"
      ]
     },
     "metadata": {
      "needs_background": "light"
     },
     "output_type": "display_data"
    }
   ],
   "source": [
    "plt.plot(mt.groupby('publication_month').sum(),\n",
    "        color=\"g\")\n",
    "plt.grid()\n",
    "plt.legend([\"słowa z grupy covid\"])"
   ]
  },
  {
   "cell_type": "markdown",
   "metadata": {},
   "source": [
    "### The author of the largest number of articles with the word from the covid - total covid articles"
   ]
  },
  {
   "cell_type": "code",
   "execution_count": 158,
   "metadata": {
    "scrolled": false
   },
   "outputs": [
    {
     "data": {
      "text/plain": [
       "279"
      ]
     },
     "execution_count": 158,
     "metadata": {},
     "output_type": "execute_result"
    }
   ],
   "source": [
    "mt = df[['koronawirus_anywhere_count', 'publication_month']][df['author'].isin(['marek targoński'])]\n",
    "mt['koronawirus_anywhere_count'].sum()"
   ]
  },
  {
   "cell_type": "markdown",
   "metadata": {},
   "source": [
    "### The author of the largest number of articles with the word from the covid - total covid articles each month"
   ]
  },
  {
   "cell_type": "code",
   "execution_count": 175,
   "metadata": {},
   "outputs": [
    {
     "data": {
      "text/plain": [
       "<matplotlib.legend.Legend at 0x7f621e16db38>"
      ]
     },
     "execution_count": 175,
     "metadata": {},
     "output_type": "execute_result"
    },
    {
     "data": {
      "image/png": "[encoded data removed]",
      "text/plain": [
       "<Figure size 432x288 with 1 Axes>"
      ]
     },
     "metadata": {
      "needs_background": "light"
     },
     "output_type": "display_data"
    }
   ],
   "source": [
    "plt.plot(mt.groupby('publication_month').sum(),\n",
    "        color=\"c\")\n",
    "plt.grid()\n",
    "plt.legend([\"artykuły dotyczące koronawirusa\"])"
   ]
  },
  {
   "cell_type": "markdown",
   "metadata": {},
   "source": [
    "### The total number of words in all articles"
   ]
  },
  {
   "cell_type": "code",
   "execution_count": 160,
   "metadata": {
    "scrolled": false
   },
   "outputs": [
    {
     "data": {
      "text/plain": [
       "all_words    409299\n",
       "dtype: int64"
      ]
     },
     "execution_count": 160,
     "metadata": {},
     "output_type": "execute_result"
    }
   ],
   "source": [
    "df[['all_words']].sum()"
   ]
  },
  {
   "cell_type": "markdown",
   "metadata": {},
   "source": [
    "### The article with the most words"
   ]
  },
  {
   "cell_type": "code",
   "execution_count": 167,
   "metadata": {},
   "outputs": [
    {
     "data": {
      "text/html": [
       "<div>\n",
       "<style scoped>\n",
       "    .dataframe tbody tr th:only-of-type {\n",
       "        vertical-align: middle;\n",
       "    }\n",
       "\n",
       "    .dataframe tbody tr th {\n",
       "        vertical-align: top;\n",
       "    }\n",
       "\n",
       "    .dataframe thead th {\n",
       "        text-align: right;\n",
       "    }\n",
       "</style>\n",
       "<table border=\"1\" class=\"dataframe\">\n",
       "  <thead>\n",
       "    <tr style=\"text-align: right;\">\n",
       "      <th></th>\n",
       "      <th>publication_day</th>\n",
       "      <th>title</th>\n",
       "      <th>all_words</th>\n",
       "    </tr>\n",
       "  </thead>\n",
       "  <tbody>\n",
       "    <tr>\n",
       "      <td>651</td>\n",
       "      <td>2020-04-07</td>\n",
       "      <td>Szokujący bilans koronawirusa w Polsce. Ważne słowa prezydenta Dudy. Groza w UK [ZAPIS RELACJI NA ŻYWO]</td>\n",
       "      <td>11170</td>\n",
       "    </tr>\n",
       "    <tr>\n",
       "      <td>1328</td>\n",
       "      <td>2020-04-16</td>\n",
       "      <td>Przełom w walce z koronawirusem?! ARCYWAŻNE zmiany ogłoszone przez rząd. Koronawirus w Polsce [ZAPIS RELACJI NA ŻYWO]</td>\n",
       "      <td>11153</td>\n",
       "    </tr>\n",
       "    <tr>\n",
       "      <td>750</td>\n",
       "      <td>2020-03-04</td>\n",
       "      <td>Koronawirus w Polsce! Oto konsekwencje: wzrost cen i wysoki popyt [ZAPIS RELACJI NA ŻYWO]</td>\n",
       "      <td>7144</td>\n",
       "    </tr>\n",
       "    <tr>\n",
       "      <td>1168</td>\n",
       "      <td>2020-06-29</td>\n",
       "      <td>Lubelskie: Księża zmienią parafie! Decyzje personalne i nominacje w archidiecezji [LISTA]</td>\n",
       "      <td>2716</td>\n",
       "    </tr>\n",
       "    <tr>\n",
       "      <td>1193</td>\n",
       "      <td>2020-06-23</td>\n",
       "      <td>BURZE nad Polską. OGROMNE straty i zniszczenia. Gdzie jest burza? [RELACJA NA ŻYWO]</td>\n",
       "      <td>1829</td>\n",
       "    </tr>\n",
       "  </tbody>\n",
       "</table>\n",
       "</div>"
      ],
      "text/plain": [
       "     publication_day  \\\n",
       "651       2020-04-07   \n",
       "1328      2020-04-16   \n",
       "750       2020-03-04   \n",
       "1168      2020-06-29   \n",
       "1193      2020-06-23   \n",
       "\n",
       "                                                                                                                      title  \\\n",
       "651                 Szokujący bilans koronawirusa w Polsce. Ważne słowa prezydenta Dudy. Groza w UK [ZAPIS RELACJI NA ŻYWO]   \n",
       "1328  Przełom w walce z koronawirusem?! ARCYWAŻNE zmiany ogłoszone przez rząd. Koronawirus w Polsce [ZAPIS RELACJI NA ŻYWO]   \n",
       "750                               Koronawirus w Polsce! Oto konsekwencje: wzrost cen i wysoki popyt [ZAPIS RELACJI NA ŻYWO]   \n",
       "1168                              Lubelskie: Księża zmienią parafie! Decyzje personalne i nominacje w archidiecezji [LISTA]   \n",
       "1193                                    BURZE nad Polską. OGROMNE straty i zniszczenia. Gdzie jest burza? [RELACJA NA ŻYWO]   \n",
       "\n",
       "      all_words  \n",
       "651       11170  \n",
       "1328      11153  \n",
       "750        7144  \n",
       "1168       2716  \n",
       "1193       1829  "
      ]
     },
     "execution_count": 167,
     "metadata": {},
     "output_type": "execute_result"
    }
   ],
   "source": [
    "df[['publication_day', 'title', 'all_words']].nlargest(n=5, columns='all_words')"
   ]
  },
  {
   "cell_type": "code",
   "execution_count": 161,
   "metadata": {},
   "outputs": [
    {
     "data": {
      "text/plain": [
       "<matplotlib.legend.Legend at 0x7f621e208e10>"
      ]
     },
     "execution_count": 161,
     "metadata": {},
     "output_type": "execute_result"
    },
    {
     "data": {
      "image/png": "[encoded data removed]",
      "text/plain": [
       "<Figure size 432x288 with 1 Axes>"
      ]
     },
     "metadata": {
      "needs_background": "light"
     },
     "output_type": "display_data"
    }
   ],
   "source": [
    "plt.plot(df[['all_words', 'publication_month']].groupby('publication_month').sum(),\n",
    "        color=\"c\")\n",
    "plt.grid()\n",
    "plt.legend([\"artykuły dotyczące koronawirusa\"])"
   ]
  },
  {
   "cell_type": "markdown",
   "metadata": {},
   "source": [
    "### Question mark and exclamation mark"
   ]
  },
  {
   "cell_type": "code",
   "execution_count": 162,
   "metadata": {
    "scrolled": false
   },
   "outputs": [
    {
     "data": {
      "text/plain": [
       "question_mark    1939\n",
       "dtype: int64"
      ]
     },
     "execution_count": 162,
     "metadata": {},
     "output_type": "execute_result"
    }
   ],
   "source": [
    "df[['question_mark']].sum()"
   ]
  },
  {
   "cell_type": "code",
   "execution_count": 163,
   "metadata": {},
   "outputs": [
    {
     "data": {
      "text/html": [
       "<div>\n",
       "<style scoped>\n",
       "    .dataframe tbody tr th:only-of-type {\n",
       "        vertical-align: middle;\n",
       "    }\n",
       "\n",
       "    .dataframe tbody tr th {\n",
       "        vertical-align: top;\n",
       "    }\n",
       "\n",
       "    .dataframe thead th {\n",
       "        text-align: right;\n",
       "    }\n",
       "</style>\n",
       "<table border=\"1\" class=\"dataframe\">\n",
       "  <thead>\n",
       "    <tr style=\"text-align: right;\">\n",
       "      <th></th>\n",
       "      <th>question_mark</th>\n",
       "    </tr>\n",
       "    <tr>\n",
       "      <th>publication_month</th>\n",
       "      <th></th>\n",
       "    </tr>\n",
       "  </thead>\n",
       "  <tbody>\n",
       "    <tr>\n",
       "      <td>2020-01</td>\n",
       "      <td>10</td>\n",
       "    </tr>\n",
       "    <tr>\n",
       "      <td>2020-02</td>\n",
       "      <td>6</td>\n",
       "    </tr>\n",
       "    <tr>\n",
       "      <td>2020-03</td>\n",
       "      <td>75</td>\n",
       "    </tr>\n",
       "    <tr>\n",
       "      <td>2020-04</td>\n",
       "      <td>99</td>\n",
       "    </tr>\n",
       "    <tr>\n",
       "      <td>2020-05</td>\n",
       "      <td>7</td>\n",
       "    </tr>\n",
       "    <tr>\n",
       "      <td>2020-06</td>\n",
       "      <td>14</td>\n",
       "    </tr>\n",
       "    <tr>\n",
       "      <td>2020-07</td>\n",
       "      <td>12</td>\n",
       "    </tr>\n",
       "    <tr>\n",
       "      <td>2020-08</td>\n",
       "      <td>11</td>\n",
       "    </tr>\n",
       "  </tbody>\n",
       "</table>\n",
       "</div>"
      ],
      "text/plain": [
       "                   question_mark\n",
       "publication_month               \n",
       "2020-01                       10\n",
       "2020-02                        6\n",
       "2020-03                       75\n",
       "2020-04                       99\n",
       "2020-05                        7\n",
       "2020-06                       14\n",
       "2020-07                       12\n",
       "2020-08                       11"
      ]
     },
     "execution_count": 163,
     "metadata": {},
     "output_type": "execute_result"
    }
   ],
   "source": [
    "df[['question_mark', 'publication_month']].groupby('publication_month').max()"
   ]
  },
  {
   "cell_type": "code",
   "execution_count": 164,
   "metadata": {
    "scrolled": true
   },
   "outputs": [
    {
     "data": {
      "text/plain": [
       "exclamation_mark    2193\n",
       "dtype: int64"
      ]
     },
     "execution_count": 164,
     "metadata": {},
     "output_type": "execute_result"
    }
   ],
   "source": [
    "df[['exclamation_mark']].sum()"
   ]
  },
  {
   "cell_type": "code",
   "execution_count": 165,
   "metadata": {},
   "outputs": [
    {
     "data": {
      "text/html": [
       "<div>\n",
       "<style scoped>\n",
       "    .dataframe tbody tr th:only-of-type {\n",
       "        vertical-align: middle;\n",
       "    }\n",
       "\n",
       "    .dataframe tbody tr th {\n",
       "        vertical-align: top;\n",
       "    }\n",
       "\n",
       "    .dataframe thead th {\n",
       "        text-align: right;\n",
       "    }\n",
       "</style>\n",
       "<table border=\"1\" class=\"dataframe\">\n",
       "  <thead>\n",
       "    <tr style=\"text-align: right;\">\n",
       "      <th></th>\n",
       "      <th>exclamation_mark</th>\n",
       "    </tr>\n",
       "    <tr>\n",
       "      <th>publication_month</th>\n",
       "      <th></th>\n",
       "    </tr>\n",
       "  </thead>\n",
       "  <tbody>\n",
       "    <tr>\n",
       "      <td>2020-01</td>\n",
       "      <td>164</td>\n",
       "    </tr>\n",
       "    <tr>\n",
       "      <td>2020-02</td>\n",
       "      <td>169</td>\n",
       "    </tr>\n",
       "    <tr>\n",
       "      <td>2020-03</td>\n",
       "      <td>282</td>\n",
       "    </tr>\n",
       "    <tr>\n",
       "      <td>2020-04</td>\n",
       "      <td>399</td>\n",
       "    </tr>\n",
       "    <tr>\n",
       "      <td>2020-05</td>\n",
       "      <td>258</td>\n",
       "    </tr>\n",
       "    <tr>\n",
       "      <td>2020-06</td>\n",
       "      <td>394</td>\n",
       "    </tr>\n",
       "    <tr>\n",
       "      <td>2020-07</td>\n",
       "      <td>380</td>\n",
       "    </tr>\n",
       "    <tr>\n",
       "      <td>2020-08</td>\n",
       "      <td>147</td>\n",
       "    </tr>\n",
       "  </tbody>\n",
       "</table>\n",
       "</div>"
      ],
      "text/plain": [
       "                   exclamation_mark\n",
       "publication_month                  \n",
       "2020-01                         164\n",
       "2020-02                         169\n",
       "2020-03                         282\n",
       "2020-04                         399\n",
       "2020-05                         258\n",
       "2020-06                         394\n",
       "2020-07                         380\n",
       "2020-08                         147"
      ]
     },
     "execution_count": 165,
     "metadata": {},
     "output_type": "execute_result"
    }
   ],
   "source": [
    "df[['exclamation_mark', 'publication_month']].groupby('publication_month').sum()"
   ]
  },
  {
   "cell_type": "code",
   "execution_count": 166,
   "metadata": {
    "scrolled": false
   },
   "outputs": [
    {
     "data": {
      "text/plain": [
       "<matplotlib.legend.Legend at 0x7f621e1398d0>"
      ]
     },
     "execution_count": 166,
     "metadata": {},
     "output_type": "execute_result"
    },
    {
     "data": {
      "image/png": "[encoded data removed]",
      "text/plain": [
       "<Figure size 432x288 with 1 Axes>"
      ]
     },
     "metadata": {
      "needs_background": "light"
     },
     "output_type": "display_data"
    }
   ],
   "source": [
    "plt.plot(df[['question_mark', 'publication_month']].groupby('publication_month').sum())\n",
    "\n",
    "plt.plot(df[['exclamation_mark', 'publication_month']].groupby('publication_month').sum())\n",
    "plt.grid()\n",
    "plt.legend([\"znaki zapytania\", \"wykrzykniki\"])"
   ]
  },
  {
   "cell_type": "code",
   "execution_count": 168,
   "metadata": {},
   "outputs": [
    {
     "data": {
      "text/html": [
       "<div>\n",
       "<style scoped>\n",
       "    .dataframe tbody tr th:only-of-type {\n",
       "        vertical-align: middle;\n",
       "    }\n",
       "\n",
       "    .dataframe tbody tr th {\n",
       "        vertical-align: top;\n",
       "    }\n",
       "\n",
       "    .dataframe thead th {\n",
       "        text-align: right;\n",
       "    }\n",
       "</style>\n",
       "<table border=\"1\" class=\"dataframe\">\n",
       "  <thead>\n",
       "    <tr style=\"text-align: right;\">\n",
       "      <th></th>\n",
       "      <th>publication_day</th>\n",
       "      <th>title</th>\n",
       "      <th>question_mark</th>\n",
       "    </tr>\n",
       "  </thead>\n",
       "  <tbody>\n",
       "    <tr>\n",
       "      <td>1328</td>\n",
       "      <td>2020-04-16</td>\n",
       "      <td>Przełom w walce z koronawirusem?! ARCYWAŻNE zmiany ogłoszone przez rząd. Koronawirus w Polsce [ZAPIS RELACJI NA ŻYWO]</td>\n",
       "      <td>99</td>\n",
       "    </tr>\n",
       "    <tr>\n",
       "      <td>750</td>\n",
       "      <td>2020-03-04</td>\n",
       "      <td>Koronawirus w Polsce! Oto konsekwencje: wzrost cen i wysoki popyt [ZAPIS RELACJI NA ŻYWO]</td>\n",
       "      <td>75</td>\n",
       "    </tr>\n",
       "    <tr>\n",
       "      <td>651</td>\n",
       "      <td>2020-04-07</td>\n",
       "      <td>Szokujący bilans koronawirusa w Polsce. Ważne słowa prezydenta Dudy. Groza w UK [ZAPIS RELACJI NA ŻYWO]</td>\n",
       "      <td>47</td>\n",
       "    </tr>\n",
       "    <tr>\n",
       "      <td>411</td>\n",
       "      <td>2020-06-24</td>\n",
       "      <td>Co robić z dzieckiem na wakacjach, kiedy pada? [POMYSŁY, WAKACJE 2020]</td>\n",
       "      <td>14</td>\n",
       "    </tr>\n",
       "    <tr>\n",
       "      <td>683</td>\n",
       "      <td>2020-03-27</td>\n",
       "      <td>Gdzie jest koronawisus w Polsce i Europie? Mapa zasięgu epidemii [MAPA KORONAWIRUSA]</td>\n",
       "      <td>13</td>\n",
       "    </tr>\n",
       "  </tbody>\n",
       "</table>\n",
       "</div>"
      ],
      "text/plain": [
       "     publication_day  \\\n",
       "1328      2020-04-16   \n",
       "750       2020-03-04   \n",
       "651       2020-04-07   \n",
       "411       2020-06-24   \n",
       "683       2020-03-27   \n",
       "\n",
       "                                                                                                                      title  \\\n",
       "1328  Przełom w walce z koronawirusem?! ARCYWAŻNE zmiany ogłoszone przez rząd. Koronawirus w Polsce [ZAPIS RELACJI NA ŻYWO]   \n",
       "750                               Koronawirus w Polsce! Oto konsekwencje: wzrost cen i wysoki popyt [ZAPIS RELACJI NA ŻYWO]   \n",
       "651                 Szokujący bilans koronawirusa w Polsce. Ważne słowa prezydenta Dudy. Groza w UK [ZAPIS RELACJI NA ŻYWO]   \n",
       "411                                                  Co robić z dzieckiem na wakacjach, kiedy pada? [POMYSŁY, WAKACJE 2020]   \n",
       "683                                    Gdzie jest koronawisus w Polsce i Europie? Mapa zasięgu epidemii [MAPA KORONAWIRUSA]   \n",
       "\n",
       "      question_mark  \n",
       "1328             99  \n",
       "750              75  \n",
       "651              47  \n",
       "411              14  \n",
       "683              13  "
      ]
     },
     "execution_count": 168,
     "metadata": {},
     "output_type": "execute_result"
    }
   ],
   "source": [
    "df[['publication_day', 'title', 'question_mark']].nlargest(n=5, columns='question_mark')"
   ]
  },
  {
   "cell_type": "code",
   "execution_count": 169,
   "metadata": {
    "scrolled": true
   },
   "outputs": [
    {
     "data": {
      "text/html": [
       "<div>\n",
       "<style scoped>\n",
       "    .dataframe tbody tr th:only-of-type {\n",
       "        vertical-align: middle;\n",
       "    }\n",
       "\n",
       "    .dataframe tbody tr th {\n",
       "        vertical-align: top;\n",
       "    }\n",
       "\n",
       "    .dataframe thead th {\n",
       "        text-align: right;\n",
       "    }\n",
       "</style>\n",
       "<table border=\"1\" class=\"dataframe\">\n",
       "  <thead>\n",
       "    <tr style=\"text-align: right;\">\n",
       "      <th></th>\n",
       "      <th>publication_day</th>\n",
       "      <th>title</th>\n",
       "      <th>exclamation_mark</th>\n",
       "    </tr>\n",
       "  </thead>\n",
       "  <tbody>\n",
       "    <tr>\n",
       "      <td>1328</td>\n",
       "      <td>2020-04-16</td>\n",
       "      <td>Przełom w walce z koronawirusem?! ARCYWAŻNE zmiany ogłoszone przez rząd. Koronawirus w Polsce [ZAPIS RELACJI NA ŻYWO]</td>\n",
       "      <td>123</td>\n",
       "    </tr>\n",
       "    <tr>\n",
       "      <td>750</td>\n",
       "      <td>2020-03-04</td>\n",
       "      <td>Koronawirus w Polsce! Oto konsekwencje: wzrost cen i wysoki popyt [ZAPIS RELACJI NA ŻYWO]</td>\n",
       "      <td>74</td>\n",
       "    </tr>\n",
       "    <tr>\n",
       "      <td>651</td>\n",
       "      <td>2020-04-07</td>\n",
       "      <td>Szokujący bilans koronawirusa w Polsce. Ważne słowa prezydenta Dudy. Groza w UK [ZAPIS RELACJI NA ŻYWO]</td>\n",
       "      <td>66</td>\n",
       "    </tr>\n",
       "    <tr>\n",
       "      <td>411</td>\n",
       "      <td>2020-06-24</td>\n",
       "      <td>Co robić z dzieckiem na wakacjach, kiedy pada? [POMYSŁY, WAKACJE 2020]</td>\n",
       "      <td>14</td>\n",
       "    </tr>\n",
       "    <tr>\n",
       "      <td>87</td>\n",
       "      <td>2020-08-02</td>\n",
       "      <td>Weekend na Lubelszczyźnie. Sprawdźcie TOP 10 miejsc, które musicie odwiedzić! [ZESTAWIENIE]</td>\n",
       "      <td>10</td>\n",
       "    </tr>\n",
       "  </tbody>\n",
       "</table>\n",
       "</div>"
      ],
      "text/plain": [
       "     publication_day  \\\n",
       "1328      2020-04-16   \n",
       "750       2020-03-04   \n",
       "651       2020-04-07   \n",
       "411       2020-06-24   \n",
       "87        2020-08-02   \n",
       "\n",
       "                                                                                                                      title  \\\n",
       "1328  Przełom w walce z koronawirusem?! ARCYWAŻNE zmiany ogłoszone przez rząd. Koronawirus w Polsce [ZAPIS RELACJI NA ŻYWO]   \n",
       "750                               Koronawirus w Polsce! Oto konsekwencje: wzrost cen i wysoki popyt [ZAPIS RELACJI NA ŻYWO]   \n",
       "651                 Szokujący bilans koronawirusa w Polsce. Ważne słowa prezydenta Dudy. Groza w UK [ZAPIS RELACJI NA ŻYWO]   \n",
       "411                                                  Co robić z dzieckiem na wakacjach, kiedy pada? [POMYSŁY, WAKACJE 2020]   \n",
       "87                              Weekend na Lubelszczyźnie. Sprawdźcie TOP 10 miejsc, które musicie odwiedzić! [ZESTAWIENIE]   \n",
       "\n",
       "      exclamation_mark  \n",
       "1328               123  \n",
       "750                 74  \n",
       "651                 66  \n",
       "411                 14  \n",
       "87                  10  "
      ]
     },
     "execution_count": 169,
     "metadata": {},
     "output_type": "execute_result"
    }
   ],
   "source": [
    "df[['publication_day', 'title', 'exclamation_mark']].nlargest(n=5, columns='exclamation_mark')"
   ]
  },
  {
   "cell_type": "code",
   "execution_count": null,
   "metadata": {},
   "outputs": [],
   "source": []
  },
  {
   "cell_type": "code",
   "execution_count": 170,
   "metadata": {
    "scrolled": false
   },
   "outputs": [
    {
     "data": {
      "text/plain": [
       "publication_date                                                                         2020-08-19 16:20:00\n",
       "publication_month                                                                                    2020-08\n",
       "publication_day                                                                                   2020-08-19\n",
       "title                            „Pol’and’Rock” Music w drogeriach Sephora! WOŚP wypuściło wyjątkowe perfumy\n",
       "url                           https://www.se.pl/lublin/zwierzeta-z-zoo-prosza-o-pomoc-aa-tECy-38rb-PCaM.html\n",
       "koronawirus_in_text                                                                                      525\n",
       "koronawirus_in_title                                                                                       1\n",
       "question_mark                                                                                             99\n",
       "exclamation_mark                                                                                         123\n",
       "all_words                                                                                              11170\n",
       "koronawirus_anywhere                                                                                     526\n",
       "koronawirus_anywhere_count                                                                                 1\n",
       "dtype: object"
      ]
     },
     "execution_count": 170,
     "metadata": {},
     "output_type": "execute_result"
    }
   ],
   "source": [
    "df[koronawirus_in_text_true].max()"
   ]
  },
  {
   "cell_type": "code",
   "execution_count": 171,
   "metadata": {},
   "outputs": [
    {
     "data": {
      "text/html": [
       "<div>\n",
       "<style scoped>\n",
       "    .dataframe tbody tr th:only-of-type {\n",
       "        vertical-align: middle;\n",
       "    }\n",
       "\n",
       "    .dataframe tbody tr th {\n",
       "        vertical-align: top;\n",
       "    }\n",
       "\n",
       "    .dataframe thead th {\n",
       "        text-align: right;\n",
       "    }\n",
       "</style>\n",
       "<table border=\"1\" class=\"dataframe\">\n",
       "  <thead>\n",
       "    <tr style=\"text-align: right;\">\n",
       "      <th></th>\n",
       "      <th>publication_date</th>\n",
       "      <th>publication_month</th>\n",
       "      <th>publication_day</th>\n",
       "      <th>author</th>\n",
       "      <th>title</th>\n",
       "      <th>url</th>\n",
       "      <th>koronawirus_in_text</th>\n",
       "      <th>koronawirus_in_title</th>\n",
       "      <th>question_mark</th>\n",
       "      <th>exclamation_mark</th>\n",
       "      <th>all_words</th>\n",
       "      <th>koronawirus_anywhere</th>\n",
       "      <th>koronawirus_anywhere_count</th>\n",
       "    </tr>\n",
       "  </thead>\n",
       "  <tbody>\n",
       "    <tr>\n",
       "      <td>0</td>\n",
       "      <td>2020-04-15 10:42:00</td>\n",
       "      <td>2020-04</td>\n",
       "      <td>2020-04-15</td>\n",
       "      <td>marek targoński</td>\n",
       "      <td>Lubelskie: AŻ 25 NOWYCH ZAKAŻEŃ. Koronawirus atakuje z ogromną siłą! [NOWE DANE]</td>\n",
       "      <td>https://www.se.pl/lublin/lubelskie-az-25-nowych-zakazen-koronawirus-atakuje-z-ogromna-sila-nowe-dane-aa-xMvU-hSfD-xgA8.html</td>\n",
       "      <td>13</td>\n",
       "      <td>1</td>\n",
       "      <td>0</td>\n",
       "      <td>2</td>\n",
       "      <td>160</td>\n",
       "      <td>14</td>\n",
       "      <td>1</td>\n",
       "    </tr>\n",
       "    <tr>\n",
       "      <td>1</td>\n",
       "      <td>2020-08-19 21:41:00</td>\n",
       "      <td>2020-08</td>\n",
       "      <td>2020-08-19</td>\n",
       "      <td>mariusz mucha</td>\n",
       "      <td>Tragedia pod Parczewem. Piotrek w SZALE zatłukł cegłą nie tego brata</td>\n",
       "      <td>https://lublin.se.pl/tragedia-pod-parczewem-zatlukl-cegla-nie-tego-brata-aa-pG2R-Mdb2-2su2.html</td>\n",
       "      <td>0</td>\n",
       "      <td>0</td>\n",
       "      <td>1</td>\n",
       "      <td>0</td>\n",
       "      <td>340</td>\n",
       "      <td>0</td>\n",
       "      <td>0</td>\n",
       "    </tr>\n",
       "    <tr>\n",
       "      <td>2</td>\n",
       "      <td>2020-08-19 19:31:00</td>\n",
       "      <td>2020-08</td>\n",
       "      <td>2020-08-19</td>\n",
       "      <td>karolina januszek</td>\n",
       "      <td>Wygraj 200 złotych od Biedronki. Zobacz, jak to zrobić</td>\n",
       "      <td>https://lublin.se.pl/wygraj-200-zlotych-od-biedronki-zobacz-jak-to-zrobic-ak-XEXJ-32sC-qWAi.html</td>\n",
       "      <td>0</td>\n",
       "      <td>0</td>\n",
       "      <td>0</td>\n",
       "      <td>1</td>\n",
       "      <td>349</td>\n",
       "      <td>0</td>\n",
       "      <td>0</td>\n",
       "    </tr>\n",
       "    <tr>\n",
       "      <td>3</td>\n",
       "      <td>2020-08-19 16:31:00</td>\n",
       "      <td>2020-08</td>\n",
       "      <td>2020-08-19</td>\n",
       "      <td>marek targoński</td>\n",
       "      <td>Lubelskie: Gdzie jest burza w Lublinie lub okolicy? Burze Lublin: ostrzeżenia, mapy [RADAR BURZ]</td>\n",
       "      <td>https://lublin.se.pl/gdzie-jest-burza-w-lublinie-lub-okolicy-sprawdz-ostrzezenia-o-burzach-aa-kPJu-EuXq-voUh.html</td>\n",
       "      <td>0</td>\n",
       "      <td>0</td>\n",
       "      <td>4</td>\n",
       "      <td>4</td>\n",
       "      <td>293</td>\n",
       "      <td>0</td>\n",
       "      <td>0</td>\n",
       "    </tr>\n",
       "    <tr>\n",
       "      <td>4</td>\n",
       "      <td>2020-08-19 16:06:00</td>\n",
       "      <td>2020-08</td>\n",
       "      <td>2020-08-19</td>\n",
       "      <td>karolina januszek</td>\n",
       "      <td>Koniec zakazu handlu? Większość Polaków chce zmian</td>\n",
       "      <td>https://lublin.se.pl/koniec-zakazu-handlu-stanowcza-deklaracja-polakow-ak-JMnw-vRFC-xaa6.html</td>\n",
       "      <td>10</td>\n",
       "      <td>0</td>\n",
       "      <td>0</td>\n",
       "      <td>1</td>\n",
       "      <td>334</td>\n",
       "      <td>10</td>\n",
       "      <td>1</td>\n",
       "    </tr>\n",
       "  </tbody>\n",
       "</table>\n",
       "</div>"
      ],
      "text/plain": [
       "      publication_date publication_month publication_day             author  \\\n",
       "0  2020-04-15 10:42:00           2020-04      2020-04-15    marek targoński   \n",
       "1  2020-08-19 21:41:00           2020-08      2020-08-19      mariusz mucha   \n",
       "2  2020-08-19 19:31:00           2020-08      2020-08-19  karolina januszek   \n",
       "3  2020-08-19 16:31:00           2020-08      2020-08-19    marek targoński   \n",
       "4  2020-08-19 16:06:00           2020-08      2020-08-19  karolina januszek   \n",
       "\n",
       "                                                                                              title  \\\n",
       "0                  Lubelskie: AŻ 25 NOWYCH ZAKAŻEŃ. Koronawirus atakuje z ogromną siłą! [NOWE DANE]   \n",
       "1                              Tragedia pod Parczewem. Piotrek w SZALE zatłukł cegłą nie tego brata   \n",
       "2                                            Wygraj 200 złotych od Biedronki. Zobacz, jak to zrobić   \n",
       "3  Lubelskie: Gdzie jest burza w Lublinie lub okolicy? Burze Lublin: ostrzeżenia, mapy [RADAR BURZ]   \n",
       "4                                                Koniec zakazu handlu? Większość Polaków chce zmian   \n",
       "\n",
       "                                                                                                                           url  \\\n",
       "0  https://www.se.pl/lublin/lubelskie-az-25-nowych-zakazen-koronawirus-atakuje-z-ogromna-sila-nowe-dane-aa-xMvU-hSfD-xgA8.html   \n",
       "1                              https://lublin.se.pl/tragedia-pod-parczewem-zatlukl-cegla-nie-tego-brata-aa-pG2R-Mdb2-2su2.html   \n",
       "2                             https://lublin.se.pl/wygraj-200-zlotych-od-biedronki-zobacz-jak-to-zrobic-ak-XEXJ-32sC-qWAi.html   \n",
       "3            https://lublin.se.pl/gdzie-jest-burza-w-lublinie-lub-okolicy-sprawdz-ostrzezenia-o-burzach-aa-kPJu-EuXq-voUh.html   \n",
       "4                                https://lublin.se.pl/koniec-zakazu-handlu-stanowcza-deklaracja-polakow-ak-JMnw-vRFC-xaa6.html   \n",
       "\n",
       "   koronawirus_in_text  koronawirus_in_title  question_mark  exclamation_mark  \\\n",
       "0                   13                     1              0                 2   \n",
       "1                    0                     0              1                 0   \n",
       "2                    0                     0              0                 1   \n",
       "3                    0                     0              4                 4   \n",
       "4                   10                     0              0                 1   \n",
       "\n",
       "   all_words  koronawirus_anywhere  koronawirus_anywhere_count  \n",
       "0        160                    14                           1  \n",
       "1        340                     0                           0  \n",
       "2        349                     0                           0  \n",
       "3        293                     0                           0  \n",
       "4        334                    10                           1  "
      ]
     },
     "execution_count": 171,
     "metadata": {},
     "output_type": "execute_result"
    }
   ],
   "source": [
    "df.head()"
   ]
  }
 ],
 "metadata": {
  "kernelspec": {
   "display_name": "Python 3",
   "language": "python",
   "name": "python3"
  },
  "language_info": {
   "codemirror_mode": {
    "name": "ipython",
    "version": 3
   },
   "file_extension": ".py",
   "mimetype": "text/x-python",
   "name": "python",
   "nbconvert_exporter": "python",
   "pygments_lexer": "ipython3",
   "version": "3.6.9"
  }
 },
 "nbformat": 4,
 "nbformat_minor": 2
}
