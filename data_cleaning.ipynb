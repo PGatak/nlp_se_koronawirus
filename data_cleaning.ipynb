{
 "cells": [
  {
   "cell_type": "code",
   "execution_count": 2,
   "metadata": {},
   "outputs": [],
   "source": [
    "from bs4 import BeautifulSoup\n",
    "import matplotlib.pyplot as plt\n",
    "import os\n",
    "import pandas as pd\n",
    "import pickle\n",
    "import re\n",
    "import requests\n",
    "import seaborn as sns\n",
    "\n",
    "from db import create_connection\n",
    "from db import (\n",
    "    articles,\n",
    "    services,\n",
    "    urls\n",
    ")"
   ]
  },
  {
   "cell_type": "code",
   "execution_count": 57,
   "metadata": {},
   "outputs": [],
   "source": [
    "import os\n",
    "current_path = os.path.abspath(os.getcwd())\n",
    "datasets_directory = os.path.join(current_path, 'datasets')\n",
    "\n",
    "if not os.path.exists(datasets_directory):\n",
    "    os.makedirs(datasets_directory)"
   ]
  },
  {
   "cell_type": "code",
   "execution_count": 27,
   "metadata": {},
   "outputs": [],
   "source": [
    "connection = create_connection()"
   ]
  },
  {
   "cell_type": "markdown",
   "metadata": {},
   "source": [
    "# Get data"
   ]
  },
  {
   "cell_type": "code",
   "execution_count": 28,
   "metadata": {},
   "outputs": [],
   "source": [
    "data = articles.get_articles(connection)"
   ]
  },
  {
   "cell_type": "code",
   "execution_count": 29,
   "metadata": {},
   "outputs": [],
   "source": [
    "pd.set_option('max_colwidth', 100)\n",
    "df = pd.DataFrame(data, columns = ['publication_date',\n",
    "                                   'author',\n",
    "                                   'title',\n",
    "                                   'url',\n",
    "                                   'koronawirus_in_text',\n",
    "                                   'koronawirus_in_title',\n",
    "                                   'question_mark',\n",
    "                                   'exclamation_mark',\n",
    "                                   'all_words'])"
   ]
  },
  {
   "cell_type": "code",
   "execution_count": 31,
   "metadata": {
    "scrolled": false
   },
   "outputs": [
    {
     "data": {
      "text/html": [
       "<div>\n",
       "<style scoped>\n",
       "    .dataframe tbody tr th:only-of-type {\n",
       "        vertical-align: middle;\n",
       "    }\n",
       "\n",
       "    .dataframe tbody tr th {\n",
       "        vertical-align: top;\n",
       "    }\n",
       "\n",
       "    .dataframe thead th {\n",
       "        text-align: right;\n",
       "    }\n",
       "</style>\n",
       "<table border=\"1\" class=\"dataframe\">\n",
       "  <thead>\n",
       "    <tr style=\"text-align: right;\">\n",
       "      <th></th>\n",
       "      <th>publication_date</th>\n",
       "      <th>author</th>\n",
       "      <th>title</th>\n",
       "      <th>url</th>\n",
       "      <th>koronawirus_in_text</th>\n",
       "      <th>koronawirus_in_title</th>\n",
       "      <th>question_mark</th>\n",
       "      <th>exclamation_mark</th>\n",
       "      <th>all_words</th>\n",
       "    </tr>\n",
       "  </thead>\n",
       "  <tbody>\n",
       "    <tr>\n",
       "      <td>8104</td>\n",
       "      <td>2020-07-13 13:38:00</td>\n",
       "      <td>Mariusz Mucha</td>\n",
       "      <td>Wąwolnica: Oglądali dom na sprzedaż, gdy stało się TO. Coś strasznego!</td>\n",
       "      <td>https://lublin.se.pl/wawolnica-ogladali-dom-na-sprzedaz-kiedy-stalo-sie-to-aa-gQP4-yZJi-axp9.html</td>\n",
       "      <td>0.0</td>\n",
       "      <td>0.0</td>\n",
       "      <td>0.0</td>\n",
       "      <td>1.0</td>\n",
       "      <td>222.0</td>\n",
       "    </tr>\n",
       "    <tr>\n",
       "      <td>1732</td>\n",
       "      <td>NaT</td>\n",
       "      <td>None</td>\n",
       "      <td>None</td>\n",
       "      <td>https://www.se.pl/lublin/ulicami-lublina-przejdzie-ii-marsz-rownosci-bedzie-powtorka-z-bialegost...</td>\n",
       "      <td>NaN</td>\n",
       "      <td>NaN</td>\n",
       "      <td>NaN</td>\n",
       "      <td>NaN</td>\n",
       "      <td>NaN</td>\n",
       "    </tr>\n",
       "    <tr>\n",
       "      <td>4918</td>\n",
       "      <td>NaT</td>\n",
       "      <td>None</td>\n",
       "      <td>None</td>\n",
       "      <td>https://www.se.pl/lublin/wsadzili-suczke-do-torby-i-wyrzucili-przy-drodze-ruszyla-zbiorka-na-lec...</td>\n",
       "      <td>NaN</td>\n",
       "      <td>NaN</td>\n",
       "      <td>NaN</td>\n",
       "      <td>NaN</td>\n",
       "      <td>NaN</td>\n",
       "    </tr>\n",
       "    <tr>\n",
       "      <td>7888</td>\n",
       "      <td>2020-08-30 17:32:00</td>\n",
       "      <td>Karolina Januszek</td>\n",
       "      <td>Gang Fajniaków w Biedronce. Jak odebrać naklejki w kasie samoobsługowej?</td>\n",
       "      <td>https://lublin.se.pl/gang-fajniakow-w-biedronce-jak-odebrac-naklejki-w-kasie-samoobslugowej-ak-Z...</td>\n",
       "      <td>0.0</td>\n",
       "      <td>0.0</td>\n",
       "      <td>2.0</td>\n",
       "      <td>0.0</td>\n",
       "      <td>350.0</td>\n",
       "    </tr>\n",
       "    <tr>\n",
       "      <td>4513</td>\n",
       "      <td>NaT</td>\n",
       "      <td>None</td>\n",
       "      <td>None</td>\n",
       "      <td>https://www.se.pl/lublin/napad-na-bank-w-lublinie-policja-szuka-sprawcy-aa-7JuX-AKXg-4RHS.html</td>\n",
       "      <td>NaN</td>\n",
       "      <td>NaN</td>\n",
       "      <td>NaN</td>\n",
       "      <td>NaN</td>\n",
       "      <td>NaN</td>\n",
       "    </tr>\n",
       "    <tr>\n",
       "      <td>2383</td>\n",
       "      <td>NaT</td>\n",
       "      <td>None</td>\n",
       "      <td>None</td>\n",
       "      <td>https://www.se.pl/lublin/takie-zachowanie-dziecka-powinno-niepokoic-czym-jest-autyzm-audio-aa-ii...</td>\n",
       "      <td>NaN</td>\n",
       "      <td>NaN</td>\n",
       "      <td>NaN</td>\n",
       "      <td>NaN</td>\n",
       "      <td>NaN</td>\n",
       "    </tr>\n",
       "    <tr>\n",
       "      <td>8001</td>\n",
       "      <td>2020-08-04 08:18:00</td>\n",
       "      <td>Marek Targoński</td>\n",
       "      <td>Koronawirus: Ponad 1000 przypadków w Lubelskiem. 11 aktywnych ognisk COVID-19 [MAPA]</td>\n",
       "      <td>https://lublin.se.pl/koronawirus-ponad-1000-przypadkow-w-lubelskiem-11-aktywnych-ognisk-covid-19...</td>\n",
       "      <td>18.0</td>\n",
       "      <td>1.0</td>\n",
       "      <td>2.0</td>\n",
       "      <td>1.0</td>\n",
       "      <td>166.0</td>\n",
       "    </tr>\n",
       "    <tr>\n",
       "      <td>8324</td>\n",
       "      <td>2020-05-06 10:44:00</td>\n",
       "      <td>mt</td>\n",
       "      <td>Koronawirus na Lubelszczyźnie. Są kolejne przypadki zakażeń. Dramatyczne dane z Polski</td>\n",
       "      <td>https://www.se.pl/lublin/koronawirus-na-lubelszczyznie-sa-kolejne-przypadki-zakazen-dramatyczne-...</td>\n",
       "      <td>24.0</td>\n",
       "      <td>1.0</td>\n",
       "      <td>2.0</td>\n",
       "      <td>0.0</td>\n",
       "      <td>218.0</td>\n",
       "    </tr>\n",
       "    <tr>\n",
       "      <td>3248</td>\n",
       "      <td>NaT</td>\n",
       "      <td>None</td>\n",
       "      <td>None</td>\n",
       "      <td>https://www.se.pl/lublin/zamosc-100-ksiazek-na-100-lat-niepodleglosci-wynik-zaskoczyl-audio-aa-L...</td>\n",
       "      <td>NaN</td>\n",
       "      <td>NaN</td>\n",
       "      <td>NaN</td>\n",
       "      <td>NaN</td>\n",
       "      <td>NaN</td>\n",
       "    </tr>\n",
       "  </tbody>\n",
       "</table>\n",
       "</div>"
      ],
      "text/plain": [
       "        publication_date             author  \\\n",
       "8104 2020-07-13 13:38:00      Mariusz Mucha   \n",
       "1732                 NaT               None   \n",
       "4918                 NaT               None   \n",
       "7888 2020-08-30 17:32:00  Karolina Januszek   \n",
       "4513                 NaT               None   \n",
       "2383                 NaT               None   \n",
       "8001 2020-08-04 08:18:00    Marek Targoński   \n",
       "8324 2020-05-06 10:44:00                 mt   \n",
       "3248                 NaT               None   \n",
       "\n",
       "                                                                                       title  \\\n",
       "8104                  Wąwolnica: Oglądali dom na sprzedaż, gdy stało się TO. Coś strasznego!   \n",
       "1732                                                                                    None   \n",
       "4918                                                                                    None   \n",
       "7888                Gang Fajniaków w Biedronce. Jak odebrać naklejki w kasie samoobsługowej?   \n",
       "4513                                                                                    None   \n",
       "2383                                                                                    None   \n",
       "8001    Koronawirus: Ponad 1000 przypadków w Lubelskiem. 11 aktywnych ognisk COVID-19 [MAPA]   \n",
       "8324  Koronawirus na Lubelszczyźnie. Są kolejne przypadki zakażeń. Dramatyczne dane z Polski   \n",
       "3248                                                                                    None   \n",
       "\n",
       "                                                                                                      url  \\\n",
       "8104    https://lublin.se.pl/wawolnica-ogladali-dom-na-sprzedaz-kiedy-stalo-sie-to-aa-gQP4-yZJi-axp9.html   \n",
       "1732  https://www.se.pl/lublin/ulicami-lublina-przejdzie-ii-marsz-rownosci-bedzie-powtorka-z-bialegost...   \n",
       "4918  https://www.se.pl/lublin/wsadzili-suczke-do-torby-i-wyrzucili-przy-drodze-ruszyla-zbiorka-na-lec...   \n",
       "7888  https://lublin.se.pl/gang-fajniakow-w-biedronce-jak-odebrac-naklejki-w-kasie-samoobslugowej-ak-Z...   \n",
       "4513       https://www.se.pl/lublin/napad-na-bank-w-lublinie-policja-szuka-sprawcy-aa-7JuX-AKXg-4RHS.html   \n",
       "2383  https://www.se.pl/lublin/takie-zachowanie-dziecka-powinno-niepokoic-czym-jest-autyzm-audio-aa-ii...   \n",
       "8001  https://lublin.se.pl/koronawirus-ponad-1000-przypadkow-w-lubelskiem-11-aktywnych-ognisk-covid-19...   \n",
       "8324  https://www.se.pl/lublin/koronawirus-na-lubelszczyznie-sa-kolejne-przypadki-zakazen-dramatyczne-...   \n",
       "3248  https://www.se.pl/lublin/zamosc-100-ksiazek-na-100-lat-niepodleglosci-wynik-zaskoczyl-audio-aa-L...   \n",
       "\n",
       "      koronawirus_in_text  koronawirus_in_title  question_mark  \\\n",
       "8104                  0.0                   0.0            0.0   \n",
       "1732                  NaN                   NaN            NaN   \n",
       "4918                  NaN                   NaN            NaN   \n",
       "7888                  0.0                   0.0            2.0   \n",
       "4513                  NaN                   NaN            NaN   \n",
       "2383                  NaN                   NaN            NaN   \n",
       "8001                 18.0                   1.0            2.0   \n",
       "8324                 24.0                   1.0            2.0   \n",
       "3248                  NaN                   NaN            NaN   \n",
       "\n",
       "      exclamation_mark  all_words  \n",
       "8104               1.0      222.0  \n",
       "1732               NaN        NaN  \n",
       "4918               NaN        NaN  \n",
       "7888               0.0      350.0  \n",
       "4513               NaN        NaN  \n",
       "2383               NaN        NaN  \n",
       "8001               1.0      166.0  \n",
       "8324               0.0      218.0  \n",
       "3248               NaN        NaN  "
      ]
     },
     "execution_count": 31,
     "metadata": {},
     "output_type": "execute_result"
    }
   ],
   "source": [
    "df.sample(frac = 0.001)"
   ]
  },
  {
   "cell_type": "markdown",
   "metadata": {},
   "source": [
    "# Clean data"
   ]
  },
  {
   "cell_type": "markdown",
   "metadata": {},
   "source": [
    "### initial data check, organize and clearing"
   ]
  },
  {
   "cell_type": "code",
   "execution_count": 32,
   "metadata": {
    "scrolled": false
   },
   "outputs": [
    {
     "name": "stdout",
     "output_type": "stream",
     "text": [
      "<class 'pandas.core.frame.DataFrame'>\n",
      "RangeIndex: 8587 entries, 0 to 8586\n",
      "Data columns (total 9 columns):\n",
      "publication_date        1651 non-null datetime64[ns]\n",
      "author                  1651 non-null object\n",
      "title                   1651 non-null object\n",
      "url                     8587 non-null object\n",
      "koronawirus_in_text     1651 non-null float64\n",
      "koronawirus_in_title    1651 non-null float64\n",
      "question_mark           1651 non-null float64\n",
      "exclamation_mark        1651 non-null float64\n",
      "all_words               1651 non-null float64\n",
      "dtypes: datetime64[ns](1), float64(5), object(3)\n",
      "memory usage: 2.6 MB\n"
     ]
    }
   ],
   "source": [
    "df.info(memory_usage='deep')"
   ]
  },
  {
   "cell_type": "code",
   "execution_count": 33,
   "metadata": {
    "scrolled": true
   },
   "outputs": [
    {
     "data": {
      "text/plain": [
       "publication_date        1641\n",
       "author                   126\n",
       "title                   1648\n",
       "url                     8587\n",
       "koronawirus_in_text       35\n",
       "koronawirus_in_title       2\n",
       "question_mark             18\n",
       "exclamation_mark          15\n",
       "all_words                383\n",
       "dtype: int64"
      ]
     },
     "execution_count": 33,
     "metadata": {},
     "output_type": "execute_result"
    }
   ],
   "source": [
    "df.nunique()"
   ]
  },
  {
   "cell_type": "code",
   "execution_count": 34,
   "metadata": {},
   "outputs": [
    {
     "data": {
      "text/plain": [
       "(1651, 9)"
      ]
     },
     "execution_count": 34,
     "metadata": {},
     "output_type": "execute_result"
    }
   ],
   "source": [
    "df.dropna(inplace=True)\n",
    "df.shape"
   ]
  },
  {
   "cell_type": "code",
   "execution_count": 35,
   "metadata": {
    "scrolled": false
   },
   "outputs": [
    {
     "name": "stdout",
     "output_type": "stream",
     "text": [
      "<class 'pandas.core.frame.DataFrame'>\n",
      "Int64Index: 1651 entries, 0 to 8586\n",
      "Data columns (total 9 columns):\n",
      "publication_date        1651 non-null datetime64[ns]\n",
      "author                  1651 non-null category\n",
      "title                   1651 non-null object\n",
      "url                     1651 non-null object\n",
      "koronawirus_in_text     1651 non-null int64\n",
      "koronawirus_in_title    1651 non-null int64\n",
      "question_mark           1651 non-null int64\n",
      "exclamation_mark        1651 non-null int64\n",
      "all_words               1651 non-null int64\n",
      "dtypes: category(1), datetime64[ns](1), int64(5), object(2)\n",
      "memory usage: 765.5 KB\n"
     ]
    }
   ],
   "source": [
    "df['author'] = df['author'].astype('category')\n",
    "df['koronawirus_in_text'] = df['koronawirus_in_text'].astype('int')\n",
    "df['koronawirus_in_title'] = df['koronawirus_in_title'].astype('int')\n",
    "df['question_mark'] = df['question_mark'].astype('int')\n",
    "df['exclamation_mark'] = df['exclamation_mark'].astype('int')\n",
    "df['all_words'] = df['all_words'].astype('int')\n",
    "df.info(memory_usage='deep')"
   ]
  },
  {
   "cell_type": "code",
   "execution_count": 36,
   "metadata": {
    "scrolled": false
   },
   "outputs": [
    {
     "data": {
      "text/plain": [
       "publication_date        1651\n",
       "author                  1651\n",
       "title                   1651\n",
       "url                     1651\n",
       "koronawirus_in_text     1651\n",
       "koronawirus_in_title    1651\n",
       "question_mark           1651\n",
       "exclamation_mark        1651\n",
       "all_words               1651\n",
       "dtype: int64"
      ]
     },
     "execution_count": 36,
     "metadata": {},
     "output_type": "execute_result"
    }
   ],
   "source": [
    "df.count()"
   ]
  },
  {
   "cell_type": "markdown",
   "metadata": {},
   "source": [
    "### column: publication_day"
   ]
  },
  {
   "cell_type": "code",
   "execution_count": 37,
   "metadata": {
    "scrolled": false
   },
   "outputs": [
    {
     "data": {
      "text/html": [
       "<div>\n",
       "<style scoped>\n",
       "    .dataframe tbody tr th:only-of-type {\n",
       "        vertical-align: middle;\n",
       "    }\n",
       "\n",
       "    .dataframe tbody tr th {\n",
       "        vertical-align: top;\n",
       "    }\n",
       "\n",
       "    .dataframe thead th {\n",
       "        text-align: right;\n",
       "    }\n",
       "</style>\n",
       "<table border=\"1\" class=\"dataframe\">\n",
       "  <thead>\n",
       "    <tr style=\"text-align: right;\">\n",
       "      <th></th>\n",
       "      <th>publication_date</th>\n",
       "      <th>publication_day</th>\n",
       "      <th>author</th>\n",
       "      <th>title</th>\n",
       "      <th>url</th>\n",
       "      <th>koronawirus_in_text</th>\n",
       "      <th>koronawirus_in_title</th>\n",
       "      <th>question_mark</th>\n",
       "      <th>exclamation_mark</th>\n",
       "      <th>all_words</th>\n",
       "    </tr>\n",
       "  </thead>\n",
       "  <tbody>\n",
       "    <tr>\n",
       "      <td>834</td>\n",
       "      <td>2020-02-27 08:39:00</td>\n",
       "      <td>2020-02-27</td>\n",
       "      <td>mt</td>\n",
       "      <td>Chrząchów: Pożar fermy, w środku pięć tysięcy indyków. NOCNY KOSZMAR zwierząt [ZDJĘCIA]</td>\n",
       "      <td>https://www.se.pl/lublin/chrzachow-piec-tysiecy-indykow-splonelo-w-pozarze-nocny-koszmar-zwierza...</td>\n",
       "      <td>0</td>\n",
       "      <td>0</td>\n",
       "      <td>0</td>\n",
       "      <td>2</td>\n",
       "      <td>133</td>\n",
       "    </tr>\n",
       "    <tr>\n",
       "      <td>821</td>\n",
       "      <td>2020-03-05 19:43:00</td>\n",
       "      <td>2020-03-05</td>\n",
       "      <td>mt</td>\n",
       "      <td>Łęczna: Trzymał w mieszkaniu... MŁODĄ SARNĘ! Tłumaczył, że ma ją od urodzenia</td>\n",
       "      <td>https://www.se.pl/lublin/leczna-trzymal-w-mieszkaniu-mloda-sarne-tlumaczyl-ze-ma-ja-od-urodzenia...</td>\n",
       "      <td>0</td>\n",
       "      <td>0</td>\n",
       "      <td>0</td>\n",
       "      <td>1</td>\n",
       "      <td>185</td>\n",
       "    </tr>\n",
       "    <tr>\n",
       "      <td>336</td>\n",
       "      <td>2020-07-10 11:32:00</td>\n",
       "      <td>2020-07-10</td>\n",
       "      <td>OM</td>\n",
       "      <td>Pozbądź się starego płaszcza, palta, czy futra, a przy okazji pomóż zorganizować Noc Kultury</td>\n",
       "      <td>https://lublin.se.pl/pozbadz-sie-starego-plaszcza-palta-czy-futra-a-przy-okazji-pomoz-zorganizow...</td>\n",
       "      <td>0</td>\n",
       "      <td>0</td>\n",
       "      <td>1</td>\n",
       "      <td>0</td>\n",
       "      <td>214</td>\n",
       "    </tr>\n",
       "  </tbody>\n",
       "</table>\n",
       "</div>"
      ],
      "text/plain": [
       "       publication_date publication_day author  \\\n",
       "834 2020-02-27 08:39:00      2020-02-27     mt   \n",
       "821 2020-03-05 19:43:00      2020-03-05     mt   \n",
       "336 2020-07-10 11:32:00      2020-07-10     OM   \n",
       "\n",
       "                                                                                            title  \\\n",
       "834       Chrząchów: Pożar fermy, w środku pięć tysięcy indyków. NOCNY KOSZMAR zwierząt [ZDJĘCIA]   \n",
       "821                 Łęczna: Trzymał w mieszkaniu... MŁODĄ SARNĘ! Tłumaczył, że ma ją od urodzenia   \n",
       "336  Pozbądź się starego płaszcza, palta, czy futra, a przy okazji pomóż zorganizować Noc Kultury   \n",
       "\n",
       "                                                                                                     url  \\\n",
       "834  https://www.se.pl/lublin/chrzachow-piec-tysiecy-indykow-splonelo-w-pozarze-nocny-koszmar-zwierza...   \n",
       "821  https://www.se.pl/lublin/leczna-trzymal-w-mieszkaniu-mloda-sarne-tlumaczyl-ze-ma-ja-od-urodzenia...   \n",
       "336  https://lublin.se.pl/pozbadz-sie-starego-plaszcza-palta-czy-futra-a-przy-okazji-pomoz-zorganizow...   \n",
       "\n",
       "     koronawirus_in_text  koronawirus_in_title  question_mark  \\\n",
       "834                    0                     0              0   \n",
       "821                    0                     0              0   \n",
       "336                    0                     0              1   \n",
       "\n",
       "     exclamation_mark  all_words  \n",
       "834                 2        133  \n",
       "821                 1        185  \n",
       "336                 0        214  "
      ]
     },
     "execution_count": 37,
     "metadata": {},
     "output_type": "execute_result"
    }
   ],
   "source": [
    "df.insert(loc=1, column='publication_day', value=df['publication_date'].dt.strftime('%Y-%m-%d'))\n",
    "df.sample(frac = 0.002)"
   ]
  },
  {
   "cell_type": "code",
   "execution_count": 38,
   "metadata": {
    "scrolled": false
   },
   "outputs": [
    {
     "data": {
      "text/plain": [
       "2020-06-29    28\n",
       "2020-07-08    26\n",
       "2020-07-01    25\n",
       "2020-07-03    22\n",
       "2020-08-25    22\n",
       "Name: publication_day, dtype: int64"
      ]
     },
     "execution_count": 38,
     "metadata": {},
     "output_type": "execute_result"
    }
   ],
   "source": [
    "df.publication_day.value_counts().head()"
   ]
  },
  {
   "cell_type": "code",
   "execution_count": 39,
   "metadata": {},
   "outputs": [
    {
     "data": {
      "text/plain": [
       "233"
      ]
     },
     "execution_count": 39,
     "metadata": {},
     "output_type": "execute_result"
    }
   ],
   "source": [
    "df['publication_day'].nunique()"
   ]
  },
  {
   "cell_type": "code",
   "execution_count": 40,
   "metadata": {
    "scrolled": true
   },
   "outputs": [
    {
     "name": "stdout",
     "output_type": "stream",
     "text": [
      "<class 'pandas.core.frame.DataFrame'>\n",
      "Int64Index: 1651 entries, 0 to 8586\n",
      "Data columns (total 10 columns):\n",
      "publication_date        1651 non-null datetime64[ns]\n",
      "publication_day         1651 non-null object\n",
      "author                  1651 non-null category\n",
      "title                   1651 non-null object\n",
      "url                     1651 non-null object\n",
      "koronawirus_in_text     1651 non-null int64\n",
      "koronawirus_in_title    1651 non-null int64\n",
      "question_mark           1651 non-null int64\n",
      "exclamation_mark        1651 non-null int64\n",
      "all_words               1651 non-null int64\n",
      "dtypes: category(1), datetime64[ns](1), int64(5), object(3)\n",
      "memory usage: 873.5 KB\n"
     ]
    }
   ],
   "source": [
    "#df['publication_day'] = df['publication_day'].astype('category')\n",
    "df.info(memory_usage='deep')"
   ]
  },
  {
   "cell_type": "markdown",
   "metadata": {},
   "source": [
    "### column: publication_month"
   ]
  },
  {
   "cell_type": "code",
   "execution_count": 41,
   "metadata": {
    "scrolled": true
   },
   "outputs": [
    {
     "data": {
      "text/html": [
       "<div>\n",
       "<style scoped>\n",
       "    .dataframe tbody tr th:only-of-type {\n",
       "        vertical-align: middle;\n",
       "    }\n",
       "\n",
       "    .dataframe tbody tr th {\n",
       "        vertical-align: top;\n",
       "    }\n",
       "\n",
       "    .dataframe thead th {\n",
       "        text-align: right;\n",
       "    }\n",
       "</style>\n",
       "<table border=\"1\" class=\"dataframe\">\n",
       "  <thead>\n",
       "    <tr style=\"text-align: right;\">\n",
       "      <th></th>\n",
       "      <th>publication_date</th>\n",
       "      <th>publication_month</th>\n",
       "      <th>publication_day</th>\n",
       "      <th>author</th>\n",
       "      <th>title</th>\n",
       "      <th>url</th>\n",
       "      <th>koronawirus_in_text</th>\n",
       "      <th>koronawirus_in_title</th>\n",
       "      <th>question_mark</th>\n",
       "      <th>exclamation_mark</th>\n",
       "      <th>all_words</th>\n",
       "    </tr>\n",
       "  </thead>\n",
       "  <tbody>\n",
       "    <tr>\n",
       "      <td>8322</td>\n",
       "      <td>2020-05-06 20:46:00</td>\n",
       "      <td>2020-05</td>\n",
       "      <td>2020-05-06</td>\n",
       "      <td>mt</td>\n",
       "      <td>Lublin: Biuro paszportowe w nowym miejscu. Gdzie po paszport w Lublinie? [ADRES, INFORMATOR]</td>\n",
       "      <td>https://www.se.pl/lublin/lublin-biuro-paszportowe-w-nowym-miejscu-gdzie-po-paszport-w-lublinie-a...</td>\n",
       "      <td>4</td>\n",
       "      <td>0</td>\n",
       "      <td>3</td>\n",
       "      <td>1</td>\n",
       "      <td>373</td>\n",
       "    </tr>\n",
       "    <tr>\n",
       "      <td>275</td>\n",
       "      <td>2020-07-19 10:42:00</td>\n",
       "      <td>2020-07</td>\n",
       "      <td>2020-07-19</td>\n",
       "      <td>Mariusz Mucha</td>\n",
       "      <td>Wiózł tytoń zamiast cegieł. Zatrzymali przemytnika z Węgier</td>\n",
       "      <td>https://lublin.se.pl/wiozl-tyton-zamiast-cegiel-zatrzymali-przemytnika-z-wegier-aa-riaD-qMVy-JnK...</td>\n",
       "      <td>0</td>\n",
       "      <td>0</td>\n",
       "      <td>0</td>\n",
       "      <td>0</td>\n",
       "      <td>96</td>\n",
       "    </tr>\n",
       "  </tbody>\n",
       "</table>\n",
       "</div>"
      ],
      "text/plain": [
       "        publication_date publication_month publication_day         author  \\\n",
       "8322 2020-05-06 20:46:00           2020-05      2020-05-06             mt   \n",
       "275  2020-07-19 10:42:00           2020-07      2020-07-19  Mariusz Mucha   \n",
       "\n",
       "                                                                                             title  \\\n",
       "8322  Lublin: Biuro paszportowe w nowym miejscu. Gdzie po paszport w Lublinie? [ADRES, INFORMATOR]   \n",
       "275                                    Wiózł tytoń zamiast cegieł. Zatrzymali przemytnika z Węgier   \n",
       "\n",
       "                                                                                                      url  \\\n",
       "8322  https://www.se.pl/lublin/lublin-biuro-paszportowe-w-nowym-miejscu-gdzie-po-paszport-w-lublinie-a...   \n",
       "275   https://lublin.se.pl/wiozl-tyton-zamiast-cegiel-zatrzymali-przemytnika-z-wegier-aa-riaD-qMVy-JnK...   \n",
       "\n",
       "      koronawirus_in_text  koronawirus_in_title  question_mark  \\\n",
       "8322                    4                     0              3   \n",
       "275                     0                     0              0   \n",
       "\n",
       "      exclamation_mark  all_words  \n",
       "8322                 1        373  \n",
       "275                  0         96  "
      ]
     },
     "execution_count": 41,
     "metadata": {},
     "output_type": "execute_result"
    }
   ],
   "source": [
    "df.insert(loc=1, column='publication_month', value=df['publication_date'].dt.strftime('%Y-%m'))\n",
    "df.sample(frac = 0.001)"
   ]
  },
  {
   "cell_type": "code",
   "execution_count": 42,
   "metadata": {},
   "outputs": [
    {
     "data": {
      "text/plain": [
       "2020-07    439\n",
       "2020-08    301\n",
       "2020-06    214\n",
       "2020-01    154\n",
       "2020-05    153\n",
       "2020-03    147\n",
       "2020-04    138\n",
       "2020-02    105\n",
       "Name: publication_month, dtype: int64"
      ]
     },
     "execution_count": 42,
     "metadata": {},
     "output_type": "execute_result"
    }
   ],
   "source": [
    "df.publication_month.value_counts().head(8)"
   ]
  },
  {
   "cell_type": "code",
   "execution_count": 43,
   "metadata": {},
   "outputs": [
    {
     "data": {
      "text/plain": [
       "8"
      ]
     },
     "execution_count": 43,
     "metadata": {},
     "output_type": "execute_result"
    }
   ],
   "source": [
    "df['publication_month'].nunique()"
   ]
  },
  {
   "cell_type": "code",
   "execution_count": 44,
   "metadata": {},
   "outputs": [
    {
     "name": "stdout",
     "output_type": "stream",
     "text": [
      "<class 'pandas.core.frame.DataFrame'>\n",
      "Int64Index: 1651 entries, 0 to 8586\n",
      "Data columns (total 11 columns):\n",
      "publication_date        1651 non-null datetime64[ns]\n",
      "publication_month       1651 non-null object\n",
      "publication_day         1651 non-null object\n",
      "author                  1651 non-null category\n",
      "title                   1651 non-null object\n",
      "url                     1651 non-null object\n",
      "koronawirus_in_text     1651 non-null int64\n",
      "koronawirus_in_title    1651 non-null int64\n",
      "question_mark           1651 non-null int64\n",
      "exclamation_mark        1651 non-null int64\n",
      "all_words               1651 non-null int64\n",
      "dtypes: category(1), datetime64[ns](1), int64(5), object(4)\n",
      "memory usage: 976.7 KB\n"
     ]
    }
   ],
   "source": [
    "#df['publication_month'] = df['publication_month'].astype('category')\n",
    "df.info(memory_usage='deep')"
   ]
  },
  {
   "cell_type": "markdown",
   "metadata": {},
   "source": [
    "### column: author"
   ]
  },
  {
   "cell_type": "code",
   "execution_count": 45,
   "metadata": {
    "scrolled": false
   },
   "outputs": [
    {
     "data": {
      "text/plain": [
       "mt                                 335\n",
       "Marek Targoński                    183\n",
       "Mucha                              147\n",
       "Karolina Januszek                  131\n",
       "Mariusz Mucha                      111\n",
       "MTA                                 80\n",
       "Mucha, mta                          55\n",
       "AP                                  36\n",
       "KM                                  33\n",
       "OM                                  32\n",
       "Bartłomiej Ważny                    23\n",
       "Monika Kowalewicz                   22\n",
       "AC                                  21\n",
       "Michał Michalak                     19\n",
       "EIB                                 19\n",
       "Emilia Białecka                     16\n",
       "MK                                  16\n",
       "Mateusz Kasiak                      16\n",
       "Agnieszka Niećko                    15\n",
       "Jacek Werner                        13\n",
       "gk                                  13\n",
       "Olka Mazur                          13\n",
       "Artykuł sponsorowany                13\n",
       "Sylwia Sitka-Czerniak               13\n",
       "Grzegorz Kluczyński                 13\n",
       "maal                                11\n",
       "                                    11\n",
       "KaJa                                11\n",
       "RS                                  10\n",
       "ToM                                  9\n",
       "Maciej Brzeziński                    8\n",
       "Konrad Marzec                        7\n",
       "BM                                   7\n",
       "Monika Kowalewicz/Wioletta Sawa      7\n",
       "Agnieszka Przystaś                   7\n",
       "AG                                   7\n",
       "MaAl                                 6\n",
       "AT                                   6\n",
       "Rafał Strzelec                       6\n",
       "vera                                 6\n",
       "BE                                   5\n",
       "PT                                   5\n",
       "Mucha, mt                            4\n",
       "Mgorecki                             4\n",
       "Magdalena Król                       4\n",
       "mar                                  4\n",
       "Amadeusz Calik                       4\n",
       "AP/IMGW-PIB                          4\n",
       "ŁT                                   3\n",
       "MPGT                                 3\n",
       "Łukasz Trybulski                     3\n",
       "Mucha, pg                            3\n",
       "mt / ZS (Radio ESKA)                 3\n",
       "mt/ MK (Radio ESKA Lublin)           3\n",
       "mt/ JW (Radio ESKA Lublin)           3\n",
       "Redakcja ESKA INFO                   3\n",
       "Mateusz Albin                        2\n",
       "mt / OM (Radio ESKA Lublin)          2\n",
       "GAŁ                                  2\n",
       "mpgt                                 2\n",
       "Name: author, dtype: int64"
      ]
     },
     "execution_count": 45,
     "metadata": {},
     "output_type": "execute_result"
    }
   ],
   "source": [
    "df['author'].value_counts()[:60]"
   ]
  },
  {
   "cell_type": "code",
   "execution_count": 46,
   "metadata": {
    "scrolled": true
   },
   "outputs": [
    {
     "data": {
      "text/plain": [
       "publication_date        514\n",
       "publication_month       514\n",
       "publication_day         514\n",
       "author                  514\n",
       "title                   514\n",
       "url                     514\n",
       "koronawirus_in_text     514\n",
       "koronawirus_in_title    514\n",
       "question_mark           514\n",
       "exclamation_mark        514\n",
       "all_words               514\n",
       "dtype: int64"
      ]
     },
     "execution_count": 46,
     "metadata": {},
     "output_type": "execute_result"
    }
   ],
   "source": [
    "df['author'] = df['author'].str.lower()\n",
    "regex_pattern = re.compile(r'.*mt.*', re.I)\n",
    "df[df['author'].str.contains(regex_pattern)].count()"
   ]
  },
  {
   "cell_type": "code",
   "execution_count": 49,
   "metadata": {
    "scrolled": true
   },
   "outputs": [
    {
     "data": {
      "text/plain": [
       "marek targoński      699\n",
       "mucha                148\n",
       "karolina januszek    131\n",
       "mariusz mucha        111\n",
       "ap                    36\n",
       "Name: author, dtype: int64"
      ]
     },
     "execution_count": 49,
     "metadata": {},
     "output_type": "execute_result"
    }
   ],
   "source": [
    "df['author'] = df['author'].replace(['mt', 'mt; wideo: Tygodnik Zamojski', 'gał'],'marek targoński')\n",
    "# df['author'] = df['author'].replace(['Mucha', 'mucha'],'Mariusz Mucha')\n",
    "# df['author'] = df['author'].replace(['ŁT'],'Łukasz Trybulski')\n",
    "# df['author'] = df['author'].replace(['Mateusz Kasiak (Radio Eska)'],'Mateusz Kasiak')\n",
    "# df['author'] = df['author'].replace(['KaJa'],'Karolina Januszek')\n",
    "# df['author'] = df['author'].replace(['RS'],'Rafał Strzelec')\n",
    "# df['author'] = df['author'].replace(['gk'],'Grzegorz Kluczyński')\n",
    "# df['author'] = df['author'].replace([''],'Nieznany')\n",
    "\n",
    "# regex_pattern = re.compile(r'(.*,.*|.*/.*|Redakcja ESKA INFO|Nieznany|Akcja partnerska)', re.I)\n",
    "# df['author'] = df['author'].replace(regex_pattern,'Więcej autorów lub nieznany')\n",
    "\n",
    "regex_pattern = re.compile(r'.*mt.*', re.I)\n",
    "df['author'] = df['author'].replace(regex_pattern,'marek targoński')\n",
    "\n",
    "df['author'].value_counts()[:5]"
   ]
  },
  {
   "cell_type": "code",
   "execution_count": 50,
   "metadata": {
    "scrolled": true
   },
   "outputs": [
    {
     "name": "stdout",
     "output_type": "stream",
     "text": [
      "<class 'pandas.core.frame.DataFrame'>\n",
      "Int64Index: 1651 entries, 0 to 8586\n",
      "Data columns (total 11 columns):\n",
      "publication_date        1651 non-null datetime64[ns]\n",
      "publication_month       1651 non-null object\n",
      "publication_day         1651 non-null object\n",
      "author                  1651 non-null category\n",
      "title                   1651 non-null object\n",
      "url                     1651 non-null object\n",
      "koronawirus_in_text     1651 non-null int64\n",
      "koronawirus_in_title    1651 non-null int64\n",
      "question_mark           1651 non-null int64\n",
      "exclamation_mark        1651 non-null int64\n",
      "all_words               1651 non-null int64\n",
      "dtypes: category(1), datetime64[ns](1), int64(5), object(4)\n",
      "memory usage: 971.3 KB\n"
     ]
    }
   ],
   "source": [
    "df['author'] = df['author'].astype('category')\n",
    "df.info(memory_usage='deep')"
   ]
  },
  {
   "cell_type": "markdown",
   "metadata": {},
   "source": [
    "### column: koronawiorus_text"
   ]
  },
  {
   "cell_type": "code",
   "execution_count": 51,
   "metadata": {},
   "outputs": [],
   "source": [
    "# df.loc[[919, 1979, 1965], 'koronawirus_in_text'] = 0"
   ]
  },
  {
   "cell_type": "markdown",
   "metadata": {},
   "source": [
    "### column: koronawiorus_anywhere_sum"
   ]
  },
  {
   "cell_type": "code",
   "execution_count": 52,
   "metadata": {
    "scrolled": false
   },
   "outputs": [
    {
     "data": {
      "text/html": [
       "<div>\n",
       "<style scoped>\n",
       "    .dataframe tbody tr th:only-of-type {\n",
       "        vertical-align: middle;\n",
       "    }\n",
       "\n",
       "    .dataframe tbody tr th {\n",
       "        vertical-align: top;\n",
       "    }\n",
       "\n",
       "    .dataframe thead th {\n",
       "        text-align: right;\n",
       "    }\n",
       "</style>\n",
       "<table border=\"1\" class=\"dataframe\">\n",
       "  <thead>\n",
       "    <tr style=\"text-align: right;\">\n",
       "      <th></th>\n",
       "      <th>publication_date</th>\n",
       "      <th>publication_month</th>\n",
       "      <th>publication_day</th>\n",
       "      <th>author</th>\n",
       "      <th>title</th>\n",
       "      <th>url</th>\n",
       "      <th>koronawirus_in_text</th>\n",
       "      <th>koronawirus_in_title</th>\n",
       "      <th>question_mark</th>\n",
       "      <th>exclamation_mark</th>\n",
       "      <th>all_words</th>\n",
       "      <th>koronawirus_anywhere</th>\n",
       "    </tr>\n",
       "  </thead>\n",
       "  <tbody>\n",
       "    <tr>\n",
       "      <td>0</td>\n",
       "      <td>2020-08-30 14:52:00</td>\n",
       "      <td>2020-08</td>\n",
       "      <td>2020-08-30</td>\n",
       "      <td>kaja</td>\n",
       "      <td>Salmonella w kurczakach! Główny Inspektorat Sanitarny ostrzega</td>\n",
       "      <td>https://lublin.se.pl/salmonella-w-kurczakach-glowny-inspektorat-sanitarny-ostrzega-ak-zuvx-nuNm-...</td>\n",
       "      <td>2</td>\n",
       "      <td>0</td>\n",
       "      <td>1</td>\n",
       "      <td>0</td>\n",
       "      <td>263</td>\n",
       "      <td>2</td>\n",
       "    </tr>\n",
       "  </tbody>\n",
       "</table>\n",
       "</div>"
      ],
      "text/plain": [
       "     publication_date publication_month publication_day author  \\\n",
       "0 2020-08-30 14:52:00           2020-08      2020-08-30   kaja   \n",
       "\n",
       "                                                            title  \\\n",
       "0  Salmonella w kurczakach! Główny Inspektorat Sanitarny ostrzega   \n",
       "\n",
       "                                                                                                   url  \\\n",
       "0  https://lublin.se.pl/salmonella-w-kurczakach-glowny-inspektorat-sanitarny-ostrzega-ak-zuvx-nuNm-...   \n",
       "\n",
       "   koronawirus_in_text  koronawirus_in_title  question_mark  exclamation_mark  \\\n",
       "0                    2                     0              1                 0   \n",
       "\n",
       "   all_words  koronawirus_anywhere  \n",
       "0        263                     2  "
      ]
     },
     "execution_count": 52,
     "metadata": {},
     "output_type": "execute_result"
    }
   ],
   "source": [
    "df['koronawirus_anywhere'] = 0\n",
    "df['koronawirus_anywhere'] = df['koronawirus_in_text'] + df['koronawirus_in_title']\n",
    "# df.loc[df.koronawirus_anywhere > 0, 'koronawirus_anywhere'] = 1\n",
    "df.head(1)"
   ]
  },
  {
   "cell_type": "markdown",
   "metadata": {},
   "source": [
    "### column: koronawiorus_anywhere_count"
   ]
  },
  {
   "cell_type": "code",
   "execution_count": 53,
   "metadata": {
    "scrolled": true
   },
   "outputs": [
    {
     "data": {
      "text/html": [
       "<div>\n",
       "<style scoped>\n",
       "    .dataframe tbody tr th:only-of-type {\n",
       "        vertical-align: middle;\n",
       "    }\n",
       "\n",
       "    .dataframe tbody tr th {\n",
       "        vertical-align: top;\n",
       "    }\n",
       "\n",
       "    .dataframe thead th {\n",
       "        text-align: right;\n",
       "    }\n",
       "</style>\n",
       "<table border=\"1\" class=\"dataframe\">\n",
       "  <thead>\n",
       "    <tr style=\"text-align: right;\">\n",
       "      <th></th>\n",
       "      <th>publication_date</th>\n",
       "      <th>publication_month</th>\n",
       "      <th>publication_day</th>\n",
       "      <th>author</th>\n",
       "      <th>title</th>\n",
       "      <th>url</th>\n",
       "      <th>koronawirus_in_text</th>\n",
       "      <th>koronawirus_in_title</th>\n",
       "      <th>question_mark</th>\n",
       "      <th>exclamation_mark</th>\n",
       "      <th>all_words</th>\n",
       "      <th>koronawirus_anywhere</th>\n",
       "      <th>koronawirus_anywhere_count</th>\n",
       "    </tr>\n",
       "  </thead>\n",
       "  <tbody>\n",
       "    <tr>\n",
       "      <td>0</td>\n",
       "      <td>2020-08-30 14:52:00</td>\n",
       "      <td>2020-08</td>\n",
       "      <td>2020-08-30</td>\n",
       "      <td>kaja</td>\n",
       "      <td>Salmonella w kurczakach! Główny Inspektorat Sanitarny ostrzega</td>\n",
       "      <td>https://lublin.se.pl/salmonella-w-kurczakach-glowny-inspektorat-sanitarny-ostrzega-ak-zuvx-nuNm-...</td>\n",
       "      <td>2</td>\n",
       "      <td>0</td>\n",
       "      <td>1</td>\n",
       "      <td>0</td>\n",
       "      <td>263</td>\n",
       "      <td>2</td>\n",
       "      <td>1</td>\n",
       "    </tr>\n",
       "    <tr>\n",
       "      <td>1</td>\n",
       "      <td>2020-08-28 20:45:00</td>\n",
       "      <td>2020-08</td>\n",
       "      <td>2020-08-28</td>\n",
       "      <td>mariusz mucha</td>\n",
       "      <td>Kiełbasiany ZŁODZIEJ wpadł w Lublinie. Rzucił się Z TULIPANEM na ochroniarza!</td>\n",
       "      <td>https://lublin.se.pl/kielbasiany-zlodziej-wpadl-w-lublinie-aa-Phpp-QAn1-bHnw.html</td>\n",
       "      <td>0</td>\n",
       "      <td>0</td>\n",
       "      <td>0</td>\n",
       "      <td>0</td>\n",
       "      <td>243</td>\n",
       "      <td>0</td>\n",
       "      <td>0</td>\n",
       "    </tr>\n",
       "    <tr>\n",
       "      <td>2</td>\n",
       "      <td>2020-08-28 13:43:00</td>\n",
       "      <td>2020-08</td>\n",
       "      <td>2020-08-28</td>\n",
       "      <td>eib</td>\n",
       "      <td>Jaka będzie pogoda w ostatni weekend wakacji? Szykujcie się na najgorsze!</td>\n",
       "      <td>https://lublin.se.pl/jaka-bedzie-pogoda-w-ostatni-weekend-wakacji-szykujcie-sie-na-najgorsze-ak-...</td>\n",
       "      <td>0</td>\n",
       "      <td>0</td>\n",
       "      <td>1</td>\n",
       "      <td>1</td>\n",
       "      <td>171</td>\n",
       "      <td>0</td>\n",
       "      <td>0</td>\n",
       "    </tr>\n",
       "  </tbody>\n",
       "</table>\n",
       "</div>"
      ],
      "text/plain": [
       "     publication_date publication_month publication_day         author  \\\n",
       "0 2020-08-30 14:52:00           2020-08      2020-08-30           kaja   \n",
       "1 2020-08-28 20:45:00           2020-08      2020-08-28  mariusz mucha   \n",
       "2 2020-08-28 13:43:00           2020-08      2020-08-28            eib   \n",
       "\n",
       "                                                                           title  \\\n",
       "0                 Salmonella w kurczakach! Główny Inspektorat Sanitarny ostrzega   \n",
       "1  Kiełbasiany ZŁODZIEJ wpadł w Lublinie. Rzucił się Z TULIPANEM na ochroniarza!   \n",
       "2      Jaka będzie pogoda w ostatni weekend wakacji? Szykujcie się na najgorsze!   \n",
       "\n",
       "                                                                                                   url  \\\n",
       "0  https://lublin.se.pl/salmonella-w-kurczakach-glowny-inspektorat-sanitarny-ostrzega-ak-zuvx-nuNm-...   \n",
       "1                    https://lublin.se.pl/kielbasiany-zlodziej-wpadl-w-lublinie-aa-Phpp-QAn1-bHnw.html   \n",
       "2  https://lublin.se.pl/jaka-bedzie-pogoda-w-ostatni-weekend-wakacji-szykujcie-sie-na-najgorsze-ak-...   \n",
       "\n",
       "   koronawirus_in_text  koronawirus_in_title  question_mark  exclamation_mark  \\\n",
       "0                    2                     0              1                 0   \n",
       "1                    0                     0              0                 0   \n",
       "2                    0                     0              1                 1   \n",
       "\n",
       "   all_words  koronawirus_anywhere  koronawirus_anywhere_count  \n",
       "0        263                     2                           1  \n",
       "1        243                     0                           0  \n",
       "2        171                     0                           0  "
      ]
     },
     "execution_count": 53,
     "metadata": {},
     "output_type": "execute_result"
    }
   ],
   "source": [
    "df['koronawirus_anywhere_count'] = 0\n",
    "df['koronawirus_anywhere_count'] = (df['koronawirus_in_text'] + df['koronawirus_in_title']) / (df['koronawirus_in_text'] + df['koronawirus_in_title'])\n",
    "df['koronawirus_anywhere_count'] = df['koronawirus_anywhere_count'].fillna(0).astype('int')\n",
    "df.head(3)"
   ]
  },
  {
   "cell_type": "markdown",
   "metadata": {},
   "source": [
    "### Export data"
   ]
  },
  {
   "cell_type": "code",
   "execution_count": 58,
   "metadata": {},
   "outputs": [],
   "source": [
    "df.to_csv('datasets/1_clean_data.csv')"
   ]
  }
 ],
 "metadata": {
  "kernelspec": {
   "display_name": "Python 3",
   "language": "python",
   "name": "python3"
  },
  "language_info": {
   "codemirror_mode": {
    "name": "ipython",
    "version": 3
   },
   "file_extension": ".py",
   "mimetype": "text/x-python",
   "name": "python",
   "nbconvert_exporter": "python",
   "pygments_lexer": "ipython3",
   "version": "3.6.9"
  }
 },
 "nbformat": 4,
 "nbformat_minor": 2
}
