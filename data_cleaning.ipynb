{
 "cells": [
  {
   "cell_type": "code",
   "execution_count": 78,
   "metadata": {},
   "outputs": [],
   "source": [
    "from bs4 import BeautifulSoup\n",
    "import matplotlib.pyplot as plt\n",
    "import pandas as pd\n",
    "import pickle\n",
    "import re\n",
    "import requests\n",
    "import seaborn as sns\n",
    "\n",
    "from db import create_connection\n",
    "from db import (\n",
    "    articles,\n",
    "    services,\n",
    "    urls\n",
    ")"
   ]
  },
  {
   "cell_type": "code",
   "execution_count": 79,
   "metadata": {},
   "outputs": [],
   "source": [
    "connection = create_connection()"
   ]
  },
  {
   "cell_type": "markdown",
   "metadata": {},
   "source": [
    "# Get data"
   ]
  },
  {
   "cell_type": "code",
   "execution_count": 80,
   "metadata": {},
   "outputs": [],
   "source": [
    "data = articles.get_articles(connection)"
   ]
  },
  {
   "cell_type": "code",
   "execution_count": 81,
   "metadata": {},
   "outputs": [],
   "source": [
    "pd.set_option('max_colwidth', 100)\n",
    "df = pd.DataFrame(data, columns = ['publication_date',\n",
    "                                   'author',\n",
    "                                   'title',\n",
    "                                   'url',\n",
    "                                   'koronawirus_in_text',\n",
    "                                   'koronawirus_in_title'])"
   ]
  },
  {
   "cell_type": "code",
   "execution_count": 82,
   "metadata": {
    "scrolled": false
   },
   "outputs": [
    {
     "data": {
      "text/html": [
       "<div>\n",
       "<style scoped>\n",
       "    .dataframe tbody tr th:only-of-type {\n",
       "        vertical-align: middle;\n",
       "    }\n",
       "\n",
       "    .dataframe tbody tr th {\n",
       "        vertical-align: top;\n",
       "    }\n",
       "\n",
       "    .dataframe thead th {\n",
       "        text-align: right;\n",
       "    }\n",
       "</style>\n",
       "<table border=\"1\" class=\"dataframe\">\n",
       "  <thead>\n",
       "    <tr style=\"text-align: right;\">\n",
       "      <th></th>\n",
       "      <th>publication_date</th>\n",
       "      <th>author</th>\n",
       "      <th>title</th>\n",
       "      <th>url</th>\n",
       "      <th>koronawirus_in_text</th>\n",
       "      <th>koronawirus_in_title</th>\n",
       "    </tr>\n",
       "  </thead>\n",
       "  <tbody>\n",
       "    <tr>\n",
       "      <td>5465</td>\n",
       "      <td>NaT</td>\n",
       "      <td>None</td>\n",
       "      <td>None</td>\n",
       "      <td>https://www.se.pl/lublin/fontanna-na-pl-litewskim-zniszczona-kolejny-raz-kto-tym-razem-zdjecia-a...</td>\n",
       "      <td>NaN</td>\n",
       "      <td>NaN</td>\n",
       "    </tr>\n",
       "    <tr>\n",
       "      <td>5141</td>\n",
       "      <td>NaT</td>\n",
       "      <td>None</td>\n",
       "      <td>None</td>\n",
       "      <td>https://www.se.pl/lublin/atak-terrorystyczny-w-lublinie-na-szczescie-pozorowany-zdjecia-aa-VVBw-...</td>\n",
       "      <td>NaN</td>\n",
       "      <td>NaN</td>\n",
       "    </tr>\n",
       "    <tr>\n",
       "      <td>8388</td>\n",
       "      <td>2020-01-03 11:45:00</td>\n",
       "      <td>Agnieszka Niećko</td>\n",
       "      <td>Lublin: Na autobus poczekamy dłużej. Zarząd Transportu Miejskiego zapowiada zmiany</td>\n",
       "      <td>https://www.se.pl/lublin/na-autobus-poczekamy-dluzej-w-lublinie-zarzad-transportu-miejskiego-zap...</td>\n",
       "      <td>0.0</td>\n",
       "      <td>0.0</td>\n",
       "    </tr>\n",
       "    <tr>\n",
       "      <td>1649</td>\n",
       "      <td>NaT</td>\n",
       "      <td>None</td>\n",
       "      <td>None</td>\n",
       "      <td>https://www.se.pl/lublin/trafil-na-izbe-wytrzezwien-rano-juz-nie-zyl-tajemnicza-smierc-37-latka-...</td>\n",
       "      <td>NaN</td>\n",
       "      <td>NaN</td>\n",
       "    </tr>\n",
       "    <tr>\n",
       "      <td>3693</td>\n",
       "      <td>NaT</td>\n",
       "      <td>None</td>\n",
       "      <td>None</td>\n",
       "      <td>https://www.se.pl/lublin/pielgrzymka-lublin-jasna-gora-pielgrzymka-do-czestochowy-zdjecia-pielgr...</td>\n",
       "      <td>NaN</td>\n",
       "      <td>NaN</td>\n",
       "    </tr>\n",
       "    <tr>\n",
       "      <td>380</td>\n",
       "      <td>2020-06-27 21:56:00</td>\n",
       "      <td>Mucha</td>\n",
       "      <td>Komendant policji w Puławach oddał krew i złapał kościelnego złodzieja</td>\n",
       "      <td>https://lublin.se.pl/komendant-policji-w-pulawach-oddal-krew-i-zlapal-koscielnego-zlodzieja-aa-j...</td>\n",
       "      <td>0.0</td>\n",
       "      <td>0.0</td>\n",
       "    </tr>\n",
       "    <tr>\n",
       "      <td>6873</td>\n",
       "      <td>NaT</td>\n",
       "      <td>None</td>\n",
       "      <td>None</td>\n",
       "      <td>https://www.se.pl/lublin/nowe-ulice-w-lublinie-bliska-i-dereckiego-miasto-sie-rozwija-mapy-aa-RH...</td>\n",
       "      <td>NaN</td>\n",
       "      <td>NaN</td>\n",
       "    </tr>\n",
       "    <tr>\n",
       "      <td>777</td>\n",
       "      <td>2020-02-21 08:44:00</td>\n",
       "      <td>mt</td>\n",
       "      <td>Lubelskie: Ciało NOWORODKA zakopane w ogródku. Matka UNIKNIE KARY?</td>\n",
       "      <td>https://www.se.pl/lublin/lubelskie-cialo-noworodka-zakopane-w-ogrodku-matka-uniknie-kary-aa-GHab...</td>\n",
       "      <td>0.0</td>\n",
       "      <td>0.0</td>\n",
       "    </tr>\n",
       "  </tbody>\n",
       "</table>\n",
       "</div>"
      ],
      "text/plain": [
       "        publication_date            author  \\\n",
       "5465                 NaT              None   \n",
       "5141                 NaT              None   \n",
       "8388 2020-01-03 11:45:00  Agnieszka Niećko   \n",
       "1649                 NaT              None   \n",
       "3693                 NaT              None   \n",
       "380  2020-06-27 21:56:00             Mucha   \n",
       "6873                 NaT              None   \n",
       "777  2020-02-21 08:44:00                mt   \n",
       "\n",
       "                                                                                   title  \\\n",
       "5465                                                                                None   \n",
       "5141                                                                                None   \n",
       "8388  Lublin: Na autobus poczekamy dłużej. Zarząd Transportu Miejskiego zapowiada zmiany   \n",
       "1649                                                                                None   \n",
       "3693                                                                                None   \n",
       "380               Komendant policji w Puławach oddał krew i złapał kościelnego złodzieja   \n",
       "6873                                                                                None   \n",
       "777                   Lubelskie: Ciało NOWORODKA zakopane w ogródku. Matka UNIKNIE KARY?   \n",
       "\n",
       "                                                                                                      url  \\\n",
       "5465  https://www.se.pl/lublin/fontanna-na-pl-litewskim-zniszczona-kolejny-raz-kto-tym-razem-zdjecia-a...   \n",
       "5141  https://www.se.pl/lublin/atak-terrorystyczny-w-lublinie-na-szczescie-pozorowany-zdjecia-aa-VVBw-...   \n",
       "8388  https://www.se.pl/lublin/na-autobus-poczekamy-dluzej-w-lublinie-zarzad-transportu-miejskiego-zap...   \n",
       "1649  https://www.se.pl/lublin/trafil-na-izbe-wytrzezwien-rano-juz-nie-zyl-tajemnicza-smierc-37-latka-...   \n",
       "3693  https://www.se.pl/lublin/pielgrzymka-lublin-jasna-gora-pielgrzymka-do-czestochowy-zdjecia-pielgr...   \n",
       "380   https://lublin.se.pl/komendant-policji-w-pulawach-oddal-krew-i-zlapal-koscielnego-zlodzieja-aa-j...   \n",
       "6873  https://www.se.pl/lublin/nowe-ulice-w-lublinie-bliska-i-dereckiego-miasto-sie-rozwija-mapy-aa-RH...   \n",
       "777   https://www.se.pl/lublin/lubelskie-cialo-noworodka-zakopane-w-ogrodku-matka-uniknie-kary-aa-GHab...   \n",
       "\n",
       "      koronawirus_in_text  koronawirus_in_title  \n",
       "5465                  NaN                   NaN  \n",
       "5141                  NaN                   NaN  \n",
       "8388                  0.0                   0.0  \n",
       "1649                  NaN                   NaN  \n",
       "3693                  NaN                   NaN  \n",
       "380                   0.0                   0.0  \n",
       "6873                  NaN                   NaN  \n",
       "777                   0.0                   0.0  "
      ]
     },
     "execution_count": 82,
     "metadata": {},
     "output_type": "execute_result"
    }
   ],
   "source": [
    "df.sample(frac = 0.001)"
   ]
  },
  {
   "cell_type": "markdown",
   "metadata": {},
   "source": [
    "# Clean data"
   ]
  },
  {
   "cell_type": "markdown",
   "metadata": {},
   "source": [
    "### initial data check, organize and clearing"
   ]
  },
  {
   "cell_type": "code",
   "execution_count": 83,
   "metadata": {
    "scrolled": false
   },
   "outputs": [
    {
     "name": "stdout",
     "output_type": "stream",
     "text": [
      "<class 'pandas.core.frame.DataFrame'>\n",
      "RangeIndex: 8393 entries, 0 to 8392\n",
      "Data columns (total 6 columns):\n",
      "publication_date        1489 non-null datetime64[ns]\n",
      "author                  1489 non-null object\n",
      "title                   1489 non-null object\n",
      "url                     8393 non-null object\n",
      "koronawirus_in_text     1489 non-null float64\n",
      "koronawirus_in_title    1489 non-null float64\n",
      "dtypes: datetime64[ns](1), float64(2), object(3)\n",
      "memory usage: 2.3 MB\n"
     ]
    }
   ],
   "source": [
    "df.info(memory_usage='deep')"
   ]
  },
  {
   "cell_type": "code",
   "execution_count": 84,
   "metadata": {},
   "outputs": [
    {
     "data": {
      "text/plain": [
       "publication_date        1479\n",
       "author                   124\n",
       "title                   1486\n",
       "url                     8393\n",
       "koronawirus_in_text       33\n",
       "koronawirus_in_title       2\n",
       "dtype: int64"
      ]
     },
     "execution_count": 84,
     "metadata": {},
     "output_type": "execute_result"
    }
   ],
   "source": [
    "df.nunique()"
   ]
  },
  {
   "cell_type": "code",
   "execution_count": 85,
   "metadata": {},
   "outputs": [
    {
     "data": {
      "text/plain": [
       "(1489, 6)"
      ]
     },
     "execution_count": 85,
     "metadata": {},
     "output_type": "execute_result"
    }
   ],
   "source": [
    "df.dropna(inplace=True)\n",
    "df.shape"
   ]
  },
  {
   "cell_type": "code",
   "execution_count": 86,
   "metadata": {
    "scrolled": false
   },
   "outputs": [
    {
     "name": "stdout",
     "output_type": "stream",
     "text": [
      "<class 'pandas.core.frame.DataFrame'>\n",
      "Int64Index: 1489 entries, 0 to 8392\n",
      "Data columns (total 6 columns):\n",
      "publication_date        1489 non-null datetime64[ns]\n",
      "author                  1489 non-null category\n",
      "title                   1489 non-null object\n",
      "url                     1489 non-null object\n",
      "koronawirus_in_text     1489 non-null int64\n",
      "koronawirus_in_title    1489 non-null int64\n",
      "dtypes: category(1), datetime64[ns](1), int64(2), object(2)\n",
      "memory usage: 658.0 KB\n"
     ]
    }
   ],
   "source": [
    "df['author'] = df['author'].astype('category')\n",
    "df['koronawirus_in_text'] = df['koronawirus_in_text'].astype('int')\n",
    "df['koronawirus_in_title'] = df['koronawirus_in_title'].astype('int')\n",
    "df.info(memory_usage='deep')"
   ]
  },
  {
   "cell_type": "code",
   "execution_count": 87,
   "metadata": {
    "scrolled": false
   },
   "outputs": [
    {
     "data": {
      "text/plain": [
       "publication_date        1489\n",
       "author                  1489\n",
       "title                   1489\n",
       "url                     1489\n",
       "koronawirus_in_text     1489\n",
       "koronawirus_in_title    1489\n",
       "dtype: int64"
      ]
     },
     "execution_count": 87,
     "metadata": {},
     "output_type": "execute_result"
    }
   ],
   "source": [
    "df.count()"
   ]
  },
  {
   "cell_type": "markdown",
   "metadata": {},
   "source": [
    "### column: publication_day"
   ]
  },
  {
   "cell_type": "code",
   "execution_count": 88,
   "metadata": {
    "scrolled": true
   },
   "outputs": [
    {
     "data": {
      "text/html": [
       "<div>\n",
       "<style scoped>\n",
       "    .dataframe tbody tr th:only-of-type {\n",
       "        vertical-align: middle;\n",
       "    }\n",
       "\n",
       "    .dataframe tbody tr th {\n",
       "        vertical-align: top;\n",
       "    }\n",
       "\n",
       "    .dataframe thead th {\n",
       "        text-align: right;\n",
       "    }\n",
       "</style>\n",
       "<table border=\"1\" class=\"dataframe\">\n",
       "  <thead>\n",
       "    <tr style=\"text-align: right;\">\n",
       "      <th></th>\n",
       "      <th>publication_date</th>\n",
       "      <th>publication_day</th>\n",
       "      <th>author</th>\n",
       "      <th>title</th>\n",
       "      <th>url</th>\n",
       "      <th>koronawirus_in_text</th>\n",
       "      <th>koronawirus_in_title</th>\n",
       "    </tr>\n",
       "  </thead>\n",
       "  <tbody>\n",
       "    <tr>\n",
       "      <td>19</td>\n",
       "      <td>2020-08-12 12:18:00</td>\n",
       "      <td>2020-08-12</td>\n",
       "      <td>Marek Targoński</td>\n",
       "      <td>Lubelskie: Prawie 30 proc. maturzystów OBLAŁO egzamin dojrzałości. Wyniki [MATURA 2020]</td>\n",
       "      <td>https://lublin.se.pl/lubelskie-prawie-30-proc-maturzystow-oblalo-egzamin-dojrzalosci-wyniki-matu...</td>\n",
       "      <td>2</td>\n",
       "      <td>0</td>\n",
       "    </tr>\n",
       "    <tr>\n",
       "      <td>61</td>\n",
       "      <td>2020-08-05 11:37:00</td>\n",
       "      <td>2020-08-05</td>\n",
       "      <td>Marek Targoński</td>\n",
       "      <td>Oto NAJBIEDNIEJSZA gmina w Polsce. Leży w woj. lubelskim. „Słońce, ryby i grzyby”</td>\n",
       "      <td>https://lublin.se.pl/oto-najbiedniejsza-gmina-w-polsce-lezy-w-woj-lubelskim-slonce-ryby-i-grzyby...</td>\n",
       "      <td>0</td>\n",
       "      <td>0</td>\n",
       "    </tr>\n",
       "    <tr>\n",
       "      <td>205</td>\n",
       "      <td>2020-07-15 14:42:00</td>\n",
       "      <td>2020-07-15</td>\n",
       "      <td>Mariusz Mucha</td>\n",
       "      <td>Świdnik: Koparką na ekspresówkę. Naprawdę PRZESADZIŁ z pośpiechem</td>\n",
       "      <td>https://lublin.se.pl/swidnik-koparka-na-ekspresowke-naprawde-przesadzil-z-pospiechem-aa-5LKX-YKC...</td>\n",
       "      <td>0</td>\n",
       "      <td>0</td>\n",
       "    </tr>\n",
       "  </tbody>\n",
       "</table>\n",
       "</div>"
      ],
      "text/plain": [
       "       publication_date publication_day           author  \\\n",
       "19  2020-08-12 12:18:00      2020-08-12  Marek Targoński   \n",
       "61  2020-08-05 11:37:00      2020-08-05  Marek Targoński   \n",
       "205 2020-07-15 14:42:00      2020-07-15    Mariusz Mucha   \n",
       "\n",
       "                                                                                       title  \\\n",
       "19   Lubelskie: Prawie 30 proc. maturzystów OBLAŁO egzamin dojrzałości. Wyniki [MATURA 2020]   \n",
       "61         Oto NAJBIEDNIEJSZA gmina w Polsce. Leży w woj. lubelskim. „Słońce, ryby i grzyby”   \n",
       "205                        Świdnik: Koparką na ekspresówkę. Naprawdę PRZESADZIŁ z pośpiechem   \n",
       "\n",
       "                                                                                                     url  \\\n",
       "19   https://lublin.se.pl/lubelskie-prawie-30-proc-maturzystow-oblalo-egzamin-dojrzalosci-wyniki-matu...   \n",
       "61   https://lublin.se.pl/oto-najbiedniejsza-gmina-w-polsce-lezy-w-woj-lubelskim-slonce-ryby-i-grzyby...   \n",
       "205  https://lublin.se.pl/swidnik-koparka-na-ekspresowke-naprawde-przesadzil-z-pospiechem-aa-5LKX-YKC...   \n",
       "\n",
       "     koronawirus_in_text  koronawirus_in_title  \n",
       "19                     2                     0  \n",
       "61                     0                     0  \n",
       "205                    0                     0  "
      ]
     },
     "execution_count": 88,
     "metadata": {},
     "output_type": "execute_result"
    }
   ],
   "source": [
    "df.insert(loc=1, column='publication_day', value=df['publication_date'].dt.strftime('%Y-%m-%d'))\n",
    "df.sample(frac = 0.002)"
   ]
  },
  {
   "cell_type": "code",
   "execution_count": 89,
   "metadata": {
    "scrolled": false
   },
   "outputs": [
    {
     "data": {
      "text/plain": [
       "2020-06-29    28\n",
       "2020-07-08    26\n",
       "2020-07-01    25\n",
       "2020-07-03    22\n",
       "2020-07-14    21\n",
       "Name: publication_day, dtype: int64"
      ]
     },
     "execution_count": 89,
     "metadata": {},
     "output_type": "execute_result"
    }
   ],
   "source": [
    "df.publication_day.value_counts().head()"
   ]
  },
  {
   "cell_type": "code",
   "execution_count": 90,
   "metadata": {},
   "outputs": [
    {
     "data": {
      "text/plain": [
       "219"
      ]
     },
     "execution_count": 90,
     "metadata": {},
     "output_type": "execute_result"
    }
   ],
   "source": [
    "df['publication_day'].nunique()"
   ]
  },
  {
   "cell_type": "code",
   "execution_count": 91,
   "metadata": {
    "scrolled": true
   },
   "outputs": [
    {
     "name": "stdout",
     "output_type": "stream",
     "text": [
      "<class 'pandas.core.frame.DataFrame'>\n",
      "Int64Index: 1489 entries, 0 to 8392\n",
      "Data columns (total 7 columns):\n",
      "publication_date        1489 non-null datetime64[ns]\n",
      "publication_day         1489 non-null object\n",
      "author                  1489 non-null category\n",
      "title                   1489 non-null object\n",
      "url                     1489 non-null object\n",
      "koronawirus_in_text     1489 non-null int64\n",
      "koronawirus_in_title    1489 non-null int64\n",
      "dtypes: category(1), datetime64[ns](1), int64(2), object(3)\n",
      "memory usage: 755.4 KB\n"
     ]
    }
   ],
   "source": [
    "#df['publication_day'] = df['publication_day'].astype('category')\n",
    "df.info(memory_usage='deep')"
   ]
  },
  {
   "cell_type": "markdown",
   "metadata": {},
   "source": [
    "### column: publication_month"
   ]
  },
  {
   "cell_type": "code",
   "execution_count": 92,
   "metadata": {
    "scrolled": true
   },
   "outputs": [
    {
     "data": {
      "text/html": [
       "<div>\n",
       "<style scoped>\n",
       "    .dataframe tbody tr th:only-of-type {\n",
       "        vertical-align: middle;\n",
       "    }\n",
       "\n",
       "    .dataframe tbody tr th {\n",
       "        vertical-align: top;\n",
       "    }\n",
       "\n",
       "    .dataframe thead th {\n",
       "        text-align: right;\n",
       "    }\n",
       "</style>\n",
       "<table border=\"1\" class=\"dataframe\">\n",
       "  <thead>\n",
       "    <tr style=\"text-align: right;\">\n",
       "      <th></th>\n",
       "      <th>publication_date</th>\n",
       "      <th>publication_month</th>\n",
       "      <th>publication_day</th>\n",
       "      <th>author</th>\n",
       "      <th>title</th>\n",
       "      <th>url</th>\n",
       "      <th>koronawirus_in_text</th>\n",
       "      <th>koronawirus_in_title</th>\n",
       "    </tr>\n",
       "  </thead>\n",
       "  <tbody>\n",
       "    <tr>\n",
       "      <td>108</td>\n",
       "      <td>2020-07-28 16:11:00</td>\n",
       "      <td>2020-07</td>\n",
       "      <td>2020-07-28</td>\n",
       "      <td>Karolina Januszek</td>\n",
       "      <td>Rozpoczynają się letnie upały. Gdzie kupić tanie klimatyzatory i wiatraki?</td>\n",
       "      <td>https://lublin.se.pl/rozpoczynaja-sie-letnie-upaly-gdzie-kupic-tanie-klimatyzatory-i-wiatraki-ak...</td>\n",
       "      <td>0</td>\n",
       "      <td>0</td>\n",
       "    </tr>\n",
       "  </tbody>\n",
       "</table>\n",
       "</div>"
      ],
      "text/plain": [
       "       publication_date publication_month publication_day             author  \\\n",
       "108 2020-07-28 16:11:00           2020-07      2020-07-28  Karolina Januszek   \n",
       "\n",
       "                                                                           title  \\\n",
       "108  Rozpoczynają się letnie upały. Gdzie kupić tanie klimatyzatory i wiatraki?    \n",
       "\n",
       "                                                                                                     url  \\\n",
       "108  https://lublin.se.pl/rozpoczynaja-sie-letnie-upaly-gdzie-kupic-tanie-klimatyzatory-i-wiatraki-ak...   \n",
       "\n",
       "     koronawirus_in_text  koronawirus_in_title  \n",
       "108                    0                     0  "
      ]
     },
     "execution_count": 92,
     "metadata": {},
     "output_type": "execute_result"
    }
   ],
   "source": [
    "df.insert(loc=1, column='publication_month', value=df['publication_date'].dt.strftime('%Y-%m'))\n",
    "df.sample(frac = 0.001)"
   ]
  },
  {
   "cell_type": "code",
   "execution_count": 93,
   "metadata": {},
   "outputs": [
    {
     "data": {
      "text/plain": [
       "2020-07    443\n",
       "2020-06    214\n",
       "2020-01    154\n",
       "2020-05    153\n",
       "2020-03    147\n",
       "Name: publication_month, dtype: int64"
      ]
     },
     "execution_count": 93,
     "metadata": {},
     "output_type": "execute_result"
    }
   ],
   "source": [
    "df.publication_month.value_counts().head()"
   ]
  },
  {
   "cell_type": "code",
   "execution_count": 94,
   "metadata": {},
   "outputs": [
    {
     "data": {
      "text/plain": [
       "8"
      ]
     },
     "execution_count": 94,
     "metadata": {},
     "output_type": "execute_result"
    }
   ],
   "source": [
    "df['publication_month'].nunique()"
   ]
  },
  {
   "cell_type": "code",
   "execution_count": 95,
   "metadata": {},
   "outputs": [
    {
     "name": "stdout",
     "output_type": "stream",
     "text": [
      "<class 'pandas.core.frame.DataFrame'>\n",
      "Int64Index: 1489 entries, 0 to 8392\n",
      "Data columns (total 8 columns):\n",
      "publication_date        1489 non-null datetime64[ns]\n",
      "publication_month       1489 non-null object\n",
      "publication_day         1489 non-null object\n",
      "author                  1489 non-null category\n",
      "title                   1489 non-null object\n",
      "url                     1489 non-null object\n",
      "koronawirus_in_text     1489 non-null int64\n",
      "koronawirus_in_title    1489 non-null int64\n",
      "dtypes: category(1), datetime64[ns](1), int64(2), object(4)\n",
      "memory usage: 848.5 KB\n"
     ]
    }
   ],
   "source": [
    "#df['publication_month'] = df['publication_month'].astype('category')\n",
    "df.info(memory_usage='deep')"
   ]
  },
  {
   "cell_type": "markdown",
   "metadata": {},
   "source": [
    "### column: author"
   ]
  },
  {
   "cell_type": "code",
   "execution_count": 96,
   "metadata": {
    "scrolled": false
   },
   "outputs": [
    {
     "data": {
      "text/plain": [
       "mt                                 335\n",
       "Mucha                              147\n",
       "Marek Targoński                    135\n",
       "Karolina Januszek                   94\n",
       "MTA                                 80\n",
       "Mariusz Mucha                       76\n",
       "Mucha, mta                          55\n",
       "AP                                  36\n",
       "OM                                  32\n",
       "KM                                  26\n",
       "Bartłomiej Ważny                    23\n",
       "Monika Kowalewicz                   22\n",
       "AC                                  20\n",
       "MK                                  16\n",
       "Mateusz Kasiak                      16\n",
       "Michał Michalak                     16\n",
       "Agnieszka Niećko                    15\n",
       "gk                                  15\n",
       "Jacek Werner                        14\n",
       "EIB                                 13\n",
       "Sylwia Sitka-Czerniak               13\n",
       "Artykuł sponsorowany                13\n",
       "Olka Mazur                          13\n",
       "maal                                11\n",
       "Emilia Białecka                     11\n",
       "RS                                  10\n",
       "                                     9\n",
       "KaJa                                 9\n",
       "ToM                                  8\n",
       "AG                                   7\n",
       "Konrad Marzec                        7\n",
       "Grzegorz Kluczyński                  7\n",
       "Monika Kowalewicz/Wioletta Sawa      7\n",
       "Agnieszka Przystaś                   7\n",
       "BM                                   6\n",
       "MaAl                                 6\n",
       "Maciej Brzeziński                    6\n",
       "AT                                   6\n",
       "Rafał Strzelec                       6\n",
       "PT                                   5\n",
       "vera                                 5\n",
       "BE                                   5\n",
       "AP/IMGW-PIB                          4\n",
       "mar                                  4\n",
       "Mucha, mt                            4\n",
       "Mgorecki                             4\n",
       "ŁT                                   3\n",
       "MPGT                                 3\n",
       "Amadeusz Calik                       3\n",
       "Łukasz Trybulski                     3\n",
       "Mucha, pg                            3\n",
       "mt/ MK (Radio ESKA Lublin)           3\n",
       "Redakcja ESKA INFO                   3\n",
       "mt / ZS (Radio ESKA)                 3\n",
       "mt/ JW (Radio ESKA Lublin)           3\n",
       "mt/OM (Radio ESKA)                   2\n",
       "Mucha, PMar                          2\n",
       "bs                                   2\n",
       "Magdalena Król                       2\n",
       "mt / JW (Radio ESKA Lublin)          2\n",
       "Name: author, dtype: int64"
      ]
     },
     "execution_count": 96,
     "metadata": {},
     "output_type": "execute_result"
    }
   ],
   "source": [
    "df['author'].value_counts()[:60]"
   ]
  },
  {
   "cell_type": "code",
   "execution_count": 97,
   "metadata": {
    "scrolled": true
   },
   "outputs": [
    {
     "data": {
      "text/plain": [
       "publication_date        514\n",
       "publication_month       514\n",
       "publication_day         514\n",
       "author                  514\n",
       "title                   514\n",
       "url                     514\n",
       "koronawirus_in_text     514\n",
       "koronawirus_in_title    514\n",
       "dtype: int64"
      ]
     },
     "execution_count": 97,
     "metadata": {},
     "output_type": "execute_result"
    }
   ],
   "source": [
    "df['author'] = df['author'].str.lower()\n",
    "regex_pattern = re.compile(r'.*mt.*', re.I)\n",
    "df[df['author'].str.contains(regex_pattern)].count()"
   ]
  },
  {
   "cell_type": "code",
   "execution_count": 165,
   "metadata": {
    "scrolled": true
   },
   "outputs": [
    {
     "data": {
      "text/plain": [
       "marek targoński                        651\n",
       "mucha                                  148\n",
       "karolina januszek                       94\n",
       "mariusz mucha                           76\n",
       "ap                                      36\n",
       "om                                      32\n",
       "km                                      26\n",
       "bartłomiej ważny                        23\n",
       "monika kowalewicz                       22\n",
       "ac                                      20\n",
       "maal                                    17\n",
       "mateusz kasiak                          16\n",
       "michał michalak                         16\n",
       "mk                                      16\n",
       "agnieszka niećko                        15\n",
       "gk                                      15\n",
       "jacek werner                            14\n",
       "eib                                     13\n",
       "sylwia sitka-czerniak                   13\n",
       "artykuł sponsorowany                    13\n",
       "olka mazur                              13\n",
       "emilia białecka                         11\n",
       "rs                                      10\n",
       "kaja                                     9\n",
       "                                         9\n",
       "tom                                      8\n",
       "monika kowalewicz/wioletta sawa          7\n",
       "ag                                       7\n",
       "konrad marzec                            7\n",
       "agnieszka przystaś                       7\n",
       "grzegorz kluczyński                      7\n",
       "bm                                       6\n",
       "rafał strzelec                           6\n",
       "maciej brzeziński                        6\n",
       "at                                       6\n",
       "pt                                       5\n",
       "be                                       5\n",
       "mpgt                                     5\n",
       "vera                                     5\n",
       "ap/imgw-pib                              4\n",
       "mgorecki                                 4\n",
       "mar                                      4\n",
       "amadeusz calik                           3\n",
       "łukasz trybulski                         3\n",
       "mucha, pg                                3\n",
       "łt                                       3\n",
       "redakcja eska info                       3\n",
       "mateusz albin                            2\n",
       "monika szaniawska/materiały prasowe      2\n",
       "bs                                       2\n",
       "Name: author, dtype: int64"
      ]
     },
     "execution_count": 165,
     "metadata": {},
     "output_type": "execute_result"
    }
   ],
   "source": [
    "df['author'] = df['author'].replace(['mt', 'mt; wideo: Tygodnik Zamojski', 'gał'],'marek targoński')\n",
    "# df['author'] = df['author'].replace(['Mucha', 'mucha'],'Mariusz Mucha')\n",
    "# df['author'] = df['author'].replace(['ŁT'],'Łukasz Trybulski')\n",
    "# df['author'] = df['author'].replace(['Mateusz Kasiak (Radio Eska)'],'Mateusz Kasiak')\n",
    "# df['author'] = df['author'].replace(['KaJa'],'Karolina Januszek')\n",
    "# df['author'] = df['author'].replace(['RS'],'Rafał Strzelec')\n",
    "# df['author'] = df['author'].replace(['gk'],'Grzegorz Kluczyński')\n",
    "# df['author'] = df['author'].replace([''],'Nieznany')\n",
    "\n",
    "# regex_pattern = re.compile(r'(.*,.*|.*/.*|Redakcja ESKA INFO|Nieznany|Akcja partnerska)', re.I)\n",
    "# df['author'] = df['author'].replace(regex_pattern,'Więcej autorów lub nieznany')\n",
    "\n",
    "regex_pattern = re.compile(r'.*mt.*', re.I)\n",
    "df['author'] = df['author'].replace(regex_pattern,'marek targoński')\n",
    "\n",
    "df['author'].value_counts()[:50]"
   ]
  },
  {
   "cell_type": "code",
   "execution_count": 166,
   "metadata": {
    "scrolled": true
   },
   "outputs": [
    {
     "name": "stdout",
     "output_type": "stream",
     "text": [
      "<class 'pandas.core.frame.DataFrame'>\n",
      "Int64Index: 1489 entries, 0 to 8392\n",
      "Data columns (total 10 columns):\n",
      "publication_date              1489 non-null datetime64[ns]\n",
      "publication_month             1489 non-null object\n",
      "publication_day               1489 non-null object\n",
      "author                        1489 non-null category\n",
      "title                         1489 non-null object\n",
      "url                           1489 non-null object\n",
      "koronawirus_in_text           1489 non-null int64\n",
      "koronawirus_in_title          1489 non-null int64\n",
      "koronawirus_anywhere          1489 non-null int64\n",
      "koronawirus_anywhere_count    1489 non-null int64\n",
      "dtypes: category(1), datetime64[ns](1), int64(4), object(4)\n",
      "memory usage: 866.9 KB\n"
     ]
    }
   ],
   "source": [
    "df['author'] = df['author'].astype('category')\n",
    "df.info(memory_usage='deep')"
   ]
  },
  {
   "cell_type": "markdown",
   "metadata": {},
   "source": [
    "### column: koronawiorus_text"
   ]
  },
  {
   "cell_type": "code",
   "execution_count": 167,
   "metadata": {},
   "outputs": [],
   "source": [
    "# df.loc[[919, 1979, 1965], 'koronawirus_in_text'] = 0"
   ]
  },
  {
   "cell_type": "markdown",
   "metadata": {},
   "source": [
    "### column: koronawiorus_anywhere_sum"
   ]
  },
  {
   "cell_type": "code",
   "execution_count": 168,
   "metadata": {
    "scrolled": false
   },
   "outputs": [
    {
     "data": {
      "text/html": [
       "<div>\n",
       "<style scoped>\n",
       "    .dataframe tbody tr th:only-of-type {\n",
       "        vertical-align: middle;\n",
       "    }\n",
       "\n",
       "    .dataframe tbody tr th {\n",
       "        vertical-align: top;\n",
       "    }\n",
       "\n",
       "    .dataframe thead th {\n",
       "        text-align: right;\n",
       "    }\n",
       "</style>\n",
       "<table border=\"1\" class=\"dataframe\">\n",
       "  <thead>\n",
       "    <tr style=\"text-align: right;\">\n",
       "      <th></th>\n",
       "      <th>publication_date</th>\n",
       "      <th>publication_month</th>\n",
       "      <th>publication_day</th>\n",
       "      <th>author</th>\n",
       "      <th>title</th>\n",
       "      <th>url</th>\n",
       "      <th>koronawirus_in_text</th>\n",
       "      <th>koronawirus_in_title</th>\n",
       "      <th>koronawirus_anywhere</th>\n",
       "      <th>koronawirus_anywhere_count</th>\n",
       "    </tr>\n",
       "  </thead>\n",
       "  <tbody>\n",
       "    <tr>\n",
       "      <td>0</td>\n",
       "      <td>2020-08-17 13:40:00</td>\n",
       "      <td>2020-08</td>\n",
       "      <td>2020-08-17</td>\n",
       "      <td>karolina januszek</td>\n",
       "      <td>Wyprawka szkolna 2020. Jak tanio skompletować na nowy rok szkolny?</td>\n",
       "      <td>https://lublin.se.pl/wyprawka-szkolna-2020-jak-tanio-skompletowac-na-nowy-rok-szkolny-ak-fiix-y7...</td>\n",
       "      <td>0</td>\n",
       "      <td>0</td>\n",
       "      <td>0</td>\n",
       "      <td>0</td>\n",
       "    </tr>\n",
       "  </tbody>\n",
       "</table>\n",
       "</div>"
      ],
      "text/plain": [
       "     publication_date publication_month publication_day             author  \\\n",
       "0 2020-08-17 13:40:00           2020-08      2020-08-17  karolina januszek   \n",
       "\n",
       "                                                                 title  \\\n",
       "0  Wyprawka szkolna 2020. Jak tanio skompletować na nowy rok szkolny?    \n",
       "\n",
       "                                                                                                   url  \\\n",
       "0  https://lublin.se.pl/wyprawka-szkolna-2020-jak-tanio-skompletowac-na-nowy-rok-szkolny-ak-fiix-y7...   \n",
       "\n",
       "   koronawirus_in_text  koronawirus_in_title  koronawirus_anywhere  \\\n",
       "0                    0                     0                     0   \n",
       "\n",
       "   koronawirus_anywhere_count  \n",
       "0                           0  "
      ]
     },
     "execution_count": 168,
     "metadata": {},
     "output_type": "execute_result"
    }
   ],
   "source": [
    "df['koronawirus_anywhere'] = 0\n",
    "df['koronawirus_anywhere'] = df['koronawirus_in_text'] + df['koronawirus_in_title']\n",
    "# df.loc[df.koronawirus_anywhere > 0, 'koronawirus_anywhere'] = 1\n",
    "df.head(1)"
   ]
  },
  {
   "cell_type": "markdown",
   "metadata": {},
   "source": [
    "### column: koronawiorus_anywhere_count"
   ]
  },
  {
   "cell_type": "code",
   "execution_count": 169,
   "metadata": {},
   "outputs": [
    {
     "data": {
      "text/html": [
       "<div>\n",
       "<style scoped>\n",
       "    .dataframe tbody tr th:only-of-type {\n",
       "        vertical-align: middle;\n",
       "    }\n",
       "\n",
       "    .dataframe tbody tr th {\n",
       "        vertical-align: top;\n",
       "    }\n",
       "\n",
       "    .dataframe thead th {\n",
       "        text-align: right;\n",
       "    }\n",
       "</style>\n",
       "<table border=\"1\" class=\"dataframe\">\n",
       "  <thead>\n",
       "    <tr style=\"text-align: right;\">\n",
       "      <th></th>\n",
       "      <th>publication_date</th>\n",
       "      <th>publication_month</th>\n",
       "      <th>publication_day</th>\n",
       "      <th>author</th>\n",
       "      <th>title</th>\n",
       "      <th>url</th>\n",
       "      <th>koronawirus_in_text</th>\n",
       "      <th>koronawirus_in_title</th>\n",
       "      <th>koronawirus_anywhere</th>\n",
       "      <th>koronawirus_anywhere_count</th>\n",
       "    </tr>\n",
       "  </thead>\n",
       "  <tbody>\n",
       "    <tr>\n",
       "      <td>0</td>\n",
       "      <td>2020-08-17 13:40:00</td>\n",
       "      <td>2020-08</td>\n",
       "      <td>2020-08-17</td>\n",
       "      <td>karolina januszek</td>\n",
       "      <td>Wyprawka szkolna 2020. Jak tanio skompletować na nowy rok szkolny?</td>\n",
       "      <td>https://lublin.se.pl/wyprawka-szkolna-2020-jak-tanio-skompletowac-na-nowy-rok-szkolny-ak-fiix-y7...</td>\n",
       "      <td>0</td>\n",
       "      <td>0</td>\n",
       "      <td>0</td>\n",
       "      <td>0</td>\n",
       "    </tr>\n",
       "    <tr>\n",
       "      <td>1</td>\n",
       "      <td>2020-08-17 12:30:00</td>\n",
       "      <td>2020-08</td>\n",
       "      <td>2020-08-17</td>\n",
       "      <td>karolina januszek</td>\n",
       "      <td>Popularna promocja znowu w Lidlu. Zobacz, co możesz kupić</td>\n",
       "      <td>https://lublin.se.pl/popularna-promocja-znowu-w-lidlu-zobacz-co-mozesz-kupic-ak-qjqc-MfwC-D5DE.html</td>\n",
       "      <td>0</td>\n",
       "      <td>0</td>\n",
       "      <td>0</td>\n",
       "      <td>0</td>\n",
       "    </tr>\n",
       "    <tr>\n",
       "      <td>2</td>\n",
       "      <td>2020-08-17 11:54:00</td>\n",
       "      <td>2020-08</td>\n",
       "      <td>2020-08-17</td>\n",
       "      <td>karolina januszek</td>\n",
       "      <td>Uważaj na swoje pieniądze. Oszuści uaktywnili się podczas pandemii</td>\n",
       "      <td>https://lublin.se.pl/uwazaj-na-swoje-pieniadze-oszusci-uaktywnili-sie-podczas-pandemii-ak-2VBF-H...</td>\n",
       "      <td>3</td>\n",
       "      <td>1</td>\n",
       "      <td>4</td>\n",
       "      <td>1</td>\n",
       "    </tr>\n",
       "  </tbody>\n",
       "</table>\n",
       "</div>"
      ],
      "text/plain": [
       "     publication_date publication_month publication_day             author  \\\n",
       "0 2020-08-17 13:40:00           2020-08      2020-08-17  karolina januszek   \n",
       "1 2020-08-17 12:30:00           2020-08      2020-08-17  karolina januszek   \n",
       "2 2020-08-17 11:54:00           2020-08      2020-08-17  karolina januszek   \n",
       "\n",
       "                                                                 title  \\\n",
       "0  Wyprawka szkolna 2020. Jak tanio skompletować na nowy rok szkolny?    \n",
       "1            Popularna promocja znowu w Lidlu. Zobacz, co możesz kupić   \n",
       "2   Uważaj na swoje pieniądze. Oszuści uaktywnili się podczas pandemii   \n",
       "\n",
       "                                                                                                   url  \\\n",
       "0  https://lublin.se.pl/wyprawka-szkolna-2020-jak-tanio-skompletowac-na-nowy-rok-szkolny-ak-fiix-y7...   \n",
       "1  https://lublin.se.pl/popularna-promocja-znowu-w-lidlu-zobacz-co-mozesz-kupic-ak-qjqc-MfwC-D5DE.html   \n",
       "2  https://lublin.se.pl/uwazaj-na-swoje-pieniadze-oszusci-uaktywnili-sie-podczas-pandemii-ak-2VBF-H...   \n",
       "\n",
       "   koronawirus_in_text  koronawirus_in_title  koronawirus_anywhere  \\\n",
       "0                    0                     0                     0   \n",
       "1                    0                     0                     0   \n",
       "2                    3                     1                     4   \n",
       "\n",
       "   koronawirus_anywhere_count  \n",
       "0                           0  \n",
       "1                           0  \n",
       "2                           1  "
      ]
     },
     "execution_count": 169,
     "metadata": {},
     "output_type": "execute_result"
    }
   ],
   "source": [
    "df['koronawirus_anywhere_count'] = 0\n",
    "df['koronawirus_anywhere_count'] = (df['koronawirus_in_text'] + df['koronawirus_in_title']) / (df['koronawirus_in_text'] + df['koronawirus_in_title'])\n",
    "df['koronawirus_anywhere_count'] = df['koronawirus_anywhere_count'].fillna(0).astype('int')\n",
    "df.head(3)"
   ]
  },
  {
   "cell_type": "markdown",
   "metadata": {},
   "source": [
    "# Project"
   ]
  },
  {
   "cell_type": "markdown",
   "metadata": {},
   "source": [
    "### Pierwsze opublikowane artykuły o covid"
   ]
  },
  {
   "cell_type": "code",
   "execution_count": 170,
   "metadata": {
    "scrolled": false
   },
   "outputs": [
    {
     "data": {
      "text/html": [
       "<div>\n",
       "<style scoped>\n",
       "    .dataframe tbody tr th:only-of-type {\n",
       "        vertical-align: middle;\n",
       "    }\n",
       "\n",
       "    .dataframe tbody tr th {\n",
       "        vertical-align: top;\n",
       "    }\n",
       "\n",
       "    .dataframe thead th {\n",
       "        text-align: right;\n",
       "    }\n",
       "</style>\n",
       "<table border=\"1\" class=\"dataframe\">\n",
       "  <thead>\n",
       "    <tr style=\"text-align: right;\">\n",
       "      <th></th>\n",
       "      <th>publication_date</th>\n",
       "      <th>author</th>\n",
       "      <th>title</th>\n",
       "      <th>url</th>\n",
       "    </tr>\n",
       "  </thead>\n",
       "  <tbody>\n",
       "    <tr>\n",
       "      <td>8337</td>\n",
       "      <td>2020-01-29 15:07:00</td>\n",
       "      <td>mpgt</td>\n",
       "      <td>Koronawirus na Lubelszczyźnie? Sześć osób trafiło na badania! [AKTUALIZACJA, AUDIO]</td>\n",
       "      <td>https://www.se.pl/lublin/koronawirus-na-lubelszczyznie-lecieli-samolotem-z-pasazerami-z-chin-tra...</td>\n",
       "    </tr>\n",
       "    <tr>\n",
       "      <td>8331</td>\n",
       "      <td>2020-01-31 10:46:00</td>\n",
       "      <td>marek targoński</td>\n",
       "      <td>Koronawirus z Chin: Gdzie jest? Sprawdź swój region! Lubelskie jest bezpieczne? [MAPA]</td>\n",
       "      <td>https://www.se.pl/lublin/koronawirus-z-chin-gdzie-jest-sprawdz-swoj-region-lubelskie-jest-bezpie...</td>\n",
       "    </tr>\n",
       "    <tr>\n",
       "      <td>8324</td>\n",
       "      <td>2020-02-05 16:54:00</td>\n",
       "      <td>ac</td>\n",
       "      <td>Koronawirus w Lublinie? Mężczyzna zgłosił się z do kliniki chorób zakaźnych! [AKTUALIZACJA]</td>\n",
       "      <td>https://www.se.pl/lublin/koronawirus-w-lublinie-mezczyzna-zglosil-sie-z-objawami-do-kliniki-chor...</td>\n",
       "    </tr>\n",
       "    <tr>\n",
       "      <td>806</td>\n",
       "      <td>2020-02-08 22:25:00</td>\n",
       "      <td>marek targoński</td>\n",
       "      <td>KORONAWIRUS w Lublinie? Znamy wyniki badań! NOWE INFORMACJE [RELACJA]</td>\n",
       "      <td>https://www.se.pl/lublin/koronawirus-w-lublinie-pacjent-trafil-do-szpitala-trwaja-badania-audio-...</td>\n",
       "    </tr>\n",
       "    <tr>\n",
       "      <td>8296</td>\n",
       "      <td>2020-02-26 09:33:00</td>\n",
       "      <td>marek targoński</td>\n",
       "      <td>Koronawirus w Lubelskiem? Wrócili z Włoch – 27 osób pod lupą sanepidu. „Zwiększone ryzyko” [AKTU...</td>\n",
       "      <td>https://www.se.pl/lublin/koronawirus-w-lubelskiem-wrocili-z-wloch-27-osob-pod-lupa-sanepidu-zwie...</td>\n",
       "    </tr>\n",
       "    <tr>\n",
       "      <td>8295</td>\n",
       "      <td>2020-02-26 13:31:00</td>\n",
       "      <td>marek targoński</td>\n",
       "      <td>Koronawirus w Lublinie? Uczelnia zawiesza rekrutację cudzoziemców. „Wszyscy się boimy”</td>\n",
       "      <td>https://www.se.pl/lublin/koronawirus-w-lublinie-uczelnia-zawiesza-rekrutacje-cudzoziemcow-wszysc...</td>\n",
       "    </tr>\n",
       "    <tr>\n",
       "      <td>763</td>\n",
       "      <td>2020-02-26 14:58:00</td>\n",
       "      <td>marek targoński</td>\n",
       "      <td>Koronawirus w Lubelskiem? Dwie osoby w szpitalu! Trwają badania [AKTUALIZACJA, AUDIO]</td>\n",
       "      <td>https://www.se.pl/lublin/koronawirus-na-lubelszczyznie-dwie-osoby-w-szpitalu-trwaja-badania-aa-a...</td>\n",
       "    </tr>\n",
       "    <tr>\n",
       "      <td>8294</td>\n",
       "      <td>2020-02-27 07:42:00</td>\n",
       "      <td>marek targoński</td>\n",
       "      <td>Koronawirus. Gdzie zgłosić się z objawami w Lublinie? Oddziały zakaźne w Lubelskiem [ADRESY]</td>\n",
       "      <td>https://www.se.pl/lublin/koronawirus-gdzie-zglosic-sie-z-objawami-w-lublinie-oddzialy-zakazne-w-...</td>\n",
       "    </tr>\n",
       "  </tbody>\n",
       "</table>\n",
       "</div>"
      ],
      "text/plain": [
       "        publication_date           author  \\\n",
       "8337 2020-01-29 15:07:00             mpgt   \n",
       "8331 2020-01-31 10:46:00  marek targoński   \n",
       "8324 2020-02-05 16:54:00               ac   \n",
       "806  2020-02-08 22:25:00  marek targoński   \n",
       "8296 2020-02-26 09:33:00  marek targoński   \n",
       "8295 2020-02-26 13:31:00  marek targoński   \n",
       "763  2020-02-26 14:58:00  marek targoński   \n",
       "8294 2020-02-27 07:42:00  marek targoński   \n",
       "\n",
       "                                                                                                    title  \\\n",
       "8337                  Koronawirus na Lubelszczyźnie? Sześć osób trafiło na badania! [AKTUALIZACJA, AUDIO]   \n",
       "8331               Koronawirus z Chin: Gdzie jest? Sprawdź swój region! Lubelskie jest bezpieczne? [MAPA]   \n",
       "8324          Koronawirus w Lublinie? Mężczyzna zgłosił się z do kliniki chorób zakaźnych! [AKTUALIZACJA]   \n",
       "806                                 KORONAWIRUS w Lublinie? Znamy wyniki badań! NOWE INFORMACJE [RELACJA]   \n",
       "8296  Koronawirus w Lubelskiem? Wrócili z Włoch – 27 osób pod lupą sanepidu. „Zwiększone ryzyko” [AKTU...   \n",
       "8295               Koronawirus w Lublinie? Uczelnia zawiesza rekrutację cudzoziemców. „Wszyscy się boimy”   \n",
       "763                 Koronawirus w Lubelskiem? Dwie osoby w szpitalu! Trwają badania [AKTUALIZACJA, AUDIO]   \n",
       "8294         Koronawirus. Gdzie zgłosić się z objawami w Lublinie? Oddziały zakaźne w Lubelskiem [ADRESY]   \n",
       "\n",
       "                                                                                                      url  \n",
       "8337  https://www.se.pl/lublin/koronawirus-na-lubelszczyznie-lecieli-samolotem-z-pasazerami-z-chin-tra...  \n",
       "8331  https://www.se.pl/lublin/koronawirus-z-chin-gdzie-jest-sprawdz-swoj-region-lubelskie-jest-bezpie...  \n",
       "8324  https://www.se.pl/lublin/koronawirus-w-lublinie-mezczyzna-zglosil-sie-z-objawami-do-kliniki-chor...  \n",
       "806   https://www.se.pl/lublin/koronawirus-w-lublinie-pacjent-trafil-do-szpitala-trwaja-badania-audio-...  \n",
       "8296  https://www.se.pl/lublin/koronawirus-w-lubelskiem-wrocili-z-wloch-27-osob-pod-lupa-sanepidu-zwie...  \n",
       "8295  https://www.se.pl/lublin/koronawirus-w-lublinie-uczelnia-zawiesza-rekrutacje-cudzoziemcow-wszysc...  \n",
       "763   https://www.se.pl/lublin/koronawirus-na-lubelszczyznie-dwie-osoby-w-szpitalu-trwaja-badania-aa-a...  \n",
       "8294  https://www.se.pl/lublin/koronawirus-gdzie-zglosic-sie-z-objawami-w-lublinie-oddzialy-zakazne-w-...  "
      ]
     },
     "execution_count": 170,
     "metadata": {},
     "output_type": "execute_result"
    }
   ],
   "source": [
    "covid_articles = df.sort_values(by=['koronawirus_in_title', 'publication_date'], ascending=[False, True])\n",
    "covid_articles[['publication_date', 'author', 'title', 'url']].head(8)"
   ]
  },
  {
   "cell_type": "markdown",
   "metadata": {},
   "source": [
    "### łączna ilość artykułów mających w tytule słowo z grupy \"koronawirus\""
   ]
  },
  {
   "cell_type": "code",
   "execution_count": 171,
   "metadata": {},
   "outputs": [
    {
     "data": {
      "text/html": [
       "<div>\n",
       "<style scoped>\n",
       "    .dataframe tbody tr th:only-of-type {\n",
       "        vertical-align: middle;\n",
       "    }\n",
       "\n",
       "    .dataframe tbody tr th {\n",
       "        vertical-align: top;\n",
       "    }\n",
       "\n",
       "    .dataframe thead th {\n",
       "        text-align: right;\n",
       "    }\n",
       "</style>\n",
       "<table border=\"1\" class=\"dataframe\">\n",
       "  <thead>\n",
       "    <tr style=\"text-align: right;\">\n",
       "      <th></th>\n",
       "      <th>publication_date</th>\n",
       "      <th>publication_month</th>\n",
       "      <th>publication_day</th>\n",
       "      <th>author</th>\n",
       "      <th>title</th>\n",
       "      <th>url</th>\n",
       "      <th>koronawirus_in_text</th>\n",
       "      <th>koronawirus_anywhere</th>\n",
       "      <th>koronawirus_anywhere_count</th>\n",
       "    </tr>\n",
       "    <tr>\n",
       "      <th>koronawirus_in_title</th>\n",
       "      <th></th>\n",
       "      <th></th>\n",
       "      <th></th>\n",
       "      <th></th>\n",
       "      <th></th>\n",
       "      <th></th>\n",
       "      <th></th>\n",
       "      <th></th>\n",
       "      <th></th>\n",
       "    </tr>\n",
       "  </thead>\n",
       "  <tbody>\n",
       "    <tr>\n",
       "      <td>0</td>\n",
       "      <td>1138</td>\n",
       "      <td>1138</td>\n",
       "      <td>1138</td>\n",
       "      <td>1138</td>\n",
       "      <td>1138</td>\n",
       "      <td>1138</td>\n",
       "      <td>1138</td>\n",
       "      <td>1138</td>\n",
       "      <td>1138</td>\n",
       "    </tr>\n",
       "    <tr>\n",
       "      <td>1</td>\n",
       "      <td>351</td>\n",
       "      <td>351</td>\n",
       "      <td>351</td>\n",
       "      <td>351</td>\n",
       "      <td>351</td>\n",
       "      <td>351</td>\n",
       "      <td>351</td>\n",
       "      <td>351</td>\n",
       "      <td>351</td>\n",
       "    </tr>\n",
       "  </tbody>\n",
       "</table>\n",
       "</div>"
      ],
      "text/plain": [
       "                      publication_date  publication_month  publication_day  \\\n",
       "koronawirus_in_title                                                         \n",
       "0                                 1138               1138             1138   \n",
       "1                                  351                351              351   \n",
       "\n",
       "                      author  title   url  koronawirus_in_text  \\\n",
       "koronawirus_in_title                                             \n",
       "0                       1138   1138  1138                 1138   \n",
       "1                        351    351   351                  351   \n",
       "\n",
       "                      koronawirus_anywhere  koronawirus_anywhere_count  \n",
       "koronawirus_in_title                                                    \n",
       "0                                     1138                        1138  \n",
       "1                                      351                         351  "
      ]
     },
     "execution_count": 171,
     "metadata": {},
     "output_type": "execute_result"
    }
   ],
   "source": [
    "# df.koronawirus_in_title.sum()\n",
    "\n",
    "df.groupby('koronawirus_in_title').count()"
   ]
  },
  {
   "cell_type": "markdown",
   "metadata": {},
   "source": [
    "### średnia ilość artykułów mających w tytule słowo z grupy \"koronawirus\""
   ]
  },
  {
   "cell_type": "code",
   "execution_count": 172,
   "metadata": {},
   "outputs": [
    {
     "data": {
      "text/plain": [
       "0.23572867696440564"
      ]
     },
     "execution_count": 172,
     "metadata": {},
     "output_type": "execute_result"
    }
   ],
   "source": [
    "df.koronawirus_in_title.mean()"
   ]
  },
  {
   "cell_type": "markdown",
   "metadata": {},
   "source": [
    "### Ilość opublikowanych artykułów ze słowem \"k\" w tytule w każdym miesiącu + porównanie"
   ]
  },
  {
   "cell_type": "code",
   "execution_count": 173,
   "metadata": {
    "scrolled": false
   },
   "outputs": [
    {
     "data": {
      "image/png": "[encoded data removed]",
      "text/plain": [
       "<Figure size 576x360 with 1 Axes>"
      ]
     },
     "metadata": {},
     "output_type": "display_data"
    }
   ],
   "source": [
    "df_with_koronawirus_in_title = df.where(df[\"koronawirus_in_title\"] > 0).dropna()\n",
    "publication_month_with_koronawirus_in_title_count = df_with_koronawirus_in_title.publication_month.astype('category').value_counts(normalize=True)\n",
    "plt.figure(figsize=(8, 5))\n",
    "sns.barplot(publication_month_with_koronawirus_in_title_count.index, publication_month_with_koronawirus_in_title_count.values, alpha=0.8)\n",
    "plt.show()"
   ]
  },
  {
   "cell_type": "code",
   "execution_count": 174,
   "metadata": {},
   "outputs": [
    {
     "data": {
      "text/html": [
       "<div>\n",
       "<style scoped>\n",
       "    .dataframe tbody tr th:only-of-type {\n",
       "        vertical-align: middle;\n",
       "    }\n",
       "\n",
       "    .dataframe tbody tr th {\n",
       "        vertical-align: top;\n",
       "    }\n",
       "\n",
       "    .dataframe thead th {\n",
       "        text-align: right;\n",
       "    }\n",
       "</style>\n",
       "<table border=\"1\" class=\"dataframe\">\n",
       "  <thead>\n",
       "    <tr style=\"text-align: right;\">\n",
       "      <th></th>\n",
       "      <th>publication_date</th>\n",
       "      <th>publication_day</th>\n",
       "      <th>author</th>\n",
       "      <th>title</th>\n",
       "      <th>url</th>\n",
       "      <th>koronawirus_in_text</th>\n",
       "      <th>koronawirus_in_title</th>\n",
       "      <th>koronawirus_anywhere</th>\n",
       "      <th>koronawirus_anywhere_count</th>\n",
       "    </tr>\n",
       "    <tr>\n",
       "      <th>publication_month</th>\n",
       "      <th></th>\n",
       "      <th></th>\n",
       "      <th></th>\n",
       "      <th></th>\n",
       "      <th></th>\n",
       "      <th></th>\n",
       "      <th></th>\n",
       "      <th></th>\n",
       "      <th></th>\n",
       "    </tr>\n",
       "  </thead>\n",
       "  <tbody>\n",
       "    <tr>\n",
       "      <td>2020-01</td>\n",
       "      <td>2</td>\n",
       "      <td>2</td>\n",
       "      <td>2</td>\n",
       "      <td>2</td>\n",
       "      <td>2</td>\n",
       "      <td>2</td>\n",
       "      <td>2</td>\n",
       "      <td>2</td>\n",
       "      <td>2</td>\n",
       "    </tr>\n",
       "    <tr>\n",
       "      <td>2020-02</td>\n",
       "      <td>7</td>\n",
       "      <td>7</td>\n",
       "      <td>7</td>\n",
       "      <td>7</td>\n",
       "      <td>7</td>\n",
       "      <td>7</td>\n",
       "      <td>7</td>\n",
       "      <td>7</td>\n",
       "      <td>7</td>\n",
       "    </tr>\n",
       "    <tr>\n",
       "      <td>2020-03</td>\n",
       "      <td>112</td>\n",
       "      <td>112</td>\n",
       "      <td>112</td>\n",
       "      <td>112</td>\n",
       "      <td>112</td>\n",
       "      <td>112</td>\n",
       "      <td>112</td>\n",
       "      <td>112</td>\n",
       "      <td>112</td>\n",
       "    </tr>\n",
       "    <tr>\n",
       "      <td>2020-04</td>\n",
       "      <td>74</td>\n",
       "      <td>74</td>\n",
       "      <td>74</td>\n",
       "      <td>74</td>\n",
       "      <td>74</td>\n",
       "      <td>74</td>\n",
       "      <td>74</td>\n",
       "      <td>74</td>\n",
       "      <td>74</td>\n",
       "    </tr>\n",
       "    <tr>\n",
       "      <td>2020-05</td>\n",
       "      <td>33</td>\n",
       "      <td>33</td>\n",
       "      <td>33</td>\n",
       "      <td>33</td>\n",
       "      <td>33</td>\n",
       "      <td>33</td>\n",
       "      <td>33</td>\n",
       "      <td>33</td>\n",
       "      <td>33</td>\n",
       "    </tr>\n",
       "    <tr>\n",
       "      <td>2020-06</td>\n",
       "      <td>19</td>\n",
       "      <td>19</td>\n",
       "      <td>19</td>\n",
       "      <td>19</td>\n",
       "      <td>19</td>\n",
       "      <td>19</td>\n",
       "      <td>19</td>\n",
       "      <td>19</td>\n",
       "      <td>19</td>\n",
       "    </tr>\n",
       "    <tr>\n",
       "      <td>2020-07</td>\n",
       "      <td>66</td>\n",
       "      <td>66</td>\n",
       "      <td>66</td>\n",
       "      <td>66</td>\n",
       "      <td>66</td>\n",
       "      <td>66</td>\n",
       "      <td>66</td>\n",
       "      <td>66</td>\n",
       "      <td>66</td>\n",
       "    </tr>\n",
       "    <tr>\n",
       "      <td>2020-08</td>\n",
       "      <td>38</td>\n",
       "      <td>38</td>\n",
       "      <td>38</td>\n",
       "      <td>38</td>\n",
       "      <td>38</td>\n",
       "      <td>38</td>\n",
       "      <td>38</td>\n",
       "      <td>38</td>\n",
       "      <td>38</td>\n",
       "    </tr>\n",
       "  </tbody>\n",
       "</table>\n",
       "</div>"
      ],
      "text/plain": [
       "                   publication_date  publication_day  author  title  url  \\\n",
       "publication_month                                                          \n",
       "2020-01                           2                2       2      2    2   \n",
       "2020-02                           7                7       7      7    7   \n",
       "2020-03                         112              112     112    112  112   \n",
       "2020-04                          74               74      74     74   74   \n",
       "2020-05                          33               33      33     33   33   \n",
       "2020-06                          19               19      19     19   19   \n",
       "2020-07                          66               66      66     66   66   \n",
       "2020-08                          38               38      38     38   38   \n",
       "\n",
       "                   koronawirus_in_text  koronawirus_in_title  \\\n",
       "publication_month                                              \n",
       "2020-01                              2                     2   \n",
       "2020-02                              7                     7   \n",
       "2020-03                            112                   112   \n",
       "2020-04                             74                    74   \n",
       "2020-05                             33                    33   \n",
       "2020-06                             19                    19   \n",
       "2020-07                             66                    66   \n",
       "2020-08                             38                    38   \n",
       "\n",
       "                   koronawirus_anywhere  koronawirus_anywhere_count  \n",
       "publication_month                                                    \n",
       "2020-01                               2                           2  \n",
       "2020-02                               7                           7  \n",
       "2020-03                             112                         112  \n",
       "2020-04                              74                          74  \n",
       "2020-05                              33                          33  \n",
       "2020-06                              19                          19  \n",
       "2020-07                              66                          66  \n",
       "2020-08                              38                          38  "
      ]
     },
     "execution_count": 174,
     "metadata": {},
     "output_type": "execute_result"
    }
   ],
   "source": [
    "df_with_koronawirus_in_title.groupby('publication_month').count()"
   ]
  },
  {
   "cell_type": "code",
   "execution_count": 175,
   "metadata": {},
   "outputs": [
    {
     "data": {
      "image/png": "[encoded data removed]",
      "text/plain": [
       "<Figure size 432x288 with 1 Axes>"
      ]
     },
     "metadata": {},
     "output_type": "display_data"
    }
   ],
   "source": [
    "df_with_koronawirus_in_title = df.where(df[\"koronawirus_in_title\"] > 0).dropna()\n",
    "# plt.style.use('ggplot')\n",
    "# plt.style.use('dark_background')\n",
    "#plt.style.use('seaborn-whitegrid')\n",
    "plt.plot(df_with_koronawirus_in_title.groupby('publication_month').count(),\n",
    "         color='g',\n",
    "        marker='*')\n",
    "plt.ylabel(\"liczba artykułów\")\n",
    "plt.legend([\"koronawirus w tytule\"])\n",
    "# plt.annotate([\"2\", (0, 8)], [\"7\", (1.2, 2)])\n",
    "plt.grid()\n",
    "plt.show()"
   ]
  },
  {
   "cell_type": "markdown",
   "metadata": {},
   "source": [
    "### Łączna ilość artykułów mających w tekście słowo z grupy \"koronawirus\""
   ]
  },
  {
   "cell_type": "code",
   "execution_count": 176,
   "metadata": {},
   "outputs": [
    {
     "data": {
      "text/plain": [
       "555"
      ]
     },
     "execution_count": 176,
     "metadata": {},
     "output_type": "execute_result"
    }
   ],
   "source": [
    "koronawirus_in_text_true = df['koronawirus_in_text'] > 0\n",
    "df['koronawirus_in_text'][koronawirus_in_text_true].count()"
   ]
  },
  {
   "cell_type": "code",
   "execution_count": 177,
   "metadata": {},
   "outputs": [
    {
     "data": {
      "text/plain": [
       "0.37273337810611146"
      ]
     },
     "execution_count": 177,
     "metadata": {},
     "output_type": "execute_result"
    }
   ],
   "source": [
    "koronawirus_in_text_true.mean()"
   ]
  },
  {
   "cell_type": "markdown",
   "metadata": {},
   "source": [
    "### Ilość opublikowanych artykułów ze słowem \"k\" w tekście w każdym miesiącu"
   ]
  },
  {
   "cell_type": "code",
   "execution_count": 178,
   "metadata": {
    "scrolled": true
   },
   "outputs": [
    {
     "data": {
      "text/html": [
       "<div>\n",
       "<style scoped>\n",
       "    .dataframe tbody tr th:only-of-type {\n",
       "        vertical-align: middle;\n",
       "    }\n",
       "\n",
       "    .dataframe tbody tr th {\n",
       "        vertical-align: top;\n",
       "    }\n",
       "\n",
       "    .dataframe thead th {\n",
       "        text-align: right;\n",
       "    }\n",
       "</style>\n",
       "<table border=\"1\" class=\"dataframe\">\n",
       "  <thead>\n",
       "    <tr style=\"text-align: right;\">\n",
       "      <th></th>\n",
       "      <th>publication_date</th>\n",
       "      <th>publication_month</th>\n",
       "      <th>publication_day</th>\n",
       "      <th>author</th>\n",
       "      <th>title</th>\n",
       "      <th>url</th>\n",
       "      <th>koronawirus_in_text</th>\n",
       "      <th>koronawirus_in_title</th>\n",
       "      <th>koronawirus_anywhere</th>\n",
       "      <th>koronawirus_anywhere_count</th>\n",
       "    </tr>\n",
       "  </thead>\n",
       "  <tbody>\n",
       "    <tr>\n",
       "      <td>2</td>\n",
       "      <td>2020-08-17 11:54:00</td>\n",
       "      <td>2020-08</td>\n",
       "      <td>2020-08-17</td>\n",
       "      <td>karolina januszek</td>\n",
       "      <td>Uważaj na swoje pieniądze. Oszuści uaktywnili się podczas pandemii</td>\n",
       "      <td>https://lublin.se.pl/uwazaj-na-swoje-pieniadze-oszusci-uaktywnili-sie-podczas-pandemii-ak-2VBF-H...</td>\n",
       "      <td>3.0</td>\n",
       "      <td>1.0</td>\n",
       "      <td>4.0</td>\n",
       "      <td>1.0</td>\n",
       "    </tr>\n",
       "  </tbody>\n",
       "</table>\n",
       "</div>"
      ],
      "text/plain": [
       "     publication_date publication_month publication_day             author  \\\n",
       "2 2020-08-17 11:54:00           2020-08      2020-08-17  karolina januszek   \n",
       "\n",
       "                                                                title  \\\n",
       "2  Uważaj na swoje pieniądze. Oszuści uaktywnili się podczas pandemii   \n",
       "\n",
       "                                                                                                   url  \\\n",
       "2  https://lublin.se.pl/uwazaj-na-swoje-pieniadze-oszusci-uaktywnili-sie-podczas-pandemii-ak-2VBF-H...   \n",
       "\n",
       "   koronawirus_in_text  koronawirus_in_title  koronawirus_anywhere  \\\n",
       "2                  3.0                   1.0                   4.0   \n",
       "\n",
       "   koronawirus_anywhere_count  \n",
       "2                         1.0  "
      ]
     },
     "execution_count": 178,
     "metadata": {},
     "output_type": "execute_result"
    }
   ],
   "source": [
    "df_with_koronawirus_in_text = df.where(df[\"koronawirus_in_text\"] > 0).dropna()\n",
    "df_with_koronawirus_in_text.head(1)"
   ]
  },
  {
   "cell_type": "code",
   "execution_count": 179,
   "metadata": {
    "scrolled": true
   },
   "outputs": [
    {
     "data": {
      "image/png": "[encoded data removed]",
      "text/plain": [
       "<Figure size 576x360 with 1 Axes>"
      ]
     },
     "metadata": {},
     "output_type": "display_data"
    }
   ],
   "source": [
    "publication_month_with_koronawirus_in_text_count = df_with_koronawirus_in_text.publication_month.astype('category').value_counts(normalize=True)\n",
    "plt.figure(figsize=(8, 5))\n",
    "sns.barplot(publication_month_with_koronawirus_in_text_count.index, publication_month_with_koronawirus_in_text_count.values, alpha=0.8)\n",
    "plt.show()"
   ]
  },
  {
   "cell_type": "code",
   "execution_count": 180,
   "metadata": {
    "scrolled": false
   },
   "outputs": [
    {
     "data": {
      "image/png": "[encoded data removed]",
      "text/plain": [
       "<Figure size 432x288 with 1 Axes>"
      ]
     },
     "metadata": {},
     "output_type": "display_data"
    }
   ],
   "source": [
    "a = plt.plot(df_with_koronawirus_in_text.groupby('publication_month').count(),\n",
    "        color='r',\n",
    "        marker='.')\n",
    "\n",
    "b = plt.plot(df_with_koronawirus_in_title.groupby('publication_month').count(),\n",
    "        color='g',\n",
    "        marker='*',\n",
    "            label='b')\n",
    "\n",
    "plt.ylabel(\"liczba artykułów\")\n",
    "plt.grid()\n",
    "plt.legend(a, [\"koronawirus w tekście\"])\n",
    "plt.show()"
   ]
  },
  {
   "cell_type": "code",
   "execution_count": 181,
   "metadata": {
    "scrolled": true
   },
   "outputs": [
    {
     "data": {
      "text/html": [
       "<div>\n",
       "<style scoped>\n",
       "    .dataframe tbody tr th:only-of-type {\n",
       "        vertical-align: middle;\n",
       "    }\n",
       "\n",
       "    .dataframe tbody tr th {\n",
       "        vertical-align: top;\n",
       "    }\n",
       "\n",
       "    .dataframe thead th {\n",
       "        text-align: right;\n",
       "    }\n",
       "</style>\n",
       "<table border=\"1\" class=\"dataframe\">\n",
       "  <thead>\n",
       "    <tr style=\"text-align: right;\">\n",
       "      <th></th>\n",
       "      <th>publication_date</th>\n",
       "      <th>publication_day</th>\n",
       "      <th>author</th>\n",
       "      <th>title</th>\n",
       "      <th>url</th>\n",
       "      <th>koronawirus_in_text</th>\n",
       "      <th>koronawirus_in_title</th>\n",
       "      <th>koronawirus_anywhere</th>\n",
       "      <th>koronawirus_anywhere_count</th>\n",
       "    </tr>\n",
       "    <tr>\n",
       "      <th>publication_month</th>\n",
       "      <th></th>\n",
       "      <th></th>\n",
       "      <th></th>\n",
       "      <th></th>\n",
       "      <th></th>\n",
       "      <th></th>\n",
       "      <th></th>\n",
       "      <th></th>\n",
       "      <th></th>\n",
       "    </tr>\n",
       "  </thead>\n",
       "  <tbody>\n",
       "    <tr>\n",
       "      <td>2020-01</td>\n",
       "      <td>5</td>\n",
       "      <td>5</td>\n",
       "      <td>5</td>\n",
       "      <td>5</td>\n",
       "      <td>5</td>\n",
       "      <td>5</td>\n",
       "      <td>5</td>\n",
       "      <td>5</td>\n",
       "      <td>5</td>\n",
       "    </tr>\n",
       "    <tr>\n",
       "      <td>2020-02</td>\n",
       "      <td>11</td>\n",
       "      <td>11</td>\n",
       "      <td>11</td>\n",
       "      <td>11</td>\n",
       "      <td>11</td>\n",
       "      <td>11</td>\n",
       "      <td>11</td>\n",
       "      <td>11</td>\n",
       "      <td>11</td>\n",
       "    </tr>\n",
       "    <tr>\n",
       "      <td>2020-03</td>\n",
       "      <td>117</td>\n",
       "      <td>117</td>\n",
       "      <td>117</td>\n",
       "      <td>117</td>\n",
       "      <td>117</td>\n",
       "      <td>117</td>\n",
       "      <td>117</td>\n",
       "      <td>117</td>\n",
       "      <td>117</td>\n",
       "    </tr>\n",
       "    <tr>\n",
       "      <td>2020-04</td>\n",
       "      <td>103</td>\n",
       "      <td>103</td>\n",
       "      <td>103</td>\n",
       "      <td>103</td>\n",
       "      <td>103</td>\n",
       "      <td>103</td>\n",
       "      <td>103</td>\n",
       "      <td>103</td>\n",
       "      <td>103</td>\n",
       "    </tr>\n",
       "    <tr>\n",
       "      <td>2020-05</td>\n",
       "      <td>63</td>\n",
       "      <td>63</td>\n",
       "      <td>63</td>\n",
       "      <td>63</td>\n",
       "      <td>63</td>\n",
       "      <td>63</td>\n",
       "      <td>63</td>\n",
       "      <td>63</td>\n",
       "      <td>63</td>\n",
       "    </tr>\n",
       "    <tr>\n",
       "      <td>2020-06</td>\n",
       "      <td>53</td>\n",
       "      <td>53</td>\n",
       "      <td>53</td>\n",
       "      <td>53</td>\n",
       "      <td>53</td>\n",
       "      <td>53</td>\n",
       "      <td>53</td>\n",
       "      <td>53</td>\n",
       "      <td>53</td>\n",
       "    </tr>\n",
       "    <tr>\n",
       "      <td>2020-07</td>\n",
       "      <td>142</td>\n",
       "      <td>142</td>\n",
       "      <td>142</td>\n",
       "      <td>142</td>\n",
       "      <td>142</td>\n",
       "      <td>142</td>\n",
       "      <td>142</td>\n",
       "      <td>142</td>\n",
       "      <td>142</td>\n",
       "    </tr>\n",
       "    <tr>\n",
       "      <td>2020-08</td>\n",
       "      <td>61</td>\n",
       "      <td>61</td>\n",
       "      <td>61</td>\n",
       "      <td>61</td>\n",
       "      <td>61</td>\n",
       "      <td>61</td>\n",
       "      <td>61</td>\n",
       "      <td>61</td>\n",
       "      <td>61</td>\n",
       "    </tr>\n",
       "  </tbody>\n",
       "</table>\n",
       "</div>"
      ],
      "text/plain": [
       "                   publication_date  publication_day  author  title  url  \\\n",
       "publication_month                                                          \n",
       "2020-01                           5                5       5      5    5   \n",
       "2020-02                          11               11      11     11   11   \n",
       "2020-03                         117              117     117    117  117   \n",
       "2020-04                         103              103     103    103  103   \n",
       "2020-05                          63               63      63     63   63   \n",
       "2020-06                          53               53      53     53   53   \n",
       "2020-07                         142              142     142    142  142   \n",
       "2020-08                          61               61      61     61   61   \n",
       "\n",
       "                   koronawirus_in_text  koronawirus_in_title  \\\n",
       "publication_month                                              \n",
       "2020-01                              5                     5   \n",
       "2020-02                             11                    11   \n",
       "2020-03                            117                   117   \n",
       "2020-04                            103                   103   \n",
       "2020-05                             63                    63   \n",
       "2020-06                             53                    53   \n",
       "2020-07                            142                   142   \n",
       "2020-08                             61                    61   \n",
       "\n",
       "                   koronawirus_anywhere  koronawirus_anywhere_count  \n",
       "publication_month                                                    \n",
       "2020-01                               5                           5  \n",
       "2020-02                              11                          11  \n",
       "2020-03                             117                         117  \n",
       "2020-04                             103                         103  \n",
       "2020-05                              63                          63  \n",
       "2020-06                              53                          53  \n",
       "2020-07                             142                         142  \n",
       "2020-08                              61                          61  "
      ]
     },
     "execution_count": 181,
     "metadata": {},
     "output_type": "execute_result"
    }
   ],
   "source": [
    "df_with_koronawirus_in_text.groupby('publication_month').count()"
   ]
  },
  {
   "cell_type": "markdown",
   "metadata": {},
   "source": [
    "### Artykuły o koronawirusie bez słów z grupy covid w tytule"
   ]
  },
  {
   "cell_type": "code",
   "execution_count": 55,
   "metadata": {},
   "outputs": [
    {
     "data": {
      "text/html": [
       "<div>\n",
       "<style scoped>\n",
       "    .dataframe tbody tr th:only-of-type {\n",
       "        vertical-align: middle;\n",
       "    }\n",
       "\n",
       "    .dataframe tbody tr th {\n",
       "        vertical-align: top;\n",
       "    }\n",
       "\n",
       "    .dataframe thead th {\n",
       "        text-align: right;\n",
       "    }\n",
       "</style>\n",
       "<table border=\"1\" class=\"dataframe\">\n",
       "  <thead>\n",
       "    <tr style=\"text-align: right;\">\n",
       "      <th></th>\n",
       "      <th>publication_date</th>\n",
       "      <th>publication_month</th>\n",
       "      <th>publication_day</th>\n",
       "      <th>author</th>\n",
       "      <th>title</th>\n",
       "      <th>url</th>\n",
       "      <th>koronawirus_in_text</th>\n",
       "      <th>koronawirus_in_title</th>\n",
       "      <th>koronawirus_anywhere</th>\n",
       "    </tr>\n",
       "  </thead>\n",
       "  <tbody>\n",
       "    <tr>\n",
       "      <td>106</td>\n",
       "      <td>2020-07-28 17:28:00</td>\n",
       "      <td>2020-07</td>\n",
       "      <td>2020-07-28</td>\n",
       "      <td>karolina januszek</td>\n",
       "      <td>Zakaz handlu tymczasowo zniesiony? Jest projekt</td>\n",
       "      <td>https://lublin.se.pl/zakaz-handlu-tymczasowo-zniesiony-jest-projekt-ak-UDmc-xk46-WKyr.html</td>\n",
       "      <td>12</td>\n",
       "      <td>0</td>\n",
       "      <td>12</td>\n",
       "    </tr>\n",
       "    <tr>\n",
       "      <td>349</td>\n",
       "      <td>2020-07-01 07:42:00</td>\n",
       "      <td>2020-07</td>\n",
       "      <td>2020-07-01</td>\n",
       "      <td>bartłomiej ważny</td>\n",
       "      <td>Startuje Słoneczny Wrotków nad Zalewem Zemborzyckim. Sprawdź, co się zmieniło!</td>\n",
       "      <td>https://lublin.se.pl/startuje-sloneczny-wrotkow-nad-zalewem-zemborzyckim-sprawdz-co-sie-zmienilo...</td>\n",
       "      <td>12</td>\n",
       "      <td>0</td>\n",
       "      <td>12</td>\n",
       "    </tr>\n",
       "    <tr>\n",
       "      <td>252</td>\n",
       "      <td>2020-07-10 10:01:00</td>\n",
       "      <td>2020-07</td>\n",
       "      <td>2020-07-10</td>\n",
       "      <td>maal</td>\n",
       "      <td>Fundacja Poczty Polskiej pomaga nie tylko pocztowcom</td>\n",
       "      <td>https://lublin.se.pl/fundacja-poczty-polskiej-pomaga-nie-tylko-pocztowcom-ak-mhyB-eDys-5KSt.html</td>\n",
       "      <td>11</td>\n",
       "      <td>0</td>\n",
       "      <td>11</td>\n",
       "    </tr>\n",
       "    <tr>\n",
       "      <td>7904</td>\n",
       "      <td>2020-07-24 17:07:00</td>\n",
       "      <td>2020-07</td>\n",
       "      <td>2020-07-24</td>\n",
       "      <td>kaja</td>\n",
       "      <td>Żabka przekazała 3 mln złotych polskim szpitalom. Wszystko dzięki klientom sieci</td>\n",
       "      <td>https://lublin.se.pl/zabka-przekazala-3-mln-zlotych-polskim-szpitalom-wszystko-dzieki-klientom-s...</td>\n",
       "      <td>11</td>\n",
       "      <td>0</td>\n",
       "      <td>11</td>\n",
       "    </tr>\n",
       "    <tr>\n",
       "      <td>7983</td>\n",
       "      <td>2020-07-09 18:24:00</td>\n",
       "      <td>2020-07</td>\n",
       "      <td>2020-07-09</td>\n",
       "      <td>maal</td>\n",
       "      <td>Obowiązkowe mierzenie temperatury pracownikom w Polsce! Ministerstwo reaguje</td>\n",
       "      <td>https://lublin.se.pl/obowiazkowe-mierzenie-temperatury-pracownikom-w-polsce-ministerstwo-reaguje...</td>\n",
       "      <td>9</td>\n",
       "      <td>0</td>\n",
       "      <td>9</td>\n",
       "    </tr>\n",
       "    <tr>\n",
       "      <td>155</td>\n",
       "      <td>2020-07-22 15:39:00</td>\n",
       "      <td>2020-07</td>\n",
       "      <td>2020-07-22</td>\n",
       "      <td>karolina januszek</td>\n",
       "      <td>Zmiany w zakazie handlu. Jest nowy pomysł</td>\n",
       "      <td>https://lublin.se.pl/zmiany-w-zakazie-handlu-jest-nowy-pomysl-ak-2SVz-XDkR-RuTM.html</td>\n",
       "      <td>6</td>\n",
       "      <td>0</td>\n",
       "      <td>6</td>\n",
       "    </tr>\n",
       "    <tr>\n",
       "      <td>179</td>\n",
       "      <td>2020-07-20 13:30:00</td>\n",
       "      <td>2020-07</td>\n",
       "      <td>2020-07-20</td>\n",
       "      <td>karolina januszek</td>\n",
       "      <td>Koniec pracy zdalnej. Jak przygotować firmę na powrót pracowników?</td>\n",
       "      <td>https://lublin.se.pl/koniec-pracy-zdalnej-jak-przygotowac-firme-na-powrot-pracownikow-ak-ftj7-XG...</td>\n",
       "      <td>5</td>\n",
       "      <td>0</td>\n",
       "      <td>5</td>\n",
       "    </tr>\n",
       "    <tr>\n",
       "      <td>161</td>\n",
       "      <td>2020-07-22 12:13:00</td>\n",
       "      <td>2020-07</td>\n",
       "      <td>2020-07-22</td>\n",
       "      <td>karolina januszek</td>\n",
       "      <td>Minister Finansów o deficycie. Padła gigantyczna kwota</td>\n",
       "      <td>https://lublin.se.pl/minister-finansow-o-deficycie-padla-gigantyczna-kwota-ak-BwaP-W8ob-8aQ8.html</td>\n",
       "      <td>5</td>\n",
       "      <td>0</td>\n",
       "      <td>5</td>\n",
       "    </tr>\n",
       "    <tr>\n",
       "      <td>319</td>\n",
       "      <td>2020-07-03 14:20:00</td>\n",
       "      <td>2020-07</td>\n",
       "      <td>2020-07-03</td>\n",
       "      <td>karolina januszek</td>\n",
       "      <td>Primark w Polsce. Co dalej z otwarciem sklepu w Warszawie?</td>\n",
       "      <td>https://lublin.se.pl/primark-w-polsce-co-dalej-z-otwarciem-sklepu-w-warszawie-ak-7vbs-ADkt-xaho....</td>\n",
       "      <td>5</td>\n",
       "      <td>0</td>\n",
       "      <td>5</td>\n",
       "    </tr>\n",
       "    <tr>\n",
       "      <td>8022</td>\n",
       "      <td>2020-07-03 15:34:00</td>\n",
       "      <td>2020-07</td>\n",
       "      <td>2020-07-03</td>\n",
       "      <td>om</td>\n",
       "      <td>Studenci z Lublina zaprojektowali wyjątkowy bolid i wygrali konkurs dla konstruktorów [WIDEO]</td>\n",
       "      <td>https://lublin.se.pl/studenci-z-lublina-zaprojektowali-wyjatkowy-bolid-i-wygrali-konkurs-dla-kon...</td>\n",
       "      <td>4</td>\n",
       "      <td>0</td>\n",
       "      <td>4</td>\n",
       "    </tr>\n",
       "    <tr>\n",
       "      <td>7948</td>\n",
       "      <td>2020-07-15 14:13:00</td>\n",
       "      <td>2020-07</td>\n",
       "      <td>2020-07-15</td>\n",
       "      <td>sylwia sitka-czerniak</td>\n",
       "      <td>Matura 2020: Kiedy będą wyniki matur 2020 [WYNIKI MATURA 2020, CKE, OKE]</td>\n",
       "      <td>https://lublin.se.pl/matura-2020-kiedy-beda-wyniki-matur-2020-wyniki-matura-2020-cke-ak-7VZL-nb2...</td>\n",
       "      <td>4</td>\n",
       "      <td>0</td>\n",
       "      <td>4</td>\n",
       "    </tr>\n",
       "    <tr>\n",
       "      <td>8016</td>\n",
       "      <td>2020-07-05 19:25:00</td>\n",
       "      <td>2020-07</td>\n",
       "      <td>2020-07-05</td>\n",
       "      <td>mariusz mucha</td>\n",
       "      <td>Żurawie na żużlu. Kibice speedwaya z Lublina nie mają sobie równych [ZDJĘCIA]</td>\n",
       "      <td>https://lublin.se.pl/zurawie-na-zuzlu-kibice-speedwaya-z-lublina-nie-maja-sobie-rownych-aa-Uuyi-...</td>\n",
       "      <td>4</td>\n",
       "      <td>0</td>\n",
       "      <td>4</td>\n",
       "    </tr>\n",
       "    <tr>\n",
       "      <td>7958</td>\n",
       "      <td>2020-07-14 12:50:00</td>\n",
       "      <td>2020-07</td>\n",
       "      <td>2020-07-14</td>\n",
       "      <td>bartłomiej ważny</td>\n",
       "      <td>Nadwaga, cukrycza i inne schorzenia - sprawdź, co grozi Twojemu dziecku [AUDIO]</td>\n",
       "      <td>https://lublin.se.pl/nadwaga-cukrycza-i-inne-schorzenia-sprawdz-co-grozi-twojemu-dziecku-audio-a...</td>\n",
       "      <td>4</td>\n",
       "      <td>0</td>\n",
       "      <td>4</td>\n",
       "    </tr>\n",
       "    <tr>\n",
       "      <td>239</td>\n",
       "      <td>2020-07-12 11:04:00</td>\n",
       "      <td>2020-07</td>\n",
       "      <td>2020-07-12</td>\n",
       "      <td>mariusz mucha</td>\n",
       "      <td>W Wojciechowie kują żelazo w przyłbicach. Rzemiosło i sztuka w jednym [ZDJĘCIA]</td>\n",
       "      <td>https://lublin.se.pl/w-wojciechowie-kuja-zelazo-w-przylbicach-aa-f5Sh-kczQ-UFLd.html</td>\n",
       "      <td>3</td>\n",
       "      <td>0</td>\n",
       "      <td>3</td>\n",
       "    </tr>\n",
       "    <tr>\n",
       "      <td>7934</td>\n",
       "      <td>2020-07-19 10:02:00</td>\n",
       "      <td>2020-07</td>\n",
       "      <td>2020-07-19</td>\n",
       "      <td>mariusz mucha</td>\n",
       "      <td>Lublin: W końcu mają gdzie harcować. Ruszył Rezerwat Dzikich Dzieci [ZDJĘCIA]</td>\n",
       "      <td>https://lublin.se.pl/lublin-w-koncu-maja-gdzie-harcowac-ruszyl-rezerwat-dzikich-dzieci-aa-pUGq-Y...</td>\n",
       "      <td>3</td>\n",
       "      <td>0</td>\n",
       "      <td>3</td>\n",
       "    </tr>\n",
       "    <tr>\n",
       "      <td>7878</td>\n",
       "      <td>2020-07-29 14:57:00</td>\n",
       "      <td>2020-07</td>\n",
       "      <td>2020-07-29</td>\n",
       "      <td>karolina januszek</td>\n",
       "      <td>Tarcza Finansowa. Ostatnie dni, aby skorzystać ze wsparcia</td>\n",
       "      <td>https://lublin.se.pl/tarcza-finansowa-ostatnie-dni-aby-skorzystac-ze-wsparcia-ak-Dkhj-dVWx-GZ9s....</td>\n",
       "      <td>3</td>\n",
       "      <td>0</td>\n",
       "      <td>3</td>\n",
       "    </tr>\n",
       "    <tr>\n",
       "      <td>7901</td>\n",
       "      <td>2020-07-25 08:12:00</td>\n",
       "      <td>2020-07</td>\n",
       "      <td>2020-07-25</td>\n",
       "      <td>karolina januszek</td>\n",
       "      <td>Podszywają się pod pracowników sanepidu. Nowa metoda oszustów</td>\n",
       "      <td>https://lublin.se.pl/podszywaja-sie-pod-pracownikow-sanepidu-nowa-metoda-oszustow-ak-rhp2-wZTf-g...</td>\n",
       "      <td>3</td>\n",
       "      <td>0</td>\n",
       "      <td>3</td>\n",
       "    </tr>\n",
       "    <tr>\n",
       "      <td>302</td>\n",
       "      <td>2020-07-06 13:04:00</td>\n",
       "      <td>2020-07</td>\n",
       "      <td>2020-07-06</td>\n",
       "      <td>mk</td>\n",
       "      <td>Dziennie potrzeba 200 dawców, żeby zabezpieczyć krew dla mieszkańców Lubelszczyzny [AUDIO]</td>\n",
       "      <td>https://lublin.se.pl/dziennie-potrzeba-200-dawcow-zeby-zabezpieczyc-krew-dla-mieszkancow-lubelsz...</td>\n",
       "      <td>3</td>\n",
       "      <td>0</td>\n",
       "      <td>3</td>\n",
       "    </tr>\n",
       "    <tr>\n",
       "      <td>342</td>\n",
       "      <td>2020-07-01 12:36:00</td>\n",
       "      <td>2020-07</td>\n",
       "      <td>2020-07-01</td>\n",
       "      <td>Marek Targoński</td>\n",
       "      <td>ZABIŁA człowieka, bo jej się spieszyło. Wstrząsająca TRAGEDIA w Łukowie</td>\n",
       "      <td>https://lublin.se.pl/zabila-czlowieka-bo-jej-sie-spieszylo-tragedia-w-lukowie-aa-uvfW-aLj6-GPLK....</td>\n",
       "      <td>3</td>\n",
       "      <td>0</td>\n",
       "      <td>3</td>\n",
       "    </tr>\n",
       "    <tr>\n",
       "      <td>98</td>\n",
       "      <td>2020-07-29 13:51:00</td>\n",
       "      <td>2020-07</td>\n",
       "      <td>2020-07-29</td>\n",
       "      <td>karolina januszek</td>\n",
       "      <td>Naciągacze wzięli na cel przedsiębiorców. Dostałeś takie pismo?</td>\n",
       "      <td>https://lublin.se.pl/przestepcy-wzieli-na-cel-przedsiebiorcow-dostales-takie-pismo-ak-U86R-Y39Q-...</td>\n",
       "      <td>3</td>\n",
       "      <td>0</td>\n",
       "      <td>3</td>\n",
       "    </tr>\n",
       "    <tr>\n",
       "      <td>7951</td>\n",
       "      <td>2020-07-15 08:21:00</td>\n",
       "      <td>2020-07</td>\n",
       "      <td>2020-07-15</td>\n",
       "      <td>monika kowalewicz</td>\n",
       "      <td>Zamość: Nie będzie odkomarzania na terenach zielonych. Miasto stawia na naturalne metody</td>\n",
       "      <td>https://lublin.se.pl/zamosc-nie-bedzie-odkomarzania-na-terenach-zielonych-miasto-stawia-na-natur...</td>\n",
       "      <td>3</td>\n",
       "      <td>0</td>\n",
       "      <td>3</td>\n",
       "    </tr>\n",
       "    <tr>\n",
       "      <td>8037</td>\n",
       "      <td>2020-07-01 12:26:00</td>\n",
       "      <td>2020-07</td>\n",
       "      <td>2020-07-01</td>\n",
       "      <td>karolina januszek</td>\n",
       "      <td>Rewolucyjne zmiany dla przedsiębiorców. Zobacz, co się zmieni</td>\n",
       "      <td>https://lublin.se.pl/rewolucyjne-zmiany-dla-przedsiebiorcow-zobacz-co-sie-zmieni-ak-teU8-HX74-ii...</td>\n",
       "      <td>3</td>\n",
       "      <td>0</td>\n",
       "      <td>3</td>\n",
       "    </tr>\n",
       "    <tr>\n",
       "      <td>186</td>\n",
       "      <td>2020-07-18 11:41:00</td>\n",
       "      <td>2020-07</td>\n",
       "      <td>2020-07-18</td>\n",
       "      <td>marcin długosz</td>\n",
       "      <td>Polscy fani byli WYPOSZCZENI. Wynajęli OSIEMNAŚCIE DŹWIGÓW! [ABSURDALNE ZDJĘCIE]</td>\n",
       "      <td>https://lublin.se.pl/polscy-fani-byli-wyposzczeni-wynajeli-osiemnascie-dzwigow-absurdalne-zdjeci...</td>\n",
       "      <td>3</td>\n",
       "      <td>0</td>\n",
       "      <td>3</td>\n",
       "    </tr>\n",
       "    <tr>\n",
       "      <td>336</td>\n",
       "      <td>2020-07-01 16:58:00</td>\n",
       "      <td>2020-07</td>\n",
       "      <td>2020-07-01</td>\n",
       "      <td>Marek Targoński</td>\n",
       "      <td>Średnia pensja w Lublinie i na Lubelszczyźnie to... NIE UWIERZYCIE! ZASKAKUJĄCE dane</td>\n",
       "      <td>https://lublin.se.pl/srednia-pensja-w-lublinie-i-na-lubelszczyznie-to-nie-uwierzycie-zaskakujace...</td>\n",
       "      <td>3</td>\n",
       "      <td>0</td>\n",
       "      <td>3</td>\n",
       "    </tr>\n",
       "    <tr>\n",
       "      <td>8036</td>\n",
       "      <td>2020-07-01 13:29:00</td>\n",
       "      <td>2020-07</td>\n",
       "      <td>2020-07-01</td>\n",
       "      <td>Marek Targoński</td>\n",
       "      <td>Lubelskie: Wyłączenia prądu w Lublinie i regionie. W tych miejscach zgaśnie światło [1-5.07.2020]</td>\n",
       "      <td>https://lublin.se.pl/lubelskie-wylaczenia-pradu-w-lublinie-i-regionie-w-tych-miejscach-zgasnie-s...</td>\n",
       "      <td>3</td>\n",
       "      <td>0</td>\n",
       "      <td>3</td>\n",
       "    </tr>\n",
       "    <tr>\n",
       "      <td>113</td>\n",
       "      <td>2020-07-28 09:20:00</td>\n",
       "      <td>2020-07</td>\n",
       "      <td>2020-07-28</td>\n",
       "      <td>marek targoński</td>\n",
       "      <td>Odpoczywał nad jeziorem – pójdzie siedzieć na 3,5 roku! FAŁSZYWY WNUCZEK zatrzymany w Firleju</td>\n",
       "      <td>https://lublin.se.pl/odpoczywal-nad-jeziorem-pojdzie-siedziec-3-5-roku-falszywy-wnuczek-zatrzyma...</td>\n",
       "      <td>3</td>\n",
       "      <td>0</td>\n",
       "      <td>3</td>\n",
       "    </tr>\n",
       "    <tr>\n",
       "      <td>8015</td>\n",
       "      <td>2020-07-06 09:00:00</td>\n",
       "      <td>2020-07</td>\n",
       "      <td>2020-07-06</td>\n",
       "      <td>monika kowalewicz/wioletta sawa</td>\n",
       "      <td>Zamość: Kąpieliska z powiatu po badaniach stanu wody. Nie wszystkie są w tym roku dostępne</td>\n",
       "      <td>https://lublin.se.pl/zamosc-kapieliska-z-powiatu-po-badaniach-stanu-wody-nie-wszystkie-sa-w-tym-...</td>\n",
       "      <td>3</td>\n",
       "      <td>0</td>\n",
       "      <td>3</td>\n",
       "    </tr>\n",
       "    <tr>\n",
       "      <td>8010</td>\n",
       "      <td>2020-07-06 16:31:00</td>\n",
       "      <td>2020-07</td>\n",
       "      <td>2020-07-06</td>\n",
       "      <td>Marek Targoński</td>\n",
       "      <td>Lublin: Potwór ZGWAŁCIŁ 14-latkę?! Wepchnął dziewczynę do piwnicy i zgotował jej PIEKŁO</td>\n",
       "      <td>https://lublin.se.pl/lublin-potwor-zgwalcil-14-latke-wepchnal-dziewczyne-do-piwnicy-i-zgotowal-j...</td>\n",
       "      <td>3</td>\n",
       "      <td>0</td>\n",
       "      <td>3</td>\n",
       "    </tr>\n",
       "    <tr>\n",
       "      <td>134</td>\n",
       "      <td>2020-07-25 07:27:00</td>\n",
       "      <td>2020-07</td>\n",
       "      <td>2020-07-25</td>\n",
       "      <td>kaja</td>\n",
       "      <td>Rowerzyści obawiają się samochodów. Jakimi kierowcami są Polacy?</td>\n",
       "      <td>https://lublin.se.pl/rowerzysci-obawiaja-sie-samochodow-jakimi-kierowcami-sa-polacy-ak-dHzt-n1qU...</td>\n",
       "      <td>3</td>\n",
       "      <td>0</td>\n",
       "      <td>3</td>\n",
       "    </tr>\n",
       "    <tr>\n",
       "      <td>8001</td>\n",
       "      <td>2020-07-07 22:15:00</td>\n",
       "      <td>2020-07</td>\n",
       "      <td>2020-07-07</td>\n",
       "      <td>marek targoński</td>\n",
       "      <td>II tura BEZ KOLEJEK? Seniorzy i osoby z dziećmi zagłosują poza kolejnością [WYBORY 2020]</td>\n",
       "      <td>https://lublin.se.pl/ii-tura-bez-kolejek-seniorzy-i-osoby-z-dziecmi-zaglosuja-poza-kolejnoscia-w...</td>\n",
       "      <td>3</td>\n",
       "      <td>0</td>\n",
       "      <td>3</td>\n",
       "    </tr>\n",
       "    <tr>\n",
       "      <td>322</td>\n",
       "      <td>2020-07-03 09:22:00</td>\n",
       "      <td>2020-07</td>\n",
       "      <td>2020-07-03</td>\n",
       "      <td>marek targoński</td>\n",
       "      <td>Ślub i wesele w piątek? WAŻNA decyzja arcybiskupa. Kościół ZMIENIŁ zdanie?!</td>\n",
       "      <td>https://lublin.se.pl/slub-i-wesele-w-piatek-wazna-decyzja-arcybiskupa-kosciol-zmienil-zdanie-aa-...</td>\n",
       "      <td>3</td>\n",
       "      <td>0</td>\n",
       "      <td>3</td>\n",
       "    </tr>\n",
       "    <tr>\n",
       "      <td>7984</td>\n",
       "      <td>2020-07-09 15:57:00</td>\n",
       "      <td>2020-07</td>\n",
       "      <td>2020-07-09</td>\n",
       "      <td>mk</td>\n",
       "      <td>Wybory 2020: Czy padnie rekord w liczbie głosujących korespondencyjnie? [AUDIO]</td>\n",
       "      <td>https://lublin.se.pl/wytbory-prezydenckie-2020-czy-padnie-rekord-w-liczbie-glosujacych-korespond...</td>\n",
       "      <td>3</td>\n",
       "      <td>0</td>\n",
       "      <td>3</td>\n",
       "    </tr>\n",
       "    <tr>\n",
       "      <td>7980</td>\n",
       "      <td>2020-07-10 08:28:00</td>\n",
       "      <td>2020-07</td>\n",
       "      <td>2020-07-10</td>\n",
       "      <td>monika kowalewicz</td>\n",
       "      <td>Wypłata \"solidarnościowego\" od ZUS bez przeszkód. Na Zamojszczyźnie skorzystało ponad 1300 osób ...</td>\n",
       "      <td>https://lublin.se.pl/wyplata-solidarnosciowego-od-zus-bez-przeszkod-na-zamojszczyznie-skorzystal...</td>\n",
       "      <td>3</td>\n",
       "      <td>0</td>\n",
       "      <td>3</td>\n",
       "    </tr>\n",
       "    <tr>\n",
       "      <td>172</td>\n",
       "      <td>2020-07-21 12:47:00</td>\n",
       "      <td>2020-07</td>\n",
       "      <td>2020-07-21</td>\n",
       "      <td>rafał strzelec</td>\n",
       "      <td>Ruszył nabór do Szlachetnej Paczki 2020. Potrzeba tysięcy wolontariuszy!</td>\n",
       "      <td>https://lublin.se.pl/ruszyl-nabor-do-szlachetnej-paczki-2020-potrzeba-tysiecy-wolontariuszy-ak-4...</td>\n",
       "      <td>3</td>\n",
       "      <td>0</td>\n",
       "      <td>3</td>\n",
       "    </tr>\n",
       "    <tr>\n",
       "      <td>7962</td>\n",
       "      <td>2020-07-08 10:20:00</td>\n",
       "      <td>2020-07</td>\n",
       "      <td>2020-07-08</td>\n",
       "      <td>mariusz mucha</td>\n",
       "      <td>Włodawa: Kajakiem na Białoruś. Ciekawscy turyści dostali mandat</td>\n",
       "      <td>https://lublin.se.pl/wlodawa-kajakiem-na-bialorus-ciekawscy-turysci-dostali-mandat-aa-b3qF-DPap-...</td>\n",
       "      <td>3</td>\n",
       "      <td>0</td>\n",
       "      <td>3</td>\n",
       "    </tr>\n",
       "    <tr>\n",
       "      <td>7961</td>\n",
       "      <td>2020-07-14 09:06:00</td>\n",
       "      <td>2020-07</td>\n",
       "      <td>2020-07-14</td>\n",
       "      <td>monika kowalewicz/wioletta sawa</td>\n",
       "      <td>Zamojski Ogród Zoologiczny ze wzrostem turystów indywidualnych. Placówka zaprasza do rodzinnego ...</td>\n",
       "      <td>https://lublin.se.pl/zamojski-ogrod-zoologiczny-ze-wzrostem-turystow-indywidualnych-placowka-zap...</td>\n",
       "      <td>3</td>\n",
       "      <td>0</td>\n",
       "      <td>3</td>\n",
       "    </tr>\n",
       "    <tr>\n",
       "      <td>7877</td>\n",
       "      <td>2020-07-30 07:41:00</td>\n",
       "      <td>2020-07</td>\n",
       "      <td>2020-07-30</td>\n",
       "      <td>karolina januszek</td>\n",
       "      <td>Lidl zaprasza na domówkę! Festiwal Pol'andRock online</td>\n",
       "      <td>https://lublin.se.pl/lidl-zaprasza-na-domowke-festiwal-polandrock-online-ak-3RqM-LCs3-hdF4.html</td>\n",
       "      <td>2</td>\n",
       "      <td>0</td>\n",
       "      <td>2</td>\n",
       "    </tr>\n",
       "    <tr>\n",
       "      <td>7872</td>\n",
       "      <td>2020-07-30 19:05:00</td>\n",
       "      <td>2020-07</td>\n",
       "      <td>2020-07-30</td>\n",
       "      <td>marek targoński</td>\n",
       "      <td>Lublin: Fontanna multimedialna na Placu Litewskim [POKAZY FONTANN – HARMONOGRAM]</td>\n",
       "      <td>https://lublin.se.pl/lublin-fontanna-multimedialna-na-placu-litewskim-pokazy-fontann-harmonogram...</td>\n",
       "      <td>2</td>\n",
       "      <td>0</td>\n",
       "      <td>2</td>\n",
       "    </tr>\n",
       "    <tr>\n",
       "      <td>7937</td>\n",
       "      <td>2020-07-17 16:32:00</td>\n",
       "      <td>2020-07</td>\n",
       "      <td>2020-07-17</td>\n",
       "      <td>marek targoński</td>\n",
       "      <td>Średnia pensja w Lublinie i w Lubelskiem? SZOKUJĄCE DANE statystyczne [WYNAGRODZENIA GUS]</td>\n",
       "      <td>https://lublin.se.pl/srednia-pensja-w-lublinie-i-w-lubelskiem-szokujace-dane-statystyczne-wynagr...</td>\n",
       "      <td>2</td>\n",
       "      <td>0</td>\n",
       "      <td>2</td>\n",
       "    </tr>\n",
       "    <tr>\n",
       "      <td>7950</td>\n",
       "      <td>2020-07-15 11:29:00</td>\n",
       "      <td>2020-07</td>\n",
       "      <td>2020-07-15</td>\n",
       "      <td>jacek werner</td>\n",
       "      <td>Działa już jeden, wkrótce będą kolejne. Czy parkingi P&amp;R się w Lublinie sprawdzają?</td>\n",
       "      <td>https://lublin.se.pl/dziala-juz-jeden-wkrotce-beda-kolejne-czy-parkingi-p-r-sie-w-lublinie-spraw...</td>\n",
       "      <td>2</td>\n",
       "      <td>0</td>\n",
       "      <td>2</td>\n",
       "    </tr>\n",
       "    <tr>\n",
       "      <td>7987</td>\n",
       "      <td>2020-07-09 10:35:00</td>\n",
       "      <td>2020-07</td>\n",
       "      <td>2020-07-09</td>\n",
       "      <td>mariusz mucha</td>\n",
       "      <td>Horodło: Wyrodny syn POBIŁ matkę i ZRABOWAŁ jej oszczędności. STRASZNE!</td>\n",
       "      <td>https://lublin.se.pl/hrubieszow-wyrodny-syn-pobil-matke-i-zrabowal-jej-oszczednosci-aa-fwuT-MNrx...</td>\n",
       "      <td>2</td>\n",
       "      <td>0</td>\n",
       "      <td>2</td>\n",
       "    </tr>\n",
       "    <tr>\n",
       "      <td>91</td>\n",
       "      <td>2020-07-30 10:45:00</td>\n",
       "      <td>2020-07</td>\n",
       "      <td>2020-07-30</td>\n",
       "      <td>kaja/maal</td>\n",
       "      <td>Polski bon turystyczny. Od kiedy będzie działać?</td>\n",
       "      <td>https://lublin.se.pl/polski-bon-turystyczny-od-kiedy-bedzie-dzialac-ak-Mg5m-vpc5-Z4L4.html</td>\n",
       "      <td>2</td>\n",
       "      <td>0</td>\n",
       "      <td>2</td>\n",
       "    </tr>\n",
       "    <tr>\n",
       "      <td>308</td>\n",
       "      <td>2020-07-06 07:37:00</td>\n",
       "      <td>2020-07</td>\n",
       "      <td>2020-07-06</td>\n",
       "      <td>eib</td>\n",
       "      <td>Pogoda na lipiec 2020. Czekają nas upały! W lipcu padnie rekord ciepła? [POGODA DŁUGOTERMINOWA]</td>\n",
       "      <td>https://lublin.se.pl/pogoda-na-lipiec-2020-czekaja-nas-upaly-w-lipcu-padnie-rekord-ciepla-ak-SMB...</td>\n",
       "      <td>2</td>\n",
       "      <td>0</td>\n",
       "      <td>2</td>\n",
       "    </tr>\n",
       "    <tr>\n",
       "      <td>120</td>\n",
       "      <td>2020-07-27 12:51:00</td>\n",
       "      <td>2020-07</td>\n",
       "      <td>2020-07-27</td>\n",
       "      <td>karolina januszek</td>\n",
       "      <td>Wypadki na drogach w Polsce. Tyle za nie płacimy</td>\n",
       "      <td>https://lublin.se.pl/wypadki-na-drogach-w-polsce-tyle-za-nie-placimy-ak-jg6Q-kpsD-erkz.html</td>\n",
       "      <td>2</td>\n",
       "      <td>0</td>\n",
       "      <td>2</td>\n",
       "    </tr>\n",
       "    <tr>\n",
       "      <td>177</td>\n",
       "      <td>2020-07-20 17:07:00</td>\n",
       "      <td>2020-07</td>\n",
       "      <td>2020-07-20</td>\n",
       "      <td>karolina januszek</td>\n",
       "      <td>Jak wyłączyć nowy wygląd Facebooka?</td>\n",
       "      <td>https://lublin.se.pl/jak-wylaczyc-nowy-wyglad-facebooka-ak-SVcZ-cJGA-UH3L.html</td>\n",
       "      <td>2</td>\n",
       "      <td>0</td>\n",
       "      <td>2</td>\n",
       "    </tr>\n",
       "    <tr>\n",
       "      <td>192</td>\n",
       "      <td>2020-07-17 10:38:00</td>\n",
       "      <td>2020-07</td>\n",
       "      <td>2020-07-17</td>\n",
       "      <td>maal</td>\n",
       "      <td>Poczta Polska wprowadza dużą zmianę. Będzie szybciej sortować przesyłki</td>\n",
       "      <td>https://lublin.se.pl/poczta-polska-wprowadza-duza-zmiane-bedzie-szybciej-sortowac-przesylki-ak-d...</td>\n",
       "      <td>2</td>\n",
       "      <td>0</td>\n",
       "      <td>2</td>\n",
       "    </tr>\n",
       "    <tr>\n",
       "      <td>159</td>\n",
       "      <td>2020-07-22 13:15:00</td>\n",
       "      <td>2020-07</td>\n",
       "      <td>2020-07-22</td>\n",
       "      <td>karolina januszek</td>\n",
       "      <td>Sklepy zmieniają godziny otwarcia. Wybrane placówki czynne całą dobę</td>\n",
       "      <td>https://lublin.se.pl/sklepy-zmieniaja-godziny-otwarcia-wybrane-placowki-czynne-cala-dobe-ak-nHMN...</td>\n",
       "      <td>2</td>\n",
       "      <td>0</td>\n",
       "      <td>2</td>\n",
       "    </tr>\n",
       "    <tr>\n",
       "      <td>227</td>\n",
       "      <td>2020-07-14 06:00:00</td>\n",
       "      <td>2020-07</td>\n",
       "      <td>2020-07-14</td>\n",
       "      <td>artykuł sponsorowany</td>\n",
       "      <td>KINO PLENEROWE na dachu VIVO! Lublin. „Taras pełen atrakcji” [HARMONOGRAM]</td>\n",
       "      <td>https://lublin.se.pl/kino-plenerowe-na-dachu-vivo-lublin-taras-pelen-atrakcji-harmonogram-aa-rfS...</td>\n",
       "      <td>2</td>\n",
       "      <td>0</td>\n",
       "      <td>2</td>\n",
       "    </tr>\n",
       "    <tr>\n",
       "      <td>261</td>\n",
       "      <td>2020-07-09 14:34:00</td>\n",
       "      <td>2020-07</td>\n",
       "      <td>2020-07-09</td>\n",
       "      <td>om</td>\n",
       "      <td>Przedsiębiorcy z województwa mogą ubiegać się o kolejne dotacje</td>\n",
       "      <td>https://lublin.se.pl/przedsiebiorcy-z-wojewodztwa-moga-ubiegac-sie-o-kolejne-dotacje-ak-cGVe-Lsf...</td>\n",
       "      <td>2</td>\n",
       "      <td>0</td>\n",
       "      <td>2</td>\n",
       "    </tr>\n",
       "    <tr>\n",
       "      <td>132</td>\n",
       "      <td>2020-07-25 09:47:00</td>\n",
       "      <td>2020-07</td>\n",
       "      <td>2020-07-25</td>\n",
       "      <td>karolina januszek</td>\n",
       "      <td>Bon turystyczny! Kiedy rusza rejestracja wniosków?</td>\n",
       "      <td>https://lublin.se.pl/bon-turystyczny-kiedy-rusza-rejestracja-wnioskow-ak-PPok-Rd3Q-qcLC.html</td>\n",
       "      <td>2</td>\n",
       "      <td>0</td>\n",
       "      <td>2</td>\n",
       "    </tr>\n",
       "  </tbody>\n",
       "</table>\n",
       "</div>"
      ],
      "text/plain": [
       "        publication_date publication_month publication_day  \\\n",
       "106  2020-07-28 17:28:00           2020-07      2020-07-28   \n",
       "349  2020-07-01 07:42:00           2020-07      2020-07-01   \n",
       "252  2020-07-10 10:01:00           2020-07      2020-07-10   \n",
       "7904 2020-07-24 17:07:00           2020-07      2020-07-24   \n",
       "7983 2020-07-09 18:24:00           2020-07      2020-07-09   \n",
       "155  2020-07-22 15:39:00           2020-07      2020-07-22   \n",
       "179  2020-07-20 13:30:00           2020-07      2020-07-20   \n",
       "161  2020-07-22 12:13:00           2020-07      2020-07-22   \n",
       "319  2020-07-03 14:20:00           2020-07      2020-07-03   \n",
       "8022 2020-07-03 15:34:00           2020-07      2020-07-03   \n",
       "7948 2020-07-15 14:13:00           2020-07      2020-07-15   \n",
       "8016 2020-07-05 19:25:00           2020-07      2020-07-05   \n",
       "7958 2020-07-14 12:50:00           2020-07      2020-07-14   \n",
       "239  2020-07-12 11:04:00           2020-07      2020-07-12   \n",
       "7934 2020-07-19 10:02:00           2020-07      2020-07-19   \n",
       "7878 2020-07-29 14:57:00           2020-07      2020-07-29   \n",
       "7901 2020-07-25 08:12:00           2020-07      2020-07-25   \n",
       "302  2020-07-06 13:04:00           2020-07      2020-07-06   \n",
       "342  2020-07-01 12:36:00           2020-07      2020-07-01   \n",
       "98   2020-07-29 13:51:00           2020-07      2020-07-29   \n",
       "7951 2020-07-15 08:21:00           2020-07      2020-07-15   \n",
       "8037 2020-07-01 12:26:00           2020-07      2020-07-01   \n",
       "186  2020-07-18 11:41:00           2020-07      2020-07-18   \n",
       "336  2020-07-01 16:58:00           2020-07      2020-07-01   \n",
       "8036 2020-07-01 13:29:00           2020-07      2020-07-01   \n",
       "113  2020-07-28 09:20:00           2020-07      2020-07-28   \n",
       "8015 2020-07-06 09:00:00           2020-07      2020-07-06   \n",
       "8010 2020-07-06 16:31:00           2020-07      2020-07-06   \n",
       "134  2020-07-25 07:27:00           2020-07      2020-07-25   \n",
       "8001 2020-07-07 22:15:00           2020-07      2020-07-07   \n",
       "322  2020-07-03 09:22:00           2020-07      2020-07-03   \n",
       "7984 2020-07-09 15:57:00           2020-07      2020-07-09   \n",
       "7980 2020-07-10 08:28:00           2020-07      2020-07-10   \n",
       "172  2020-07-21 12:47:00           2020-07      2020-07-21   \n",
       "7962 2020-07-08 10:20:00           2020-07      2020-07-08   \n",
       "7961 2020-07-14 09:06:00           2020-07      2020-07-14   \n",
       "7877 2020-07-30 07:41:00           2020-07      2020-07-30   \n",
       "7872 2020-07-30 19:05:00           2020-07      2020-07-30   \n",
       "7937 2020-07-17 16:32:00           2020-07      2020-07-17   \n",
       "7950 2020-07-15 11:29:00           2020-07      2020-07-15   \n",
       "7987 2020-07-09 10:35:00           2020-07      2020-07-09   \n",
       "91   2020-07-30 10:45:00           2020-07      2020-07-30   \n",
       "308  2020-07-06 07:37:00           2020-07      2020-07-06   \n",
       "120  2020-07-27 12:51:00           2020-07      2020-07-27   \n",
       "177  2020-07-20 17:07:00           2020-07      2020-07-20   \n",
       "192  2020-07-17 10:38:00           2020-07      2020-07-17   \n",
       "159  2020-07-22 13:15:00           2020-07      2020-07-22   \n",
       "227  2020-07-14 06:00:00           2020-07      2020-07-14   \n",
       "261  2020-07-09 14:34:00           2020-07      2020-07-09   \n",
       "132  2020-07-25 09:47:00           2020-07      2020-07-25   \n",
       "\n",
       "                               author  \\\n",
       "106                 karolina januszek   \n",
       "349                  bartłomiej ważny   \n",
       "252                              maal   \n",
       "7904                             kaja   \n",
       "7983                             maal   \n",
       "155                 karolina januszek   \n",
       "179                 karolina januszek   \n",
       "161                 karolina januszek   \n",
       "319                 karolina januszek   \n",
       "8022                               om   \n",
       "7948            sylwia sitka-czerniak   \n",
       "8016                    mariusz mucha   \n",
       "7958                 bartłomiej ważny   \n",
       "239                     mariusz mucha   \n",
       "7934                    mariusz mucha   \n",
       "7878                karolina januszek   \n",
       "7901                karolina januszek   \n",
       "302                                mk   \n",
       "342                   Marek Targoński   \n",
       "98                  karolina januszek   \n",
       "7951                monika kowalewicz   \n",
       "8037                karolina januszek   \n",
       "186                    marcin długosz   \n",
       "336                   Marek Targoński   \n",
       "8036                  Marek Targoński   \n",
       "113                   marek targoński   \n",
       "8015  monika kowalewicz/wioletta sawa   \n",
       "8010                  Marek Targoński   \n",
       "134                              kaja   \n",
       "8001                  marek targoński   \n",
       "322                   marek targoński   \n",
       "7984                               mk   \n",
       "7980                monika kowalewicz   \n",
       "172                    rafał strzelec   \n",
       "7962                    mariusz mucha   \n",
       "7961  monika kowalewicz/wioletta sawa   \n",
       "7877                karolina januszek   \n",
       "7872                  marek targoński   \n",
       "7937                  marek targoński   \n",
       "7950                     jacek werner   \n",
       "7987                    mariusz mucha   \n",
       "91                          kaja/maal   \n",
       "308                               eib   \n",
       "120                 karolina januszek   \n",
       "177                 karolina januszek   \n",
       "192                              maal   \n",
       "159                 karolina januszek   \n",
       "227              artykuł sponsorowany   \n",
       "261                                om   \n",
       "132                 karolina januszek   \n",
       "\n",
       "                                                                                                    title  \\\n",
       "106                                                      Zakaz handlu tymczasowo zniesiony? Jest projekt    \n",
       "349                        Startuje Słoneczny Wrotków nad Zalewem Zemborzyckim. Sprawdź, co się zmieniło!   \n",
       "252                                                 Fundacja Poczty Polskiej pomaga nie tylko pocztowcom    \n",
       "7904                     Żabka przekazała 3 mln złotych polskim szpitalom. Wszystko dzięki klientom sieci   \n",
       "7983                         Obowiązkowe mierzenie temperatury pracownikom w Polsce! Ministerstwo reaguje   \n",
       "155                                                             Zmiany w zakazie handlu. Jest nowy pomysł   \n",
       "179                                    Koniec pracy zdalnej. Jak przygotować firmę na powrót pracowników?   \n",
       "161                                                Minister Finansów o deficycie. Padła gigantyczna kwota   \n",
       "319                                            Primark w Polsce. Co dalej z otwarciem sklepu w Warszawie?   \n",
       "8022        Studenci z Lublina zaprojektowali wyjątkowy bolid i wygrali konkurs dla konstruktorów [WIDEO]   \n",
       "7948                             Matura 2020: Kiedy będą wyniki matur 2020 [WYNIKI MATURA 2020, CKE, OKE]   \n",
       "8016                        Żurawie na żużlu. Kibice speedwaya z Lublina nie mają sobie równych [ZDJĘCIA]   \n",
       "7958                      Nadwaga, cukrycza i inne schorzenia - sprawdź, co grozi Twojemu dziecku [AUDIO]   \n",
       "239                       W Wojciechowie kują żelazo w przyłbicach. Rzemiosło i sztuka w jednym [ZDJĘCIA]   \n",
       "7934                        Lublin: W końcu mają gdzie harcować. Ruszył Rezerwat Dzikich Dzieci [ZDJĘCIA]   \n",
       "7878                                           Tarcza Finansowa. Ostatnie dni, aby skorzystać ze wsparcia   \n",
       "7901                                        Podszywają się pod pracowników sanepidu. Nowa metoda oszustów   \n",
       "302            Dziennie potrzeba 200 dawców, żeby zabezpieczyć krew dla mieszkańców Lubelszczyzny [AUDIO]   \n",
       "342                               ZABIŁA człowieka, bo jej się spieszyło. Wstrząsająca TRAGEDIA w Łukowie   \n",
       "98                                       Naciągacze wzięli na cel przedsiębiorców. Dostałeś takie pismo?    \n",
       "7951             Zamość: Nie będzie odkomarzania na terenach zielonych. Miasto stawia na naturalne metody   \n",
       "8037                                        Rewolucyjne zmiany dla przedsiębiorców. Zobacz, co się zmieni   \n",
       "186                      Polscy fani byli WYPOSZCZENI. Wynajęli OSIEMNAŚCIE DŹWIGÓW! [ABSURDALNE ZDJĘCIE]   \n",
       "336                  Średnia pensja w Lublinie i na Lubelszczyźnie to... NIE UWIERZYCIE! ZASKAKUJĄCE dane   \n",
       "8036    Lubelskie: Wyłączenia prądu w Lublinie i regionie. W tych miejscach zgaśnie światło [1-5.07.2020]   \n",
       "113         Odpoczywał nad jeziorem – pójdzie siedzieć na 3,5 roku! FAŁSZYWY WNUCZEK zatrzymany w Firleju   \n",
       "8015           Zamość: Kąpieliska z powiatu po badaniach stanu wody. Nie wszystkie są w tym roku dostępne   \n",
       "8010              Lublin: Potwór ZGWAŁCIŁ 14-latkę?! Wepchnął dziewczynę do piwnicy i zgotował jej PIEKŁO   \n",
       "134                                      Rowerzyści obawiają się samochodów. Jakimi kierowcami są Polacy?   \n",
       "8001             II tura BEZ KOLEJEK? Seniorzy i osoby z dziećmi zagłosują poza kolejnością [WYBORY 2020]   \n",
       "322                           Ślub i wesele w piątek? WAŻNA decyzja arcybiskupa. Kościół ZMIENIŁ zdanie?!   \n",
       "7984                      Wybory 2020: Czy padnie rekord w liczbie głosujących korespondencyjnie? [AUDIO]   \n",
       "7980  Wypłata \"solidarnościowego\" od ZUS bez przeszkód. Na Zamojszczyźnie skorzystało ponad 1300 osób ...   \n",
       "172                              Ruszył nabór do Szlachetnej Paczki 2020. Potrzeba tysięcy wolontariuszy!   \n",
       "7962                                      Włodawa: Kajakiem na Białoruś. Ciekawscy turyści dostali mandat   \n",
       "7961  Zamojski Ogród Zoologiczny ze wzrostem turystów indywidualnych. Placówka zaprasza do rodzinnego ...   \n",
       "7877                                                Lidl zaprasza na domówkę! Festiwal Pol'andRock online   \n",
       "7872                     Lublin: Fontanna multimedialna na Placu Litewskim [POKAZY FONTANN – HARMONOGRAM]   \n",
       "7937            Średnia pensja w Lublinie i w Lubelskiem? SZOKUJĄCE DANE statystyczne [WYNAGRODZENIA GUS]   \n",
       "7950                  Działa już jeden, wkrótce będą kolejne. Czy parkingi P&R się w Lublinie sprawdzają?   \n",
       "7987                              Horodło: Wyrodny syn POBIŁ matkę i ZRABOWAŁ jej oszczędności. STRASZNE!   \n",
       "91                                                      Polski bon turystyczny. Od kiedy będzie działać?    \n",
       "308       Pogoda na lipiec 2020. Czekają nas upały! W lipcu padnie rekord ciepła? [POGODA DŁUGOTERMINOWA]   \n",
       "120                                                      Wypadki na drogach w Polsce. Tyle za nie płacimy   \n",
       "177                                                                  Jak wyłączyć nowy wygląd Facebooka?    \n",
       "192                               Poczta Polska wprowadza dużą zmianę. Będzie szybciej sortować przesyłki   \n",
       "159                                  Sklepy zmieniają godziny otwarcia. Wybrane placówki czynne całą dobę   \n",
       "227                            KINO PLENEROWE na dachu VIVO! Lublin. „Taras pełen atrakcji” [HARMONOGRAM]   \n",
       "261                                       Przedsiębiorcy z województwa mogą ubiegać się o kolejne dotacje   \n",
       "132                                                    Bon turystyczny! Kiedy rusza rejestracja wniosków?   \n",
       "\n",
       "                                                                                                      url  \\\n",
       "106            https://lublin.se.pl/zakaz-handlu-tymczasowo-zniesiony-jest-projekt-ak-UDmc-xk46-WKyr.html   \n",
       "349   https://lublin.se.pl/startuje-sloneczny-wrotkow-nad-zalewem-zemborzyckim-sprawdz-co-sie-zmienilo...   \n",
       "252      https://lublin.se.pl/fundacja-poczty-polskiej-pomaga-nie-tylko-pocztowcom-ak-mhyB-eDys-5KSt.html   \n",
       "7904  https://lublin.se.pl/zabka-przekazala-3-mln-zlotych-polskim-szpitalom-wszystko-dzieki-klientom-s...   \n",
       "7983  https://lublin.se.pl/obowiazkowe-mierzenie-temperatury-pracownikom-w-polsce-ministerstwo-reaguje...   \n",
       "155                  https://lublin.se.pl/zmiany-w-zakazie-handlu-jest-nowy-pomysl-ak-2SVz-XDkR-RuTM.html   \n",
       "179   https://lublin.se.pl/koniec-pracy-zdalnej-jak-przygotowac-firme-na-powrot-pracownikow-ak-ftj7-XG...   \n",
       "161     https://lublin.se.pl/minister-finansow-o-deficycie-padla-gigantyczna-kwota-ak-BwaP-W8ob-8aQ8.html   \n",
       "319   https://lublin.se.pl/primark-w-polsce-co-dalej-z-otwarciem-sklepu-w-warszawie-ak-7vbs-ADkt-xaho....   \n",
       "8022  https://lublin.se.pl/studenci-z-lublina-zaprojektowali-wyjatkowy-bolid-i-wygrali-konkurs-dla-kon...   \n",
       "7948  https://lublin.se.pl/matura-2020-kiedy-beda-wyniki-matur-2020-wyniki-matura-2020-cke-ak-7VZL-nb2...   \n",
       "8016  https://lublin.se.pl/zurawie-na-zuzlu-kibice-speedwaya-z-lublina-nie-maja-sobie-rownych-aa-Uuyi-...   \n",
       "7958  https://lublin.se.pl/nadwaga-cukrycza-i-inne-schorzenia-sprawdz-co-grozi-twojemu-dziecku-audio-a...   \n",
       "239                  https://lublin.se.pl/w-wojciechowie-kuja-zelazo-w-przylbicach-aa-f5Sh-kczQ-UFLd.html   \n",
       "7934  https://lublin.se.pl/lublin-w-koncu-maja-gdzie-harcowac-ruszyl-rezerwat-dzikich-dzieci-aa-pUGq-Y...   \n",
       "7878  https://lublin.se.pl/tarcza-finansowa-ostatnie-dni-aby-skorzystac-ze-wsparcia-ak-Dkhj-dVWx-GZ9s....   \n",
       "7901  https://lublin.se.pl/podszywaja-sie-pod-pracownikow-sanepidu-nowa-metoda-oszustow-ak-rhp2-wZTf-g...   \n",
       "302   https://lublin.se.pl/dziennie-potrzeba-200-dawcow-zeby-zabezpieczyc-krew-dla-mieszkancow-lubelsz...   \n",
       "342   https://lublin.se.pl/zabila-czlowieka-bo-jej-sie-spieszylo-tragedia-w-lukowie-aa-uvfW-aLj6-GPLK....   \n",
       "98    https://lublin.se.pl/przestepcy-wzieli-na-cel-przedsiebiorcow-dostales-takie-pismo-ak-U86R-Y39Q-...   \n",
       "7951  https://lublin.se.pl/zamosc-nie-bedzie-odkomarzania-na-terenach-zielonych-miasto-stawia-na-natur...   \n",
       "8037  https://lublin.se.pl/rewolucyjne-zmiany-dla-przedsiebiorcow-zobacz-co-sie-zmieni-ak-teU8-HX74-ii...   \n",
       "186   https://lublin.se.pl/polscy-fani-byli-wyposzczeni-wynajeli-osiemnascie-dzwigow-absurdalne-zdjeci...   \n",
       "336   https://lublin.se.pl/srednia-pensja-w-lublinie-i-na-lubelszczyznie-to-nie-uwierzycie-zaskakujace...   \n",
       "8036  https://lublin.se.pl/lubelskie-wylaczenia-pradu-w-lublinie-i-regionie-w-tych-miejscach-zgasnie-s...   \n",
       "113   https://lublin.se.pl/odpoczywal-nad-jeziorem-pojdzie-siedziec-3-5-roku-falszywy-wnuczek-zatrzyma...   \n",
       "8015  https://lublin.se.pl/zamosc-kapieliska-z-powiatu-po-badaniach-stanu-wody-nie-wszystkie-sa-w-tym-...   \n",
       "8010  https://lublin.se.pl/lublin-potwor-zgwalcil-14-latke-wepchnal-dziewczyne-do-piwnicy-i-zgotowal-j...   \n",
       "134   https://lublin.se.pl/rowerzysci-obawiaja-sie-samochodow-jakimi-kierowcami-sa-polacy-ak-dHzt-n1qU...   \n",
       "8001  https://lublin.se.pl/ii-tura-bez-kolejek-seniorzy-i-osoby-z-dziecmi-zaglosuja-poza-kolejnoscia-w...   \n",
       "322   https://lublin.se.pl/slub-i-wesele-w-piatek-wazna-decyzja-arcybiskupa-kosciol-zmienil-zdanie-aa-...   \n",
       "7984  https://lublin.se.pl/wytbory-prezydenckie-2020-czy-padnie-rekord-w-liczbie-glosujacych-korespond...   \n",
       "7980  https://lublin.se.pl/wyplata-solidarnosciowego-od-zus-bez-przeszkod-na-zamojszczyznie-skorzystal...   \n",
       "172   https://lublin.se.pl/ruszyl-nabor-do-szlachetnej-paczki-2020-potrzeba-tysiecy-wolontariuszy-ak-4...   \n",
       "7962  https://lublin.se.pl/wlodawa-kajakiem-na-bialorus-ciekawscy-turysci-dostali-mandat-aa-b3qF-DPap-...   \n",
       "7961  https://lublin.se.pl/zamojski-ogrod-zoologiczny-ze-wzrostem-turystow-indywidualnych-placowka-zap...   \n",
       "7877      https://lublin.se.pl/lidl-zaprasza-na-domowke-festiwal-polandrock-online-ak-3RqM-LCs3-hdF4.html   \n",
       "7872  https://lublin.se.pl/lublin-fontanna-multimedialna-na-placu-litewskim-pokazy-fontann-harmonogram...   \n",
       "7937  https://lublin.se.pl/srednia-pensja-w-lublinie-i-w-lubelskiem-szokujace-dane-statystyczne-wynagr...   \n",
       "7950  https://lublin.se.pl/dziala-juz-jeden-wkrotce-beda-kolejne-czy-parkingi-p-r-sie-w-lublinie-spraw...   \n",
       "7987  https://lublin.se.pl/hrubieszow-wyrodny-syn-pobil-matke-i-zrabowal-jej-oszczednosci-aa-fwuT-MNrx...   \n",
       "91             https://lublin.se.pl/polski-bon-turystyczny-od-kiedy-bedzie-dzialac-ak-Mg5m-vpc5-Z4L4.html   \n",
       "308   https://lublin.se.pl/pogoda-na-lipiec-2020-czekaja-nas-upaly-w-lipcu-padnie-rekord-ciepla-ak-SMB...   \n",
       "120           https://lublin.se.pl/wypadki-na-drogach-w-polsce-tyle-za-nie-placimy-ak-jg6Q-kpsD-erkz.html   \n",
       "177                        https://lublin.se.pl/jak-wylaczyc-nowy-wyglad-facebooka-ak-SVcZ-cJGA-UH3L.html   \n",
       "192   https://lublin.se.pl/poczta-polska-wprowadza-duza-zmiane-bedzie-szybciej-sortowac-przesylki-ak-d...   \n",
       "159   https://lublin.se.pl/sklepy-zmieniaja-godziny-otwarcia-wybrane-placowki-czynne-cala-dobe-ak-nHMN...   \n",
       "227   https://lublin.se.pl/kino-plenerowe-na-dachu-vivo-lublin-taras-pelen-atrakcji-harmonogram-aa-rfS...   \n",
       "261   https://lublin.se.pl/przedsiebiorcy-z-wojewodztwa-moga-ubiegac-sie-o-kolejne-dotacje-ak-cGVe-Lsf...   \n",
       "132          https://lublin.se.pl/bon-turystyczny-kiedy-rusza-rejestracja-wnioskow-ak-PPok-Rd3Q-qcLC.html   \n",
       "\n",
       "      koronawirus_in_text  koronawirus_in_title  koronawirus_anywhere  \n",
       "106                    12                     0                    12  \n",
       "349                    12                     0                    12  \n",
       "252                    11                     0                    11  \n",
       "7904                   11                     0                    11  \n",
       "7983                    9                     0                     9  \n",
       "155                     6                     0                     6  \n",
       "179                     5                     0                     5  \n",
       "161                     5                     0                     5  \n",
       "319                     5                     0                     5  \n",
       "8022                    4                     0                     4  \n",
       "7948                    4                     0                     4  \n",
       "8016                    4                     0                     4  \n",
       "7958                    4                     0                     4  \n",
       "239                     3                     0                     3  \n",
       "7934                    3                     0                     3  \n",
       "7878                    3                     0                     3  \n",
       "7901                    3                     0                     3  \n",
       "302                     3                     0                     3  \n",
       "342                     3                     0                     3  \n",
       "98                      3                     0                     3  \n",
       "7951                    3                     0                     3  \n",
       "8037                    3                     0                     3  \n",
       "186                     3                     0                     3  \n",
       "336                     3                     0                     3  \n",
       "8036                    3                     0                     3  \n",
       "113                     3                     0                     3  \n",
       "8015                    3                     0                     3  \n",
       "8010                    3                     0                     3  \n",
       "134                     3                     0                     3  \n",
       "8001                    3                     0                     3  \n",
       "322                     3                     0                     3  \n",
       "7984                    3                     0                     3  \n",
       "7980                    3                     0                     3  \n",
       "172                     3                     0                     3  \n",
       "7962                    3                     0                     3  \n",
       "7961                    3                     0                     3  \n",
       "7877                    2                     0                     2  \n",
       "7872                    2                     0                     2  \n",
       "7937                    2                     0                     2  \n",
       "7950                    2                     0                     2  \n",
       "7987                    2                     0                     2  \n",
       "91                      2                     0                     2  \n",
       "308                     2                     0                     2  \n",
       "120                     2                     0                     2  \n",
       "177                     2                     0                     2  \n",
       "192                     2                     0                     2  \n",
       "159                     2                     0                     2  \n",
       "227                     2                     0                     2  \n",
       "261                     2                     0                     2  \n",
       "132                     2                     0                     2  "
      ]
     },
     "execution_count": 55,
     "metadata": {},
     "output_type": "execute_result"
    }
   ],
   "source": [
    "title_false = df['koronawirus_in_title'] == 0\n",
    "text_true = df['koronawirus_in_text'] > 0\n",
    "publication_month_07 = df['publication_month'] == \"2020-07\"\n",
    "\n",
    "df_title_false_and_text_true = df[title_false & text_true & publication_month_07]\n",
    "\n",
    "df_title_false_and_text_true.sort_values(by='koronawirus_in_text', ascending=False)[:50]"
   ]
  },
  {
   "cell_type": "markdown",
   "metadata": {},
   "source": [
    "### Łączna ilość artykułów"
   ]
  },
  {
   "cell_type": "code",
   "execution_count": 182,
   "metadata": {
    "scrolled": false
   },
   "outputs": [
    {
     "data": {
      "text/plain": [
       "1489"
      ]
     },
     "execution_count": 182,
     "metadata": {},
     "output_type": "execute_result"
    }
   ],
   "source": [
    "df.shape[0]"
   ]
  },
  {
   "cell_type": "markdown",
   "metadata": {},
   "source": [
    "### Dni z  największą liczbą opublikowanych artykułów"
   ]
  },
  {
   "cell_type": "code",
   "execution_count": 183,
   "metadata": {
    "scrolled": true
   },
   "outputs": [
    {
     "data": {
      "text/plain": [
       "2020-06-29    28\n",
       "2020-07-08    26\n",
       "2020-07-01    25\n",
       "Name: publication_day, dtype: int64"
      ]
     },
     "execution_count": 183,
     "metadata": {},
     "output_type": "execute_result"
    }
   ],
   "source": [
    "df.publication_day.value_counts().head(3)"
   ]
  },
  {
   "cell_type": "markdown",
   "metadata": {},
   "source": [
    "### Ilość opublikowanych artykułów w każdym miesiącu"
   ]
  },
  {
   "cell_type": "code",
   "execution_count": 184,
   "metadata": {
    "scrolled": false
   },
   "outputs": [
    {
     "data": {
      "image/png": "[encoded data removed]",
      "text/plain": [
       "<Figure size 576x360 with 1 Axes>"
      ]
     },
     "metadata": {},
     "output_type": "display_data"
    }
   ],
   "source": [
    "publication_month_count = df.publication_month.astype('category').value_counts(normalize=True)\n",
    "plt.figure(figsize=(8, 5))\n",
    "sns.barplot(publication_month_count.index, publication_month_count.values, alpha=0.8)\n",
    "plt.show()"
   ]
  },
  {
   "cell_type": "code",
   "execution_count": 185,
   "metadata": {
    "scrolled": true
   },
   "outputs": [
    {
     "data": {
      "image/png": "[encoded data removed]",
      "text/plain": [
       "<Figure size 432x288 with 1 Axes>"
      ]
     },
     "metadata": {},
     "output_type": "display_data"
    }
   ],
   "source": [
    "df_with_koronawirus_in_title = df.where(df[\"koronawirus_in_title\"] > 0).dropna()\n",
    "\n",
    "df_with_koronawirus_in_text = df.where(df[\"koronawirus_in_text\"] > 0).dropna()\n",
    "\n",
    "c = plt.plot(df.groupby('publication_month').count(),\n",
    "        color='y',\n",
    "        marker='^')\n",
    "\n",
    "\n",
    "\n",
    "a = plt.plot(df_with_koronawirus_in_text.groupby('publication_month').count(),\n",
    "        color='r',\n",
    "        marker='.')\n",
    "\n",
    "b = plt.plot(df_with_koronawirus_in_title.groupby('publication_month').count(),\n",
    "        color='g',\n",
    "        marker='*')\n",
    "\n",
    "plt.ylabel(\"liczba artykułów\")\n",
    "\n",
    "plt.legend(c, [\"wszystkie artykuły\"])\n",
    "plt.grid()\n",
    "plt.show()"
   ]
  },
  {
   "cell_type": "code",
   "execution_count": 186,
   "metadata": {},
   "outputs": [
    {
     "data": {
      "text/plain": [
       "publication_month\n",
       "2020-01     3.246753\n",
       "2020-02    10.476190\n",
       "2020-03    79.591837\n",
       "2020-04    74.637681\n",
       "2020-05    41.176471\n",
       "2020-06    24.766355\n",
       "2020-07    32.054176\n",
       "2020-08    45.185185\n",
       "Name: publication_date, dtype: float64"
      ]
     },
     "execution_count": 186,
     "metadata": {},
     "output_type": "execute_result"
    }
   ],
   "source": [
    "df_with_koronawirus_anywhere = df.where(df[\"koronawirus_anywhere\"] > 0).dropna()\n",
    "wskaznik = df_with_koronawirus_anywhere.groupby('publication_month').count() / df.groupby('publication_month').count() * 100\n",
    "wskaznik[\"publication_date\"]"
   ]
  },
  {
   "cell_type": "code",
   "execution_count": 187,
   "metadata": {},
   "outputs": [
    {
     "data": {
      "text/plain": [
       "<matplotlib.legend.Legend at 0x7fe35ee205f8>"
      ]
     },
     "execution_count": 187,
     "metadata": {},
     "output_type": "execute_result"
    },
    {
     "data": {
      "image/png": "[encoded data removed]",
      "text/plain": [
       "<Figure size 432x288 with 1 Axes>"
      ]
     },
     "metadata": {},
     "output_type": "display_data"
    }
   ],
   "source": [
    "\n",
    "df_with_koronawirus_anywhere = df.where(df[\"koronawirus_anywhere\"] > 0).dropna()\n",
    "\n",
    "plt.plot((df_with_koronawirus_anywhere.groupby('publication_month').count() / df.groupby('publication_month').count()) * 100,\n",
    "        color=\"b\",\n",
    "        marker='.')\n",
    "plt.ylabel(\"% artykułów o koronawirusie\")\n",
    "plt.legend([\"artykuły o koronawirusie\"])"
   ]
  },
  {
   "cell_type": "markdown",
   "metadata": {},
   "source": [
    "### łączna ilość słów z grupy \"koronawirus\""
   ]
  },
  {
   "cell_type": "code",
   "execution_count": 188,
   "metadata": {},
   "outputs": [
    {
     "data": {
      "text/plain": [
       "6152"
      ]
     },
     "execution_count": 188,
     "metadata": {},
     "output_type": "execute_result"
    }
   ],
   "source": [
    "df.koronawirus_in_text.sum()"
   ]
  },
  {
   "cell_type": "markdown",
   "metadata": {},
   "source": [
    "### Średnia ilość słów z grupy covid na artykuł"
   ]
  },
  {
   "cell_type": "code",
   "execution_count": 257,
   "metadata": {},
   "outputs": [
    {
     "data": {
      "text/plain": [
       "koronawirus_in_text           11.084685\n",
       "koronawirus_in_title           0.632432\n",
       "koronawirus_anywhere          11.717117\n",
       "koronawirus_anywhere_count     1.000000\n",
       "dtype: float64"
      ]
     },
     "execution_count": 257,
     "metadata": {},
     "output_type": "execute_result"
    }
   ],
   "source": [
    "koronawirus_in_text_true = df['koronawirus_in_text'] > 0\n",
    "df[koronawirus_in_text_true].mean()"
   ]
  },
  {
   "cell_type": "code",
   "execution_count": 259,
   "metadata": {
    "scrolled": false
   },
   "outputs": [
    {
     "data": {
      "text/plain": [
       "555.0"
      ]
     },
     "execution_count": 259,
     "metadata": {},
     "output_type": "execute_result"
    }
   ],
   "source": [
    "koronawirus_anywhere_true = df['koronawirus_anywhere'] > 0\n",
    "koronawirus_anywhere_true_count = df.where(koronawirus_anywhere_true).groupby('koronawirus_anywhere').count()[:31]\n",
    "koronawirus_anywhere_true_count.mean()"
   ]
  },
  {
   "cell_type": "code",
   "execution_count": 251,
   "metadata": {
    "scrolled": true
   },
   "outputs": [
    {
     "data": {
      "text/plain": [
       "[<matplotlib.lines.Line2D at 0x7fe35c8fcb38>,\n",
       " <matplotlib.lines.Line2D at 0x7fe35c8fcc88>,\n",
       " <matplotlib.lines.Line2D at 0x7fe35c8fce10>,\n",
       " <matplotlib.lines.Line2D at 0x7fe35c8fcf98>,\n",
       " <matplotlib.lines.Line2D at 0x7fe35c909160>,\n",
       " <matplotlib.lines.Line2D at 0x7fe35c9092e8>,\n",
       " <matplotlib.lines.Line2D at 0x7fe35c909470>,\n",
       " <matplotlib.lines.Line2D at 0x7fe35c9095f8>,\n",
       " <matplotlib.lines.Line2D at 0x7fe35c909780>]"
      ]
     },
     "execution_count": 251,
     "metadata": {},
     "output_type": "execute_result"
    },
    {
     "data": {
      "image/png": "[encoded data removed]",
      "text/plain": [
       "<Figure size 432x288 with 1 Axes>"
      ]
     },
     "metadata": {},
     "output_type": "display_data"
    }
   ],
   "source": [
    "plt.plot(koronawirus_anywhere_true_count)"
   ]
  },
  {
   "cell_type": "markdown",
   "metadata": {},
   "source": [
    "### Artykuł z największą ilością słów z serii \"covid\""
   ]
  },
  {
   "cell_type": "code",
   "execution_count": 190,
   "metadata": {
    "scrolled": true
   },
   "outputs": [
    {
     "data": {
      "text/html": [
       "<div>\n",
       "<style scoped>\n",
       "    .dataframe tbody tr th:only-of-type {\n",
       "        vertical-align: middle;\n",
       "    }\n",
       "\n",
       "    .dataframe tbody tr th {\n",
       "        vertical-align: top;\n",
       "    }\n",
       "\n",
       "    .dataframe thead th {\n",
       "        text-align: right;\n",
       "    }\n",
       "</style>\n",
       "<table border=\"1\" class=\"dataframe\">\n",
       "  <thead>\n",
       "    <tr style=\"text-align: right;\">\n",
       "      <th></th>\n",
       "      <th>publication_date</th>\n",
       "      <th>publication_month</th>\n",
       "      <th>publication_day</th>\n",
       "      <th>author</th>\n",
       "      <th>title</th>\n",
       "      <th>url</th>\n",
       "      <th>koronawirus_in_text</th>\n",
       "      <th>koronawirus_in_title</th>\n",
       "      <th>koronawirus_anywhere</th>\n",
       "      <th>koronawirus_anywhere_count</th>\n",
       "    </tr>\n",
       "  </thead>\n",
       "  <tbody>\n",
       "    <tr>\n",
       "      <td>8206</td>\n",
       "      <td>2020-04-16 22:42:00</td>\n",
       "      <td>2020-04</td>\n",
       "      <td>2020-04-16</td>\n",
       "      <td>paweł tabędzki / marek targoński / sylwia sitka-czerniak / konrad marzec</td>\n",
       "      <td>Przełom w walce z koronawirusem?! ARCYWAŻNE zmiany ogłoszone przez rząd. Koronawirus w Polsce [Z...</td>\n",
       "      <td>https://www.se.pl/lublin/liczba-zgonow-i-zakazonych-rosnie-najnowsze-informacje-oraz-statystyki-...</td>\n",
       "      <td>575</td>\n",
       "      <td>1</td>\n",
       "      <td>576</td>\n",
       "      <td>1</td>\n",
       "    </tr>\n",
       "    <tr>\n",
       "      <td>8224</td>\n",
       "      <td>2020-04-07 07:00:00</td>\n",
       "      <td>2020-04</td>\n",
       "      <td>2020-04-07</td>\n",
       "      <td>magdalena jaśkiewicz-stawowczyk, marek targoński</td>\n",
       "      <td>Szokujący bilans koronawirusa w Polsce. Ważne słowa prezydenta Dudy. Groza w UK [ZAPIS RELACJI N...</td>\n",
       "      <td>https://www.se.pl/lublin/koronawirus-w-polsce-dzis-niedziela-palmowa-pierwsza-taka-w-historii-ko...</td>\n",
       "      <td>466</td>\n",
       "      <td>1</td>\n",
       "      <td>467</td>\n",
       "      <td>1</td>\n",
       "    </tr>\n",
       "    <tr>\n",
       "      <td>747</td>\n",
       "      <td>2020-03-04 22:25:00</td>\n",
       "      <td>2020-03</td>\n",
       "      <td>2020-03-04</td>\n",
       "      <td>marek targoński</td>\n",
       "      <td>Koronawirus w Polsce! Oto konsekwencje: wzrost cen i wysoki popyt [ZAPIS RELACJI NA ŻYWO]</td>\n",
       "      <td>https://www.se.pl/lublin/koronawirus-w-polsce-tytul-relacja-na-zywo-aa-jzM9-R6pH-GAfM.html</td>\n",
       "      <td>325</td>\n",
       "      <td>1</td>\n",
       "      <td>326</td>\n",
       "      <td>1</td>\n",
       "    </tr>\n",
       "    <tr>\n",
       "      <td>709</td>\n",
       "      <td>2020-03-19 09:22:00</td>\n",
       "      <td>2020-03</td>\n",
       "      <td>2020-03-19</td>\n",
       "      <td>marek targoński</td>\n",
       "      <td>Koronawirus Lubelskie: COVID-19 na Lubelszczyźnie. Kto i gdzie choruje? Kim są pacjenci?</td>\n",
       "      <td>https://www.se.pl/lublin/koronawirus-lubelskie-covid-19-na-lubelszczyznie-kto-i-gdzie-choruje-ki...</td>\n",
       "      <td>44</td>\n",
       "      <td>1</td>\n",
       "      <td>45</td>\n",
       "      <td>1</td>\n",
       "    </tr>\n",
       "    <tr>\n",
       "      <td>806</td>\n",
       "      <td>2020-02-08 22:25:00</td>\n",
       "      <td>2020-02</td>\n",
       "      <td>2020-02-08</td>\n",
       "      <td>marek targoński</td>\n",
       "      <td>KORONAWIRUS w Lublinie? Znamy wyniki badań! NOWE INFORMACJE [RELACJA]</td>\n",
       "      <td>https://www.se.pl/lublin/koronawirus-w-lublinie-pacjent-trafil-do-szpitala-trwaja-badania-audio-...</td>\n",
       "      <td>29</td>\n",
       "      <td>1</td>\n",
       "      <td>30</td>\n",
       "      <td>1</td>\n",
       "    </tr>\n",
       "  </tbody>\n",
       "</table>\n",
       "</div>"
      ],
      "text/plain": [
       "        publication_date publication_month publication_day  \\\n",
       "8206 2020-04-16 22:42:00           2020-04      2020-04-16   \n",
       "8224 2020-04-07 07:00:00           2020-04      2020-04-07   \n",
       "747  2020-03-04 22:25:00           2020-03      2020-03-04   \n",
       "709  2020-03-19 09:22:00           2020-03      2020-03-19   \n",
       "806  2020-02-08 22:25:00           2020-02      2020-02-08   \n",
       "\n",
       "                                                                        author  \\\n",
       "8206  paweł tabędzki / marek targoński / sylwia sitka-czerniak / konrad marzec   \n",
       "8224                          magdalena jaśkiewicz-stawowczyk, marek targoński   \n",
       "747                                                            marek targoński   \n",
       "709                                                            marek targoński   \n",
       "806                                                            marek targoński   \n",
       "\n",
       "                                                                                                    title  \\\n",
       "8206  Przełom w walce z koronawirusem?! ARCYWAŻNE zmiany ogłoszone przez rząd. Koronawirus w Polsce [Z...   \n",
       "8224  Szokujący bilans koronawirusa w Polsce. Ważne słowa prezydenta Dudy. Groza w UK [ZAPIS RELACJI N...   \n",
       "747             Koronawirus w Polsce! Oto konsekwencje: wzrost cen i wysoki popyt [ZAPIS RELACJI NA ŻYWO]   \n",
       "709              Koronawirus Lubelskie: COVID-19 na Lubelszczyźnie. Kto i gdzie choruje? Kim są pacjenci?   \n",
       "806                                 KORONAWIRUS w Lublinie? Znamy wyniki badań! NOWE INFORMACJE [RELACJA]   \n",
       "\n",
       "                                                                                                      url  \\\n",
       "8206  https://www.se.pl/lublin/liczba-zgonow-i-zakazonych-rosnie-najnowsze-informacje-oraz-statystyki-...   \n",
       "8224  https://www.se.pl/lublin/koronawirus-w-polsce-dzis-niedziela-palmowa-pierwsza-taka-w-historii-ko...   \n",
       "747            https://www.se.pl/lublin/koronawirus-w-polsce-tytul-relacja-na-zywo-aa-jzM9-R6pH-GAfM.html   \n",
       "709   https://www.se.pl/lublin/koronawirus-lubelskie-covid-19-na-lubelszczyznie-kto-i-gdzie-choruje-ki...   \n",
       "806   https://www.se.pl/lublin/koronawirus-w-lublinie-pacjent-trafil-do-szpitala-trwaja-badania-audio-...   \n",
       "\n",
       "      koronawirus_in_text  koronawirus_in_title  koronawirus_anywhere  \\\n",
       "8206                  575                     1                   576   \n",
       "8224                  466                     1                   467   \n",
       "747                   325                     1                   326   \n",
       "709                    44                     1                    45   \n",
       "806                    29                     1                    30   \n",
       "\n",
       "      koronawirus_anywhere_count  \n",
       "8206                           1  \n",
       "8224                           1  \n",
       "747                            1  \n",
       "709                            1  \n",
       "806                            1  "
      ]
     },
     "execution_count": 190,
     "metadata": {},
     "output_type": "execute_result"
    }
   ],
   "source": [
    "# df.loc[df.koronawirus_in_text.idxmax()]\n",
    "\n",
    "# df['koronawirus_in_text_rank'] = df['koronawirus_in_text'].rank(ascending=False)\n",
    "# df.sort_values(by='koronawirus_in_text', ascending=False).head(15)\n",
    "\n",
    "# df.sort_values(by='koronawirus_in_text', ascending=False)[:5]\n",
    "\n",
    "df.nlargest(n=5, columns='koronawirus_in_text')"
   ]
  },
  {
   "cell_type": "markdown",
   "metadata": {},
   "source": [
    "### Ilość słów z grupy \"koronaworus\" w każdym miesiącu"
   ]
  },
  {
   "cell_type": "code",
   "execution_count": 191,
   "metadata": {},
   "outputs": [
    {
     "data": {
      "text/plain": [
       "<matplotlib.legend.Legend at 0x7fe35e482e10>"
      ]
     },
     "execution_count": 191,
     "metadata": {},
     "output_type": "execute_result"
    },
    {
     "data": {
      "image/png": "[encoded data removed]",
      "text/plain": [
       "<Figure size 432x288 with 1 Axes>"
      ]
     },
     "metadata": {},
     "output_type": "display_data"
    }
   ],
   "source": [
    "df_with_koronawirus_in_text = df[[\"koronawirus_in_text\", 'publication_month']].where(df[\"koronawirus_in_text\"] > 0).dropna()\n",
    "plt.plot(\n",
    "    df_with_koronawirus_in_text.groupby('publication_month').sum(),\n",
    "    color=\"r\",\n",
    "    label='ilość słów z grupy koronawirus'\n",
    ")\n",
    "plt.grid()\n",
    "plt.legend()"
   ]
  },
  {
   "cell_type": "code",
   "execution_count": 192,
   "metadata": {
    "scrolled": true
   },
   "outputs": [
    {
     "data": {
      "text/html": [
       "<div>\n",
       "<style scoped>\n",
       "    .dataframe tbody tr th:only-of-type {\n",
       "        vertical-align: middle;\n",
       "    }\n",
       "\n",
       "    .dataframe tbody tr th {\n",
       "        vertical-align: top;\n",
       "    }\n",
       "\n",
       "    .dataframe thead th {\n",
       "        text-align: right;\n",
       "    }\n",
       "</style>\n",
       "<table border=\"1\" class=\"dataframe\">\n",
       "  <thead>\n",
       "    <tr style=\"text-align: right;\">\n",
       "      <th></th>\n",
       "      <th>koronawirus_in_text</th>\n",
       "    </tr>\n",
       "    <tr>\n",
       "      <th>publication_month</th>\n",
       "      <th></th>\n",
       "    </tr>\n",
       "  </thead>\n",
       "  <tbody>\n",
       "    <tr>\n",
       "      <td>2020-01</td>\n",
       "      <td>27.0</td>\n",
       "    </tr>\n",
       "    <tr>\n",
       "      <td>2020-02</td>\n",
       "      <td>91.0</td>\n",
       "    </tr>\n",
       "    <tr>\n",
       "      <td>2020-03</td>\n",
       "      <td>1550.0</td>\n",
       "    </tr>\n",
       "    <tr>\n",
       "      <td>2020-04</td>\n",
       "      <td>2017.0</td>\n",
       "    </tr>\n",
       "    <tr>\n",
       "      <td>2020-05</td>\n",
       "      <td>545.0</td>\n",
       "    </tr>\n",
       "    <tr>\n",
       "      <td>2020-06</td>\n",
       "      <td>320.0</td>\n",
       "    </tr>\n",
       "    <tr>\n",
       "      <td>2020-07</td>\n",
       "      <td>1051.0</td>\n",
       "    </tr>\n",
       "    <tr>\n",
       "      <td>2020-08</td>\n",
       "      <td>551.0</td>\n",
       "    </tr>\n",
       "  </tbody>\n",
       "</table>\n",
       "</div>"
      ],
      "text/plain": [
       "                   koronawirus_in_text\n",
       "publication_month                     \n",
       "2020-01                           27.0\n",
       "2020-02                           91.0\n",
       "2020-03                         1550.0\n",
       "2020-04                         2017.0\n",
       "2020-05                          545.0\n",
       "2020-06                          320.0\n",
       "2020-07                         1051.0\n",
       "2020-08                          551.0"
      ]
     },
     "execution_count": 192,
     "metadata": {},
     "output_type": "execute_result"
    }
   ],
   "source": [
    "df_with_koronawirus_in_text.groupby('publication_month').sum()"
   ]
  },
  {
   "cell_type": "markdown",
   "metadata": {},
   "source": [
    "### Autor najwiekszej ilości artykułów ze słowem z grupy \"koronawirus\" w tytule"
   ]
  },
  {
   "cell_type": "code",
   "execution_count": 193,
   "metadata": {
    "scrolled": false
   },
   "outputs": [
    {
     "data": {
      "text/plain": [
       "marek targoński    214\n",
       "Name: author, dtype: int64"
      ]
     },
     "execution_count": 193,
     "metadata": {},
     "output_type": "execute_result"
    }
   ],
   "source": [
    "df_with_koronawirus_in_title = df.where(df[\"koronawirus_in_title\"] > 0).dropna()\n",
    "df_with_koronawirus_in_title['author'].value_counts()[:1]"
   ]
  },
  {
   "cell_type": "markdown",
   "metadata": {},
   "source": [
    "### Autor najwiekszej ilości artykułów ze słowem z grupy \"koronawirus\" w tekście"
   ]
  },
  {
   "cell_type": "code",
   "execution_count": 194,
   "metadata": {},
   "outputs": [
    {
     "data": {
      "text/plain": [
       "marek targoński    278\n",
       "Name: author, dtype: int64"
      ]
     },
     "execution_count": 194,
     "metadata": {},
     "output_type": "execute_result"
    }
   ],
   "source": [
    "df_with_koronawirus_in_text = df.where(df[\"koronawirus_in_text\"] > 0).dropna()\n",
    "df_with_koronawirus_in_text['author'].value_counts()[:1]\n"
   ]
  },
  {
   "cell_type": "code",
   "execution_count": 195,
   "metadata": {
    "scrolled": true
   },
   "outputs": [
    {
     "data": {
      "text/html": [
       "<div>\n",
       "<style scoped>\n",
       "    .dataframe tbody tr th:only-of-type {\n",
       "        vertical-align: middle;\n",
       "    }\n",
       "\n",
       "    .dataframe tbody tr th {\n",
       "        vertical-align: top;\n",
       "    }\n",
       "\n",
       "    .dataframe thead th {\n",
       "        text-align: right;\n",
       "    }\n",
       "</style>\n",
       "<table border=\"1\" class=\"dataframe\">\n",
       "  <thead>\n",
       "    <tr style=\"text-align: right;\">\n",
       "      <th></th>\n",
       "      <th>koronawirus_in_text</th>\n",
       "      <th>koronawirus_in_title</th>\n",
       "      <th>koronawirus_anywhere</th>\n",
       "      <th>koronawirus_anywhere_count</th>\n",
       "    </tr>\n",
       "    <tr>\n",
       "      <th>publication_month</th>\n",
       "      <th></th>\n",
       "      <th></th>\n",
       "      <th></th>\n",
       "      <th></th>\n",
       "    </tr>\n",
       "  </thead>\n",
       "  <tbody>\n",
       "    <tr>\n",
       "      <td>2020-01</td>\n",
       "      <td>7</td>\n",
       "      <td>1</td>\n",
       "      <td>8</td>\n",
       "      <td>1</td>\n",
       "    </tr>\n",
       "    <tr>\n",
       "      <td>2020-02</td>\n",
       "      <td>86</td>\n",
       "      <td>6</td>\n",
       "      <td>92</td>\n",
       "      <td>10</td>\n",
       "    </tr>\n",
       "    <tr>\n",
       "      <td>2020-03</td>\n",
       "      <td>1200</td>\n",
       "      <td>73</td>\n",
       "      <td>1273</td>\n",
       "      <td>76</td>\n",
       "    </tr>\n",
       "    <tr>\n",
       "      <td>2020-04</td>\n",
       "      <td>755</td>\n",
       "      <td>49</td>\n",
       "      <td>804</td>\n",
       "      <td>64</td>\n",
       "    </tr>\n",
       "    <tr>\n",
       "      <td>2020-05</td>\n",
       "      <td>416</td>\n",
       "      <td>21</td>\n",
       "      <td>437</td>\n",
       "      <td>40</td>\n",
       "    </tr>\n",
       "    <tr>\n",
       "      <td>2020-06</td>\n",
       "      <td>190</td>\n",
       "      <td>12</td>\n",
       "      <td>202</td>\n",
       "      <td>23</td>\n",
       "    </tr>\n",
       "    <tr>\n",
       "      <td>2020-07</td>\n",
       "      <td>548</td>\n",
       "      <td>28</td>\n",
       "      <td>576</td>\n",
       "      <td>39</td>\n",
       "    </tr>\n",
       "    <tr>\n",
       "      <td>2020-08</td>\n",
       "      <td>403</td>\n",
       "      <td>24</td>\n",
       "      <td>427</td>\n",
       "      <td>25</td>\n",
       "    </tr>\n",
       "  </tbody>\n",
       "</table>\n",
       "</div>"
      ],
      "text/plain": [
       "                   koronawirus_in_text  koronawirus_in_title  \\\n",
       "publication_month                                              \n",
       "2020-01                              7                     1   \n",
       "2020-02                             86                     6   \n",
       "2020-03                           1200                    73   \n",
       "2020-04                            755                    49   \n",
       "2020-05                            416                    21   \n",
       "2020-06                            190                    12   \n",
       "2020-07                            548                    28   \n",
       "2020-08                            403                    24   \n",
       "\n",
       "                   koronawirus_anywhere  koronawirus_anywhere_count  \n",
       "publication_month                                                    \n",
       "2020-01                               8                           1  \n",
       "2020-02                              92                          10  \n",
       "2020-03                            1273                          76  \n",
       "2020-04                             804                          64  \n",
       "2020-05                             437                          40  \n",
       "2020-06                             202                          23  \n",
       "2020-07                             576                          39  \n",
       "2020-08                             427                          25  "
      ]
     },
     "execution_count": 195,
     "metadata": {},
     "output_type": "execute_result"
    }
   ],
   "source": [
    "df.query('author == \"marek targoński\"').groupby('publication_month').sum()"
   ]
  },
  {
   "cell_type": "code",
   "execution_count": 200,
   "metadata": {},
   "outputs": [
    {
     "data": {
      "text/plain": [
       "[<matplotlib.lines.Line2D at 0x7fe35e410ef0>,\n",
       " <matplotlib.lines.Line2D at 0x7fe35e400080>,\n",
       " <matplotlib.lines.Line2D at 0x7fe35e400208>,\n",
       " <matplotlib.lines.Line2D at 0x7fe35e400390>]"
      ]
     },
     "execution_count": 200,
     "metadata": {},
     "output_type": "execute_result"
    },
    {
     "data": {
      "image/png": "[encoded data removed]",
      "text/plain": [
       "<Figure size 432x288 with 1 Axes>"
      ]
     },
     "metadata": {},
     "output_type": "display_data"
    }
   ],
   "source": [
    "plt.plot(df.query('author == \"marek targoński\"').groupby('publication_month').sum())"
   ]
  },
  {
   "cell_type": "code",
   "execution_count": 224,
   "metadata": {},
   "outputs": [
    {
     "data": {
      "text/plain": [
       "koronawirus_anywhere    3819\n",
       "dtype: int64"
      ]
     },
     "execution_count": 224,
     "metadata": {},
     "output_type": "execute_result"
    }
   ],
   "source": [
    "mt = df[df['author'].isin(['marek targoński'])]\n",
    "del mt['koronawirus_in_title']\n",
    "del mt['koronawirus_in_text']\n",
    "del mt['koronawirus_anywhere_count']\n",
    "mt.sum()"
   ]
  },
  {
   "cell_type": "code",
   "execution_count": 244,
   "metadata": {
    "scrolled": true
   },
   "outputs": [
    {
     "data": {
      "text/plain": [
       "<matplotlib.legend.Legend at 0x7fe35cadff60>"
      ]
     },
     "execution_count": 244,
     "metadata": {},
     "output_type": "execute_result"
    },
    {
     "data": {
      "image/png": "[encoded data removed]",
      "text/plain": [
       "<Figure size 432x288 with 1 Axes>"
      ]
     },
     "metadata": {},
     "output_type": "display_data"
    }
   ],
   "source": [
    "plt.plot(mt.groupby('publication_month').sum(),\n",
    "        color=\"g\")\n",
    "plt.legend([\"słowa z grupy covid\"])"
   ]
  },
  {
   "cell_type": "code",
   "execution_count": 245,
   "metadata": {
    "scrolled": true
   },
   "outputs": [
    {
     "data": {
      "text/plain": [
       "koronawirus_anywhere_count    278\n",
       "dtype: int64"
      ]
     },
     "execution_count": 245,
     "metadata": {},
     "output_type": "execute_result"
    }
   ],
   "source": [
    "mt = df[df['author'].isin(['marek targoński'])]\n",
    "del mt['koronawirus_anywhere']\n",
    "del mt['koronawirus_in_text']\n",
    "del mt['koronawirus_in_title']\n",
    "mt.sum()"
   ]
  },
  {
   "cell_type": "code",
   "execution_count": 246,
   "metadata": {},
   "outputs": [
    {
     "data": {
      "text/plain": [
       "<matplotlib.legend.Legend at 0x7fe35c9eeac8>"
      ]
     },
     "execution_count": 246,
     "metadata": {},
     "output_type": "execute_result"
    },
    {
     "data": {
      "image/png": "[encoded data removed]",
      "text/plain": [
       "<Figure size 432x288 with 1 Axes>"
      ]
     },
     "metadata": {},
     "output_type": "display_data"
    }
   ],
   "source": [
    "plt.plot(mt.groupby('publication_month').sum(),\n",
    "        color=\"c\")\n",
    "plt.legend([\"artykuły dotyczące koronawirusa\"])"
   ]
  },
  {
   "cell_type": "code",
   "execution_count": null,
   "metadata": {},
   "outputs": [],
   "source": []
  }
 ],
 "metadata": {
  "kernelspec": {
   "display_name": "Python 3",
   "language": "python",
   "name": "python3"
  },
  "language_info": {
   "codemirror_mode": {
    "name": "ipython",
    "version": 3
   },
   "file_extension": ".py",
   "mimetype": "text/x-python",
   "name": "python",
   "nbconvert_exporter": "python",
   "pygments_lexer": "ipython3",
   "version": "3.6.9"
  }
 },
 "nbformat": 4,
 "nbformat_minor": 2
}
