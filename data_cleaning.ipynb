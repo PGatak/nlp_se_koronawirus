{
 "cells": [
  {
   "cell_type": "code",
   "execution_count": 1,
   "metadata": {},
   "outputs": [],
   "source": [
    "from bs4 import BeautifulSoup\n",
    "import matplotlib.pyplot as plt\n",
    "import pandas as pd\n",
    "import pickle\n",
    "import re\n",
    "import requests\n",
    "import seaborn as sns\n",
    "\n",
    "from db import create_connection\n",
    "from db import (\n",
    "    articles,\n",
    "    services,\n",
    "    urls\n",
    ")"
   ]
  },
  {
   "cell_type": "code",
   "execution_count": 2,
   "metadata": {},
   "outputs": [],
   "source": [
    "connection = create_connection()"
   ]
  },
  {
   "cell_type": "markdown",
   "metadata": {},
   "source": [
    "# Get data"
   ]
  },
  {
   "cell_type": "code",
   "execution_count": 3,
   "metadata": {},
   "outputs": [],
   "source": [
    "data = articles.get_articles(connection)"
   ]
  },
  {
   "cell_type": "code",
   "execution_count": 4,
   "metadata": {},
   "outputs": [],
   "source": [
    "pd.set_option('max_colwidth', 100)\n",
    "df = pd.DataFrame(data, columns = ['publication_date',\n",
    "                                   'author',\n",
    "                                   'title',\n",
    "                                   'url',\n",
    "                                   'koronawirus_in_text',\n",
    "                                   'koronawirus_in_title',\n",
    "                                   'question_mark',\n",
    "                                   'exclamation_mark',\n",
    "                                   'all_words'])"
   ]
  },
  {
   "cell_type": "code",
   "execution_count": 5,
   "metadata": {
    "scrolled": false
   },
   "outputs": [
    {
     "data": {
      "text/html": [
       "<div>\n",
       "<style scoped>\n",
       "    .dataframe tbody tr th:only-of-type {\n",
       "        vertical-align: middle;\n",
       "    }\n",
       "\n",
       "    .dataframe tbody tr th {\n",
       "        vertical-align: top;\n",
       "    }\n",
       "\n",
       "    .dataframe thead th {\n",
       "        text-align: right;\n",
       "    }\n",
       "</style>\n",
       "<table border=\"1\" class=\"dataframe\">\n",
       "  <thead>\n",
       "    <tr style=\"text-align: right;\">\n",
       "      <th></th>\n",
       "      <th>publication_date</th>\n",
       "      <th>author</th>\n",
       "      <th>title</th>\n",
       "      <th>url</th>\n",
       "      <th>koronawirus_in_text</th>\n",
       "      <th>koronawirus_in_title</th>\n",
       "      <th>question_mark</th>\n",
       "      <th>exclamation_mark</th>\n",
       "      <th>all_words</th>\n",
       "    </tr>\n",
       "  </thead>\n",
       "  <tbody>\n",
       "    <tr>\n",
       "      <td>3187</td>\n",
       "      <td>NaT</td>\n",
       "      <td>None</td>\n",
       "      <td>None</td>\n",
       "      <td>https://www.se.pl/lublin/zagraja-dla-3-letniej-marysi-szlazak-dziewczynka-walczy-o-zdrowie-we-wl...</td>\n",
       "      <td>NaN</td>\n",
       "      <td>NaN</td>\n",
       "      <td>NaN</td>\n",
       "      <td>NaN</td>\n",
       "      <td>NaN</td>\n",
       "    </tr>\n",
       "    <tr>\n",
       "      <td>5651</td>\n",
       "      <td>NaT</td>\n",
       "      <td>None</td>\n",
       "      <td>None</td>\n",
       "      <td>https://www.se.pl/lublin/zwloki-w-bystrzycy-cialo-znalazl-przechodzien-1-aa-Tkz1-BUGX-H8ZW.html</td>\n",
       "      <td>NaN</td>\n",
       "      <td>NaN</td>\n",
       "      <td>NaN</td>\n",
       "      <td>NaN</td>\n",
       "      <td>NaN</td>\n",
       "    </tr>\n",
       "    <tr>\n",
       "      <td>5417</td>\n",
       "      <td>NaT</td>\n",
       "      <td>None</td>\n",
       "      <td>None</td>\n",
       "      <td>https://www.se.pl/lublin/smiertelny-wypadek-w-lukowie-nie-zyje-33-letni-kierowca-aa-qdAr-mRUg-1c...</td>\n",
       "      <td>NaN</td>\n",
       "      <td>NaN</td>\n",
       "      <td>NaN</td>\n",
       "      <td>NaN</td>\n",
       "      <td>NaN</td>\n",
       "    </tr>\n",
       "    <tr>\n",
       "      <td>2366</td>\n",
       "      <td>NaT</td>\n",
       "      <td>None</td>\n",
       "      <td>None</td>\n",
       "      <td>https://www.se.pl/lublin/kuchenne-rewolucje-lublin-debowka-karczma-zapiecek-pyszny-zajazd-sezon-...</td>\n",
       "      <td>NaN</td>\n",
       "      <td>NaN</td>\n",
       "      <td>NaN</td>\n",
       "      <td>NaN</td>\n",
       "      <td>NaN</td>\n",
       "    </tr>\n",
       "    <tr>\n",
       "      <td>93</td>\n",
       "      <td>2020-08-18 18:17:00</td>\n",
       "      <td>Marek Targoński</td>\n",
       "      <td>Biała Podlaska: SPALIŁ samochód swojej dziewczyny. Powód? Wyrzucili go z imprezy [ZDJĘCIA]</td>\n",
       "      <td>https://lublin.se.pl/biala-podlaska-spalil-samochod-swojej-dziewczyny-powod-wyrzucili-go-z-impre...</td>\n",
       "      <td>0.0</td>\n",
       "      <td>0.0</td>\n",
       "      <td>1.0</td>\n",
       "      <td>0.0</td>\n",
       "      <td>238.0</td>\n",
       "    </tr>\n",
       "    <tr>\n",
       "      <td>565</td>\n",
       "      <td>2020-06-01 12:17:00</td>\n",
       "      <td>MTA</td>\n",
       "      <td>Koronawirus. Lubelskie: NOWE PRZYPADKI zakażeń. Blisko 500 od początku epidemii. Co dalej?</td>\n",
       "      <td>https://www.se.pl/lublin/koronawirus-lubelskie-nowe-przypadki-zakazen-blisko-500-od-poczatku-epi...</td>\n",
       "      <td>19.0</td>\n",
       "      <td>1.0</td>\n",
       "      <td>4.0</td>\n",
       "      <td>3.0</td>\n",
       "      <td>219.0</td>\n",
       "    </tr>\n",
       "    <tr>\n",
       "      <td>6969</td>\n",
       "      <td>NaT</td>\n",
       "      <td>None</td>\n",
       "      <td>None</td>\n",
       "      <td>https://www.se.pl/lublin/bezplatne-porady-ekspertow-w-lublinie-skorzystaj-z-wiedzy-urzednikow-te...</td>\n",
       "      <td>NaN</td>\n",
       "      <td>NaN</td>\n",
       "      <td>NaN</td>\n",
       "      <td>NaN</td>\n",
       "      <td>NaN</td>\n",
       "    </tr>\n",
       "    <tr>\n",
       "      <td>6861</td>\n",
       "      <td>NaT</td>\n",
       "      <td>None</td>\n",
       "      <td>None</td>\n",
       "      <td>https://www.se.pl/lublin/trasy-rowerowe-po-roztoczu-szalenstwa-na-dwoch-kolkach-dla-fanow-zielen...</td>\n",
       "      <td>NaN</td>\n",
       "      <td>NaN</td>\n",
       "      <td>NaN</td>\n",
       "      <td>NaN</td>\n",
       "      <td>NaN</td>\n",
       "    </tr>\n",
       "    <tr>\n",
       "      <td>8104</td>\n",
       "      <td>2020-07-14 06:00:00</td>\n",
       "      <td>Artykuł sponsorowany</td>\n",
       "      <td>KINO PLENEROWE na dachu VIVO! Lublin. „Taras pełen atrakcji” [HARMONOGRAM]</td>\n",
       "      <td>https://lublin.se.pl/kino-plenerowe-na-dachu-vivo-lublin-taras-pelen-atrakcji-harmonogram-aa-rfS...</td>\n",
       "      <td>2.0</td>\n",
       "      <td>0.0</td>\n",
       "      <td>3.0</td>\n",
       "      <td>9.0</td>\n",
       "      <td>431.0</td>\n",
       "    </tr>\n",
       "    <tr>\n",
       "      <td>2511</td>\n",
       "      <td>NaT</td>\n",
       "      <td>None</td>\n",
       "      <td>None</td>\n",
       "      <td>https://www.se.pl/lublin/studencie-znajdz-prace-staz-lub-praktyki-zblizaja-sie-dni-kariery-2019-...</td>\n",
       "      <td>NaN</td>\n",
       "      <td>NaN</td>\n",
       "      <td>NaN</td>\n",
       "      <td>NaN</td>\n",
       "      <td>NaN</td>\n",
       "    </tr>\n",
       "    <tr>\n",
       "      <td>6402</td>\n",
       "      <td>NaT</td>\n",
       "      <td>None</td>\n",
       "      <td>None</td>\n",
       "      <td>https://www.se.pl/lublin/swidnik-nie-chcial-isc-na-lekcje-wywolal-pozar-ewakuowal-cala-szkole-aa...</td>\n",
       "      <td>NaN</td>\n",
       "      <td>NaN</td>\n",
       "      <td>NaN</td>\n",
       "      <td>NaN</td>\n",
       "      <td>NaN</td>\n",
       "    </tr>\n",
       "    <tr>\n",
       "      <td>7469</td>\n",
       "      <td>NaT</td>\n",
       "      <td>None</td>\n",
       "      <td>None</td>\n",
       "      <td>https://www.se.pl/lublin/druga-szansa-dla-lubelskich-zabytkow-audio-co-zyska-nowe-oblicze-aa-Wf1...</td>\n",
       "      <td>NaN</td>\n",
       "      <td>NaN</td>\n",
       "      <td>NaN</td>\n",
       "      <td>NaN</td>\n",
       "      <td>NaN</td>\n",
       "    </tr>\n",
       "    <tr>\n",
       "      <td>4237</td>\n",
       "      <td>NaT</td>\n",
       "      <td>None</td>\n",
       "      <td>None</td>\n",
       "      <td>https://www.se.pl/lublin/na-100-lecie-istnienia-chcieli-zebrac-100-litrow-krwi-czy-im-sie-udalo-...</td>\n",
       "      <td>NaN</td>\n",
       "      <td>NaN</td>\n",
       "      <td>NaN</td>\n",
       "      <td>NaN</td>\n",
       "      <td>NaN</td>\n",
       "    </tr>\n",
       "    <tr>\n",
       "      <td>7814</td>\n",
       "      <td>NaT</td>\n",
       "      <td>None</td>\n",
       "      <td>None</td>\n",
       "      <td>https://www.se.pl/lublin/zamosc-kajakiem-po-parku-ceny-mapa-aa-9RJF-Mxbf-EGeh.html</td>\n",
       "      <td>NaN</td>\n",
       "      <td>NaN</td>\n",
       "      <td>NaN</td>\n",
       "      <td>NaN</td>\n",
       "      <td>NaN</td>\n",
       "    </tr>\n",
       "    <tr>\n",
       "      <td>2443</td>\n",
       "      <td>NaT</td>\n",
       "      <td>None</td>\n",
       "      <td>None</td>\n",
       "      <td>https://www.se.pl/lublin/nie-zyje-38-latka-z-gm-trawnik-lubelska-policja-poszukuje-meza-kobiety-...</td>\n",
       "      <td>NaN</td>\n",
       "      <td>NaN</td>\n",
       "      <td>NaN</td>\n",
       "      <td>NaN</td>\n",
       "      <td>NaN</td>\n",
       "    </tr>\n",
       "    <tr>\n",
       "      <td>8187</td>\n",
       "      <td>2020-06-30 21:13:00</td>\n",
       "      <td>EIB, MTA</td>\n",
       "      <td>Wybory 2020: Co musisz wiedzieć przed drugą turą? Jak głosować w Lublinie? [INFORMATOR]</td>\n",
       "      <td>https://lublin.se.pl/wybory-2020-co-musisz-wiedziec-przed-druga-tura-jak-glosowac-w-lublinie-inf...</td>\n",
       "      <td>2.0</td>\n",
       "      <td>0.0</td>\n",
       "      <td>1.0</td>\n",
       "      <td>1.0</td>\n",
       "      <td>404.0</td>\n",
       "    </tr>\n",
       "    <tr>\n",
       "      <td>1677</td>\n",
       "      <td>NaT</td>\n",
       "      <td>None</td>\n",
       "      <td>None</td>\n",
       "      <td>https://www.se.pl/lublin/zalamanie-pogody-na-lubelszczyznie-nadciagaja-burze-z-gradem-aa-JTGe-q9...</td>\n",
       "      <td>NaN</td>\n",
       "      <td>NaN</td>\n",
       "      <td>NaN</td>\n",
       "      <td>NaN</td>\n",
       "      <td>NaN</td>\n",
       "    </tr>\n",
       "  </tbody>\n",
       "</table>\n",
       "</div>"
      ],
      "text/plain": [
       "        publication_date                author  \\\n",
       "3187                 NaT                  None   \n",
       "5651                 NaT                  None   \n",
       "5417                 NaT                  None   \n",
       "2366                 NaT                  None   \n",
       "93   2020-08-18 18:17:00       Marek Targoński   \n",
       "565  2020-06-01 12:17:00                   MTA   \n",
       "6969                 NaT                  None   \n",
       "6861                 NaT                  None   \n",
       "8104 2020-07-14 06:00:00  Artykuł sponsorowany   \n",
       "2511                 NaT                  None   \n",
       "6402                 NaT                  None   \n",
       "7469                 NaT                  None   \n",
       "4237                 NaT                  None   \n",
       "7814                 NaT                  None   \n",
       "2443                 NaT                  None   \n",
       "8187 2020-06-30 21:13:00              EIB, MTA   \n",
       "1677                 NaT                  None   \n",
       "\n",
       "                                                                                           title  \\\n",
       "3187                                                                                        None   \n",
       "5651                                                                                        None   \n",
       "5417                                                                                        None   \n",
       "2366                                                                                        None   \n",
       "93    Biała Podlaska: SPALIŁ samochód swojej dziewczyny. Powód? Wyrzucili go z imprezy [ZDJĘCIA]   \n",
       "565   Koronawirus. Lubelskie: NOWE PRZYPADKI zakażeń. Blisko 500 od początku epidemii. Co dalej?   \n",
       "6969                                                                                        None   \n",
       "6861                                                                                        None   \n",
       "8104                  KINO PLENEROWE na dachu VIVO! Lublin. „Taras pełen atrakcji” [HARMONOGRAM]   \n",
       "2511                                                                                        None   \n",
       "6402                                                                                        None   \n",
       "7469                                                                                        None   \n",
       "4237                                                                                        None   \n",
       "7814                                                                                        None   \n",
       "2443                                                                                        None   \n",
       "8187     Wybory 2020: Co musisz wiedzieć przed drugą turą? Jak głosować w Lublinie? [INFORMATOR]   \n",
       "1677                                                                                        None   \n",
       "\n",
       "                                                                                                      url  \\\n",
       "3187  https://www.se.pl/lublin/zagraja-dla-3-letniej-marysi-szlazak-dziewczynka-walczy-o-zdrowie-we-wl...   \n",
       "5651      https://www.se.pl/lublin/zwloki-w-bystrzycy-cialo-znalazl-przechodzien-1-aa-Tkz1-BUGX-H8ZW.html   \n",
       "5417  https://www.se.pl/lublin/smiertelny-wypadek-w-lukowie-nie-zyje-33-letni-kierowca-aa-qdAr-mRUg-1c...   \n",
       "2366  https://www.se.pl/lublin/kuchenne-rewolucje-lublin-debowka-karczma-zapiecek-pyszny-zajazd-sezon-...   \n",
       "93    https://lublin.se.pl/biala-podlaska-spalil-samochod-swojej-dziewczyny-powod-wyrzucili-go-z-impre...   \n",
       "565   https://www.se.pl/lublin/koronawirus-lubelskie-nowe-przypadki-zakazen-blisko-500-od-poczatku-epi...   \n",
       "6969  https://www.se.pl/lublin/bezplatne-porady-ekspertow-w-lublinie-skorzystaj-z-wiedzy-urzednikow-te...   \n",
       "6861  https://www.se.pl/lublin/trasy-rowerowe-po-roztoczu-szalenstwa-na-dwoch-kolkach-dla-fanow-zielen...   \n",
       "8104  https://lublin.se.pl/kino-plenerowe-na-dachu-vivo-lublin-taras-pelen-atrakcji-harmonogram-aa-rfS...   \n",
       "2511  https://www.se.pl/lublin/studencie-znajdz-prace-staz-lub-praktyki-zblizaja-sie-dni-kariery-2019-...   \n",
       "6402  https://www.se.pl/lublin/swidnik-nie-chcial-isc-na-lekcje-wywolal-pozar-ewakuowal-cala-szkole-aa...   \n",
       "7469  https://www.se.pl/lublin/druga-szansa-dla-lubelskich-zabytkow-audio-co-zyska-nowe-oblicze-aa-Wf1...   \n",
       "4237  https://www.se.pl/lublin/na-100-lecie-istnienia-chcieli-zebrac-100-litrow-krwi-czy-im-sie-udalo-...   \n",
       "7814                   https://www.se.pl/lublin/zamosc-kajakiem-po-parku-ceny-mapa-aa-9RJF-Mxbf-EGeh.html   \n",
       "2443  https://www.se.pl/lublin/nie-zyje-38-latka-z-gm-trawnik-lubelska-policja-poszukuje-meza-kobiety-...   \n",
       "8187  https://lublin.se.pl/wybory-2020-co-musisz-wiedziec-przed-druga-tura-jak-glosowac-w-lublinie-inf...   \n",
       "1677  https://www.se.pl/lublin/zalamanie-pogody-na-lubelszczyznie-nadciagaja-burze-z-gradem-aa-JTGe-q9...   \n",
       "\n",
       "      koronawirus_in_text  koronawirus_in_title  question_mark  \\\n",
       "3187                  NaN                   NaN            NaN   \n",
       "5651                  NaN                   NaN            NaN   \n",
       "5417                  NaN                   NaN            NaN   \n",
       "2366                  NaN                   NaN            NaN   \n",
       "93                    0.0                   0.0            1.0   \n",
       "565                  19.0                   1.0            4.0   \n",
       "6969                  NaN                   NaN            NaN   \n",
       "6861                  NaN                   NaN            NaN   \n",
       "8104                  2.0                   0.0            3.0   \n",
       "2511                  NaN                   NaN            NaN   \n",
       "6402                  NaN                   NaN            NaN   \n",
       "7469                  NaN                   NaN            NaN   \n",
       "4237                  NaN                   NaN            NaN   \n",
       "7814                  NaN                   NaN            NaN   \n",
       "2443                  NaN                   NaN            NaN   \n",
       "8187                  2.0                   0.0            1.0   \n",
       "1677                  NaN                   NaN            NaN   \n",
       "\n",
       "      exclamation_mark  all_words  \n",
       "3187               NaN        NaN  \n",
       "5651               NaN        NaN  \n",
       "5417               NaN        NaN  \n",
       "2366               NaN        NaN  \n",
       "93                 0.0      238.0  \n",
       "565                3.0      219.0  \n",
       "6969               NaN        NaN  \n",
       "6861               NaN        NaN  \n",
       "8104               9.0      431.0  \n",
       "2511               NaN        NaN  \n",
       "6402               NaN        NaN  \n",
       "7469               NaN        NaN  \n",
       "4237               NaN        NaN  \n",
       "7814               NaN        NaN  \n",
       "2443               NaN        NaN  \n",
       "8187               1.0      404.0  \n",
       "1677               NaN        NaN  "
      ]
     },
     "execution_count": 5,
     "metadata": {},
     "output_type": "execute_result"
    }
   ],
   "source": [
    "df.sample(frac = 0.002)"
   ]
  },
  {
   "cell_type": "markdown",
   "metadata": {},
   "source": [
    "# Clean data"
   ]
  },
  {
   "cell_type": "markdown",
   "metadata": {},
   "source": [
    "### initial data check, organize and clearing"
   ]
  },
  {
   "cell_type": "code",
   "execution_count": 6,
   "metadata": {
    "scrolled": false
   },
   "outputs": [
    {
     "name": "stdout",
     "output_type": "stream",
     "text": [
      "<class 'pandas.core.frame.DataFrame'>\n",
      "RangeIndex: 8549 entries, 0 to 8548\n",
      "Data columns (total 9 columns):\n",
      "publication_date        1651 non-null datetime64[ns]\n",
      "author                  1651 non-null object\n",
      "title                   1651 non-null object\n",
      "url                     8549 non-null object\n",
      "koronawirus_in_text     1651 non-null float64\n",
      "koronawirus_in_title    1651 non-null float64\n",
      "question_mark           1651 non-null float64\n",
      "exclamation_mark        1651 non-null float64\n",
      "all_words               1651 non-null float64\n",
      "dtypes: datetime64[ns](1), float64(5), object(3)\n",
      "memory usage: 2.6 MB\n"
     ]
    }
   ],
   "source": [
    "df.info(memory_usage='deep')"
   ]
  },
  {
   "cell_type": "code",
   "execution_count": 7,
   "metadata": {
    "scrolled": true
   },
   "outputs": [
    {
     "data": {
      "text/plain": [
       "publication_date        1641\n",
       "author                   126\n",
       "title                   1648\n",
       "url                     8549\n",
       "koronawirus_in_text       35\n",
       "koronawirus_in_title       2\n",
       "question_mark             18\n",
       "exclamation_mark          15\n",
       "all_words                383\n",
       "dtype: int64"
      ]
     },
     "execution_count": 7,
     "metadata": {},
     "output_type": "execute_result"
    }
   ],
   "source": [
    "df.nunique()"
   ]
  },
  {
   "cell_type": "code",
   "execution_count": 8,
   "metadata": {},
   "outputs": [
    {
     "data": {
      "text/plain": [
       "(1651, 9)"
      ]
     },
     "execution_count": 8,
     "metadata": {},
     "output_type": "execute_result"
    }
   ],
   "source": [
    "df.dropna(inplace=True)\n",
    "df.shape"
   ]
  },
  {
   "cell_type": "code",
   "execution_count": 9,
   "metadata": {
    "scrolled": false
   },
   "outputs": [
    {
     "name": "stdout",
     "output_type": "stream",
     "text": [
      "<class 'pandas.core.frame.DataFrame'>\n",
      "Int64Index: 1651 entries, 0 to 8548\n",
      "Data columns (total 9 columns):\n",
      "publication_date        1651 non-null datetime64[ns]\n",
      "author                  1651 non-null category\n",
      "title                   1651 non-null object\n",
      "url                     1651 non-null object\n",
      "koronawirus_in_text     1651 non-null int64\n",
      "koronawirus_in_title    1651 non-null int64\n",
      "question_mark           1651 non-null int64\n",
      "exclamation_mark        1651 non-null int64\n",
      "all_words               1651 non-null int64\n",
      "dtypes: category(1), datetime64[ns](1), int64(5), object(2)\n",
      "memory usage: 765.4 KB\n"
     ]
    }
   ],
   "source": [
    "df['author'] = df['author'].astype('category')\n",
    "df['koronawirus_in_text'] = df['koronawirus_in_text'].astype('int')\n",
    "df['koronawirus_in_title'] = df['koronawirus_in_title'].astype('int')\n",
    "df['question_mark'] = df['question_mark'].astype('int')\n",
    "df['exclamation_mark'] = df['exclamation_mark'].astype('int')\n",
    "df['all_words'] = df['all_words'].astype('int')\n",
    "df.info(memory_usage='deep')"
   ]
  },
  {
   "cell_type": "code",
   "execution_count": 10,
   "metadata": {
    "scrolled": false
   },
   "outputs": [
    {
     "data": {
      "text/plain": [
       "publication_date        1651\n",
       "author                  1651\n",
       "title                   1651\n",
       "url                     1651\n",
       "koronawirus_in_text     1651\n",
       "koronawirus_in_title    1651\n",
       "question_mark           1651\n",
       "exclamation_mark        1651\n",
       "all_words               1651\n",
       "dtype: int64"
      ]
     },
     "execution_count": 10,
     "metadata": {},
     "output_type": "execute_result"
    }
   ],
   "source": [
    "df.count()"
   ]
  },
  {
   "cell_type": "markdown",
   "metadata": {},
   "source": [
    "### column: publication_day"
   ]
  },
  {
   "cell_type": "code",
   "execution_count": 11,
   "metadata": {
    "scrolled": false
   },
   "outputs": [
    {
     "data": {
      "text/html": [
       "<div>\n",
       "<style scoped>\n",
       "    .dataframe tbody tr th:only-of-type {\n",
       "        vertical-align: middle;\n",
       "    }\n",
       "\n",
       "    .dataframe tbody tr th {\n",
       "        vertical-align: top;\n",
       "    }\n",
       "\n",
       "    .dataframe thead th {\n",
       "        text-align: right;\n",
       "    }\n",
       "</style>\n",
       "<table border=\"1\" class=\"dataframe\">\n",
       "  <thead>\n",
       "    <tr style=\"text-align: right;\">\n",
       "      <th></th>\n",
       "      <th>publication_date</th>\n",
       "      <th>publication_day</th>\n",
       "      <th>author</th>\n",
       "      <th>title</th>\n",
       "      <th>url</th>\n",
       "      <th>koronawirus_in_text</th>\n",
       "      <th>koronawirus_in_title</th>\n",
       "      <th>question_mark</th>\n",
       "      <th>exclamation_mark</th>\n",
       "      <th>all_words</th>\n",
       "    </tr>\n",
       "  </thead>\n",
       "  <tbody>\n",
       "    <tr>\n",
       "      <td>786</td>\n",
       "      <td>2020-03-19 10:06:00</td>\n",
       "      <td>2020-03-19</td>\n",
       "      <td>mt</td>\n",
       "      <td>Koronawirus. Lubelskie: TRZY NOWE przypadki zachorowań! W całym kraju ponad 300 [19.03.20]</td>\n",
       "      <td>https://www.se.pl/lublin/koronawirus-lubelskie-trzy-nowe-przypadki-zachorowan-w-calym-kraju-pona...</td>\n",
       "      <td>18</td>\n",
       "      <td>1</td>\n",
       "      <td>2</td>\n",
       "      <td>1</td>\n",
       "      <td>221</td>\n",
       "    </tr>\n",
       "    <tr>\n",
       "      <td>51</td>\n",
       "      <td>2020-08-25 12:05:00</td>\n",
       "      <td>2020-08-25</td>\n",
       "      <td>Karolina Januszek</td>\n",
       "      <td>Wielkie cięcia w budżetówce. Co piąty urzędnik może stracić pracę?</td>\n",
       "      <td>https://lublin.se.pl/wielkie-ciecia-w-budzetowce-co-piaty-urzednik-moze-stracic-prace-ak-adR7-dL...</td>\n",
       "      <td>2</td>\n",
       "      <td>0</td>\n",
       "      <td>1</td>\n",
       "      <td>0</td>\n",
       "      <td>181</td>\n",
       "    </tr>\n",
       "    <tr>\n",
       "      <td>8112</td>\n",
       "      <td>2020-07-12 12:54:00</td>\n",
       "      <td>2020-07-12</td>\n",
       "      <td>Magdalena Jaśkiewicz-Stawowczyk</td>\n",
       "      <td>Lublin: Jak przebiega głosowanie, są kolejki do lokali? Kiedy głosować, żeby nie czekać? [WYBORY...</td>\n",
       "      <td>https://lublin.se.pl/lublin-jak-przebiega-glosowanie-sa-kolejki-do-lokali-kiedy-glosowac-zeby-ni...</td>\n",
       "      <td>0</td>\n",
       "      <td>0</td>\n",
       "      <td>0</td>\n",
       "      <td>2</td>\n",
       "      <td>578</td>\n",
       "    </tr>\n",
       "  </tbody>\n",
       "</table>\n",
       "</div>"
      ],
      "text/plain": [
       "        publication_date publication_day                           author  \\\n",
       "786  2020-03-19 10:06:00      2020-03-19                               mt   \n",
       "51   2020-08-25 12:05:00      2020-08-25                Karolina Januszek   \n",
       "8112 2020-07-12 12:54:00      2020-07-12  Magdalena Jaśkiewicz-Stawowczyk   \n",
       "\n",
       "                                                                                                    title  \\\n",
       "786            Koronawirus. Lubelskie: TRZY NOWE przypadki zachorowań! W całym kraju ponad 300 [19.03.20]   \n",
       "51                                     Wielkie cięcia w budżetówce. Co piąty urzędnik może stracić pracę?   \n",
       "8112  Lublin: Jak przebiega głosowanie, są kolejki do lokali? Kiedy głosować, żeby nie czekać? [WYBORY...   \n",
       "\n",
       "                                                                                                      url  \\\n",
       "786   https://www.se.pl/lublin/koronawirus-lubelskie-trzy-nowe-przypadki-zachorowan-w-calym-kraju-pona...   \n",
       "51    https://lublin.se.pl/wielkie-ciecia-w-budzetowce-co-piaty-urzednik-moze-stracic-prace-ak-adR7-dL...   \n",
       "8112  https://lublin.se.pl/lublin-jak-przebiega-glosowanie-sa-kolejki-do-lokali-kiedy-glosowac-zeby-ni...   \n",
       "\n",
       "      koronawirus_in_text  koronawirus_in_title  question_mark  \\\n",
       "786                    18                     1              2   \n",
       "51                      2                     0              1   \n",
       "8112                    0                     0              0   \n",
       "\n",
       "      exclamation_mark  all_words  \n",
       "786                  1        221  \n",
       "51                   0        181  \n",
       "8112                 2        578  "
      ]
     },
     "execution_count": 11,
     "metadata": {},
     "output_type": "execute_result"
    }
   ],
   "source": [
    "df.insert(loc=1, column='publication_day', value=df['publication_date'].dt.strftime('%Y-%m-%d'))\n",
    "df.sample(frac = 0.002)"
   ]
  },
  {
   "cell_type": "code",
   "execution_count": 12,
   "metadata": {
    "scrolled": false
   },
   "outputs": [
    {
     "data": {
      "text/plain": [
       "2020-06-29    28\n",
       "2020-07-08    26\n",
       "2020-07-01    25\n",
       "2020-07-03    22\n",
       "2020-08-25    22\n",
       "Name: publication_day, dtype: int64"
      ]
     },
     "execution_count": 12,
     "metadata": {},
     "output_type": "execute_result"
    }
   ],
   "source": [
    "df.publication_day.value_counts().head()"
   ]
  },
  {
   "cell_type": "code",
   "execution_count": 13,
   "metadata": {},
   "outputs": [
    {
     "data": {
      "text/plain": [
       "233"
      ]
     },
     "execution_count": 13,
     "metadata": {},
     "output_type": "execute_result"
    }
   ],
   "source": [
    "df['publication_day'].nunique()"
   ]
  },
  {
   "cell_type": "code",
   "execution_count": 14,
   "metadata": {
    "scrolled": true
   },
   "outputs": [
    {
     "name": "stdout",
     "output_type": "stream",
     "text": [
      "<class 'pandas.core.frame.DataFrame'>\n",
      "Int64Index: 1651 entries, 0 to 8548\n",
      "Data columns (total 10 columns):\n",
      "publication_date        1651 non-null datetime64[ns]\n",
      "publication_day         1651 non-null object\n",
      "author                  1651 non-null category\n",
      "title                   1651 non-null object\n",
      "url                     1651 non-null object\n",
      "koronawirus_in_text     1651 non-null int64\n",
      "koronawirus_in_title    1651 non-null int64\n",
      "question_mark           1651 non-null int64\n",
      "exclamation_mark        1651 non-null int64\n",
      "all_words               1651 non-null int64\n",
      "dtypes: category(1), datetime64[ns](1), int64(5), object(3)\n",
      "memory usage: 873.4 KB\n"
     ]
    }
   ],
   "source": [
    "#df['publication_day'] = df['publication_day'].astype('category')\n",
    "df.info(memory_usage='deep')"
   ]
  },
  {
   "cell_type": "markdown",
   "metadata": {},
   "source": [
    "### column: publication_month"
   ]
  },
  {
   "cell_type": "code",
   "execution_count": 15,
   "metadata": {
    "scrolled": true
   },
   "outputs": [
    {
     "data": {
      "text/html": [
       "<div>\n",
       "<style scoped>\n",
       "    .dataframe tbody tr th:only-of-type {\n",
       "        vertical-align: middle;\n",
       "    }\n",
       "\n",
       "    .dataframe tbody tr th {\n",
       "        vertical-align: top;\n",
       "    }\n",
       "\n",
       "    .dataframe thead th {\n",
       "        text-align: right;\n",
       "    }\n",
       "</style>\n",
       "<table border=\"1\" class=\"dataframe\">\n",
       "  <thead>\n",
       "    <tr style=\"text-align: right;\">\n",
       "      <th></th>\n",
       "      <th>publication_date</th>\n",
       "      <th>publication_month</th>\n",
       "      <th>publication_day</th>\n",
       "      <th>author</th>\n",
       "      <th>title</th>\n",
       "      <th>url</th>\n",
       "      <th>koronawirus_in_text</th>\n",
       "      <th>koronawirus_in_title</th>\n",
       "      <th>question_mark</th>\n",
       "      <th>exclamation_mark</th>\n",
       "      <th>all_words</th>\n",
       "    </tr>\n",
       "  </thead>\n",
       "  <tbody>\n",
       "    <tr>\n",
       "      <td>8085</td>\n",
       "      <td>2020-07-16 15:19:00</td>\n",
       "      <td>2020-07</td>\n",
       "      <td>2020-07-16</td>\n",
       "      <td>AC</td>\n",
       "      <td>Wyniki Lotto. Sprawdź wyniki Lotto z 16.07.2020 godz. 14 (Aktualne wygrane, wyniki losowania Mul...</td>\n",
       "      <td>https://lublin.se.pl/wyniki-lotto-sprawdz-wyniki-lotto-z-16-07-2020-godz-14-aktualne-wygrane-wyn...</td>\n",
       "      <td>0</td>\n",
       "      <td>0</td>\n",
       "      <td>1</td>\n",
       "      <td>1</td>\n",
       "      <td>180</td>\n",
       "    </tr>\n",
       "    <tr>\n",
       "      <td>8039</td>\n",
       "      <td>2020-07-26 13:22:00</td>\n",
       "      <td>2020-07</td>\n",
       "      <td>2020-07-26</td>\n",
       "      <td>Mariusz Mucha</td>\n",
       "      <td>Czarcia Łapa w fontannie. W Lublinie mają nowy pokaz na Placu Litewskim [ZDJĘCIA]</td>\n",
       "      <td>https://lublin.se.pl/czarcia-lapa-w-fontannie-w-lublinie-maja-nowy-pokaz-aa-u1DC-KCaD-oAeD.html</td>\n",
       "      <td>0</td>\n",
       "      <td>0</td>\n",
       "      <td>0</td>\n",
       "      <td>1</td>\n",
       "      <td>205</td>\n",
       "    </tr>\n",
       "  </tbody>\n",
       "</table>\n",
       "</div>"
      ],
      "text/plain": [
       "        publication_date publication_month publication_day         author  \\\n",
       "8085 2020-07-16 15:19:00           2020-07      2020-07-16             AC   \n",
       "8039 2020-07-26 13:22:00           2020-07      2020-07-26  Mariusz Mucha   \n",
       "\n",
       "                                                                                                    title  \\\n",
       "8085  Wyniki Lotto. Sprawdź wyniki Lotto z 16.07.2020 godz. 14 (Aktualne wygrane, wyniki losowania Mul...   \n",
       "8039                    Czarcia Łapa w fontannie. W Lublinie mają nowy pokaz na Placu Litewskim [ZDJĘCIA]   \n",
       "\n",
       "                                                                                                      url  \\\n",
       "8085  https://lublin.se.pl/wyniki-lotto-sprawdz-wyniki-lotto-z-16-07-2020-godz-14-aktualne-wygrane-wyn...   \n",
       "8039      https://lublin.se.pl/czarcia-lapa-w-fontannie-w-lublinie-maja-nowy-pokaz-aa-u1DC-KCaD-oAeD.html   \n",
       "\n",
       "      koronawirus_in_text  koronawirus_in_title  question_mark  \\\n",
       "8085                    0                     0              1   \n",
       "8039                    0                     0              0   \n",
       "\n",
       "      exclamation_mark  all_words  \n",
       "8085                 1        180  \n",
       "8039                 1        205  "
      ]
     },
     "execution_count": 15,
     "metadata": {},
     "output_type": "execute_result"
    }
   ],
   "source": [
    "df.insert(loc=1, column='publication_month', value=df['publication_date'].dt.strftime('%Y-%m'))\n",
    "df.sample(frac = 0.001)"
   ]
  },
  {
   "cell_type": "code",
   "execution_count": 16,
   "metadata": {},
   "outputs": [
    {
     "data": {
      "text/plain": [
       "2020-07    439\n",
       "2020-08    301\n",
       "2020-06    214\n",
       "2020-01    154\n",
       "2020-05    153\n",
       "2020-03    147\n",
       "2020-04    138\n",
       "2020-02    105\n",
       "Name: publication_month, dtype: int64"
      ]
     },
     "execution_count": 16,
     "metadata": {},
     "output_type": "execute_result"
    }
   ],
   "source": [
    "df.publication_month.value_counts().head(8)"
   ]
  },
  {
   "cell_type": "code",
   "execution_count": 17,
   "metadata": {},
   "outputs": [
    {
     "data": {
      "text/plain": [
       "8"
      ]
     },
     "execution_count": 17,
     "metadata": {},
     "output_type": "execute_result"
    }
   ],
   "source": [
    "df['publication_month'].nunique()"
   ]
  },
  {
   "cell_type": "code",
   "execution_count": 18,
   "metadata": {},
   "outputs": [
    {
     "name": "stdout",
     "output_type": "stream",
     "text": [
      "<class 'pandas.core.frame.DataFrame'>\n",
      "Int64Index: 1651 entries, 0 to 8548\n",
      "Data columns (total 11 columns):\n",
      "publication_date        1651 non-null datetime64[ns]\n",
      "publication_month       1651 non-null object\n",
      "publication_day         1651 non-null object\n",
      "author                  1651 non-null category\n",
      "title                   1651 non-null object\n",
      "url                     1651 non-null object\n",
      "koronawirus_in_text     1651 non-null int64\n",
      "koronawirus_in_title    1651 non-null int64\n",
      "question_mark           1651 non-null int64\n",
      "exclamation_mark        1651 non-null int64\n",
      "all_words               1651 non-null int64\n",
      "dtypes: category(1), datetime64[ns](1), int64(5), object(4)\n",
      "memory usage: 976.6 KB\n"
     ]
    }
   ],
   "source": [
    "#df['publication_month'] = df['publication_month'].astype('category')\n",
    "df.info(memory_usage='deep')"
   ]
  },
  {
   "cell_type": "markdown",
   "metadata": {},
   "source": [
    "### column: author"
   ]
  },
  {
   "cell_type": "code",
   "execution_count": 19,
   "metadata": {
    "scrolled": false
   },
   "outputs": [
    {
     "data": {
      "text/plain": [
       "mt                                 335\n",
       "Marek Targoński                    183\n",
       "Mucha                              147\n",
       "Karolina Januszek                  131\n",
       "Mariusz Mucha                      111\n",
       "MTA                                 80\n",
       "Mucha, mta                          55\n",
       "AP                                  36\n",
       "KM                                  33\n",
       "OM                                  32\n",
       "Bartłomiej Ważny                    23\n",
       "Monika Kowalewicz                   22\n",
       "AC                                  21\n",
       "Michał Michalak                     19\n",
       "EIB                                 19\n",
       "Emilia Białecka                     16\n",
       "MK                                  16\n",
       "Mateusz Kasiak                      16\n",
       "Agnieszka Niećko                    15\n",
       "Jacek Werner                        13\n",
       "gk                                  13\n",
       "Olka Mazur                          13\n",
       "Artykuł sponsorowany                13\n",
       "Sylwia Sitka-Czerniak               13\n",
       "Grzegorz Kluczyński                 13\n",
       "maal                                11\n",
       "                                    11\n",
       "KaJa                                11\n",
       "RS                                  10\n",
       "ToM                                  9\n",
       "Maciej Brzeziński                    8\n",
       "Konrad Marzec                        7\n",
       "BM                                   7\n",
       "Monika Kowalewicz/Wioletta Sawa      7\n",
       "Agnieszka Przystaś                   7\n",
       "AG                                   7\n",
       "MaAl                                 6\n",
       "AT                                   6\n",
       "Rafał Strzelec                       6\n",
       "vera                                 6\n",
       "BE                                   5\n",
       "PT                                   5\n",
       "Mucha, mt                            4\n",
       "Mgorecki                             4\n",
       "Magdalena Król                       4\n",
       "mar                                  4\n",
       "Amadeusz Calik                       4\n",
       "AP/IMGW-PIB                          4\n",
       "ŁT                                   3\n",
       "MPGT                                 3\n",
       "Łukasz Trybulski                     3\n",
       "Mucha, pg                            3\n",
       "mt / ZS (Radio ESKA)                 3\n",
       "mt/ MK (Radio ESKA Lublin)           3\n",
       "mt/ JW (Radio ESKA Lublin)           3\n",
       "Redakcja ESKA INFO                   3\n",
       "Mateusz Albin                        2\n",
       "mt / OM (Radio ESKA Lublin)          2\n",
       "GAŁ                                  2\n",
       "mpgt                                 2\n",
       "Name: author, dtype: int64"
      ]
     },
     "execution_count": 19,
     "metadata": {},
     "output_type": "execute_result"
    }
   ],
   "source": [
    "df['author'].value_counts()[:60]"
   ]
  },
  {
   "cell_type": "code",
   "execution_count": 20,
   "metadata": {
    "scrolled": true
   },
   "outputs": [
    {
     "data": {
      "text/plain": [
       "publication_date        514\n",
       "publication_month       514\n",
       "publication_day         514\n",
       "author                  514\n",
       "title                   514\n",
       "url                     514\n",
       "koronawirus_in_text     514\n",
       "koronawirus_in_title    514\n",
       "question_mark           514\n",
       "exclamation_mark        514\n",
       "all_words               514\n",
       "dtype: int64"
      ]
     },
     "execution_count": 20,
     "metadata": {},
     "output_type": "execute_result"
    }
   ],
   "source": [
    "df['author'] = df['author'].str.lower()\n",
    "regex_pattern = re.compile(r'.*mt.*', re.I)\n",
    "df[df['author'].str.contains(regex_pattern)].count()"
   ]
  },
  {
   "cell_type": "code",
   "execution_count": 21,
   "metadata": {
    "scrolled": true
   },
   "outputs": [
    {
     "data": {
      "text/plain": [
       "marek targoński                        699\n",
       "mucha                                  148\n",
       "karolina januszek                      131\n",
       "mariusz mucha                          111\n",
       "ap                                      36\n",
       "km                                      33\n",
       "om                                      32\n",
       "bartłomiej ważny                        23\n",
       "monika kowalewicz                       22\n",
       "ac                                      21\n",
       "michał michalak                         19\n",
       "eib                                     19\n",
       "maal                                    17\n",
       "emilia białecka                         16\n",
       "mateusz kasiak                          16\n",
       "mk                                      16\n",
       "agnieszka niećko                        15\n",
       "gk                                      13\n",
       "grzegorz kluczyński                     13\n",
       "jacek werner                            13\n",
       "olka mazur                              13\n",
       "sylwia sitka-czerniak                   13\n",
       "artykuł sponsorowany                    13\n",
       "kaja                                    11\n",
       "                                        11\n",
       "rs                                      10\n",
       "tom                                      9\n",
       "maciej brzeziński                        8\n",
       "monika kowalewicz/wioletta sawa          7\n",
       "agnieszka przystaś                       7\n",
       "bm                                       7\n",
       "konrad marzec                            7\n",
       "ag                                       7\n",
       "at                                       6\n",
       "vera                                     6\n",
       "rafał strzelec                           6\n",
       "be                                       5\n",
       "mpgt                                     5\n",
       "pt                                       5\n",
       "magdalena król                           4\n",
       "mar                                      4\n",
       "ap/imgw-pib                              4\n",
       "mgorecki                                 4\n",
       "amadeusz calik                           4\n",
       "łukasz trybulski                         3\n",
       "łt                                       3\n",
       "redakcja eska info                       3\n",
       "mucha, pg                                3\n",
       "bartosz wojsa                            2\n",
       "monika szaniawska/materiały prasowe      2\n",
       "Name: author, dtype: int64"
      ]
     },
     "execution_count": 21,
     "metadata": {},
     "output_type": "execute_result"
    }
   ],
   "source": [
    "df['author'] = df['author'].replace(['mt', 'mt; wideo: Tygodnik Zamojski', 'gał'],'marek targoński')\n",
    "# df['author'] = df['author'].replace(['Mucha', 'mucha'],'Mariusz Mucha')\n",
    "# df['author'] = df['author'].replace(['ŁT'],'Łukasz Trybulski')\n",
    "# df['author'] = df['author'].replace(['Mateusz Kasiak (Radio Eska)'],'Mateusz Kasiak')\n",
    "# df['author'] = df['author'].replace(['KaJa'],'Karolina Januszek')\n",
    "# df['author'] = df['author'].replace(['RS'],'Rafał Strzelec')\n",
    "# df['author'] = df['author'].replace(['gk'],'Grzegorz Kluczyński')\n",
    "# df['author'] = df['author'].replace([''],'Nieznany')\n",
    "\n",
    "# regex_pattern = re.compile(r'(.*,.*|.*/.*|Redakcja ESKA INFO|Nieznany|Akcja partnerska)', re.I)\n",
    "# df['author'] = df['author'].replace(regex_pattern,'Więcej autorów lub nieznany')\n",
    "\n",
    "regex_pattern = re.compile(r'.*mt.*', re.I)\n",
    "df['author'] = df['author'].replace(regex_pattern,'marek targoński')\n",
    "\n",
    "df['author'].value_counts()[:50]"
   ]
  },
  {
   "cell_type": "code",
   "execution_count": 22,
   "metadata": {
    "scrolled": true
   },
   "outputs": [
    {
     "name": "stdout",
     "output_type": "stream",
     "text": [
      "<class 'pandas.core.frame.DataFrame'>\n",
      "Int64Index: 1651 entries, 0 to 8548\n",
      "Data columns (total 11 columns):\n",
      "publication_date        1651 non-null datetime64[ns]\n",
      "publication_month       1651 non-null object\n",
      "publication_day         1651 non-null object\n",
      "author                  1651 non-null category\n",
      "title                   1651 non-null object\n",
      "url                     1651 non-null object\n",
      "koronawirus_in_text     1651 non-null int64\n",
      "koronawirus_in_title    1651 non-null int64\n",
      "question_mark           1651 non-null int64\n",
      "exclamation_mark        1651 non-null int64\n",
      "all_words               1651 non-null int64\n",
      "dtypes: category(1), datetime64[ns](1), int64(5), object(4)\n",
      "memory usage: 971.2 KB\n"
     ]
    }
   ],
   "source": [
    "df['author'] = df['author'].astype('category')\n",
    "df.info(memory_usage='deep')"
   ]
  },
  {
   "cell_type": "markdown",
   "metadata": {},
   "source": [
    "### column: koronawiorus_text"
   ]
  },
  {
   "cell_type": "code",
   "execution_count": 23,
   "metadata": {},
   "outputs": [],
   "source": [
    "# df.loc[[919, 1979, 1965], 'koronawirus_in_text'] = 0"
   ]
  },
  {
   "cell_type": "markdown",
   "metadata": {},
   "source": [
    "### column: koronawiorus_anywhere_sum"
   ]
  },
  {
   "cell_type": "code",
   "execution_count": 24,
   "metadata": {
    "scrolled": false
   },
   "outputs": [
    {
     "data": {
      "text/html": [
       "<div>\n",
       "<style scoped>\n",
       "    .dataframe tbody tr th:only-of-type {\n",
       "        vertical-align: middle;\n",
       "    }\n",
       "\n",
       "    .dataframe tbody tr th {\n",
       "        vertical-align: top;\n",
       "    }\n",
       "\n",
       "    .dataframe thead th {\n",
       "        text-align: right;\n",
       "    }\n",
       "</style>\n",
       "<table border=\"1\" class=\"dataframe\">\n",
       "  <thead>\n",
       "    <tr style=\"text-align: right;\">\n",
       "      <th></th>\n",
       "      <th>publication_date</th>\n",
       "      <th>publication_month</th>\n",
       "      <th>publication_day</th>\n",
       "      <th>author</th>\n",
       "      <th>title</th>\n",
       "      <th>url</th>\n",
       "      <th>koronawirus_in_text</th>\n",
       "      <th>koronawirus_in_title</th>\n",
       "      <th>question_mark</th>\n",
       "      <th>exclamation_mark</th>\n",
       "      <th>all_words</th>\n",
       "      <th>koronawirus_anywhere</th>\n",
       "    </tr>\n",
       "  </thead>\n",
       "  <tbody>\n",
       "    <tr>\n",
       "      <td>0</td>\n",
       "      <td>2020-08-31 14:40:00</td>\n",
       "      <td>2020-08</td>\n",
       "      <td>2020-08-31</td>\n",
       "      <td>karolina januszek</td>\n",
       "      <td>Wielkie promocje dla rodzin w Lidlu</td>\n",
       "      <td>https://lublin.se.pl/wielkie-promocje-dla-rodzin-w-lidlu-ak-ACGH-uaXC-Bt3y.html</td>\n",
       "      <td>0</td>\n",
       "      <td>0</td>\n",
       "      <td>0</td>\n",
       "      <td>2</td>\n",
       "      <td>249</td>\n",
       "      <td>0</td>\n",
       "    </tr>\n",
       "  </tbody>\n",
       "</table>\n",
       "</div>"
      ],
      "text/plain": [
       "     publication_date publication_month publication_day             author  \\\n",
       "0 2020-08-31 14:40:00           2020-08      2020-08-31  karolina januszek   \n",
       "\n",
       "                                 title  \\\n",
       "0  Wielkie promocje dla rodzin w Lidlu   \n",
       "\n",
       "                                                                               url  \\\n",
       "0  https://lublin.se.pl/wielkie-promocje-dla-rodzin-w-lidlu-ak-ACGH-uaXC-Bt3y.html   \n",
       "\n",
       "   koronawirus_in_text  koronawirus_in_title  question_mark  exclamation_mark  \\\n",
       "0                    0                     0              0                 2   \n",
       "\n",
       "   all_words  koronawirus_anywhere  \n",
       "0        249                     0  "
      ]
     },
     "execution_count": 24,
     "metadata": {},
     "output_type": "execute_result"
    }
   ],
   "source": [
    "df['koronawirus_anywhere'] = 0\n",
    "df['koronawirus_anywhere'] = df['koronawirus_in_text'] + df['koronawirus_in_title']\n",
    "# df.loc[df.koronawirus_anywhere > 0, 'koronawirus_anywhere'] = 1\n",
    "df.head(1)"
   ]
  },
  {
   "cell_type": "markdown",
   "metadata": {},
   "source": [
    "### column: koronawiorus_anywhere_count"
   ]
  },
  {
   "cell_type": "code",
   "execution_count": 25,
   "metadata": {
    "scrolled": true
   },
   "outputs": [
    {
     "data": {
      "text/html": [
       "<div>\n",
       "<style scoped>\n",
       "    .dataframe tbody tr th:only-of-type {\n",
       "        vertical-align: middle;\n",
       "    }\n",
       "\n",
       "    .dataframe tbody tr th {\n",
       "        vertical-align: top;\n",
       "    }\n",
       "\n",
       "    .dataframe thead th {\n",
       "        text-align: right;\n",
       "    }\n",
       "</style>\n",
       "<table border=\"1\" class=\"dataframe\">\n",
       "  <thead>\n",
       "    <tr style=\"text-align: right;\">\n",
       "      <th></th>\n",
       "      <th>publication_date</th>\n",
       "      <th>publication_month</th>\n",
       "      <th>publication_day</th>\n",
       "      <th>author</th>\n",
       "      <th>title</th>\n",
       "      <th>url</th>\n",
       "      <th>koronawirus_in_text</th>\n",
       "      <th>koronawirus_in_title</th>\n",
       "      <th>question_mark</th>\n",
       "      <th>exclamation_mark</th>\n",
       "      <th>all_words</th>\n",
       "      <th>koronawirus_anywhere</th>\n",
       "      <th>koronawirus_anywhere_count</th>\n",
       "    </tr>\n",
       "  </thead>\n",
       "  <tbody>\n",
       "    <tr>\n",
       "      <td>0</td>\n",
       "      <td>2020-08-31 14:40:00</td>\n",
       "      <td>2020-08</td>\n",
       "      <td>2020-08-31</td>\n",
       "      <td>karolina januszek</td>\n",
       "      <td>Wielkie promocje dla rodzin w Lidlu</td>\n",
       "      <td>https://lublin.se.pl/wielkie-promocje-dla-rodzin-w-lidlu-ak-ACGH-uaXC-Bt3y.html</td>\n",
       "      <td>0</td>\n",
       "      <td>0</td>\n",
       "      <td>0</td>\n",
       "      <td>2</td>\n",
       "      <td>249</td>\n",
       "      <td>0</td>\n",
       "      <td>0</td>\n",
       "    </tr>\n",
       "    <tr>\n",
       "      <td>1</td>\n",
       "      <td>2020-08-31 11:31:00</td>\n",
       "      <td>2020-08</td>\n",
       "      <td>2020-08-31</td>\n",
       "      <td>karolina januszek</td>\n",
       "      <td>Polacy tracą pracę! Najgorsze dopiero nadejdzie</td>\n",
       "      <td>https://lublin.se.pl/polacy-traca-prace-najgorsze-dopiero-nadejdzie-ak-vtoS-p5BX-TkBx.html</td>\n",
       "      <td>3</td>\n",
       "      <td>0</td>\n",
       "      <td>0</td>\n",
       "      <td>0</td>\n",
       "      <td>217</td>\n",
       "      <td>3</td>\n",
       "      <td>1</td>\n",
       "    </tr>\n",
       "    <tr>\n",
       "      <td>2</td>\n",
       "      <td>2020-08-31 10:49:00</td>\n",
       "      <td>2020-08</td>\n",
       "      <td>2020-08-31</td>\n",
       "      <td>mariusz mucha</td>\n",
       "      <td>Na kradzionym rowerze przyjechał zameldować się na komendzie</td>\n",
       "      <td>https://lublin.se.pl/na-kradzionym-rowerze-przyjechal-zameldowac-sie-na-komendzie-aa-pdqC-pyhi-e...</td>\n",
       "      <td>0</td>\n",
       "      <td>0</td>\n",
       "      <td>0</td>\n",
       "      <td>0</td>\n",
       "      <td>259</td>\n",
       "      <td>0</td>\n",
       "      <td>0</td>\n",
       "    </tr>\n",
       "  </tbody>\n",
       "</table>\n",
       "</div>"
      ],
      "text/plain": [
       "     publication_date publication_month publication_day             author  \\\n",
       "0 2020-08-31 14:40:00           2020-08      2020-08-31  karolina januszek   \n",
       "1 2020-08-31 11:31:00           2020-08      2020-08-31  karolina januszek   \n",
       "2 2020-08-31 10:49:00           2020-08      2020-08-31      mariusz mucha   \n",
       "\n",
       "                                                           title  \\\n",
       "0                            Wielkie promocje dla rodzin w Lidlu   \n",
       "1                Polacy tracą pracę! Najgorsze dopiero nadejdzie   \n",
       "2  Na kradzionym rowerze przyjechał zameldować się na komendzie    \n",
       "\n",
       "                                                                                                   url  \\\n",
       "0                      https://lublin.se.pl/wielkie-promocje-dla-rodzin-w-lidlu-ak-ACGH-uaXC-Bt3y.html   \n",
       "1           https://lublin.se.pl/polacy-traca-prace-najgorsze-dopiero-nadejdzie-ak-vtoS-p5BX-TkBx.html   \n",
       "2  https://lublin.se.pl/na-kradzionym-rowerze-przyjechal-zameldowac-sie-na-komendzie-aa-pdqC-pyhi-e...   \n",
       "\n",
       "   koronawirus_in_text  koronawirus_in_title  question_mark  exclamation_mark  \\\n",
       "0                    0                     0              0                 2   \n",
       "1                    3                     0              0                 0   \n",
       "2                    0                     0              0                 0   \n",
       "\n",
       "   all_words  koronawirus_anywhere  koronawirus_anywhere_count  \n",
       "0        249                     0                           0  \n",
       "1        217                     3                           1  \n",
       "2        259                     0                           0  "
      ]
     },
     "execution_count": 25,
     "metadata": {},
     "output_type": "execute_result"
    }
   ],
   "source": [
    "df['koronawirus_anywhere_count'] = 0\n",
    "df['koronawirus_anywhere_count'] = (df['koronawirus_in_text'] + df['koronawirus_in_title']) / (df['koronawirus_in_text'] + df['koronawirus_in_title'])\n",
    "df['koronawirus_anywhere_count'] = df['koronawirus_anywhere_count'].fillna(0).astype('int')\n",
    "df.head(3)"
   ]
  },
  {
   "cell_type": "markdown",
   "metadata": {},
   "source": [
    "### Export data"
   ]
  },
  {
   "cell_type": "code",
   "execution_count": 26,
   "metadata": {},
   "outputs": [],
   "source": [
    "df.to_csv('se_lublin.csv')"
   ]
  },
  {
   "cell_type": "code",
   "execution_count": null,
   "metadata": {},
   "outputs": [],
   "source": []
  },
  {
   "cell_type": "code",
   "execution_count": null,
   "metadata": {},
   "outputs": [],
   "source": []
  }
 ],
 "metadata": {
  "kernelspec": {
   "display_name": "Python 3",
   "language": "python",
   "name": "python3"
  },
  "language_info": {
   "codemirror_mode": {
    "name": "ipython",
    "version": 3
   },
   "file_extension": ".py",
   "mimetype": "text/x-python",
   "name": "python",
   "nbconvert_exporter": "python",
   "pygments_lexer": "ipython3",
   "version": "3.6.9"
  }
 },
 "nbformat": 4,
 "nbformat_minor": 2
}
