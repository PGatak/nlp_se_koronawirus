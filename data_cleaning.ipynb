{
 "cells": [
  {
   "cell_type": "code",
   "execution_count": 58,
   "metadata": {},
   "outputs": [],
   "source": [
    "from bs4 import BeautifulSoup\n",
    "import matplotlib.pyplot as plt\n",
    "import pandas as pd\n",
    "import pickle\n",
    "import re\n",
    "import requests\n",
    "import seaborn as sns\n",
    "\n",
    "from db import create_connection\n",
    "from db import (\n",
    "    articles,\n",
    "    services,\n",
    "    urls\n",
    ")"
   ]
  },
  {
   "cell_type": "code",
   "execution_count": 59,
   "metadata": {},
   "outputs": [],
   "source": [
    "connection = create_connection()"
   ]
  },
  {
   "cell_type": "markdown",
   "metadata": {},
   "source": [
    "# Get data"
   ]
  },
  {
   "cell_type": "code",
   "execution_count": 60,
   "metadata": {},
   "outputs": [],
   "source": [
    "data = articles.get_articles(connection)"
   ]
  },
  {
   "cell_type": "code",
   "execution_count": 61,
   "metadata": {},
   "outputs": [],
   "source": [
    "pd.set_option('max_colwidth', 100)\n",
    "df = pd.DataFrame(data, columns = ['publication_date',\n",
    "                                    'author',\n",
    "                                    'title',\n",
    "                                   'url',\n",
    "                                    'koronawirus_in_text',\n",
    "                                    'koronawirus_in_title'])"
   ]
  },
  {
   "cell_type": "code",
   "execution_count": 62,
   "metadata": {
    "scrolled": false
   },
   "outputs": [
    {
     "data": {
      "text/html": [
       "<div>\n",
       "<style scoped>\n",
       "    .dataframe tbody tr th:only-of-type {\n",
       "        vertical-align: middle;\n",
       "    }\n",
       "\n",
       "    .dataframe tbody tr th {\n",
       "        vertical-align: top;\n",
       "    }\n",
       "\n",
       "    .dataframe thead th {\n",
       "        text-align: right;\n",
       "    }\n",
       "</style>\n",
       "<table border=\"1\" class=\"dataframe\">\n",
       "  <thead>\n",
       "    <tr style=\"text-align: right;\">\n",
       "      <th></th>\n",
       "      <th>publication_date</th>\n",
       "      <th>author</th>\n",
       "      <th>title</th>\n",
       "      <th>url</th>\n",
       "      <th>koronawirus_in_text</th>\n",
       "      <th>koronawirus_in_title</th>\n",
       "    </tr>\n",
       "  </thead>\n",
       "  <tbody>\n",
       "    <tr>\n",
       "      <td>1099</td>\n",
       "      <td>NaT</td>\n",
       "      <td>None</td>\n",
       "      <td>None</td>\n",
       "      <td>https://www.se.pl/lublin/w-spsk-nr-4-zrobi-sie-cieplej-trwa-termomodernizacja-budynkow-audio-aa-...</td>\n",
       "      <td>NaN</td>\n",
       "      <td>NaN</td>\n",
       "    </tr>\n",
       "    <tr>\n",
       "      <td>1465</td>\n",
       "      <td>2020-08-10 09:37:00</td>\n",
       "      <td>Marek Targoński</td>\n",
       "      <td>Grozili, że ZGWAŁCĄ I ZABIJĄ. BANDYCI nie mieli litości. HORROR w Lublinie</td>\n",
       "      <td>https://lublin.se.pl/grozili-ze-zgwalca-i-zabija-bandyci-nie-mieli-litosci-horror-w-lublinie-aa-...</td>\n",
       "      <td>0.0</td>\n",
       "      <td>0.0</td>\n",
       "    </tr>\n",
       "    <tr>\n",
       "      <td>440</td>\n",
       "      <td>2020-06-11 06:33:00</td>\n",
       "      <td>BM</td>\n",
       "      <td>Chodel: Tragiczne skutki wybuchu gazu. W nocy odnaleziono DWA ciała!</td>\n",
       "      <td>https://www.se.pl/lublin/chodel-tragiczne-skutki-wybuchu-gazu-w-nocy-odnaleziono-dwa-ciala-aa-Ra...</td>\n",
       "      <td>0.0</td>\n",
       "      <td>0.0</td>\n",
       "    </tr>\n",
       "    <tr>\n",
       "      <td>1712</td>\n",
       "      <td>2020-06-19 09:11:00</td>\n",
       "      <td>AP</td>\n",
       "      <td>Brzeziny. To nie matka POSTRZELIŁA 4-letnią córkę! ZASKAKUJĄCE ustalenia prokuratury</td>\n",
       "      <td>https://lublin.se.pl/brzeziny-to-nie-matka-postrzelila-4-letnia-corke-zaskakujace-ustalenia-prok...</td>\n",
       "      <td>0.0</td>\n",
       "      <td>0.0</td>\n",
       "    </tr>\n",
       "    <tr>\n",
       "      <td>1973</td>\n",
       "      <td>2020-01-17 12:11:00</td>\n",
       "      <td>mt</td>\n",
       "      <td>SKANDAL! Udawał „lekarza bez granic”. Mieszkanka Lublina STRACIŁA OGROMNE PIENIĄDZE!</td>\n",
       "      <td>https://www.se.pl/lublin/skandal-udawal-lekarza-bez-granic-mieszkanka-lublina-stracila-ogromne-p...</td>\n",
       "      <td>0.0</td>\n",
       "      <td>0.0</td>\n",
       "    </tr>\n",
       "    <tr>\n",
       "      <td>52</td>\n",
       "      <td>2020-08-06 10:18:00</td>\n",
       "      <td>Rafał Strzelec</td>\n",
       "      <td>Koronawirus: REKORDOWY WZROST! Zakażenia +726. Ile mamy respiratorów? Ofiary +18, Ozdrowieńcy +321</td>\n",
       "      <td>https://lublin.se.pl/koronawirus-w-polsce-zakazenia-726-ofiary-18-ozdrowiency-321-rekordowy-wzro...</td>\n",
       "      <td>21.0</td>\n",
       "      <td>1.0</td>\n",
       "    </tr>\n",
       "    <tr>\n",
       "      <td>428</td>\n",
       "      <td>2020-06-16 11:45:00</td>\n",
       "      <td>Mgorecki</td>\n",
       "      <td>Lublin: Ukradli ponad 70 tysięcy złotych! Udało się dzięki TEJ metodzie [WIDEO]</td>\n",
       "      <td>https://lublin.se.pl/lbulin-ukradli-ponad-70-tysiecy-zlotych-udalo-sie-dzieki-tej-poularnej-meto...</td>\n",
       "      <td>0.0</td>\n",
       "      <td>0.0</td>\n",
       "    </tr>\n",
       "  </tbody>\n",
       "</table>\n",
       "</div>"
      ],
      "text/plain": [
       "        publication_date           author  \\\n",
       "1099                 NaT             None   \n",
       "1465 2020-08-10 09:37:00  Marek Targoński   \n",
       "440  2020-06-11 06:33:00               BM   \n",
       "1712 2020-06-19 09:11:00               AP   \n",
       "1973 2020-01-17 12:11:00               mt   \n",
       "52   2020-08-06 10:18:00   Rafał Strzelec   \n",
       "428  2020-06-16 11:45:00         Mgorecki   \n",
       "\n",
       "                                                                                                   title  \\\n",
       "1099                                                                                                None   \n",
       "1465                          Grozili, że ZGWAŁCĄ I ZABIJĄ. BANDYCI nie mieli litości. HORROR w Lublinie   \n",
       "440                                 Chodel: Tragiczne skutki wybuchu gazu. W nocy odnaleziono DWA ciała!   \n",
       "1712                Brzeziny. To nie matka POSTRZELIŁA 4-letnią córkę! ZASKAKUJĄCE ustalenia prokuratury   \n",
       "1973                SKANDAL! Udawał „lekarza bez granic”. Mieszkanka Lublina STRACIŁA OGROMNE PIENIĄDZE!   \n",
       "52    Koronawirus: REKORDOWY WZROST! Zakażenia +726. Ile mamy respiratorów? Ofiary +18, Ozdrowieńcy +321   \n",
       "428                      Lublin: Ukradli ponad 70 tysięcy złotych! Udało się dzięki TEJ metodzie [WIDEO]   \n",
       "\n",
       "                                                                                                      url  \\\n",
       "1099  https://www.se.pl/lublin/w-spsk-nr-4-zrobi-sie-cieplej-trwa-termomodernizacja-budynkow-audio-aa-...   \n",
       "1465  https://lublin.se.pl/grozili-ze-zgwalca-i-zabija-bandyci-nie-mieli-litosci-horror-w-lublinie-aa-...   \n",
       "440   https://www.se.pl/lublin/chodel-tragiczne-skutki-wybuchu-gazu-w-nocy-odnaleziono-dwa-ciala-aa-Ra...   \n",
       "1712  https://lublin.se.pl/brzeziny-to-nie-matka-postrzelila-4-letnia-corke-zaskakujace-ustalenia-prok...   \n",
       "1973  https://www.se.pl/lublin/skandal-udawal-lekarza-bez-granic-mieszkanka-lublina-stracila-ogromne-p...   \n",
       "52    https://lublin.se.pl/koronawirus-w-polsce-zakazenia-726-ofiary-18-ozdrowiency-321-rekordowy-wzro...   \n",
       "428   https://lublin.se.pl/lbulin-ukradli-ponad-70-tysiecy-zlotych-udalo-sie-dzieki-tej-poularnej-meto...   \n",
       "\n",
       "      koronawirus_in_text  koronawirus_in_title  \n",
       "1099                  NaN                   NaN  \n",
       "1465                  0.0                   0.0  \n",
       "440                   0.0                   0.0  \n",
       "1712                  0.0                   0.0  \n",
       "1973                  0.0                   0.0  \n",
       "52                   21.0                   1.0  \n",
       "428                   0.0                   0.0  "
      ]
     },
     "execution_count": 62,
     "metadata": {},
     "output_type": "execute_result"
    }
   ],
   "source": [
    "df.sample(frac = 0.0035)"
   ]
  },
  {
   "cell_type": "markdown",
   "metadata": {},
   "source": [
    "# Clean data"
   ]
  },
  {
   "cell_type": "markdown",
   "metadata": {},
   "source": [
    "### initial data check, organize and clearing"
   ]
  },
  {
   "cell_type": "code",
   "execution_count": 63,
   "metadata": {
    "scrolled": true
   },
   "outputs": [
    {
     "data": {
      "text/plain": [
       "(2002, 6)"
      ]
     },
     "execution_count": 63,
     "metadata": {},
     "output_type": "execute_result"
    }
   ],
   "source": [
    "df.shape"
   ]
  },
  {
   "cell_type": "code",
   "execution_count": 64,
   "metadata": {
    "scrolled": false
   },
   "outputs": [
    {
     "name": "stdout",
     "output_type": "stream",
     "text": [
      "<class 'pandas.core.frame.DataFrame'>\n",
      "RangeIndex: 2002 entries, 0 to 2001\n",
      "Data columns (total 6 columns):\n",
      "publication_date        1469 non-null datetime64[ns]\n",
      "author                  1469 non-null object\n",
      "title                   1469 non-null object\n",
      "url                     2002 non-null object\n",
      "koronawirus_in_text     1469 non-null float64\n",
      "koronawirus_in_title    1469 non-null float64\n",
      "dtypes: datetime64[ns](1), float64(2), object(3)\n",
      "memory usage: 854.2 KB\n"
     ]
    }
   ],
   "source": [
    "df.info(memory_usage='deep')"
   ]
  },
  {
   "cell_type": "code",
   "execution_count": 65,
   "metadata": {},
   "outputs": [
    {
     "data": {
      "text/plain": [
       "(1469, 6)"
      ]
     },
     "execution_count": 65,
     "metadata": {},
     "output_type": "execute_result"
    }
   ],
   "source": [
    "df.dropna(inplace=True)\n",
    "df.shape"
   ]
  },
  {
   "cell_type": "code",
   "execution_count": 66,
   "metadata": {
    "scrolled": false
   },
   "outputs": [
    {
     "data": {
      "text/plain": [
       "publication_date        1469\n",
       "author                  1469\n",
       "title                   1469\n",
       "url                     1469\n",
       "koronawirus_in_text     1469\n",
       "koronawirus_in_title    1469\n",
       "dtype: int64"
      ]
     },
     "execution_count": 66,
     "metadata": {},
     "output_type": "execute_result"
    }
   ],
   "source": [
    "df.count()"
   ]
  },
  {
   "cell_type": "markdown",
   "metadata": {},
   "source": [
    "### column: publication_day"
   ]
  },
  {
   "cell_type": "code",
   "execution_count": 67,
   "metadata": {
    "scrolled": true
   },
   "outputs": [
    {
     "data": {
      "text/html": [
       "<div>\n",
       "<style scoped>\n",
       "    .dataframe tbody tr th:only-of-type {\n",
       "        vertical-align: middle;\n",
       "    }\n",
       "\n",
       "    .dataframe tbody tr th {\n",
       "        vertical-align: top;\n",
       "    }\n",
       "\n",
       "    .dataframe thead th {\n",
       "        text-align: right;\n",
       "    }\n",
       "</style>\n",
       "<table border=\"1\" class=\"dataframe\">\n",
       "  <thead>\n",
       "    <tr style=\"text-align: right;\">\n",
       "      <th></th>\n",
       "      <th>publication_date</th>\n",
       "      <th>publication_day</th>\n",
       "      <th>author</th>\n",
       "      <th>title</th>\n",
       "      <th>url</th>\n",
       "      <th>koronawirus_in_text</th>\n",
       "      <th>koronawirus_in_title</th>\n",
       "    </tr>\n",
       "  </thead>\n",
       "  <tbody>\n",
       "    <tr>\n",
       "      <td>267</td>\n",
       "      <td>2020-07-08 21:41:00</td>\n",
       "      <td>2020-07-08</td>\n",
       "      <td>Amadeusz Calik</td>\n",
       "      <td>Ogromny SKANDAL na pogrzebie na Lubelszczyźnie. Wierni nie mogli w to uwierzyć!</td>\n",
       "      <td>https://lublin.se.pl/ogromny-skandal-na-pogrzebie-na-lubelszczyznie-wierni-nie-mogli-w-to-uwierz...</td>\n",
       "      <td>0.0</td>\n",
       "      <td>0.0</td>\n",
       "    </tr>\n",
       "    <tr>\n",
       "      <td>529</td>\n",
       "      <td>2020-05-18 09:33:00</td>\n",
       "      <td>2020-05-18</td>\n",
       "      <td>Mucha</td>\n",
       "      <td>Zrobił tak, jak zrobili jemu. Nietypowe początki młodego oszusta</td>\n",
       "      <td>https://www.se.pl/lublin/zrobil-tak-jak-zrobili-jemu-nietypowe-poczatki-mlodego-oszusta-aa-5YYe-...</td>\n",
       "      <td>0.0</td>\n",
       "      <td>0.0</td>\n",
       "    </tr>\n",
       "    <tr>\n",
       "      <td>528</td>\n",
       "      <td>2020-05-18 10:52:00</td>\n",
       "      <td>2020-05-18</td>\n",
       "      <td>Mucha</td>\n",
       "      <td>Z PRZERAŻENIEM dzwonili na policję!  A on tylko... wybrał się na spacer. KOŃ w Lubartowie</td>\n",
       "      <td>https://www.se.pl/lublin/z-przerazeniem-dzwonili-na-policje-a-on-tylko-wybral-sie-na-spacer-aa-o...</td>\n",
       "      <td>0.0</td>\n",
       "      <td>0.0</td>\n",
       "    </tr>\n",
       "  </tbody>\n",
       "</table>\n",
       "</div>"
      ],
      "text/plain": [
       "       publication_date publication_day          author  \\\n",
       "267 2020-07-08 21:41:00      2020-07-08  Amadeusz Calik   \n",
       "529 2020-05-18 09:33:00      2020-05-18           Mucha   \n",
       "528 2020-05-18 10:52:00      2020-05-18           Mucha   \n",
       "\n",
       "                                                                                         title  \\\n",
       "267            Ogromny SKANDAL na pogrzebie na Lubelszczyźnie. Wierni nie mogli w to uwierzyć!   \n",
       "529                           Zrobił tak, jak zrobili jemu. Nietypowe początki młodego oszusta   \n",
       "528  Z PRZERAŻENIEM dzwonili na policję!  A on tylko... wybrał się na spacer. KOŃ w Lubartowie   \n",
       "\n",
       "                                                                                                     url  \\\n",
       "267  https://lublin.se.pl/ogromny-skandal-na-pogrzebie-na-lubelszczyznie-wierni-nie-mogli-w-to-uwierz...   \n",
       "529  https://www.se.pl/lublin/zrobil-tak-jak-zrobili-jemu-nietypowe-poczatki-mlodego-oszusta-aa-5YYe-...   \n",
       "528  https://www.se.pl/lublin/z-przerazeniem-dzwonili-na-policje-a-on-tylko-wybral-sie-na-spacer-aa-o...   \n",
       "\n",
       "     koronawirus_in_text  koronawirus_in_title  \n",
       "267                  0.0                   0.0  \n",
       "529                  0.0                   0.0  \n",
       "528                  0.0                   0.0  "
      ]
     },
     "execution_count": 67,
     "metadata": {},
     "output_type": "execute_result"
    }
   ],
   "source": [
    "df.insert(loc=1, column='publication_day', value=df['publication_date'].dt.strftime('%Y-%m-%d'))\n",
    "df.sample(frac = 0.002)"
   ]
  },
  {
   "cell_type": "code",
   "execution_count": 68,
   "metadata": {
    "scrolled": false
   },
   "outputs": [
    {
     "data": {
      "text/plain": [
       "2020-06-29    28\n",
       "2020-07-08    26\n",
       "2020-07-01    24\n",
       "2020-07-03    22\n",
       "2020-07-14    21\n",
       "Name: publication_day, dtype: int64"
      ]
     },
     "execution_count": 68,
     "metadata": {},
     "output_type": "execute_result"
    }
   ],
   "source": [
    "df.publication_day.value_counts().head()"
   ]
  },
  {
   "cell_type": "code",
   "execution_count": 69,
   "metadata": {},
   "outputs": [
    {
     "name": "stdout",
     "output_type": "stream",
     "text": [
      "<class 'pandas.core.frame.DataFrame'>\n",
      "Int64Index: 1469 entries, 0 to 2001\n",
      "Data columns (total 7 columns):\n",
      "publication_date        1469 non-null datetime64[ns]\n",
      "publication_day         1469 non-null object\n",
      "author                  1469 non-null object\n",
      "title                   1469 non-null object\n",
      "url                     1469 non-null object\n",
      "koronawirus_in_text     1469 non-null float64\n",
      "koronawirus_in_title    1469 non-null float64\n",
      "dtypes: datetime64[ns](1), float64(2), object(4)\n",
      "memory usage: 833.1 KB\n"
     ]
    }
   ],
   "source": [
    "df.info(memory_usage='deep')"
   ]
  },
  {
   "cell_type": "code",
   "execution_count": 70,
   "metadata": {
    "scrolled": false
   },
   "outputs": [
    {
     "name": "stdout",
     "output_type": "stream",
     "text": [
      "<class 'pandas.core.frame.DataFrame'>\n",
      "Int64Index: 1469 entries, 0 to 2001\n",
      "Data columns (total 7 columns):\n",
      "publication_date        1469 non-null datetime64[ns]\n",
      "publication_day         1469 non-null category\n",
      "author                  1469 non-null object\n",
      "title                   1469 non-null object\n",
      "url                     1469 non-null object\n",
      "koronawirus_in_text     1469 non-null float64\n",
      "koronawirus_in_title    1469 non-null float64\n",
      "dtypes: category(1), datetime64[ns](1), float64(2), object(3)\n",
      "memory usage: 764.1 KB\n"
     ]
    }
   ],
   "source": [
    "df['publication_day'] = df['publication_day'].astype('category')\n",
    "df.info(memory_usage='deep')"
   ]
  },
  {
   "cell_type": "markdown",
   "metadata": {},
   "source": [
    "### column: publication_month"
   ]
  },
  {
   "cell_type": "code",
   "execution_count": 71,
   "metadata": {
    "scrolled": false
   },
   "outputs": [
    {
     "data": {
      "text/html": [
       "<div>\n",
       "<style scoped>\n",
       "    .dataframe tbody tr th:only-of-type {\n",
       "        vertical-align: middle;\n",
       "    }\n",
       "\n",
       "    .dataframe tbody tr th {\n",
       "        vertical-align: top;\n",
       "    }\n",
       "\n",
       "    .dataframe thead th {\n",
       "        text-align: right;\n",
       "    }\n",
       "</style>\n",
       "<table border=\"1\" class=\"dataframe\">\n",
       "  <thead>\n",
       "    <tr style=\"text-align: right;\">\n",
       "      <th></th>\n",
       "      <th>publication_date</th>\n",
       "      <th>publication_month</th>\n",
       "      <th>publication_day</th>\n",
       "      <th>author</th>\n",
       "      <th>title</th>\n",
       "      <th>url</th>\n",
       "      <th>koronawirus_in_text</th>\n",
       "      <th>koronawirus_in_title</th>\n",
       "    </tr>\n",
       "  </thead>\n",
       "  <tbody>\n",
       "    <tr>\n",
       "      <td>545</td>\n",
       "      <td>2020-05-13 13:28:00</td>\n",
       "      <td>2020-05</td>\n",
       "      <td>2020-05-13</td>\n",
       "      <td>Mucha</td>\n",
       "      <td>Wisznice: Policjant po służbie URATOWAŁ BOCIANA. Ptak jest już bezpieczny</td>\n",
       "      <td>https://www.se.pl/lublin/policjant-po-sluzbie-uratowal-bociana-ptak-jest-juz-bezpieczny-aa-kkee-...</td>\n",
       "      <td>0.0</td>\n",
       "      <td>0.0</td>\n",
       "    </tr>\n",
       "  </tbody>\n",
       "</table>\n",
       "</div>"
      ],
      "text/plain": [
       "       publication_date publication_month publication_day author  \\\n",
       "545 2020-05-13 13:28:00           2020-05      2020-05-13  Mucha   \n",
       "\n",
       "                                                                         title  \\\n",
       "545  Wisznice: Policjant po służbie URATOWAŁ BOCIANA. Ptak jest już bezpieczny   \n",
       "\n",
       "                                                                                                     url  \\\n",
       "545  https://www.se.pl/lublin/policjant-po-sluzbie-uratowal-bociana-ptak-jest-juz-bezpieczny-aa-kkee-...   \n",
       "\n",
       "     koronawirus_in_text  koronawirus_in_title  \n",
       "545                  0.0                   0.0  "
      ]
     },
     "execution_count": 71,
     "metadata": {},
     "output_type": "execute_result"
    }
   ],
   "source": [
    "df.insert(loc=1, column='publication_month', value=df['publication_date'].dt.strftime('%Y-%m'))\n",
    "df.sample(frac = 0.001)"
   ]
  },
  {
   "cell_type": "markdown",
   "metadata": {},
   "source": [
    "### column: author"
   ]
  },
  {
   "cell_type": "code",
   "execution_count": 72,
   "metadata": {
    "scrolled": false
   },
   "outputs": [
    {
     "data": {
      "text/plain": [
       "mt                                     332\n",
       "Mucha                                  146\n",
       "Marek Targoński                        132\n",
       "Karolina Januszek                       88\n",
       "MTA                                     78\n",
       "Mariusz Mucha                           76\n",
       "Mucha, mta                              54\n",
       "AP                                      36\n",
       "OM                                      32\n",
       "KM                                      25\n",
       "Monika Kowalewicz                       22\n",
       "Bartłomiej Ważny                        22\n",
       "AC                                      20\n",
       "MK                                      16\n",
       "Mateusz Kasiak                          16\n",
       "Michał Michalak                         16\n",
       "gk                                      15\n",
       "Agnieszka Niećko                        15\n",
       "Jacek Werner                            14\n",
       "Artykuł sponsorowany                    13\n",
       "EIB                                     13\n",
       "Olka Mazur                              13\n",
       "Sylwia Sitka-Czerniak                   13\n",
       "maal                                    11\n",
       "Emilia Białecka                         11\n",
       "RS                                      10\n",
       "KaJa                                     9\n",
       "                                         9\n",
       "Grzegorz Kluczyński                      7\n",
       "AG                                       7\n",
       "Monika Kowalewicz/Wioletta Sawa          7\n",
       "ToM                                      7\n",
       "Agnieszka Przystaś                       7\n",
       "Konrad Marzec                            7\n",
       "Rafał Strzelec                           6\n",
       "MaAl                                     6\n",
       "BM                                       6\n",
       "Maciej Brzeziński                        6\n",
       "vera                                     5\n",
       "BE                                       5\n",
       "PT                                       5\n",
       "AT                                       5\n",
       "AP/IMGW-PIB                              4\n",
       "mar                                      4\n",
       "Mgorecki                                 4\n",
       "Mucha, mt                                4\n",
       "Redakcja ESKA INFO                       3\n",
       "mt / ZS (Radio ESKA)                     3\n",
       "MPGT                                     3\n",
       "Łukasz Trybulski                         3\n",
       "Mucha, pg                                3\n",
       "mt/ JW (Radio ESKA Lublin)               3\n",
       "Amadeusz Calik                           3\n",
       "ŁT                                       3\n",
       "mt/ MK (Radio ESKA Lublin)               3\n",
       "Magdalena Król                           2\n",
       "Mucha, PMar                              2\n",
       "Monika Szaniawska                        2\n",
       "Krzysztof Wójcik                         2\n",
       "Monika Szaniawska/materiały prasowe      2\n",
       "Name: author, dtype: int64"
      ]
     },
     "execution_count": 72,
     "metadata": {},
     "output_type": "execute_result"
    }
   ],
   "source": [
    "df['author'].value_counts()[:60]"
   ]
  },
  {
   "cell_type": "code",
   "execution_count": 73,
   "metadata": {
    "scrolled": true
   },
   "outputs": [
    {
     "data": {
      "text/plain": [
       "Marek Targoński                464\n",
       "Mariusz Mucha                  223\n",
       "Więcej autorów lub nieznany    135\n",
       "Karolina Januszek               97\n",
       "MTA                             78\n",
       "AP                              36\n",
       "OM                              32\n",
       "KM                              25\n",
       "Bartłomiej Ważny                22\n",
       "Monika Kowalewicz               22\n",
       "Grzegorz Kluczyński             22\n",
       "AC                              20\n",
       "Mateusz Kasiak                  17\n",
       "MK                              16\n",
       "Michał Michalak                 16\n",
       "Name: author, dtype: int64"
      ]
     },
     "execution_count": 73,
     "metadata": {},
     "output_type": "execute_result"
    }
   ],
   "source": [
    "df['author'] = df['author'].replace(['mt', 'mt; wideo: Tygodnik Zamojski'],'Marek Targoński')\n",
    "df['author'] = df['author'].replace(['Mucha', 'mucha'],'Mariusz Mucha')\n",
    "df['author'] = df['author'].replace(['ŁT'],'Łukasz Trybulski')\n",
    "df['author'] = df['author'].replace(['Mateusz Kasiak (Radio Eska)'],'Mateusz Kasiak')\n",
    "df['author'] = df['author'].replace(['KaJa'],'Karolina Januszek')\n",
    "df['author'] = df['author'].replace(['RS'],'Rafał Strzelec')\n",
    "df['author'] = df['author'].replace(['gk'],'Grzegorz Kluczyński')\n",
    "df['author'] = df['author'].replace([''],'Nieznany')\n",
    "\n",
    "regex_pattern = re.compile(r'(.*,.*|.*/.*|Redakcja ESKA INFO|Nieznany|Akcja partnerska)', re.I)\n",
    "df['author'] = df['author'].replace(regex_pattern,'Więcej autorów lub nieznany')\n",
    "\n",
    "df['author'].value_counts()[:15]"
   ]
  },
  {
   "cell_type": "code",
   "execution_count": 74,
   "metadata": {
    "scrolled": true
   },
   "outputs": [
    {
     "name": "stdout",
     "output_type": "stream",
     "text": [
      "<class 'pandas.core.frame.DataFrame'>\n",
      "Int64Index: 1469 entries, 0 to 2001\n",
      "Data columns (total 8 columns):\n",
      "publication_date        1469 non-null datetime64[ns]\n",
      "publication_month       1469 non-null object\n",
      "publication_day         1469 non-null category\n",
      "author                  1469 non-null category\n",
      "title                   1469 non-null object\n",
      "url                     1469 non-null object\n",
      "koronawirus_in_text     1469 non-null float64\n",
      "koronawirus_in_title    1469 non-null float64\n",
      "dtypes: category(2), datetime64[ns](1), float64(2), object(3)\n",
      "memory usage: 761.8 KB\n"
     ]
    }
   ],
   "source": [
    "df['author'] = df['author'].astype('category')\n",
    "df.info(memory_usage='deep')"
   ]
  },
  {
   "cell_type": "code",
   "execution_count": 20,
   "metadata": {},
   "outputs": [],
   "source": [
    "df.loc[[919, 1979, 1965], 'koronawirus_in_text'] = 0"
   ]
  },
  {
   "cell_type": "code",
   "execution_count": 48,
   "metadata": {
    "scrolled": false
   },
   "outputs": [
    {
     "data": {
      "text/plain": [
       "Marek Targoński    185\n",
       "Name: author, dtype: int64"
      ]
     },
     "execution_count": 48,
     "metadata": {},
     "output_type": "execute_result"
    }
   ],
   "source": [
    "df_with_koronawirus_in_title = df.where(df[\"koronawirus_in_title\"] > 0).dropna()\n",
    "df_with_koronawirus_in_title['author'].value_counts()[:1]"
   ]
  },
  {
   "cell_type": "code",
   "execution_count": 35,
   "metadata": {},
   "outputs": [
    {
     "data": {
      "text/plain": [
       "Marek Targoński    224\n",
       "Name: author, dtype: int64"
      ]
     },
     "execution_count": 35,
     "metadata": {},
     "output_type": "execute_result"
    }
   ],
   "source": [
    "df_with_koronawirus_in_text = df.where(df[\"koronawirus_in_text\"] > 0).dropna()\n",
    "df_with_koronawirus_in_text['author'].value_counts()[:1]\n"
   ]
  },
  {
   "cell_type": "code",
   "execution_count": null,
   "metadata": {},
   "outputs": [],
   "source": []
  },
  {
   "cell_type": "code",
   "execution_count": null,
   "metadata": {},
   "outputs": [],
   "source": []
  },
  {
   "cell_type": "code",
   "execution_count": null,
   "metadata": {},
   "outputs": [],
   "source": []
  },
  {
   "cell_type": "markdown",
   "metadata": {},
   "source": [
    "# Project"
   ]
  },
  {
   "cell_type": "markdown",
   "metadata": {},
   "source": [
    "### Łączna ilość artykułów"
   ]
  },
  {
   "cell_type": "code",
   "execution_count": 138,
   "metadata": {},
   "outputs": [
    {
     "data": {
      "text/plain": [
       "1469"
      ]
     },
     "execution_count": 138,
     "metadata": {},
     "output_type": "execute_result"
    }
   ],
   "source": [
    "df.shape[0]"
   ]
  },
  {
   "cell_type": "markdown",
   "metadata": {},
   "source": [
    "### Ilość opublikowanych artykułów w każdym miesiącu"
   ]
  },
  {
   "cell_type": "code",
   "execution_count": 198,
   "metadata": {},
   "outputs": [
    {
     "data": {
      "image/png": "[encoded data removed]",
      "text/plain": [
       "<Figure size 576x360 with 1 Axes>"
      ]
     },
     "metadata": {
      "needs_background": "light"
     },
     "output_type": "display_data"
    }
   ],
   "source": [
    "publication_month_count = df.publication_month.value_counts(normalize=True)\n",
    "plt.figure(figsize=(8, 5))\n",
    "sns.barplot(publication_month_count.index, publication_month_count.values, alpha=0.8)\n",
    "plt.show()"
   ]
  },
  {
   "cell_type": "markdown",
   "metadata": {},
   "source": [
    "### Pierwsze opublikowane artykuły o covid"
   ]
  },
  {
   "cell_type": "code",
   "execution_count": 110,
   "metadata": {
    "scrolled": false
   },
   "outputs": [
    {
     "data": {
      "text/html": [
       "<div>\n",
       "<style scoped>\n",
       "    .dataframe tbody tr th:only-of-type {\n",
       "        vertical-align: middle;\n",
       "    }\n",
       "\n",
       "    .dataframe tbody tr th {\n",
       "        vertical-align: top;\n",
       "    }\n",
       "\n",
       "    .dataframe thead th {\n",
       "        text-align: right;\n",
       "    }\n",
       "</style>\n",
       "<table border=\"1\" class=\"dataframe\">\n",
       "  <thead>\n",
       "    <tr style=\"text-align: right;\">\n",
       "      <th></th>\n",
       "      <th>publication_date</th>\n",
       "      <th>author</th>\n",
       "      <th>title</th>\n",
       "      <th>url</th>\n",
       "    </tr>\n",
       "  </thead>\n",
       "  <tbody>\n",
       "    <tr>\n",
       "      <td>1949</td>\n",
       "      <td>2020-01-29 15:07:00</td>\n",
       "      <td>MPGT</td>\n",
       "      <td>Koronawirus na Lubelszczyźnie? Sześć osób trafiło na badania! [AKTUALIZACJA, AUDIO]</td>\n",
       "      <td>https://www.se.pl/lublin/koronawirus-na-lubelszczyznie-lecieli-samolotem-z-pasazerami-z-chin-tra...</td>\n",
       "    </tr>\n",
       "    <tr>\n",
       "      <td>1945</td>\n",
       "      <td>2020-01-31 10:46:00</td>\n",
       "      <td>Marek Targoński</td>\n",
       "      <td>Koronawirus z Chin: Gdzie jest? Sprawdź swój region! Lubelskie jest bezpieczne? [MAPA]</td>\n",
       "      <td>https://www.se.pl/lublin/koronawirus-z-chin-gdzie-jest-sprawdz-swoj-region-lubelskie-jest-bezpie...</td>\n",
       "    </tr>\n",
       "    <tr>\n",
       "      <td>1937</td>\n",
       "      <td>2020-02-05 16:54:00</td>\n",
       "      <td>AC</td>\n",
       "      <td>Koronawirus w Lublinie? Mężczyzna zgłosił się z do kliniki chorób zakaźnych! [AKTUALIZACJA]</td>\n",
       "      <td>https://www.se.pl/lublin/koronawirus-w-lublinie-mezczyzna-zglosil-sie-z-objawami-do-kliniki-chor...</td>\n",
       "    </tr>\n",
       "    <tr>\n",
       "      <td>806</td>\n",
       "      <td>2020-02-08 22:25:00</td>\n",
       "      <td>Więcej autorów lub nieznany</td>\n",
       "      <td>KORONAWIRUS w Lublinie? Znamy wyniki badań! NOWE INFORMACJE [RELACJA]</td>\n",
       "      <td>https://www.se.pl/lublin/koronawirus-w-lublinie-pacjent-trafil-do-szpitala-trwaja-badania-audio-...</td>\n",
       "    </tr>\n",
       "    <tr>\n",
       "      <td>753</td>\n",
       "      <td>2020-02-26 09:33:00</td>\n",
       "      <td>Marek Targoński</td>\n",
       "      <td>Koronawirus w Lubelskiem? Wrócili z Włoch – 27 osób pod lupą sanepidu. „Zwiększone ryzyko” [AKTU...</td>\n",
       "      <td>https://www.se.pl/lublin/koronawirus-w-lubelskiem-wrocili-z-wloch-27-osob-pod-lupa-sanepidu-zwie...</td>\n",
       "    </tr>\n",
       "    <tr>\n",
       "      <td>85</td>\n",
       "      <td>2020-02-26 13:31:00</td>\n",
       "      <td>Więcej autorów lub nieznany</td>\n",
       "      <td>Koronawirus w Lublinie? Uczelnia zawiesza rekrutację cudzoziemców. „Wszyscy się boimy”</td>\n",
       "      <td>https://www.se.pl/lublin/koronawirus-w-lublinie-uczelnia-zawiesza-rekrutacje-cudzoziemcow-wszysc...</td>\n",
       "    </tr>\n",
       "    <tr>\n",
       "      <td>751</td>\n",
       "      <td>2020-02-26 14:58:00</td>\n",
       "      <td>Więcej autorów lub nieznany</td>\n",
       "      <td>Koronawirus w Lubelskiem? Dwie osoby w szpitalu! Trwają badania [AKTUALIZACJA, AUDIO]</td>\n",
       "      <td>https://www.se.pl/lublin/koronawirus-na-lubelszczyznie-dwie-osoby-w-szpitalu-trwaja-badania-aa-a...</td>\n",
       "    </tr>\n",
       "    <tr>\n",
       "      <td>1919</td>\n",
       "      <td>2020-02-27 07:42:00</td>\n",
       "      <td>Marek Targoński</td>\n",
       "      <td>Koronawirus. Gdzie zgłosić się z objawami w Lublinie? Oddziały zakaźne w Lubelskiem [ADRESY]</td>\n",
       "      <td>https://www.se.pl/lublin/koronawirus-gdzie-zglosic-sie-z-objawami-w-lublinie-oddzialy-zakazne-w-...</td>\n",
       "    </tr>\n",
       "  </tbody>\n",
       "</table>\n",
       "</div>"
      ],
      "text/plain": [
       "        publication_date                       author  \\\n",
       "1949 2020-01-29 15:07:00                         MPGT   \n",
       "1945 2020-01-31 10:46:00              Marek Targoński   \n",
       "1937 2020-02-05 16:54:00                           AC   \n",
       "806  2020-02-08 22:25:00  Więcej autorów lub nieznany   \n",
       "753  2020-02-26 09:33:00              Marek Targoński   \n",
       "85   2020-02-26 13:31:00  Więcej autorów lub nieznany   \n",
       "751  2020-02-26 14:58:00  Więcej autorów lub nieznany   \n",
       "1919 2020-02-27 07:42:00              Marek Targoński   \n",
       "\n",
       "                                                                                                    title  \\\n",
       "1949                  Koronawirus na Lubelszczyźnie? Sześć osób trafiło na badania! [AKTUALIZACJA, AUDIO]   \n",
       "1945               Koronawirus z Chin: Gdzie jest? Sprawdź swój region! Lubelskie jest bezpieczne? [MAPA]   \n",
       "1937          Koronawirus w Lublinie? Mężczyzna zgłosił się z do kliniki chorób zakaźnych! [AKTUALIZACJA]   \n",
       "806                                 KORONAWIRUS w Lublinie? Znamy wyniki badań! NOWE INFORMACJE [RELACJA]   \n",
       "753   Koronawirus w Lubelskiem? Wrócili z Włoch – 27 osób pod lupą sanepidu. „Zwiększone ryzyko” [AKTU...   \n",
       "85                 Koronawirus w Lublinie? Uczelnia zawiesza rekrutację cudzoziemców. „Wszyscy się boimy”   \n",
       "751                 Koronawirus w Lubelskiem? Dwie osoby w szpitalu! Trwają badania [AKTUALIZACJA, AUDIO]   \n",
       "1919         Koronawirus. Gdzie zgłosić się z objawami w Lublinie? Oddziały zakaźne w Lubelskiem [ADRESY]   \n",
       "\n",
       "                                                                                                      url  \n",
       "1949  https://www.se.pl/lublin/koronawirus-na-lubelszczyznie-lecieli-samolotem-z-pasazerami-z-chin-tra...  \n",
       "1945  https://www.se.pl/lublin/koronawirus-z-chin-gdzie-jest-sprawdz-swoj-region-lubelskie-jest-bezpie...  \n",
       "1937  https://www.se.pl/lublin/koronawirus-w-lublinie-mezczyzna-zglosil-sie-z-objawami-do-kliniki-chor...  \n",
       "806   https://www.se.pl/lublin/koronawirus-w-lublinie-pacjent-trafil-do-szpitala-trwaja-badania-audio-...  \n",
       "753   https://www.se.pl/lublin/koronawirus-w-lubelskiem-wrocili-z-wloch-27-osob-pod-lupa-sanepidu-zwie...  \n",
       "85    https://www.se.pl/lublin/koronawirus-w-lublinie-uczelnia-zawiesza-rekrutacje-cudzoziemcow-wszysc...  \n",
       "751   https://www.se.pl/lublin/koronawirus-na-lubelszczyznie-dwie-osoby-w-szpitalu-trwaja-badania-aa-a...  \n",
       "1919  https://www.se.pl/lublin/koronawirus-gdzie-zglosic-sie-z-objawami-w-lublinie-oddzialy-zakazne-w-...  "
      ]
     },
     "execution_count": 110,
     "metadata": {},
     "output_type": "execute_result"
    }
   ],
   "source": [
    "covid_articles = df.sort_values(by=['koronawirus_in_title', 'publication_date'], ascending=[False, True])\n",
    "covid_articles[['publication_date', 'author', 'title', 'url']].head(8)"
   ]
  },
  {
   "cell_type": "markdown",
   "metadata": {},
   "source": [
    "### łączna ilość artykułów mających w tytule słowo z grupy \"koronawirus\""
   ]
  },
  {
   "cell_type": "code",
   "execution_count": 44,
   "metadata": {},
   "outputs": [
    {
     "data": {
      "text/html": [
       "<div>\n",
       "<style scoped>\n",
       "    .dataframe tbody tr th:only-of-type {\n",
       "        vertical-align: middle;\n",
       "    }\n",
       "\n",
       "    .dataframe tbody tr th {\n",
       "        vertical-align: top;\n",
       "    }\n",
       "\n",
       "    .dataframe thead th {\n",
       "        text-align: right;\n",
       "    }\n",
       "</style>\n",
       "<table border=\"1\" class=\"dataframe\">\n",
       "  <thead>\n",
       "    <tr style=\"text-align: right;\">\n",
       "      <th></th>\n",
       "      <th>publication_date</th>\n",
       "      <th>publication_month</th>\n",
       "      <th>publication_day</th>\n",
       "      <th>author</th>\n",
       "      <th>title</th>\n",
       "      <th>url</th>\n",
       "      <th>koronawirus_in_text</th>\n",
       "    </tr>\n",
       "    <tr>\n",
       "      <th>koronawirus_in_title</th>\n",
       "      <th></th>\n",
       "      <th></th>\n",
       "      <th></th>\n",
       "      <th></th>\n",
       "      <th></th>\n",
       "      <th></th>\n",
       "      <th></th>\n",
       "    </tr>\n",
       "  </thead>\n",
       "  <tbody>\n",
       "    <tr>\n",
       "      <td>0.0</td>\n",
       "      <td>1134</td>\n",
       "      <td>1134</td>\n",
       "      <td>1134</td>\n",
       "      <td>1134</td>\n",
       "      <td>1134</td>\n",
       "      <td>1134</td>\n",
       "      <td>1134</td>\n",
       "    </tr>\n",
       "    <tr>\n",
       "      <td>1.0</td>\n",
       "      <td>335</td>\n",
       "      <td>335</td>\n",
       "      <td>335</td>\n",
       "      <td>335</td>\n",
       "      <td>335</td>\n",
       "      <td>335</td>\n",
       "      <td>335</td>\n",
       "    </tr>\n",
       "  </tbody>\n",
       "</table>\n",
       "</div>"
      ],
      "text/plain": [
       "                      publication_date  publication_month  publication_day  \\\n",
       "koronawirus_in_title                                                         \n",
       "0.0                               1134               1134             1134   \n",
       "1.0                                335                335              335   \n",
       "\n",
       "                      author  title   url  koronawirus_in_text  \n",
       "koronawirus_in_title                                            \n",
       "0.0                     1134   1134  1134                 1134  \n",
       "1.0                      335    335   335                  335  "
      ]
     },
     "execution_count": 44,
     "metadata": {},
     "output_type": "execute_result"
    }
   ],
   "source": [
    "# df.koronawirus_in_title.sum()\n",
    "\n",
    "df.groupby('koronawirus_in_title').count()"
   ]
  },
  {
   "cell_type": "markdown",
   "metadata": {},
   "source": [
    "### średnia ilość artykułów mających w tytule słowo z grupy \"koronawirus\""
   ]
  },
  {
   "cell_type": "code",
   "execution_count": 89,
   "metadata": {},
   "outputs": [
    {
     "data": {
      "text/plain": [
       "0.22804628999319265"
      ]
     },
     "execution_count": 89,
     "metadata": {},
     "output_type": "execute_result"
    }
   ],
   "source": [
    "df.koronawirus_in_title.mean()"
   ]
  },
  {
   "cell_type": "markdown",
   "metadata": {},
   "source": [
    "### Ilość opublikowanych artykułów ze słowem \"k\" w tytule w każdym miesiącu"
   ]
  },
  {
   "cell_type": "code",
   "execution_count": 120,
   "metadata": {
    "scrolled": true
   },
   "outputs": [
    {
     "data": {
      "text/html": [
       "<div>\n",
       "<style scoped>\n",
       "    .dataframe tbody tr th:only-of-type {\n",
       "        vertical-align: middle;\n",
       "    }\n",
       "\n",
       "    .dataframe tbody tr th {\n",
       "        vertical-align: top;\n",
       "    }\n",
       "\n",
       "    .dataframe thead th {\n",
       "        text-align: right;\n",
       "    }\n",
       "</style>\n",
       "<table border=\"1\" class=\"dataframe\">\n",
       "  <thead>\n",
       "    <tr style=\"text-align: right;\">\n",
       "      <th></th>\n",
       "      <th>publication_date</th>\n",
       "      <th>publication_month</th>\n",
       "      <th>publication_day</th>\n",
       "      <th>author</th>\n",
       "      <th>title</th>\n",
       "      <th>url</th>\n",
       "      <th>koronawirus_anywhere</th>\n",
       "      <th>koronawirus_in_text</th>\n",
       "      <th>koronawirus_in_title</th>\n",
       "    </tr>\n",
       "  </thead>\n",
       "  <tbody>\n",
       "    <tr>\n",
       "      <td>0</td>\n",
       "      <td>2020-08-15 09:10:00</td>\n",
       "      <td>2020-08</td>\n",
       "      <td>2020-08-15</td>\n",
       "      <td>Marek Targoński</td>\n",
       "      <td>Lubelskie: Ponad 360 aktywnych przypadków COVID-19. Już 21 ognisk epidemii koronawirusa</td>\n",
       "      <td>https://lublin.se.pl/lubelskie-ponad-360-aktywnych-przypadkow-covid-19-juz-21-ognisk-epidemii-ko...</td>\n",
       "      <td>0.0</td>\n",
       "      <td>14.0</td>\n",
       "      <td>1.0</td>\n",
       "    </tr>\n",
       "  </tbody>\n",
       "</table>\n",
       "</div>"
      ],
      "text/plain": [
       "     publication_date publication_month publication_day           author  \\\n",
       "0 2020-08-15 09:10:00           2020-08      2020-08-15  Marek Targoński   \n",
       "\n",
       "                                                                                     title  \\\n",
       "0  Lubelskie: Ponad 360 aktywnych przypadków COVID-19. Już 21 ognisk epidemii koronawirusa   \n",
       "\n",
       "                                                                                                   url  \\\n",
       "0  https://lublin.se.pl/lubelskie-ponad-360-aktywnych-przypadkow-covid-19-juz-21-ognisk-epidemii-ko...   \n",
       "\n",
       "   koronawirus_anywhere  koronawirus_in_text  koronawirus_in_title  \n",
       "0                   0.0                 14.0                   1.0  "
      ]
     },
     "execution_count": 120,
     "metadata": {},
     "output_type": "execute_result"
    }
   ],
   "source": [
    "df_with_koronawirus_in_title = df.where(df[\"koronawirus_in_title\"] > 0).dropna()\n",
    "df_with_koronawirus_in_title.head(1)"
   ]
  },
  {
   "cell_type": "code",
   "execution_count": 121,
   "metadata": {
    "scrolled": true
   },
   "outputs": [
    {
     "data": {
      "image/png": "[encoded data removed]",
      "text/plain": [
       "<Figure size 576x360 with 1 Axes>"
      ]
     },
     "metadata": {
      "needs_background": "light"
     },
     "output_type": "display_data"
    }
   ],
   "source": [
    "publication_month_with_koronawirus_in_title_count = df_with_koronawirus_in_title.publication_month.value_counts(normalize=True)\n",
    "plt.figure(figsize=(8, 5))\n",
    "sns.barplot(publication_month_with_koronawirus_in_title_count.index, publication_month_with_koronawirus_in_title_count.values, alpha=0.8)\n",
    "plt.show()"
   ]
  },
  {
   "cell_type": "markdown",
   "metadata": {},
   "source": [
    "### łączna ilość artykułów mających w tekście słowo z grupy \"koronawirus\""
   ]
  },
  {
   "cell_type": "code",
   "execution_count": 26,
   "metadata": {},
   "outputs": [
    {
     "data": {
      "text/plain": [
       "533"
      ]
     },
     "execution_count": 26,
     "metadata": {},
     "output_type": "execute_result"
    }
   ],
   "source": [
    "koronawirus_in_text_true = df['koronawirus_in_text'] > 0\n",
    "df['koronawirus_in_text'][koronawirus_in_text_true].count()"
   ]
  },
  {
   "cell_type": "code",
   "execution_count": 31,
   "metadata": {},
   "outputs": [
    {
     "data": {
      "text/plain": [
       "0.36283185840707965"
      ]
     },
     "execution_count": 31,
     "metadata": {},
     "output_type": "execute_result"
    }
   ],
   "source": [
    "koronawirus_in_text_true.mean()"
   ]
  },
  {
   "cell_type": "markdown",
   "metadata": {},
   "source": [
    "### Ilość opublikowanych artykułów ze słowem \"k\" w tekście w każdym miesiącu"
   ]
  },
  {
   "cell_type": "code",
   "execution_count": 123,
   "metadata": {
    "scrolled": true
   },
   "outputs": [
    {
     "data": {
      "text/html": [
       "<div>\n",
       "<style scoped>\n",
       "    .dataframe tbody tr th:only-of-type {\n",
       "        vertical-align: middle;\n",
       "    }\n",
       "\n",
       "    .dataframe tbody tr th {\n",
       "        vertical-align: top;\n",
       "    }\n",
       "\n",
       "    .dataframe thead th {\n",
       "        text-align: right;\n",
       "    }\n",
       "</style>\n",
       "<table border=\"1\" class=\"dataframe\">\n",
       "  <thead>\n",
       "    <tr style=\"text-align: right;\">\n",
       "      <th></th>\n",
       "      <th>publication_date</th>\n",
       "      <th>publication_month</th>\n",
       "      <th>publication_day</th>\n",
       "      <th>author</th>\n",
       "      <th>title</th>\n",
       "      <th>url</th>\n",
       "      <th>koronawirus_anywhere</th>\n",
       "      <th>koronawirus_in_text</th>\n",
       "      <th>koronawirus_in_title</th>\n",
       "    </tr>\n",
       "  </thead>\n",
       "  <tbody>\n",
       "    <tr>\n",
       "      <td>0</td>\n",
       "      <td>2020-08-15 09:10:00</td>\n",
       "      <td>2020-08</td>\n",
       "      <td>2020-08-15</td>\n",
       "      <td>Marek Targoński</td>\n",
       "      <td>Lubelskie: Ponad 360 aktywnych przypadków COVID-19. Już 21 ognisk epidemii koronawirusa</td>\n",
       "      <td>https://lublin.se.pl/lubelskie-ponad-360-aktywnych-przypadkow-covid-19-juz-21-ognisk-epidemii-ko...</td>\n",
       "      <td>0.0</td>\n",
       "      <td>14.0</td>\n",
       "      <td>1.0</td>\n",
       "    </tr>\n",
       "  </tbody>\n",
       "</table>\n",
       "</div>"
      ],
      "text/plain": [
       "     publication_date publication_month publication_day           author  \\\n",
       "0 2020-08-15 09:10:00           2020-08      2020-08-15  Marek Targoński   \n",
       "\n",
       "                                                                                     title  \\\n",
       "0  Lubelskie: Ponad 360 aktywnych przypadków COVID-19. Już 21 ognisk epidemii koronawirusa   \n",
       "\n",
       "                                                                                                   url  \\\n",
       "0  https://lublin.se.pl/lubelskie-ponad-360-aktywnych-przypadkow-covid-19-juz-21-ognisk-epidemii-ko...   \n",
       "\n",
       "   koronawirus_anywhere  koronawirus_in_text  koronawirus_in_title  \n",
       "0                   0.0                 14.0                   1.0  "
      ]
     },
     "execution_count": 123,
     "metadata": {},
     "output_type": "execute_result"
    }
   ],
   "source": [
    "df_with_koronawirus_in_text = df.where(df[\"koronawirus_in_text\"] > 0).dropna()\n",
    "df_with_koronawirus_in_text.head(1)"
   ]
  },
  {
   "cell_type": "code",
   "execution_count": 124,
   "metadata": {},
   "outputs": [
    {
     "data": {
      "image/png": "[encoded data removed]",
      "text/plain": [
       "<Figure size 576x360 with 1 Axes>"
      ]
     },
     "metadata": {
      "needs_background": "light"
     },
     "output_type": "display_data"
    }
   ],
   "source": [
    "publication_month_with_koronawirus_in_text_count = df_with_koronawirus_in_text.publication_month.value_counts(normalize=True)\n",
    "plt.figure(figsize=(8, 5))\n",
    "sns.barplot(publication_month_with_koronawirus_in_text_count.index, publication_month_with_koronawirus_in_text_count.values, alpha=0.8)\n",
    "plt.show()"
   ]
  },
  {
   "cell_type": "markdown",
   "metadata": {},
   "source": [
    "### łączna ilość słów z grupy \"koronawirus\""
   ]
  },
  {
   "cell_type": "code",
   "execution_count": 125,
   "metadata": {},
   "outputs": [
    {
     "data": {
      "text/plain": [
       "5790.0"
      ]
     },
     "execution_count": 125,
     "metadata": {},
     "output_type": "execute_result"
    }
   ],
   "source": [
    "df.koronawirus_in_text.sum()"
   ]
  },
  {
   "cell_type": "markdown",
   "metadata": {},
   "source": [
    "### średnia ilość słów z grupy \"koronawirus\" biorąc pod uwagę tematyczne"
   ]
  },
  {
   "cell_type": "code",
   "execution_count": 23,
   "metadata": {},
   "outputs": [
    {
     "data": {
      "text/plain": [
       "10.863039399624766"
      ]
     },
     "execution_count": 23,
     "metadata": {},
     "output_type": "execute_result"
    }
   ],
   "source": [
    "koronawirus_in_text_true = df['koronawirus_in_text'] > 0\n",
    "df['koronawirus_in_text'][koronawirus_in_text_true].mean()"
   ]
  },
  {
   "cell_type": "markdown",
   "metadata": {},
   "source": [
    "### Artykuł z największą ilością słów z serii \"covid\""
   ]
  },
  {
   "cell_type": "code",
   "execution_count": 40,
   "metadata": {},
   "outputs": [
    {
     "data": {
      "text/html": [
       "<div>\n",
       "<style scoped>\n",
       "    .dataframe tbody tr th:only-of-type {\n",
       "        vertical-align: middle;\n",
       "    }\n",
       "\n",
       "    .dataframe tbody tr th {\n",
       "        vertical-align: top;\n",
       "    }\n",
       "\n",
       "    .dataframe thead th {\n",
       "        text-align: right;\n",
       "    }\n",
       "</style>\n",
       "<table border=\"1\" class=\"dataframe\">\n",
       "  <thead>\n",
       "    <tr style=\"text-align: right;\">\n",
       "      <th></th>\n",
       "      <th>publication_date</th>\n",
       "      <th>publication_month</th>\n",
       "      <th>publication_day</th>\n",
       "      <th>author</th>\n",
       "      <th>title</th>\n",
       "      <th>url</th>\n",
       "      <th>koronawirus_in_text</th>\n",
       "      <th>koronawirus_in_title</th>\n",
       "    </tr>\n",
       "  </thead>\n",
       "  <tbody>\n",
       "    <tr>\n",
       "      <td>1833</td>\n",
       "      <td>2020-04-16 22:42:00</td>\n",
       "      <td>2020-04</td>\n",
       "      <td>2020-04-16</td>\n",
       "      <td>Więcej autorów lub nieznany</td>\n",
       "      <td>Przełom w walce z koronawirusem?! ARCYWAŻNE zmiany ogłoszone przez rząd. Koronawirus w Polsce [Z...</td>\n",
       "      <td>https://www.se.pl/lublin/liczba-zgonow-i-zakazonych-rosnie-najnowsze-informacje-oraz-statystyki-...</td>\n",
       "      <td>500.0</td>\n",
       "      <td>1.0</td>\n",
       "    </tr>\n",
       "    <tr>\n",
       "      <td>1851</td>\n",
       "      <td>2020-04-07 07:00:00</td>\n",
       "      <td>2020-04</td>\n",
       "      <td>2020-04-07</td>\n",
       "      <td>Więcej autorów lub nieznany</td>\n",
       "      <td>Szokujący bilans koronawirusa w Polsce. Ważne słowa prezydenta Dudy. Groza w UK [ZAPIS RELACJI N...</td>\n",
       "      <td>https://www.se.pl/lublin/koronawirus-w-polsce-dzis-niedziela-palmowa-pierwsza-taka-w-historii-ko...</td>\n",
       "      <td>461.0</td>\n",
       "      <td>1.0</td>\n",
       "    </tr>\n",
       "    <tr>\n",
       "      <td>747</td>\n",
       "      <td>2020-03-04 22:25:00</td>\n",
       "      <td>2020-03</td>\n",
       "      <td>2020-03-04</td>\n",
       "      <td>Więcej autorów lub nieznany</td>\n",
       "      <td>Koronawirus w Polsce! Oto konsekwencje: wzrost cen i wysoki popyt [ZAPIS RELACJI NA ŻYWO]</td>\n",
       "      <td>https://www.se.pl/lublin/koronawirus-w-polsce-tytul-relacja-na-zywo-aa-jzM9-R6pH-GAfM.html</td>\n",
       "      <td>313.0</td>\n",
       "      <td>1.0</td>\n",
       "    </tr>\n",
       "    <tr>\n",
       "      <td>709</td>\n",
       "      <td>2020-03-19 09:22:00</td>\n",
       "      <td>2020-03</td>\n",
       "      <td>2020-03-19</td>\n",
       "      <td>Marek Targoński</td>\n",
       "      <td>Koronawirus Lubelskie: COVID-19 na Lubelszczyźnie. Kto i gdzie choruje? Kim są pacjenci?</td>\n",
       "      <td>https://www.se.pl/lublin/koronawirus-lubelskie-covid-19-na-lubelszczyznie-kto-i-gdzie-choruje-ki...</td>\n",
       "      <td>43.0</td>\n",
       "      <td>1.0</td>\n",
       "    </tr>\n",
       "    <tr>\n",
       "      <td>806</td>\n",
       "      <td>2020-02-08 22:25:00</td>\n",
       "      <td>2020-02</td>\n",
       "      <td>2020-02-08</td>\n",
       "      <td>Więcej autorów lub nieznany</td>\n",
       "      <td>KORONAWIRUS w Lublinie? Znamy wyniki badań! NOWE INFORMACJE [RELACJA]</td>\n",
       "      <td>https://www.se.pl/lublin/koronawirus-w-lublinie-pacjent-trafil-do-szpitala-trwaja-badania-audio-...</td>\n",
       "      <td>29.0</td>\n",
       "      <td>1.0</td>\n",
       "    </tr>\n",
       "  </tbody>\n",
       "</table>\n",
       "</div>"
      ],
      "text/plain": [
       "        publication_date publication_month publication_day  \\\n",
       "1833 2020-04-16 22:42:00           2020-04      2020-04-16   \n",
       "1851 2020-04-07 07:00:00           2020-04      2020-04-07   \n",
       "747  2020-03-04 22:25:00           2020-03      2020-03-04   \n",
       "709  2020-03-19 09:22:00           2020-03      2020-03-19   \n",
       "806  2020-02-08 22:25:00           2020-02      2020-02-08   \n",
       "\n",
       "                           author  \\\n",
       "1833  Więcej autorów lub nieznany   \n",
       "1851  Więcej autorów lub nieznany   \n",
       "747   Więcej autorów lub nieznany   \n",
       "709               Marek Targoński   \n",
       "806   Więcej autorów lub nieznany   \n",
       "\n",
       "                                                                                                    title  \\\n",
       "1833  Przełom w walce z koronawirusem?! ARCYWAŻNE zmiany ogłoszone przez rząd. Koronawirus w Polsce [Z...   \n",
       "1851  Szokujący bilans koronawirusa w Polsce. Ważne słowa prezydenta Dudy. Groza w UK [ZAPIS RELACJI N...   \n",
       "747             Koronawirus w Polsce! Oto konsekwencje: wzrost cen i wysoki popyt [ZAPIS RELACJI NA ŻYWO]   \n",
       "709              Koronawirus Lubelskie: COVID-19 na Lubelszczyźnie. Kto i gdzie choruje? Kim są pacjenci?   \n",
       "806                                 KORONAWIRUS w Lublinie? Znamy wyniki badań! NOWE INFORMACJE [RELACJA]   \n",
       "\n",
       "                                                                                                      url  \\\n",
       "1833  https://www.se.pl/lublin/liczba-zgonow-i-zakazonych-rosnie-najnowsze-informacje-oraz-statystyki-...   \n",
       "1851  https://www.se.pl/lublin/koronawirus-w-polsce-dzis-niedziela-palmowa-pierwsza-taka-w-historii-ko...   \n",
       "747            https://www.se.pl/lublin/koronawirus-w-polsce-tytul-relacja-na-zywo-aa-jzM9-R6pH-GAfM.html   \n",
       "709   https://www.se.pl/lublin/koronawirus-lubelskie-covid-19-na-lubelszczyznie-kto-i-gdzie-choruje-ki...   \n",
       "806   https://www.se.pl/lublin/koronawirus-w-lublinie-pacjent-trafil-do-szpitala-trwaja-badania-audio-...   \n",
       "\n",
       "      koronawirus_in_text  koronawirus_in_title  \n",
       "1833                500.0                   1.0  \n",
       "1851                461.0                   1.0  \n",
       "747                 313.0                   1.0  \n",
       "709                  43.0                   1.0  \n",
       "806                  29.0                   1.0  "
      ]
     },
     "execution_count": 40,
     "metadata": {},
     "output_type": "execute_result"
    }
   ],
   "source": [
    "# df.loc[df.koronawirus_in_text.idxmax()]\n",
    "\n",
    "# df['koronawirus_in_text_rank'] = df['koronawirus_in_text'].rank(ascending=False)\n",
    "# df.sort_values(by='koronawirus_in_text', ascending=False).head(15)\n",
    "\n",
    "# df.sort_values(by='koronawirus_in_text', ascending=False)[:5]\n",
    "\n",
    "df.nlargest(n=5, columns='koronawirus_in_text')"
   ]
  },
  {
   "cell_type": "markdown",
   "metadata": {},
   "source": []
  },
  {
   "cell_type": "code",
   "execution_count": 41,
   "metadata": {
    "scrolled": true
   },
   "outputs": [
    {
     "data": {
      "text/html": [
       "<div>\n",
       "<style scoped>\n",
       "    .dataframe tbody tr th:only-of-type {\n",
       "        vertical-align: middle;\n",
       "    }\n",
       "\n",
       "    .dataframe tbody tr th {\n",
       "        vertical-align: top;\n",
       "    }\n",
       "\n",
       "    .dataframe thead th {\n",
       "        text-align: right;\n",
       "    }\n",
       "</style>\n",
       "<table border=\"1\" class=\"dataframe\">\n",
       "  <thead>\n",
       "    <tr style=\"text-align: right;\">\n",
       "      <th></th>\n",
       "      <th>publication_date</th>\n",
       "      <th>publication_month</th>\n",
       "      <th>publication_day</th>\n",
       "      <th>author</th>\n",
       "      <th>title</th>\n",
       "      <th>url</th>\n",
       "      <th>koronawirus_in_text</th>\n",
       "      <th>koronawirus_in_title</th>\n",
       "    </tr>\n",
       "  </thead>\n",
       "  <tbody>\n",
       "    <tr>\n",
       "      <td>681</td>\n",
       "      <td>2020-03-26 16:50:00</td>\n",
       "      <td>2020-03</td>\n",
       "      <td>2020-03-26</td>\n",
       "      <td>Mariusz Mucha</td>\n",
       "      <td>Rajcy z Lublina nie przestraszyli się pandemii</td>\n",
       "      <td>https://www.se.pl/lublin/rajcy-z-lublina-nie-przestraszyli-sie-pandemii-aa-hPDP-JqAb-RkZg.html</td>\n",
       "      <td>0.0</td>\n",
       "      <td>1.0</td>\n",
       "    </tr>\n",
       "  </tbody>\n",
       "</table>\n",
       "</div>"
      ],
      "text/plain": [
       "       publication_date publication_month publication_day         author  \\\n",
       "681 2020-03-26 16:50:00           2020-03      2020-03-26  Mariusz Mucha   \n",
       "\n",
       "                                              title  \\\n",
       "681  Rajcy z Lublina nie przestraszyli się pandemii   \n",
       "\n",
       "                                                                                                url  \\\n",
       "681  https://www.se.pl/lublin/rajcy-z-lublina-nie-przestraszyli-sie-pandemii-aa-hPDP-JqAb-RkZg.html   \n",
       "\n",
       "     koronawirus_in_text  koronawirus_in_title  \n",
       "681                  0.0                   1.0  "
      ]
     },
     "execution_count": 41,
     "metadata": {},
     "output_type": "execute_result"
    }
   ],
   "source": [
    "df[koronawirus_in_title_true & ~ koronawirus_in_text_true].head()"
   ]
  },
  {
   "cell_type": "code",
   "execution_count": 47,
   "metadata": {
    "scrolled": true
   },
   "outputs": [
    {
     "data": {
      "text/html": [
       "<div>\n",
       "<style scoped>\n",
       "    .dataframe tbody tr th:only-of-type {\n",
       "        vertical-align: middle;\n",
       "    }\n",
       "\n",
       "    .dataframe tbody tr th {\n",
       "        vertical-align: top;\n",
       "    }\n",
       "\n",
       "    .dataframe thead th {\n",
       "        text-align: right;\n",
       "    }\n",
       "</style>\n",
       "<table border=\"1\" class=\"dataframe\">\n",
       "  <thead>\n",
       "    <tr style=\"text-align: right;\">\n",
       "      <th></th>\n",
       "      <th>publication_date</th>\n",
       "      <th>publication_month</th>\n",
       "      <th>publication_day</th>\n",
       "      <th>author</th>\n",
       "      <th>title</th>\n",
       "      <th>url</th>\n",
       "      <th>koronawirus_in_title</th>\n",
       "    </tr>\n",
       "    <tr>\n",
       "      <th>koronawirus_in_text</th>\n",
       "      <th></th>\n",
       "      <th></th>\n",
       "      <th></th>\n",
       "      <th></th>\n",
       "      <th></th>\n",
       "      <th></th>\n",
       "      <th></th>\n",
       "    </tr>\n",
       "  </thead>\n",
       "  <tbody>\n",
       "    <tr>\n",
       "      <td>0.0</td>\n",
       "      <td>936</td>\n",
       "      <td>936</td>\n",
       "      <td>936</td>\n",
       "      <td>936</td>\n",
       "      <td>936</td>\n",
       "      <td>936</td>\n",
       "      <td>936</td>\n",
       "    </tr>\n",
       "    <tr>\n",
       "      <td>1.0</td>\n",
       "      <td>59</td>\n",
       "      <td>59</td>\n",
       "      <td>59</td>\n",
       "      <td>59</td>\n",
       "      <td>59</td>\n",
       "      <td>59</td>\n",
       "      <td>59</td>\n",
       "    </tr>\n",
       "    <tr>\n",
       "      <td>2.0</td>\n",
       "      <td>74</td>\n",
       "      <td>74</td>\n",
       "      <td>74</td>\n",
       "      <td>74</td>\n",
       "      <td>74</td>\n",
       "      <td>74</td>\n",
       "      <td>74</td>\n",
       "    </tr>\n",
       "    <tr>\n",
       "      <td>3.0</td>\n",
       "      <td>54</td>\n",
       "      <td>54</td>\n",
       "      <td>54</td>\n",
       "      <td>54</td>\n",
       "      <td>54</td>\n",
       "      <td>54</td>\n",
       "      <td>54</td>\n",
       "    </tr>\n",
       "    <tr>\n",
       "      <td>4.0</td>\n",
       "      <td>33</td>\n",
       "      <td>33</td>\n",
       "      <td>33</td>\n",
       "      <td>33</td>\n",
       "      <td>33</td>\n",
       "      <td>33</td>\n",
       "      <td>33</td>\n",
       "    </tr>\n",
       "    <tr>\n",
       "      <td>5.0</td>\n",
       "      <td>27</td>\n",
       "      <td>27</td>\n",
       "      <td>27</td>\n",
       "      <td>27</td>\n",
       "      <td>27</td>\n",
       "      <td>27</td>\n",
       "      <td>27</td>\n",
       "    </tr>\n",
       "    <tr>\n",
       "      <td>6.0</td>\n",
       "      <td>18</td>\n",
       "      <td>18</td>\n",
       "      <td>18</td>\n",
       "      <td>18</td>\n",
       "      <td>18</td>\n",
       "      <td>18</td>\n",
       "      <td>18</td>\n",
       "    </tr>\n",
       "    <tr>\n",
       "      <td>7.0</td>\n",
       "      <td>28</td>\n",
       "      <td>28</td>\n",
       "      <td>28</td>\n",
       "      <td>28</td>\n",
       "      <td>28</td>\n",
       "      <td>28</td>\n",
       "      <td>28</td>\n",
       "    </tr>\n",
       "    <tr>\n",
       "      <td>8.0</td>\n",
       "      <td>17</td>\n",
       "      <td>17</td>\n",
       "      <td>17</td>\n",
       "      <td>17</td>\n",
       "      <td>17</td>\n",
       "      <td>17</td>\n",
       "      <td>17</td>\n",
       "    </tr>\n",
       "    <tr>\n",
       "      <td>9.0</td>\n",
       "      <td>18</td>\n",
       "      <td>18</td>\n",
       "      <td>18</td>\n",
       "      <td>18</td>\n",
       "      <td>18</td>\n",
       "      <td>18</td>\n",
       "      <td>18</td>\n",
       "    </tr>\n",
       "    <tr>\n",
       "      <td>10.0</td>\n",
       "      <td>10</td>\n",
       "      <td>10</td>\n",
       "      <td>10</td>\n",
       "      <td>10</td>\n",
       "      <td>10</td>\n",
       "      <td>10</td>\n",
       "      <td>10</td>\n",
       "    </tr>\n",
       "    <tr>\n",
       "      <td>11.0</td>\n",
       "      <td>21</td>\n",
       "      <td>21</td>\n",
       "      <td>21</td>\n",
       "      <td>21</td>\n",
       "      <td>21</td>\n",
       "      <td>21</td>\n",
       "      <td>21</td>\n",
       "    </tr>\n",
       "    <tr>\n",
       "      <td>12.0</td>\n",
       "      <td>14</td>\n",
       "      <td>14</td>\n",
       "      <td>14</td>\n",
       "      <td>14</td>\n",
       "      <td>14</td>\n",
       "      <td>14</td>\n",
       "      <td>14</td>\n",
       "    </tr>\n",
       "    <tr>\n",
       "      <td>13.0</td>\n",
       "      <td>13</td>\n",
       "      <td>13</td>\n",
       "      <td>13</td>\n",
       "      <td>13</td>\n",
       "      <td>13</td>\n",
       "      <td>13</td>\n",
       "      <td>13</td>\n",
       "    </tr>\n",
       "    <tr>\n",
       "      <td>14.0</td>\n",
       "      <td>19</td>\n",
       "      <td>19</td>\n",
       "      <td>19</td>\n",
       "      <td>19</td>\n",
       "      <td>19</td>\n",
       "      <td>19</td>\n",
       "      <td>19</td>\n",
       "    </tr>\n",
       "    <tr>\n",
       "      <td>15.0</td>\n",
       "      <td>15</td>\n",
       "      <td>15</td>\n",
       "      <td>15</td>\n",
       "      <td>15</td>\n",
       "      <td>15</td>\n",
       "      <td>15</td>\n",
       "      <td>15</td>\n",
       "    </tr>\n",
       "    <tr>\n",
       "      <td>16.0</td>\n",
       "      <td>15</td>\n",
       "      <td>15</td>\n",
       "      <td>15</td>\n",
       "      <td>15</td>\n",
       "      <td>15</td>\n",
       "      <td>15</td>\n",
       "      <td>15</td>\n",
       "    </tr>\n",
       "    <tr>\n",
       "      <td>17.0</td>\n",
       "      <td>29</td>\n",
       "      <td>29</td>\n",
       "      <td>29</td>\n",
       "      <td>29</td>\n",
       "      <td>29</td>\n",
       "      <td>29</td>\n",
       "      <td>29</td>\n",
       "    </tr>\n",
       "    <tr>\n",
       "      <td>18.0</td>\n",
       "      <td>13</td>\n",
       "      <td>13</td>\n",
       "      <td>13</td>\n",
       "      <td>13</td>\n",
       "      <td>13</td>\n",
       "      <td>13</td>\n",
       "      <td>13</td>\n",
       "    </tr>\n",
       "    <tr>\n",
       "      <td>19.0</td>\n",
       "      <td>14</td>\n",
       "      <td>14</td>\n",
       "      <td>14</td>\n",
       "      <td>14</td>\n",
       "      <td>14</td>\n",
       "      <td>14</td>\n",
       "      <td>14</td>\n",
       "    </tr>\n",
       "    <tr>\n",
       "      <td>20.0</td>\n",
       "      <td>10</td>\n",
       "      <td>10</td>\n",
       "      <td>10</td>\n",
       "      <td>10</td>\n",
       "      <td>10</td>\n",
       "      <td>10</td>\n",
       "      <td>10</td>\n",
       "    </tr>\n",
       "    <tr>\n",
       "      <td>21.0</td>\n",
       "      <td>9</td>\n",
       "      <td>9</td>\n",
       "      <td>9</td>\n",
       "      <td>9</td>\n",
       "      <td>9</td>\n",
       "      <td>9</td>\n",
       "      <td>9</td>\n",
       "    </tr>\n",
       "    <tr>\n",
       "      <td>22.0</td>\n",
       "      <td>5</td>\n",
       "      <td>5</td>\n",
       "      <td>5</td>\n",
       "      <td>5</td>\n",
       "      <td>5</td>\n",
       "      <td>5</td>\n",
       "      <td>5</td>\n",
       "    </tr>\n",
       "    <tr>\n",
       "      <td>23.0</td>\n",
       "      <td>5</td>\n",
       "      <td>5</td>\n",
       "      <td>5</td>\n",
       "      <td>5</td>\n",
       "      <td>5</td>\n",
       "      <td>5</td>\n",
       "      <td>5</td>\n",
       "    </tr>\n",
       "    <tr>\n",
       "      <td>24.0</td>\n",
       "      <td>3</td>\n",
       "      <td>3</td>\n",
       "      <td>3</td>\n",
       "      <td>3</td>\n",
       "      <td>3</td>\n",
       "      <td>3</td>\n",
       "      <td>3</td>\n",
       "    </tr>\n",
       "    <tr>\n",
       "      <td>25.0</td>\n",
       "      <td>3</td>\n",
       "      <td>3</td>\n",
       "      <td>3</td>\n",
       "      <td>3</td>\n",
       "      <td>3</td>\n",
       "      <td>3</td>\n",
       "      <td>3</td>\n",
       "    </tr>\n",
       "    <tr>\n",
       "      <td>26.0</td>\n",
       "      <td>1</td>\n",
       "      <td>1</td>\n",
       "      <td>1</td>\n",
       "      <td>1</td>\n",
       "      <td>1</td>\n",
       "      <td>1</td>\n",
       "      <td>1</td>\n",
       "    </tr>\n",
       "    <tr>\n",
       "      <td>27.0</td>\n",
       "      <td>1</td>\n",
       "      <td>1</td>\n",
       "      <td>1</td>\n",
       "      <td>1</td>\n",
       "      <td>1</td>\n",
       "      <td>1</td>\n",
       "      <td>1</td>\n",
       "    </tr>\n",
       "    <tr>\n",
       "      <td>29.0</td>\n",
       "      <td>1</td>\n",
       "      <td>1</td>\n",
       "      <td>1</td>\n",
       "      <td>1</td>\n",
       "      <td>1</td>\n",
       "      <td>1</td>\n",
       "      <td>1</td>\n",
       "    </tr>\n",
       "    <tr>\n",
       "      <td>43.0</td>\n",
       "      <td>1</td>\n",
       "      <td>1</td>\n",
       "      <td>1</td>\n",
       "      <td>1</td>\n",
       "      <td>1</td>\n",
       "      <td>1</td>\n",
       "      <td>1</td>\n",
       "    </tr>\n",
       "    <tr>\n",
       "      <td>313.0</td>\n",
       "      <td>1</td>\n",
       "      <td>1</td>\n",
       "      <td>1</td>\n",
       "      <td>1</td>\n",
       "      <td>1</td>\n",
       "      <td>1</td>\n",
       "      <td>1</td>\n",
       "    </tr>\n",
       "    <tr>\n",
       "      <td>461.0</td>\n",
       "      <td>1</td>\n",
       "      <td>1</td>\n",
       "      <td>1</td>\n",
       "      <td>1</td>\n",
       "      <td>1</td>\n",
       "      <td>1</td>\n",
       "      <td>1</td>\n",
       "    </tr>\n",
       "    <tr>\n",
       "      <td>500.0</td>\n",
       "      <td>1</td>\n",
       "      <td>1</td>\n",
       "      <td>1</td>\n",
       "      <td>1</td>\n",
       "      <td>1</td>\n",
       "      <td>1</td>\n",
       "      <td>1</td>\n",
       "    </tr>\n",
       "  </tbody>\n",
       "</table>\n",
       "</div>"
      ],
      "text/plain": [
       "                     publication_date  publication_month  publication_day  \\\n",
       "koronawirus_in_text                                                         \n",
       "0.0                               936                936              936   \n",
       "1.0                                59                 59               59   \n",
       "2.0                                74                 74               74   \n",
       "3.0                                54                 54               54   \n",
       "4.0                                33                 33               33   \n",
       "5.0                                27                 27               27   \n",
       "6.0                                18                 18               18   \n",
       "7.0                                28                 28               28   \n",
       "8.0                                17                 17               17   \n",
       "9.0                                18                 18               18   \n",
       "10.0                               10                 10               10   \n",
       "11.0                               21                 21               21   \n",
       "12.0                               14                 14               14   \n",
       "13.0                               13                 13               13   \n",
       "14.0                               19                 19               19   \n",
       "15.0                               15                 15               15   \n",
       "16.0                               15                 15               15   \n",
       "17.0                               29                 29               29   \n",
       "18.0                               13                 13               13   \n",
       "19.0                               14                 14               14   \n",
       "20.0                               10                 10               10   \n",
       "21.0                                9                  9                9   \n",
       "22.0                                5                  5                5   \n",
       "23.0                                5                  5                5   \n",
       "24.0                                3                  3                3   \n",
       "25.0                                3                  3                3   \n",
       "26.0                                1                  1                1   \n",
       "27.0                                1                  1                1   \n",
       "29.0                                1                  1                1   \n",
       "43.0                                1                  1                1   \n",
       "313.0                               1                  1                1   \n",
       "461.0                               1                  1                1   \n",
       "500.0                               1                  1                1   \n",
       "\n",
       "                     author  title  url  koronawirus_in_title  \n",
       "koronawirus_in_text                                            \n",
       "0.0                     936    936  936                   936  \n",
       "1.0                      59     59   59                    59  \n",
       "2.0                      74     74   74                    74  \n",
       "3.0                      54     54   54                    54  \n",
       "4.0                      33     33   33                    33  \n",
       "5.0                      27     27   27                    27  \n",
       "6.0                      18     18   18                    18  \n",
       "7.0                      28     28   28                    28  \n",
       "8.0                      17     17   17                    17  \n",
       "9.0                      18     18   18                    18  \n",
       "10.0                     10     10   10                    10  \n",
       "11.0                     21     21   21                    21  \n",
       "12.0                     14     14   14                    14  \n",
       "13.0                     13     13   13                    13  \n",
       "14.0                     19     19   19                    19  \n",
       "15.0                     15     15   15                    15  \n",
       "16.0                     15     15   15                    15  \n",
       "17.0                     29     29   29                    29  \n",
       "18.0                     13     13   13                    13  \n",
       "19.0                     14     14   14                    14  \n",
       "20.0                     10     10   10                    10  \n",
       "21.0                      9      9    9                     9  \n",
       "22.0                      5      5    5                     5  \n",
       "23.0                      5      5    5                     5  \n",
       "24.0                      3      3    3                     3  \n",
       "25.0                      3      3    3                     3  \n",
       "26.0                      1      1    1                     1  \n",
       "27.0                      1      1    1                     1  \n",
       "29.0                      1      1    1                     1  \n",
       "43.0                      1      1    1                     1  \n",
       "313.0                     1      1    1                     1  \n",
       "461.0                     1      1    1                     1  \n",
       "500.0                     1      1    1                     1  "
      ]
     },
     "execution_count": 47,
     "metadata": {},
     "output_type": "execute_result"
    }
   ],
   "source": [
    "df.groupby('koronawirus_in_text').count()"
   ]
  },
  {
   "cell_type": "code",
   "execution_count": null,
   "metadata": {},
   "outputs": [],
   "source": []
  }
 ],
 "metadata": {
  "kernelspec": {
   "display_name": "Python 3",
   "language": "python",
   "name": "python3"
  },
  "language_info": {
   "codemirror_mode": {
    "name": "ipython",
    "version": 3
   },
   "file_extension": ".py",
   "mimetype": "text/x-python",
   "name": "python",
   "nbconvert_exporter": "python",
   "pygments_lexer": "ipython3",
   "version": "3.6.9"
  }
 },
 "nbformat": 4,
 "nbformat_minor": 2
}
