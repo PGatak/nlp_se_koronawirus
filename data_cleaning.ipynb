{
 "cells": [
  {
   "cell_type": "code",
   "execution_count": 1,
   "metadata": {},
   "outputs": [],
   "source": [
    "from bs4 import BeautifulSoup\n",
    "import matplotlib.pyplot as plt\n",
    "import os\n",
    "import pandas as pd\n",
    "import pickle\n",
    "import re\n",
    "import requests\n",
    "import seaborn as sns\n",
    "\n",
    "from db import create_connection\n",
    "from db import (\n",
    "    articles,\n",
    "    services,\n",
    "    urls\n",
    ")"
   ]
  },
  {
   "cell_type": "code",
   "execution_count": 2,
   "metadata": {},
   "outputs": [],
   "source": [
    "import os\n",
    "current_path = os.path.abspath(os.getcwd())\n",
    "datasets_directory = os.path.join(current_path, 'datasets')\n",
    "\n",
    "if not os.path.exists(datasets_directory):\n",
    "    os.makedirs(datasets_directory)"
   ]
  },
  {
   "cell_type": "code",
   "execution_count": 3,
   "metadata": {},
   "outputs": [],
   "source": [
    "connection = create_connection()"
   ]
  },
  {
   "cell_type": "markdown",
   "metadata": {},
   "source": [
    "# Get data"
   ]
  },
  {
   "cell_type": "code",
   "execution_count": 4,
   "metadata": {},
   "outputs": [],
   "source": [
    "data = articles.get_articles(connection)"
   ]
  },
  {
   "cell_type": "code",
   "execution_count": 5,
   "metadata": {},
   "outputs": [],
   "source": [
    "pd.set_option('max_colwidth', 100)\n",
    "df = pd.DataFrame(data, columns = ['publication_date',\n",
    "                                   'author',\n",
    "                                   'title',\n",
    "                                   'url',\n",
    "                                   'koronawirus_in_text',\n",
    "                                   'koronawirus_in_title',\n",
    "                                   'question_mark',\n",
    "                                   'exclamation_mark',\n",
    "                                   'all_words'])"
   ]
  },
  {
   "cell_type": "code",
   "execution_count": 6,
   "metadata": {
    "scrolled": false
   },
   "outputs": [
    {
     "data": {
      "text/html": [
       "<div>\n",
       "<style scoped>\n",
       "    .dataframe tbody tr th:only-of-type {\n",
       "        vertical-align: middle;\n",
       "    }\n",
       "\n",
       "    .dataframe tbody tr th {\n",
       "        vertical-align: top;\n",
       "    }\n",
       "\n",
       "    .dataframe thead th {\n",
       "        text-align: right;\n",
       "    }\n",
       "</style>\n",
       "<table border=\"1\" class=\"dataframe\">\n",
       "  <thead>\n",
       "    <tr style=\"text-align: right;\">\n",
       "      <th></th>\n",
       "      <th>publication_date</th>\n",
       "      <th>author</th>\n",
       "      <th>title</th>\n",
       "      <th>url</th>\n",
       "      <th>koronawirus_in_text</th>\n",
       "      <th>koronawirus_in_title</th>\n",
       "      <th>question_mark</th>\n",
       "      <th>exclamation_mark</th>\n",
       "      <th>all_words</th>\n",
       "    </tr>\n",
       "  </thead>\n",
       "  <tbody>\n",
       "    <tr>\n",
       "      <td>2178</td>\n",
       "      <td>NaT</td>\n",
       "      <td>None</td>\n",
       "      <td>None</td>\n",
       "      <td>https://www.se.pl/lublin/matura-radio-eska-lublin-wspomnienia-aa-61Jr-1vcS-FCMp.html</td>\n",
       "      <td>NaN</td>\n",
       "      <td>NaN</td>\n",
       "      <td>NaN</td>\n",
       "      <td>NaN</td>\n",
       "      <td>NaN</td>\n",
       "    </tr>\n",
       "    <tr>\n",
       "      <td>3276</td>\n",
       "      <td>NaT</td>\n",
       "      <td>None</td>\n",
       "      <td>None</td>\n",
       "      <td>https://www.se.pl/lublin/pasazerowie-przez-okno-do-pociagu-chelm-lubelskie-chelm-miasto-pociag-a...</td>\n",
       "      <td>NaN</td>\n",
       "      <td>NaN</td>\n",
       "      <td>NaN</td>\n",
       "      <td>NaN</td>\n",
       "      <td>NaN</td>\n",
       "    </tr>\n",
       "    <tr>\n",
       "      <td>5115</td>\n",
       "      <td>NaT</td>\n",
       "      <td>None</td>\n",
       "      <td>None</td>\n",
       "      <td>https://www.se.pl/lublin/lublin-zamiast-politologii-bedzie-muzeum-zmiany-przy-litewskim-aa-L5CS-...</td>\n",
       "      <td>NaN</td>\n",
       "      <td>NaN</td>\n",
       "      <td>NaN</td>\n",
       "      <td>NaN</td>\n",
       "      <td>NaN</td>\n",
       "    </tr>\n",
       "    <tr>\n",
       "      <td>4528</td>\n",
       "      <td>NaT</td>\n",
       "      <td>None</td>\n",
       "      <td>None</td>\n",
       "      <td>https://www.se.pl/lublin/uwaga-kierowcy-utrudnienia-na-trasie-lublin-lubartow-aa-ToAL-7LAu-d1uN....</td>\n",
       "      <td>NaN</td>\n",
       "      <td>NaN</td>\n",
       "      <td>NaN</td>\n",
       "      <td>NaN</td>\n",
       "      <td>NaN</td>\n",
       "    </tr>\n",
       "    <tr>\n",
       "      <td>3824</td>\n",
       "      <td>NaT</td>\n",
       "      <td>None</td>\n",
       "      <td>None</td>\n",
       "      <td>https://www.se.pl/lublin/me-w-plywaniu-glasgow-2018-zawodnicy-azs-umcs-lublin-wrocili-do-polski-...</td>\n",
       "      <td>NaN</td>\n",
       "      <td>NaN</td>\n",
       "      <td>NaN</td>\n",
       "      <td>NaN</td>\n",
       "      <td>NaN</td>\n",
       "    </tr>\n",
       "    <tr>\n",
       "      <td>3994</td>\n",
       "      <td>NaT</td>\n",
       "      <td>None</td>\n",
       "      <td>None</td>\n",
       "      <td>https://www.se.pl/lublin/protest-sluzb-mundurowych-strajk-mundurowka-protest-strazakow-protest-p...</td>\n",
       "      <td>NaN</td>\n",
       "      <td>NaN</td>\n",
       "      <td>NaN</td>\n",
       "      <td>NaN</td>\n",
       "      <td>NaN</td>\n",
       "    </tr>\n",
       "    <tr>\n",
       "      <td>6307</td>\n",
       "      <td>NaT</td>\n",
       "      <td>None</td>\n",
       "      <td>None</td>\n",
       "      <td>https://www.se.pl/lublin/przejazdzka-prawdziwym-autem-w-mini-wersji-zgarnij-prezent-od-mikolaja-...</td>\n",
       "      <td>NaN</td>\n",
       "      <td>NaN</td>\n",
       "      <td>NaN</td>\n",
       "      <td>NaN</td>\n",
       "      <td>NaN</td>\n",
       "    </tr>\n",
       "    <tr>\n",
       "      <td>181</td>\n",
       "      <td>2020-08-11</td>\n",
       "      <td>Karolina Januszek</td>\n",
       "      <td>Pensja minimalna nie wzrośnie? Szokująca propozycja</td>\n",
       "      <td>https://lublin.se.pl/pensja-minimalna-nie-wzrosnie-szokujaca-propozycja-ak-9foe-yUHD-2ezQ.html</td>\n",
       "      <td>4.0</td>\n",
       "      <td>0.0</td>\n",
       "      <td>1.0</td>\n",
       "      <td>0.0</td>\n",
       "      <td>229.0</td>\n",
       "    </tr>\n",
       "    <tr>\n",
       "      <td>1217</td>\n",
       "      <td>NaT</td>\n",
       "      <td>None</td>\n",
       "      <td>None</td>\n",
       "      <td>https://www.se.pl/lublin/zmasakrowany-samochod-28-latek-dachowal-i-roztrzaskal-sie-o-nasyp-zdjec...</td>\n",
       "      <td>NaN</td>\n",
       "      <td>NaN</td>\n",
       "      <td>NaN</td>\n",
       "      <td>NaN</td>\n",
       "      <td>NaN</td>\n",
       "    </tr>\n",
       "  </tbody>\n",
       "</table>\n",
       "</div>"
      ],
      "text/plain": [
       "     publication_date             author  \\\n",
       "2178              NaT               None   \n",
       "3276              NaT               None   \n",
       "5115              NaT               None   \n",
       "4528              NaT               None   \n",
       "3824              NaT               None   \n",
       "3994              NaT               None   \n",
       "6307              NaT               None   \n",
       "181        2020-08-11  Karolina Januszek   \n",
       "1217              NaT               None   \n",
       "\n",
       "                                                     title  \\\n",
       "2178                                                  None   \n",
       "3276                                                  None   \n",
       "5115                                                  None   \n",
       "4528                                                  None   \n",
       "3824                                                  None   \n",
       "3994                                                  None   \n",
       "6307                                                  None   \n",
       "181   Pensja minimalna nie wzrośnie? Szokująca propozycja    \n",
       "1217                                                  None   \n",
       "\n",
       "                                                                                                      url  \\\n",
       "2178                 https://www.se.pl/lublin/matura-radio-eska-lublin-wspomnienia-aa-61Jr-1vcS-FCMp.html   \n",
       "3276  https://www.se.pl/lublin/pasazerowie-przez-okno-do-pociagu-chelm-lubelskie-chelm-miasto-pociag-a...   \n",
       "5115  https://www.se.pl/lublin/lublin-zamiast-politologii-bedzie-muzeum-zmiany-przy-litewskim-aa-L5CS-...   \n",
       "4528  https://www.se.pl/lublin/uwaga-kierowcy-utrudnienia-na-trasie-lublin-lubartow-aa-ToAL-7LAu-d1uN....   \n",
       "3824  https://www.se.pl/lublin/me-w-plywaniu-glasgow-2018-zawodnicy-azs-umcs-lublin-wrocili-do-polski-...   \n",
       "3994  https://www.se.pl/lublin/protest-sluzb-mundurowych-strajk-mundurowka-protest-strazakow-protest-p...   \n",
       "6307  https://www.se.pl/lublin/przejazdzka-prawdziwym-autem-w-mini-wersji-zgarnij-prezent-od-mikolaja-...   \n",
       "181        https://lublin.se.pl/pensja-minimalna-nie-wzrosnie-szokujaca-propozycja-ak-9foe-yUHD-2ezQ.html   \n",
       "1217  https://www.se.pl/lublin/zmasakrowany-samochod-28-latek-dachowal-i-roztrzaskal-sie-o-nasyp-zdjec...   \n",
       "\n",
       "      koronawirus_in_text  koronawirus_in_title  question_mark  \\\n",
       "2178                  NaN                   NaN            NaN   \n",
       "3276                  NaN                   NaN            NaN   \n",
       "5115                  NaN                   NaN            NaN   \n",
       "4528                  NaN                   NaN            NaN   \n",
       "3824                  NaN                   NaN            NaN   \n",
       "3994                  NaN                   NaN            NaN   \n",
       "6307                  NaN                   NaN            NaN   \n",
       "181                   4.0                   0.0            1.0   \n",
       "1217                  NaN                   NaN            NaN   \n",
       "\n",
       "      exclamation_mark  all_words  \n",
       "2178               NaN        NaN  \n",
       "3276               NaN        NaN  \n",
       "5115               NaN        NaN  \n",
       "4528               NaN        NaN  \n",
       "3824               NaN        NaN  \n",
       "3994               NaN        NaN  \n",
       "6307               NaN        NaN  \n",
       "181                0.0      229.0  \n",
       "1217               NaN        NaN  "
      ]
     },
     "execution_count": 6,
     "metadata": {},
     "output_type": "execute_result"
    }
   ],
   "source": [
    "df.sample(frac = 0.001)"
   ]
  },
  {
   "cell_type": "markdown",
   "metadata": {},
   "source": [
    "# Clean data"
   ]
  },
  {
   "cell_type": "markdown",
   "metadata": {},
   "source": [
    "### initial data check, organize and clearing"
   ]
  },
  {
   "cell_type": "code",
   "execution_count": 7,
   "metadata": {
    "scrolled": false
   },
   "outputs": [
    {
     "name": "stdout",
     "output_type": "stream",
     "text": [
      "<class 'pandas.core.frame.DataFrame'>\n",
      "RangeIndex: 8610 entries, 0 to 8609\n",
      "Data columns (total 9 columns):\n",
      "publication_date        1744 non-null datetime64[ns]\n",
      "author                  1744 non-null object\n",
      "title                   1744 non-null object\n",
      "url                     8610 non-null object\n",
      "koronawirus_in_text     1744 non-null float64\n",
      "koronawirus_in_title    1744 non-null float64\n",
      "question_mark           1744 non-null float64\n",
      "exclamation_mark        1744 non-null float64\n",
      "all_words               1744 non-null float64\n",
      "dtypes: datetime64[ns](1), float64(5), object(3)\n",
      "memory usage: 2.6 MB\n"
     ]
    }
   ],
   "source": [
    "df.info(memory_usage='deep')"
   ]
  },
  {
   "cell_type": "code",
   "execution_count": 8,
   "metadata": {
    "scrolled": true
   },
   "outputs": [
    {
     "data": {
      "text/plain": [
       "publication_date         243\n",
       "author                   126\n",
       "title                   1741\n",
       "url                     8610\n",
       "koronawirus_in_text       35\n",
       "koronawirus_in_title       2\n",
       "question_mark             18\n",
       "exclamation_mark          15\n",
       "all_words                393\n",
       "dtype: int64"
      ]
     },
     "execution_count": 8,
     "metadata": {},
     "output_type": "execute_result"
    }
   ],
   "source": [
    "df.nunique()"
   ]
  },
  {
   "cell_type": "code",
   "execution_count": 9,
   "metadata": {},
   "outputs": [
    {
     "data": {
      "text/plain": [
       "(1744, 9)"
      ]
     },
     "execution_count": 9,
     "metadata": {},
     "output_type": "execute_result"
    }
   ],
   "source": [
    "df.dropna(inplace=True)\n",
    "df.shape"
   ]
  },
  {
   "cell_type": "code",
   "execution_count": 10,
   "metadata": {
    "scrolled": false
   },
   "outputs": [
    {
     "name": "stdout",
     "output_type": "stream",
     "text": [
      "<class 'pandas.core.frame.DataFrame'>\n",
      "Int64Index: 1744 entries, 0 to 8609\n",
      "Data columns (total 9 columns):\n",
      "publication_date        1744 non-null datetime64[ns]\n",
      "author                  1744 non-null category\n",
      "title                   1744 non-null object\n",
      "url                     1744 non-null object\n",
      "koronawirus_in_text     1744 non-null int64\n",
      "koronawirus_in_title    1744 non-null int64\n",
      "question_mark           1744 non-null int64\n",
      "exclamation_mark        1744 non-null int64\n",
      "all_words               1744 non-null int64\n",
      "dtypes: category(1), datetime64[ns](1), int64(5), object(2)\n",
      "memory usage: 806.1 KB\n"
     ]
    }
   ],
   "source": [
    "df['author'] = df['author'].astype('category')\n",
    "df['koronawirus_in_text'] = df['koronawirus_in_text'].astype('int')\n",
    "df['koronawirus_in_title'] = df['koronawirus_in_title'].astype('int')\n",
    "df['question_mark'] = df['question_mark'].astype('int')\n",
    "df['exclamation_mark'] = df['exclamation_mark'].astype('int')\n",
    "df['all_words'] = df['all_words'].astype('int')\n",
    "df.info(memory_usage='deep')"
   ]
  },
  {
   "cell_type": "markdown",
   "metadata": {},
   "source": [
    "### column: publication_day"
   ]
  },
  {
   "cell_type": "code",
   "execution_count": 12,
   "metadata": {
    "scrolled": true
   },
   "outputs": [
    {
     "data": {
      "text/plain": [
       "2020-06-29    28\n",
       "2020-07-08    26\n",
       "2020-07-01    25\n",
       "2020-07-03    22\n",
       "2020-08-25    22\n",
       "Name: publication_date, dtype: int64"
      ]
     },
     "execution_count": 12,
     "metadata": {},
     "output_type": "execute_result"
    }
   ],
   "source": [
    "df.publication_date.value_counts().head()"
   ]
  },
  {
   "cell_type": "code",
   "execution_count": 13,
   "metadata": {},
   "outputs": [
    {
     "data": {
      "text/plain": [
       "243"
      ]
     },
     "execution_count": 13,
     "metadata": {},
     "output_type": "execute_result"
    }
   ],
   "source": [
    "df['publication_date'].nunique()"
   ]
  },
  {
   "cell_type": "code",
   "execution_count": 14,
   "metadata": {
    "scrolled": true
   },
   "outputs": [
    {
     "name": "stdout",
     "output_type": "stream",
     "text": [
      "<class 'pandas.core.frame.DataFrame'>\n",
      "Int64Index: 1744 entries, 0 to 8609\n",
      "Data columns (total 9 columns):\n",
      "publication_date        1744 non-null datetime64[ns]\n",
      "author                  1744 non-null category\n",
      "title                   1744 non-null object\n",
      "url                     1744 non-null object\n",
      "koronawirus_in_text     1744 non-null int64\n",
      "koronawirus_in_title    1744 non-null int64\n",
      "question_mark           1744 non-null int64\n",
      "exclamation_mark        1744 non-null int64\n",
      "all_words               1744 non-null int64\n",
      "dtypes: category(1), datetime64[ns](1), int64(5), object(2)\n",
      "memory usage: 806.1 KB\n"
     ]
    }
   ],
   "source": [
    "#df['publication_day'] = df['publication_day'].astype('category')\n",
    "df.info(memory_usage='deep')"
   ]
  },
  {
   "cell_type": "markdown",
   "metadata": {},
   "source": [
    "### column: publication_month"
   ]
  },
  {
   "cell_type": "code",
   "execution_count": 15,
   "metadata": {
    "scrolled": false
   },
   "outputs": [
    {
     "data": {
      "text/html": [
       "<div>\n",
       "<style scoped>\n",
       "    .dataframe tbody tr th:only-of-type {\n",
       "        vertical-align: middle;\n",
       "    }\n",
       "\n",
       "    .dataframe tbody tr th {\n",
       "        vertical-align: top;\n",
       "    }\n",
       "\n",
       "    .dataframe thead th {\n",
       "        text-align: right;\n",
       "    }\n",
       "</style>\n",
       "<table border=\"1\" class=\"dataframe\">\n",
       "  <thead>\n",
       "    <tr style=\"text-align: right;\">\n",
       "      <th></th>\n",
       "      <th>publication_date</th>\n",
       "      <th>publication_month</th>\n",
       "      <th>author</th>\n",
       "      <th>title</th>\n",
       "      <th>url</th>\n",
       "      <th>koronawirus_in_text</th>\n",
       "      <th>koronawirus_in_title</th>\n",
       "      <th>question_mark</th>\n",
       "      <th>exclamation_mark</th>\n",
       "      <th>all_words</th>\n",
       "    </tr>\n",
       "  </thead>\n",
       "  <tbody>\n",
       "    <tr>\n",
       "      <td>777</td>\n",
       "      <td>2020-04-06</td>\n",
       "      <td>2020-04</td>\n",
       "      <td>Michał Michalak</td>\n",
       "      <td>W całej Polsce nie ma chętnych do komisji wyborczych! Największe braki w Lublinie!</td>\n",
       "      <td>https://www.se.pl/lublin/w-calej-polsce-nie-ma-chetnych-do-komisji-wyborczych-najwieksze-braki-w...</td>\n",
       "      <td>0</td>\n",
       "      <td>0</td>\n",
       "      <td>0</td>\n",
       "      <td>0</td>\n",
       "      <td>171</td>\n",
       "    </tr>\n",
       "    <tr>\n",
       "      <td>507</td>\n",
       "      <td>2020-06-29</td>\n",
       "      <td>2020-06</td>\n",
       "      <td>Mucha, mta</td>\n",
       "      <td>Krasnystaw: Podczas remontu odkopali POCISK. Ze sprawnym zapalnikiem</td>\n",
       "      <td>https://lublin.se.pl/krasnystaw-podczas-remontu-odkopali-pocisk-ze-sprawnym-zapalnikiem-aa-XgLU-...</td>\n",
       "      <td>0</td>\n",
       "      <td>0</td>\n",
       "      <td>0</td>\n",
       "      <td>2</td>\n",
       "      <td>120</td>\n",
       "    </tr>\n",
       "  </tbody>\n",
       "</table>\n",
       "</div>"
      ],
      "text/plain": [
       "    publication_date publication_month           author  \\\n",
       "777       2020-04-06           2020-04  Michał Michalak   \n",
       "507       2020-06-29           2020-06       Mucha, mta   \n",
       "\n",
       "                                                                                  title  \\\n",
       "777  W całej Polsce nie ma chętnych do komisji wyborczych! Największe braki w Lublinie!   \n",
       "507                Krasnystaw: Podczas remontu odkopali POCISK. Ze sprawnym zapalnikiem   \n",
       "\n",
       "                                                                                                     url  \\\n",
       "777  https://www.se.pl/lublin/w-calej-polsce-nie-ma-chetnych-do-komisji-wyborczych-najwieksze-braki-w...   \n",
       "507  https://lublin.se.pl/krasnystaw-podczas-remontu-odkopali-pocisk-ze-sprawnym-zapalnikiem-aa-XgLU-...   \n",
       "\n",
       "     koronawirus_in_text  koronawirus_in_title  question_mark  \\\n",
       "777                    0                     0              0   \n",
       "507                    0                     0              0   \n",
       "\n",
       "     exclamation_mark  all_words  \n",
       "777                 0        171  \n",
       "507                 2        120  "
      ]
     },
     "execution_count": 15,
     "metadata": {},
     "output_type": "execute_result"
    }
   ],
   "source": [
    "df.insert(loc=1, column='publication_month', value=df['publication_date'].dt.strftime('%Y-%m'))\n",
    "df.sample(frac = 0.001)"
   ]
  },
  {
   "cell_type": "code",
   "execution_count": 16,
   "metadata": {
    "scrolled": true
   },
   "outputs": [
    {
     "data": {
      "text/plain": [
       "2020-07    439\n",
       "2020-08    301\n",
       "2020-06    214\n",
       "2020-01    154\n",
       "2020-05    153\n",
       "2020-03    147\n",
       "2020-04    138\n",
       "2020-02    105\n",
       "Name: publication_month, dtype: int64"
      ]
     },
     "execution_count": 16,
     "metadata": {},
     "output_type": "execute_result"
    }
   ],
   "source": [
    "df.publication_month.value_counts().head(8)"
   ]
  },
  {
   "cell_type": "code",
   "execution_count": 17,
   "metadata": {
    "scrolled": true
   },
   "outputs": [
    {
     "data": {
      "text/plain": [
       "9"
      ]
     },
     "execution_count": 17,
     "metadata": {},
     "output_type": "execute_result"
    }
   ],
   "source": [
    "df['publication_month'].nunique()"
   ]
  },
  {
   "cell_type": "code",
   "execution_count": 18,
   "metadata": {},
   "outputs": [],
   "source": [
    "df = df.loc[df['publication_month'].isin(['2020-01', '2020-02', '2020-03', '2020-04', '2020-05', '2020-06', '2020-07', '2020-08'])]"
   ]
  },
  {
   "cell_type": "code",
   "execution_count": 19,
   "metadata": {},
   "outputs": [
    {
     "name": "stdout",
     "output_type": "stream",
     "text": [
      "<class 'pandas.core.frame.DataFrame'>\n",
      "Int64Index: 1651 entries, 57 to 8609\n",
      "Data columns (total 10 columns):\n",
      "publication_date        1651 non-null datetime64[ns]\n",
      "publication_month       1651 non-null object\n",
      "author                  1651 non-null category\n",
      "title                   1651 non-null object\n",
      "url                     1651 non-null object\n",
      "koronawirus_in_text     1651 non-null int64\n",
      "koronawirus_in_title    1651 non-null int64\n",
      "question_mark           1651 non-null int64\n",
      "exclamation_mark        1651 non-null int64\n",
      "all_words               1651 non-null int64\n",
      "dtypes: category(1), datetime64[ns](1), int64(5), object(3)\n",
      "memory usage: 868.7 KB\n"
     ]
    }
   ],
   "source": [
    "df.info(memory_usage='deep')"
   ]
  },
  {
   "cell_type": "markdown",
   "metadata": {},
   "source": [
    "### column: author"
   ]
  },
  {
   "cell_type": "code",
   "execution_count": 20,
   "metadata": {
    "scrolled": false
   },
   "outputs": [
    {
     "data": {
      "text/plain": [
       "mt                                 335\n",
       "Marek Targoński                    183\n",
       "Mucha                              147\n",
       "Karolina Januszek                  131\n",
       "Mariusz Mucha                      112\n",
       "MTA                                 80\n",
       "Mucha, mta                          55\n",
       "AP                                  36\n",
       "KM                                  33\n",
       "OM                                  32\n",
       "Bartłomiej Ważny                    23\n",
       "Monika Kowalewicz                   22\n",
       "AC                                  21\n",
       "Michał Michalak                     19\n",
       "EIB                                 19\n",
       "Emilia Białecka                     16\n",
       "MK                                  16\n",
       "Mateusz Kasiak                      16\n",
       "Agnieszka Niećko                    15\n",
       "Jacek Werner                        13\n",
       "gk                                  13\n",
       "Olka Mazur                          13\n",
       "Artykuł sponsorowany                13\n",
       "Sylwia Sitka-Czerniak               13\n",
       "Grzegorz Kluczyński                 12\n",
       "maal                                11\n",
       "                                    11\n",
       "KaJa                                11\n",
       "RS                                  10\n",
       "ToM                                  9\n",
       "Maciej Brzeziński                    8\n",
       "Konrad Marzec                        7\n",
       "BM                                   7\n",
       "Monika Kowalewicz/Wioletta Sawa      7\n",
       "Agnieszka Przystaś                   7\n",
       "AG                                   7\n",
       "MaAl                                 6\n",
       "AT                                   6\n",
       "Rafał Strzelec                       6\n",
       "vera                                 6\n",
       "BE                                   5\n",
       "PT                                   5\n",
       "Mucha, mt                            4\n",
       "Mgorecki                             4\n",
       "Magdalena Król                       4\n",
       "mar                                  4\n",
       "Amadeusz Calik                       4\n",
       "AP/IMGW-PIB                          4\n",
       "ŁT                                   3\n",
       "MPGT                                 3\n",
       "Łukasz Trybulski                     3\n",
       "Mucha, pg                            3\n",
       "mt / ZS (Radio ESKA)                 3\n",
       "mt/ MK (Radio ESKA Lublin)           3\n",
       "mt/ JW (Radio ESKA Lublin)           3\n",
       "Redakcja ESKA INFO                   3\n",
       "Mateusz Albin                        2\n",
       "mt / OM (Radio ESKA Lublin)          2\n",
       "GAŁ                                  2\n",
       "mpgt                                 2\n",
       "Name: author, dtype: int64"
      ]
     },
     "execution_count": 20,
     "metadata": {},
     "output_type": "execute_result"
    }
   ],
   "source": [
    "df['author'].value_counts()[:60]"
   ]
  },
  {
   "cell_type": "code",
   "execution_count": 21,
   "metadata": {
    "scrolled": true
   },
   "outputs": [
    {
     "data": {
      "text/plain": [
       "publication_date        514\n",
       "publication_month       514\n",
       "author                  514\n",
       "title                   514\n",
       "url                     514\n",
       "koronawirus_in_text     514\n",
       "koronawirus_in_title    514\n",
       "question_mark           514\n",
       "exclamation_mark        514\n",
       "all_words               514\n",
       "dtype: int64"
      ]
     },
     "execution_count": 21,
     "metadata": {},
     "output_type": "execute_result"
    }
   ],
   "source": [
    "df['author'] = df['author'].str.lower()\n",
    "regex_pattern = re.compile(r'.*mt.*', re.I)\n",
    "df[df['author'].str.contains(regex_pattern)].count()"
   ]
  },
  {
   "cell_type": "code",
   "execution_count": 22,
   "metadata": {
    "scrolled": true
   },
   "outputs": [
    {
     "data": {
      "text/plain": [
       "marek targoński      699\n",
       "mucha                148\n",
       "karolina januszek    131\n",
       "mariusz mucha        112\n",
       "ap                    36\n",
       "Name: author, dtype: int64"
      ]
     },
     "execution_count": 22,
     "metadata": {},
     "output_type": "execute_result"
    }
   ],
   "source": [
    "df['author'] = df['author'].replace(['mt', 'mt; wideo: Tygodnik Zamojski', 'gał'],'marek targoński')\n",
    "\n",
    "regex_pattern = re.compile(r'.*mt.*', re.I)\n",
    "df['author'] = df['author'].replace(regex_pattern,'marek targoński')\n",
    "\n",
    "df['author'].value_counts()[:5]"
   ]
  },
  {
   "cell_type": "code",
   "execution_count": 23,
   "metadata": {
    "scrolled": true
   },
   "outputs": [
    {
     "name": "stdout",
     "output_type": "stream",
     "text": [
      "<class 'pandas.core.frame.DataFrame'>\n",
      "Int64Index: 1651 entries, 57 to 8609\n",
      "Data columns (total 10 columns):\n",
      "publication_date        1651 non-null datetime64[ns]\n",
      "publication_month       1651 non-null object\n",
      "author                  1651 non-null category\n",
      "title                   1651 non-null object\n",
      "url                     1651 non-null object\n",
      "koronawirus_in_text     1651 non-null int64\n",
      "koronawirus_in_title    1651 non-null int64\n",
      "question_mark           1651 non-null int64\n",
      "exclamation_mark        1651 non-null int64\n",
      "all_words               1651 non-null int64\n",
      "dtypes: category(1), datetime64[ns](1), int64(5), object(3)\n",
      "memory usage: 863.3 KB\n"
     ]
    }
   ],
   "source": [
    "df['author'] = df['author'].astype('category')\n",
    "df.info(memory_usage='deep')"
   ]
  },
  {
   "cell_type": "markdown",
   "metadata": {},
   "source": [
    "### column: koronawiorus_anywhere_sum"
   ]
  },
  {
   "cell_type": "code",
   "execution_count": 25,
   "metadata": {
    "scrolled": false
   },
   "outputs": [
    {
     "data": {
      "text/html": [
       "<div>\n",
       "<style scoped>\n",
       "    .dataframe tbody tr th:only-of-type {\n",
       "        vertical-align: middle;\n",
       "    }\n",
       "\n",
       "    .dataframe tbody tr th {\n",
       "        vertical-align: top;\n",
       "    }\n",
       "\n",
       "    .dataframe thead th {\n",
       "        text-align: right;\n",
       "    }\n",
       "</style>\n",
       "<table border=\"1\" class=\"dataframe\">\n",
       "  <thead>\n",
       "    <tr style=\"text-align: right;\">\n",
       "      <th></th>\n",
       "      <th>publication_date</th>\n",
       "      <th>publication_month</th>\n",
       "      <th>author</th>\n",
       "      <th>title</th>\n",
       "      <th>url</th>\n",
       "      <th>koronawirus_in_text</th>\n",
       "      <th>koronawirus_in_title</th>\n",
       "      <th>question_mark</th>\n",
       "      <th>exclamation_mark</th>\n",
       "      <th>all_words</th>\n",
       "      <th>koronawirus_anywhere</th>\n",
       "    </tr>\n",
       "  </thead>\n",
       "  <tbody>\n",
       "    <tr>\n",
       "      <td>57</td>\n",
       "      <td>2020-08-31</td>\n",
       "      <td>2020-08</td>\n",
       "      <td>mariusz mucha</td>\n",
       "      <td>Lublin pożegnał Piotra Szczepanika. WZRUSZAJĄCY pogrzeb artysty [WIDEO, ZDJĘCIA]</td>\n",
       "      <td>https://lublin.se.pl/lublin-pozegnal-piotra-szczepanika-aa-yB55-ND2f-Cn9F.html</td>\n",
       "      <td>0</td>\n",
       "      <td>0</td>\n",
       "      <td>0</td>\n",
       "      <td>0</td>\n",
       "      <td>190</td>\n",
       "      <td>0</td>\n",
       "    </tr>\n",
       "  </tbody>\n",
       "</table>\n",
       "</div>"
      ],
      "text/plain": [
       "   publication_date publication_month         author  \\\n",
       "57       2020-08-31           2020-08  mariusz mucha   \n",
       "\n",
       "                                                                               title  \\\n",
       "57  Lublin pożegnał Piotra Szczepanika. WZRUSZAJĄCY pogrzeb artysty [WIDEO, ZDJĘCIA]   \n",
       "\n",
       "                                                                               url  \\\n",
       "57  https://lublin.se.pl/lublin-pozegnal-piotra-szczepanika-aa-yB55-ND2f-Cn9F.html   \n",
       "\n",
       "    koronawirus_in_text  koronawirus_in_title  question_mark  \\\n",
       "57                    0                     0              0   \n",
       "\n",
       "    exclamation_mark  all_words  koronawirus_anywhere  \n",
       "57                 0        190                     0  "
      ]
     },
     "execution_count": 25,
     "metadata": {},
     "output_type": "execute_result"
    }
   ],
   "source": [
    "df['koronawirus_anywhere'] = 0\n",
    "df['koronawirus_anywhere'] = df['koronawirus_in_text'] + df['koronawirus_in_title']\n",
    "# df.loc[df.koronawirus_anywhere > 0, 'koronawirus_anywhere'] = 1\n",
    "df.head(1)"
   ]
  },
  {
   "cell_type": "markdown",
   "metadata": {},
   "source": [
    "### column: koronawiorus_anywhere_count"
   ]
  },
  {
   "cell_type": "code",
   "execution_count": 26,
   "metadata": {
    "scrolled": true
   },
   "outputs": [
    {
     "data": {
      "text/html": [
       "<div>\n",
       "<style scoped>\n",
       "    .dataframe tbody tr th:only-of-type {\n",
       "        vertical-align: middle;\n",
       "    }\n",
       "\n",
       "    .dataframe tbody tr th {\n",
       "        vertical-align: top;\n",
       "    }\n",
       "\n",
       "    .dataframe thead th {\n",
       "        text-align: right;\n",
       "    }\n",
       "</style>\n",
       "<table border=\"1\" class=\"dataframe\">\n",
       "  <thead>\n",
       "    <tr style=\"text-align: right;\">\n",
       "      <th></th>\n",
       "      <th>publication_date</th>\n",
       "      <th>publication_month</th>\n",
       "      <th>author</th>\n",
       "      <th>title</th>\n",
       "      <th>url</th>\n",
       "      <th>koronawirus_in_text</th>\n",
       "      <th>koronawirus_in_title</th>\n",
       "      <th>question_mark</th>\n",
       "      <th>exclamation_mark</th>\n",
       "      <th>all_words</th>\n",
       "      <th>koronawirus_anywhere</th>\n",
       "      <th>koronawirus_anywhere_count</th>\n",
       "    </tr>\n",
       "  </thead>\n",
       "  <tbody>\n",
       "    <tr>\n",
       "      <td>57</td>\n",
       "      <td>2020-08-31</td>\n",
       "      <td>2020-08</td>\n",
       "      <td>mariusz mucha</td>\n",
       "      <td>Lublin pożegnał Piotra Szczepanika. WZRUSZAJĄCY pogrzeb artysty [WIDEO, ZDJĘCIA]</td>\n",
       "      <td>https://lublin.se.pl/lublin-pozegnal-piotra-szczepanika-aa-yB55-ND2f-Cn9F.html</td>\n",
       "      <td>0</td>\n",
       "      <td>0</td>\n",
       "      <td>0</td>\n",
       "      <td>0</td>\n",
       "      <td>190</td>\n",
       "      <td>0</td>\n",
       "      <td>0</td>\n",
       "    </tr>\n",
       "    <tr>\n",
       "      <td>58</td>\n",
       "      <td>2020-08-19</td>\n",
       "      <td>2020-08</td>\n",
       "      <td>karolina januszek</td>\n",
       "      <td>Wygraj 200 złotych od Biedronki. Zobacz, jak to zrobić</td>\n",
       "      <td>https://lublin.se.pl/wygraj-200-zlotych-od-biedronki-zobacz-jak-to-zrobic-ak-XEXJ-32sC-qWAi.html</td>\n",
       "      <td>0</td>\n",
       "      <td>0</td>\n",
       "      <td>0</td>\n",
       "      <td>1</td>\n",
       "      <td>330</td>\n",
       "      <td>0</td>\n",
       "      <td>0</td>\n",
       "    </tr>\n",
       "    <tr>\n",
       "      <td>59</td>\n",
       "      <td>2020-08-31</td>\n",
       "      <td>2020-08</td>\n",
       "      <td>karolina januszek</td>\n",
       "      <td>Polacy tracą pracę! Najgorsze dopiero nadejdzie</td>\n",
       "      <td>https://lublin.se.pl/polacy-traca-prace-najgorsze-dopiero-nadejdzie-ak-vtoS-p5BX-TkBx.html</td>\n",
       "      <td>3</td>\n",
       "      <td>0</td>\n",
       "      <td>0</td>\n",
       "      <td>0</td>\n",
       "      <td>216</td>\n",
       "      <td>3</td>\n",
       "      <td>1</td>\n",
       "    </tr>\n",
       "  </tbody>\n",
       "</table>\n",
       "</div>"
      ],
      "text/plain": [
       "   publication_date publication_month             author  \\\n",
       "57       2020-08-31           2020-08      mariusz mucha   \n",
       "58       2020-08-19           2020-08  karolina januszek   \n",
       "59       2020-08-31           2020-08  karolina januszek   \n",
       "\n",
       "                                                                               title  \\\n",
       "57  Lublin pożegnał Piotra Szczepanika. WZRUSZAJĄCY pogrzeb artysty [WIDEO, ZDJĘCIA]   \n",
       "58                            Wygraj 200 złotych od Biedronki. Zobacz, jak to zrobić   \n",
       "59                                   Polacy tracą pracę! Najgorsze dopiero nadejdzie   \n",
       "\n",
       "                                                                                                 url  \\\n",
       "57                    https://lublin.se.pl/lublin-pozegnal-piotra-szczepanika-aa-yB55-ND2f-Cn9F.html   \n",
       "58  https://lublin.se.pl/wygraj-200-zlotych-od-biedronki-zobacz-jak-to-zrobic-ak-XEXJ-32sC-qWAi.html   \n",
       "59        https://lublin.se.pl/polacy-traca-prace-najgorsze-dopiero-nadejdzie-ak-vtoS-p5BX-TkBx.html   \n",
       "\n",
       "    koronawirus_in_text  koronawirus_in_title  question_mark  \\\n",
       "57                    0                     0              0   \n",
       "58                    0                     0              0   \n",
       "59                    3                     0              0   \n",
       "\n",
       "    exclamation_mark  all_words  koronawirus_anywhere  \\\n",
       "57                 0        190                     0   \n",
       "58                 1        330                     0   \n",
       "59                 0        216                     3   \n",
       "\n",
       "    koronawirus_anywhere_count  \n",
       "57                           0  \n",
       "58                           0  \n",
       "59                           1  "
      ]
     },
     "execution_count": 26,
     "metadata": {},
     "output_type": "execute_result"
    }
   ],
   "source": [
    "df['koronawirus_anywhere_count'] = 0\n",
    "df['koronawirus_anywhere_count'] = (df['koronawirus_in_text'] + df['koronawirus_in_title']) / (df['koronawirus_in_text'] + df['koronawirus_in_title'])\n",
    "df['koronawirus_anywhere_count'] = df['koronawirus_anywhere_count'].fillna(0).astype('int')\n",
    "df.head(3)"
   ]
  },
  {
   "cell_type": "markdown",
   "metadata": {},
   "source": [
    "### Export data"
   ]
  },
  {
   "cell_type": "code",
   "execution_count": 27,
   "metadata": {},
   "outputs": [],
   "source": [
    "df.to_csv('datasets/1_clean_data.csv')"
   ]
  }
 ],
 "metadata": {
  "kernelspec": {
   "display_name": "Python 3",
   "language": "python",
   "name": "python3"
  },
  "language_info": {
   "codemirror_mode": {
    "name": "ipython",
    "version": 3
   },
   "file_extension": ".py",
   "mimetype": "text/x-python",
   "name": "python",
   "nbconvert_exporter": "python",
   "pygments_lexer": "ipython3",
   "version": "3.6.9"
  }
 },
 "nbformat": 4,
 "nbformat_minor": 2
}
