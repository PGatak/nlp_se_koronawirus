{
 "cells": [
  {
   "cell_type": "code",
   "execution_count": 92,
   "metadata": {},
   "outputs": [],
   "source": [
    "from bs4 import BeautifulSoup\n",
    "import matplotlib.pyplot as plt\n",
    "import pandas as pd\n",
    "import pickle\n",
    "import re\n",
    "import requests\n",
    "import seaborn as sns\n",
    "\n",
    "from db import create_connection\n",
    "from db import (\n",
    "    articles,\n",
    "    services,\n",
    "    urls\n",
    ")"
   ]
  },
  {
   "cell_type": "code",
   "execution_count": 93,
   "metadata": {},
   "outputs": [],
   "source": [
    "connection = create_connection()"
   ]
  },
  {
   "cell_type": "markdown",
   "metadata": {},
   "source": [
    "# Get data"
   ]
  },
  {
   "cell_type": "code",
   "execution_count": 94,
   "metadata": {},
   "outputs": [],
   "source": [
    "data = articles.get_articles(connection)"
   ]
  },
  {
   "cell_type": "code",
   "execution_count": 95,
   "metadata": {},
   "outputs": [],
   "source": [
    "pd.set_option('max_colwidth', 100)\n",
    "df = pd.DataFrame(data, columns = ['publication_date',\n",
    "                                   'author',\n",
    "                                   'title',\n",
    "                                   'url',\n",
    "                                   'koronawirus_in_text',\n",
    "                                   'koronawirus_in_title',\n",
    "                                   'question_mark',\n",
    "                                   'exclamation_mark',\n",
    "                                   'all_words'])"
   ]
  },
  {
   "cell_type": "code",
   "execution_count": 96,
   "metadata": {
    "scrolled": false
   },
   "outputs": [
    {
     "data": {
      "text/html": [
       "<div>\n",
       "<style scoped>\n",
       "    .dataframe tbody tr th:only-of-type {\n",
       "        vertical-align: middle;\n",
       "    }\n",
       "\n",
       "    .dataframe tbody tr th {\n",
       "        vertical-align: top;\n",
       "    }\n",
       "\n",
       "    .dataframe thead th {\n",
       "        text-align: right;\n",
       "    }\n",
       "</style>\n",
       "<table border=\"1\" class=\"dataframe\">\n",
       "  <thead>\n",
       "    <tr style=\"text-align: right;\">\n",
       "      <th></th>\n",
       "      <th>publication_date</th>\n",
       "      <th>author</th>\n",
       "      <th>title</th>\n",
       "      <th>url</th>\n",
       "      <th>koronawirus_in_text</th>\n",
       "      <th>koronawirus_in_title</th>\n",
       "      <th>question_mark</th>\n",
       "      <th>exclamation_mark</th>\n",
       "      <th>all_words</th>\n",
       "    </tr>\n",
       "  </thead>\n",
       "  <tbody>\n",
       "    <tr>\n",
       "      <td>947</td>\n",
       "      <td>NaT</td>\n",
       "      <td>None</td>\n",
       "      <td>None</td>\n",
       "      <td>https://www.se.pl/lublin/stroza-kolonia-smiertelne-potracenie-rowerzysty-sa-utrudnienia-w-ruchu-...</td>\n",
       "      <td>NaN</td>\n",
       "      <td>NaN</td>\n",
       "      <td>NaN</td>\n",
       "      <td>NaN</td>\n",
       "      <td>NaN</td>\n",
       "    </tr>\n",
       "    <tr>\n",
       "      <td>850</td>\n",
       "      <td>2020-01-22 10:15:00</td>\n",
       "      <td>mt</td>\n",
       "      <td>Lubelskie: GIGANTYCZNE OPÓŹNIENIA na kolei. Uszkodzona trakcja [AKTUALIZACJA]</td>\n",
       "      <td>https://www.se.pl/lublin/lubelskie-gigantyczne-opoznienia-na-kolei-dramatyczna-sytuacja-opoznien...</td>\n",
       "      <td>0.0</td>\n",
       "      <td>0.0</td>\n",
       "      <td>0.0</td>\n",
       "      <td>4.0</td>\n",
       "      <td>242.0</td>\n",
       "    </tr>\n",
       "    <tr>\n",
       "      <td>1716</td>\n",
       "      <td>2020-02-18 12:20:00</td>\n",
       "      <td>mt</td>\n",
       "      <td>SILNY WIATR na Lubelszczyźnie! IMGW ostrzega przed WICHURAMI [PROGNOZA POGODY]</td>\n",
       "      <td>https://www.se.pl/lublin/silny-wiatr-na-lubelszczyznie-imgw-ostrzega-przed-wichurami-prognoza-po...</td>\n",
       "      <td>0.0</td>\n",
       "      <td>0.0</td>\n",
       "      <td>0.0</td>\n",
       "      <td>3.0</td>\n",
       "      <td>141.0</td>\n",
       "    </tr>\n",
       "    <tr>\n",
       "      <td>92</td>\n",
       "      <td>2020-07-31 20:58:00</td>\n",
       "      <td>Mariusz Mucha</td>\n",
       "      <td>Pijany szalał meleksem po Puławach. Spieszył się na...rosół</td>\n",
       "      <td>https://lublin.se.pl/pijany-szalal-meleksem-po-pulawach-spieszyl-sie-na-rosol-aa-tAgy-csyQ-UeWY....</td>\n",
       "      <td>0.0</td>\n",
       "      <td>0.0</td>\n",
       "      <td>0.0</td>\n",
       "      <td>1.0</td>\n",
       "      <td>210.0</td>\n",
       "    </tr>\n",
       "  </tbody>\n",
       "</table>\n",
       "</div>"
      ],
      "text/plain": [
       "        publication_date         author  \\\n",
       "947                  NaT           None   \n",
       "850  2020-01-22 10:15:00             mt   \n",
       "1716 2020-02-18 12:20:00             mt   \n",
       "92   2020-07-31 20:58:00  Mariusz Mucha   \n",
       "\n",
       "                                                                               title  \\\n",
       "947                                                                             None   \n",
       "850    Lubelskie: GIGANTYCZNE OPÓŹNIENIA na kolei. Uszkodzona trakcja [AKTUALIZACJA]   \n",
       "1716  SILNY WIATR na Lubelszczyźnie! IMGW ostrzega przed WICHURAMI [PROGNOZA POGODY]   \n",
       "92                       Pijany szalał meleksem po Puławach. Spieszył się na...rosół   \n",
       "\n",
       "                                                                                                      url  \\\n",
       "947   https://www.se.pl/lublin/stroza-kolonia-smiertelne-potracenie-rowerzysty-sa-utrudnienia-w-ruchu-...   \n",
       "850   https://www.se.pl/lublin/lubelskie-gigantyczne-opoznienia-na-kolei-dramatyczna-sytuacja-opoznien...   \n",
       "1716  https://www.se.pl/lublin/silny-wiatr-na-lubelszczyznie-imgw-ostrzega-przed-wichurami-prognoza-po...   \n",
       "92    https://lublin.se.pl/pijany-szalal-meleksem-po-pulawach-spieszyl-sie-na-rosol-aa-tAgy-csyQ-UeWY....   \n",
       "\n",
       "      koronawirus_in_text  koronawirus_in_title  question_mark  \\\n",
       "947                   NaN                   NaN            NaN   \n",
       "850                   0.0                   0.0            0.0   \n",
       "1716                  0.0                   0.0            0.0   \n",
       "92                    0.0                   0.0            0.0   \n",
       "\n",
       "      exclamation_mark  all_words  \n",
       "947                NaN        NaN  \n",
       "850                4.0      242.0  \n",
       "1716               3.0      141.0  \n",
       "92                 1.0      210.0  "
      ]
     },
     "execution_count": 96,
     "metadata": {},
     "output_type": "execute_result"
    }
   ],
   "source": [
    "df.sample(frac = 0.002)"
   ]
  },
  {
   "cell_type": "markdown",
   "metadata": {},
   "source": [
    "# Clean data"
   ]
  },
  {
   "cell_type": "markdown",
   "metadata": {},
   "source": [
    "### initial data check, organize and clearing"
   ]
  },
  {
   "cell_type": "code",
   "execution_count": 97,
   "metadata": {
    "scrolled": false
   },
   "outputs": [
    {
     "name": "stdout",
     "output_type": "stream",
     "text": [
      "<class 'pandas.core.frame.DataFrame'>\n",
      "RangeIndex: 1800 entries, 0 to 1799\n",
      "Data columns (total 9 columns):\n",
      "publication_date        1507 non-null datetime64[ns]\n",
      "author                  1507 non-null object\n",
      "title                   1507 non-null object\n",
      "url                     1800 non-null object\n",
      "koronawirus_in_text     1507 non-null float64\n",
      "koronawirus_in_title    1507 non-null float64\n",
      "question_mark           1507 non-null float64\n",
      "exclamation_mark        1507 non-null float64\n",
      "all_words               1507 non-null float64\n",
      "dtypes: datetime64[ns](1), float64(5), object(3)\n",
      "memory usage: 857.5 KB\n"
     ]
    }
   ],
   "source": [
    "df.info(memory_usage='deep')"
   ]
  },
  {
   "cell_type": "code",
   "execution_count": 98,
   "metadata": {
    "scrolled": true
   },
   "outputs": [
    {
     "data": {
      "text/plain": [
       "publication_date        1497\n",
       "author                   124\n",
       "title                   1504\n",
       "url                     1800\n",
       "koronawirus_in_text       35\n",
       "koronawirus_in_title       2\n",
       "question_mark             17\n",
       "exclamation_mark          15\n",
       "all_words                396\n",
       "dtype: int64"
      ]
     },
     "execution_count": 98,
     "metadata": {},
     "output_type": "execute_result"
    }
   ],
   "source": [
    "df.nunique()"
   ]
  },
  {
   "cell_type": "code",
   "execution_count": 99,
   "metadata": {},
   "outputs": [
    {
     "data": {
      "text/plain": [
       "(1507, 9)"
      ]
     },
     "execution_count": 99,
     "metadata": {},
     "output_type": "execute_result"
    }
   ],
   "source": [
    "df.dropna(inplace=True)\n",
    "df.shape"
   ]
  },
  {
   "cell_type": "code",
   "execution_count": 100,
   "metadata": {
    "scrolled": false
   },
   "outputs": [
    {
     "name": "stdout",
     "output_type": "stream",
     "text": [
      "<class 'pandas.core.frame.DataFrame'>\n",
      "Int64Index: 1507 entries, 0 to 1799\n",
      "Data columns (total 9 columns):\n",
      "publication_date        1507 non-null datetime64[ns]\n",
      "author                  1507 non-null category\n",
      "title                   1507 non-null object\n",
      "url                     1507 non-null object\n",
      "koronawirus_in_text     1507 non-null int64\n",
      "koronawirus_in_title    1507 non-null int64\n",
      "question_mark           1507 non-null int64\n",
      "exclamation_mark        1507 non-null int64\n",
      "all_words               1507 non-null int64\n",
      "dtypes: category(1), datetime64[ns](1), int64(5), object(2)\n",
      "memory usage: 701.1 KB\n"
     ]
    }
   ],
   "source": [
    "df['author'] = df['author'].astype('category')\n",
    "df['koronawirus_in_text'] = df['koronawirus_in_text'].astype('int')\n",
    "df['koronawirus_in_title'] = df['koronawirus_in_title'].astype('int')\n",
    "df['question_mark'] = df['question_mark'].astype('int')\n",
    "df['exclamation_mark'] = df['exclamation_mark'].astype('int')\n",
    "df['all_words'] = df['all_words'].astype('int')\n",
    "df.info(memory_usage='deep')"
   ]
  },
  {
   "cell_type": "code",
   "execution_count": 101,
   "metadata": {
    "scrolled": false
   },
   "outputs": [
    {
     "data": {
      "text/plain": [
       "publication_date        1507\n",
       "author                  1507\n",
       "title                   1507\n",
       "url                     1507\n",
       "koronawirus_in_text     1507\n",
       "koronawirus_in_title    1507\n",
       "question_mark           1507\n",
       "exclamation_mark        1507\n",
       "all_words               1507\n",
       "dtype: int64"
      ]
     },
     "execution_count": 101,
     "metadata": {},
     "output_type": "execute_result"
    }
   ],
   "source": [
    "df.count()"
   ]
  },
  {
   "cell_type": "markdown",
   "metadata": {},
   "source": [
    "### column: publication_day"
   ]
  },
  {
   "cell_type": "code",
   "execution_count": 102,
   "metadata": {
    "scrolled": false
   },
   "outputs": [
    {
     "data": {
      "text/html": [
       "<div>\n",
       "<style scoped>\n",
       "    .dataframe tbody tr th:only-of-type {\n",
       "        vertical-align: middle;\n",
       "    }\n",
       "\n",
       "    .dataframe tbody tr th {\n",
       "        vertical-align: top;\n",
       "    }\n",
       "\n",
       "    .dataframe thead th {\n",
       "        text-align: right;\n",
       "    }\n",
       "</style>\n",
       "<table border=\"1\" class=\"dataframe\">\n",
       "  <thead>\n",
       "    <tr style=\"text-align: right;\">\n",
       "      <th></th>\n",
       "      <th>publication_date</th>\n",
       "      <th>publication_day</th>\n",
       "      <th>author</th>\n",
       "      <th>title</th>\n",
       "      <th>url</th>\n",
       "      <th>koronawirus_in_text</th>\n",
       "      <th>koronawirus_in_title</th>\n",
       "      <th>question_mark</th>\n",
       "      <th>exclamation_mark</th>\n",
       "      <th>all_words</th>\n",
       "    </tr>\n",
       "  </thead>\n",
       "  <tbody>\n",
       "    <tr>\n",
       "      <td>743</td>\n",
       "      <td>2020-03-09 11:38:00</td>\n",
       "      <td>2020-03-09</td>\n",
       "      <td>mt</td>\n",
       "      <td>Słaba płeć? Ależ skąd! PIĘKNE I SILNE. Oto lubelskie policjantki! [ZDJĘCIA]</td>\n",
       "      <td>https://www.se.pl/lublin/slaba-plec-alez-skad-piekne-i-silne-oto-lubelskie-policjantki-zdjecia-a...</td>\n",
       "      <td>0</td>\n",
       "      <td>0</td>\n",
       "      <td>0</td>\n",
       "      <td>2</td>\n",
       "      <td>274</td>\n",
       "    </tr>\n",
       "    <tr>\n",
       "      <td>602</td>\n",
       "      <td>2020-04-23 10:20:00</td>\n",
       "      <td>2020-04-23</td>\n",
       "      <td>AP</td>\n",
       "      <td>Ministerstwo Zdrowia: nowe przypadki koronawirusa COVID-19 w Lubelskim</td>\n",
       "      <td>https://www.se.pl/lublin/ministerstwo-zdrowia-nowe-przypadki-koronawirusa-covid-19-w-lubelskim-a...</td>\n",
       "      <td>12</td>\n",
       "      <td>1</td>\n",
       "      <td>0</td>\n",
       "      <td>0</td>\n",
       "      <td>169</td>\n",
       "    </tr>\n",
       "    <tr>\n",
       "      <td>260</td>\n",
       "      <td>2020-07-10 10:59:00</td>\n",
       "      <td>2020-07-10</td>\n",
       "      <td>MaAl</td>\n",
       "      <td>Gospodarka neutralan dla klimatu:  KE przedstawia nowy system energetyczny</td>\n",
       "      <td>https://lublin.se.pl/gospodarka-neutralan-dla-klimatu-ke-przedstawia-nowy-system-energetyczny-ak...</td>\n",
       "      <td>1</td>\n",
       "      <td>0</td>\n",
       "      <td>0</td>\n",
       "      <td>0</td>\n",
       "      <td>297</td>\n",
       "    </tr>\n",
       "  </tbody>\n",
       "</table>\n",
       "</div>"
      ],
      "text/plain": [
       "       publication_date publication_day author  \\\n",
       "743 2020-03-09 11:38:00      2020-03-09     mt   \n",
       "602 2020-04-23 10:20:00      2020-04-23     AP   \n",
       "260 2020-07-10 10:59:00      2020-07-10   MaAl   \n",
       "\n",
       "                                                                           title  \\\n",
       "743  Słaba płeć? Ależ skąd! PIĘKNE I SILNE. Oto lubelskie policjantki! [ZDJĘCIA]   \n",
       "602       Ministerstwo Zdrowia: nowe przypadki koronawirusa COVID-19 w Lubelskim   \n",
       "260   Gospodarka neutralan dla klimatu:  KE przedstawia nowy system energetyczny   \n",
       "\n",
       "                                                                                                     url  \\\n",
       "743  https://www.se.pl/lublin/slaba-plec-alez-skad-piekne-i-silne-oto-lubelskie-policjantki-zdjecia-a...   \n",
       "602  https://www.se.pl/lublin/ministerstwo-zdrowia-nowe-przypadki-koronawirusa-covid-19-w-lubelskim-a...   \n",
       "260  https://lublin.se.pl/gospodarka-neutralan-dla-klimatu-ke-przedstawia-nowy-system-energetyczny-ak...   \n",
       "\n",
       "     koronawirus_in_text  koronawirus_in_title  question_mark  \\\n",
       "743                    0                     0              0   \n",
       "602                   12                     1              0   \n",
       "260                    1                     0              0   \n",
       "\n",
       "     exclamation_mark  all_words  \n",
       "743                 2        274  \n",
       "602                 0        169  \n",
       "260                 0        297  "
      ]
     },
     "execution_count": 102,
     "metadata": {},
     "output_type": "execute_result"
    }
   ],
   "source": [
    "df.insert(loc=1, column='publication_day', value=df['publication_date'].dt.strftime('%Y-%m-%d'))\n",
    "df.sample(frac = 0.002)"
   ]
  },
  {
   "cell_type": "code",
   "execution_count": 103,
   "metadata": {
    "scrolled": false
   },
   "outputs": [
    {
     "data": {
      "text/plain": [
       "2020-06-29    28\n",
       "2020-07-08    26\n",
       "2020-07-01    25\n",
       "2020-07-03    22\n",
       "2020-07-14    21\n",
       "Name: publication_day, dtype: int64"
      ]
     },
     "execution_count": 103,
     "metadata": {},
     "output_type": "execute_result"
    }
   ],
   "source": [
    "df.publication_day.value_counts().head()"
   ]
  },
  {
   "cell_type": "code",
   "execution_count": 104,
   "metadata": {},
   "outputs": [
    {
     "data": {
      "text/plain": [
       "221"
      ]
     },
     "execution_count": 104,
     "metadata": {},
     "output_type": "execute_result"
    }
   ],
   "source": [
    "df['publication_day'].nunique()"
   ]
  },
  {
   "cell_type": "code",
   "execution_count": 105,
   "metadata": {
    "scrolled": true
   },
   "outputs": [
    {
     "name": "stdout",
     "output_type": "stream",
     "text": [
      "<class 'pandas.core.frame.DataFrame'>\n",
      "Int64Index: 1507 entries, 0 to 1799\n",
      "Data columns (total 10 columns):\n",
      "publication_date        1507 non-null datetime64[ns]\n",
      "publication_day         1507 non-null object\n",
      "author                  1507 non-null category\n",
      "title                   1507 non-null object\n",
      "url                     1507 non-null object\n",
      "koronawirus_in_text     1507 non-null int64\n",
      "koronawirus_in_title    1507 non-null int64\n",
      "question_mark           1507 non-null int64\n",
      "exclamation_mark        1507 non-null int64\n",
      "all_words               1507 non-null int64\n",
      "dtypes: category(1), datetime64[ns](1), int64(5), object(3)\n",
      "memory usage: 799.7 KB\n"
     ]
    }
   ],
   "source": [
    "#df['publication_day'] = df['publication_day'].astype('category')\n",
    "df.info(memory_usage='deep')"
   ]
  },
  {
   "cell_type": "markdown",
   "metadata": {},
   "source": [
    "### column: publication_month"
   ]
  },
  {
   "cell_type": "code",
   "execution_count": 106,
   "metadata": {
    "scrolled": true
   },
   "outputs": [
    {
     "data": {
      "text/html": [
       "<div>\n",
       "<style scoped>\n",
       "    .dataframe tbody tr th:only-of-type {\n",
       "        vertical-align: middle;\n",
       "    }\n",
       "\n",
       "    .dataframe tbody tr th {\n",
       "        vertical-align: top;\n",
       "    }\n",
       "\n",
       "    .dataframe thead th {\n",
       "        text-align: right;\n",
       "    }\n",
       "</style>\n",
       "<table border=\"1\" class=\"dataframe\">\n",
       "  <thead>\n",
       "    <tr style=\"text-align: right;\">\n",
       "      <th></th>\n",
       "      <th>publication_date</th>\n",
       "      <th>publication_month</th>\n",
       "      <th>publication_day</th>\n",
       "      <th>author</th>\n",
       "      <th>title</th>\n",
       "      <th>url</th>\n",
       "      <th>koronawirus_in_text</th>\n",
       "      <th>koronawirus_in_title</th>\n",
       "      <th>question_mark</th>\n",
       "      <th>exclamation_mark</th>\n",
       "      <th>all_words</th>\n",
       "    </tr>\n",
       "  </thead>\n",
       "  <tbody>\n",
       "    <tr>\n",
       "      <td>374</td>\n",
       "      <td>2020-06-29 14:50:00</td>\n",
       "      <td>2020-06</td>\n",
       "      <td>2020-06-29</td>\n",
       "      <td>Mateusz Kasiak</td>\n",
       "      <td>Zmiany w lubelskiej komunikacji miejskiej. Więcej miejsca dla pasażerów [AUDIO]</td>\n",
       "      <td>https://lublin.se.pl/zmiany-w-lubelskiej-komunikacji-miejskiej-wiecej-miejsca-dla-pasazerow-audi...</td>\n",
       "      <td>2</td>\n",
       "      <td>0</td>\n",
       "      <td>0</td>\n",
       "      <td>0</td>\n",
       "      <td>290</td>\n",
       "    </tr>\n",
       "    <tr>\n",
       "      <td>447</td>\n",
       "      <td>2020-06-12 10:48:00</td>\n",
       "      <td>2020-06</td>\n",
       "      <td>2020-06-12</td>\n",
       "      <td>Mucha</td>\n",
       "      <td>Dęblin: NAJSTARSZA uciekinierka w Polsce? Po KOLIZJI zwiała rowerem</td>\n",
       "      <td>https://lublin.se.pl/deblin-to-najstarsza-uciekinierka-w-polsce-po-wypadku-zwiala-rowerem-aa-w3A...</td>\n",
       "      <td>0</td>\n",
       "      <td>0</td>\n",
       "      <td>0</td>\n",
       "      <td>4</td>\n",
       "      <td>213</td>\n",
       "    </tr>\n",
       "  </tbody>\n",
       "</table>\n",
       "</div>"
      ],
      "text/plain": [
       "       publication_date publication_month publication_day          author  \\\n",
       "374 2020-06-29 14:50:00           2020-06      2020-06-29  Mateusz Kasiak   \n",
       "447 2020-06-12 10:48:00           2020-06      2020-06-12           Mucha   \n",
       "\n",
       "                                                                               title  \\\n",
       "374  Zmiany w lubelskiej komunikacji miejskiej. Więcej miejsca dla pasażerów [AUDIO]   \n",
       "447              Dęblin: NAJSTARSZA uciekinierka w Polsce? Po KOLIZJI zwiała rowerem   \n",
       "\n",
       "                                                                                                     url  \\\n",
       "374  https://lublin.se.pl/zmiany-w-lubelskiej-komunikacji-miejskiej-wiecej-miejsca-dla-pasazerow-audi...   \n",
       "447  https://lublin.se.pl/deblin-to-najstarsza-uciekinierka-w-polsce-po-wypadku-zwiala-rowerem-aa-w3A...   \n",
       "\n",
       "     koronawirus_in_text  koronawirus_in_title  question_mark  \\\n",
       "374                    2                     0              0   \n",
       "447                    0                     0              0   \n",
       "\n",
       "     exclamation_mark  all_words  \n",
       "374                 0        290  \n",
       "447                 4        213  "
      ]
     },
     "execution_count": 106,
     "metadata": {},
     "output_type": "execute_result"
    }
   ],
   "source": [
    "df.insert(loc=1, column='publication_month', value=df['publication_date'].dt.strftime('%Y-%m'))\n",
    "df.sample(frac = 0.001)"
   ]
  },
  {
   "cell_type": "code",
   "execution_count": 107,
   "metadata": {},
   "outputs": [
    {
     "data": {
      "text/plain": [
       "2020-07    444\n",
       "2020-06    214\n",
       "2020-01    154\n",
       "2020-05    153\n",
       "2020-08    152\n",
       "Name: publication_month, dtype: int64"
      ]
     },
     "execution_count": 107,
     "metadata": {},
     "output_type": "execute_result"
    }
   ],
   "source": [
    "df.publication_month.value_counts().head()"
   ]
  },
  {
   "cell_type": "code",
   "execution_count": 108,
   "metadata": {},
   "outputs": [
    {
     "data": {
      "text/plain": [
       "8"
      ]
     },
     "execution_count": 108,
     "metadata": {},
     "output_type": "execute_result"
    }
   ],
   "source": [
    "df['publication_month'].nunique()"
   ]
  },
  {
   "cell_type": "code",
   "execution_count": 109,
   "metadata": {},
   "outputs": [
    {
     "name": "stdout",
     "output_type": "stream",
     "text": [
      "<class 'pandas.core.frame.DataFrame'>\n",
      "Int64Index: 1507 entries, 0 to 1799\n",
      "Data columns (total 11 columns):\n",
      "publication_date        1507 non-null datetime64[ns]\n",
      "publication_month       1507 non-null object\n",
      "publication_day         1507 non-null object\n",
      "author                  1507 non-null category\n",
      "title                   1507 non-null object\n",
      "url                     1507 non-null object\n",
      "koronawirus_in_text     1507 non-null int64\n",
      "koronawirus_in_title    1507 non-null int64\n",
      "question_mark           1507 non-null int64\n",
      "exclamation_mark        1507 non-null int64\n",
      "all_words               1507 non-null int64\n",
      "dtypes: category(1), datetime64[ns](1), int64(5), object(4)\n",
      "memory usage: 893.8 KB\n"
     ]
    }
   ],
   "source": [
    "#df['publication_month'] = df['publication_month'].astype('category')\n",
    "df.info(memory_usage='deep')"
   ]
  },
  {
   "cell_type": "markdown",
   "metadata": {},
   "source": [
    "### column: author"
   ]
  },
  {
   "cell_type": "code",
   "execution_count": 110,
   "metadata": {
    "scrolled": false
   },
   "outputs": [
    {
     "data": {
      "text/plain": [
       "mt                                     335\n",
       "Mucha                                  147\n",
       "Marek Targoński                        145\n",
       "Karolina Januszek                       94\n",
       "MTA                                     80\n",
       "Mariusz Mucha                           80\n",
       "Mucha, mta                              55\n",
       "AP                                      36\n",
       "OM                                      32\n",
       "KM                                      27\n",
       "Bartłomiej Ważny                        23\n",
       "Monika Kowalewicz                       22\n",
       "AC                                      20\n",
       "Michał Michalak                         17\n",
       "MK                                      16\n",
       "Mateusz Kasiak                          16\n",
       "Agnieszka Niećko                        15\n",
       "gk                                      15\n",
       "Jacek Werner                            14\n",
       "Olka Mazur                              13\n",
       "Artykuł sponsorowany                    13\n",
       "Sylwia Sitka-Czerniak                   13\n",
       "EIB                                     13\n",
       "Emilia Białecka                         11\n",
       "maal                                    11\n",
       "RS                                      10\n",
       "                                         9\n",
       "KaJa                                     9\n",
       "ToM                                      8\n",
       "Konrad Marzec                            7\n",
       "Grzegorz Kluczyński                      7\n",
       "Maciej Brzeziński                        7\n",
       "Monika Kowalewicz/Wioletta Sawa          7\n",
       "Agnieszka Przystaś                       7\n",
       "AG                                       7\n",
       "MaAl                                     6\n",
       "BM                                       6\n",
       "Rafał Strzelec                           6\n",
       "AT                                       6\n",
       "BE                                       5\n",
       "vera                                     5\n",
       "PT                                       5\n",
       "Mucha, mt                                4\n",
       "Mgorecki                                 4\n",
       "mar                                      4\n",
       "AP/IMGW-PIB                              4\n",
       "ŁT                                       3\n",
       "Magdalena Król                           3\n",
       "Amadeusz Calik                           3\n",
       "MPGT                                     3\n",
       "Łukasz Trybulski                         3\n",
       "Mucha, pg                                3\n",
       "mt/ MK (Radio ESKA Lublin)               3\n",
       "Redakcja ESKA INFO                       3\n",
       "mt/ JW (Radio ESKA Lublin)               3\n",
       "mt / ZS (Radio ESKA)                     3\n",
       "Monika Szaniawska/materiały prasowe      2\n",
       "mt / OM (Radio ESKA Lublin)              2\n",
       "bs                                       2\n",
       "mt / JW (Radio ESKA Lublin)              2\n",
       "Name: author, dtype: int64"
      ]
     },
     "execution_count": 110,
     "metadata": {},
     "output_type": "execute_result"
    }
   ],
   "source": [
    "df['author'].value_counts()[:60]"
   ]
  },
  {
   "cell_type": "code",
   "execution_count": 111,
   "metadata": {
    "scrolled": true
   },
   "outputs": [
    {
     "data": {
      "text/plain": [
       "publication_date        514\n",
       "publication_month       514\n",
       "publication_day         514\n",
       "author                  514\n",
       "title                   514\n",
       "url                     514\n",
       "koronawirus_in_text     514\n",
       "koronawirus_in_title    514\n",
       "question_mark           514\n",
       "exclamation_mark        514\n",
       "all_words               514\n",
       "dtype: int64"
      ]
     },
     "execution_count": 111,
     "metadata": {},
     "output_type": "execute_result"
    }
   ],
   "source": [
    "df['author'] = df['author'].str.lower()\n",
    "regex_pattern = re.compile(r'.*mt.*', re.I)\n",
    "df[df['author'].str.contains(regex_pattern)].count()"
   ]
  },
  {
   "cell_type": "code",
   "execution_count": 112,
   "metadata": {
    "scrolled": true
   },
   "outputs": [
    {
     "data": {
      "text/plain": [
       "marek targoński                        661\n",
       "mucha                                  148\n",
       "karolina januszek                       94\n",
       "mariusz mucha                           80\n",
       "ap                                      36\n",
       "om                                      32\n",
       "km                                      27\n",
       "bartłomiej ważny                        23\n",
       "monika kowalewicz                       22\n",
       "ac                                      20\n",
       "maal                                    17\n",
       "michał michalak                         17\n",
       "mateusz kasiak                          16\n",
       "mk                                      16\n",
       "gk                                      15\n",
       "agnieszka niećko                        15\n",
       "jacek werner                            14\n",
       "artykuł sponsorowany                    13\n",
       "olka mazur                              13\n",
       "eib                                     13\n",
       "sylwia sitka-czerniak                   13\n",
       "emilia białecka                         11\n",
       "rs                                      10\n",
       "kaja                                     9\n",
       "                                         9\n",
       "tom                                      8\n",
       "monika kowalewicz/wioletta sawa          7\n",
       "grzegorz kluczyński                      7\n",
       "konrad marzec                            7\n",
       "agnieszka przystaś                       7\n",
       "ag                                       7\n",
       "maciej brzeziński                        7\n",
       "rafał strzelec                           6\n",
       "at                                       6\n",
       "bm                                       6\n",
       "mpgt                                     5\n",
       "pt                                       5\n",
       "vera                                     5\n",
       "be                                       5\n",
       "ap/imgw-pib                              4\n",
       "mgorecki                                 4\n",
       "mar                                      4\n",
       "magdalena król                           3\n",
       "redakcja eska info                       3\n",
       "łukasz trybulski                         3\n",
       "mucha, pg                                3\n",
       "amadeusz calik                           3\n",
       "łt                                       3\n",
       "monika szaniawska/materiały prasowe      2\n",
       "magdalena jaśkiewicz-stawowczyk          2\n",
       "Name: author, dtype: int64"
      ]
     },
     "execution_count": 112,
     "metadata": {},
     "output_type": "execute_result"
    }
   ],
   "source": [
    "df['author'] = df['author'].replace(['mt', 'mt; wideo: Tygodnik Zamojski', 'gał'],'marek targoński')\n",
    "# df['author'] = df['author'].replace(['Mucha', 'mucha'],'Mariusz Mucha')\n",
    "# df['author'] = df['author'].replace(['ŁT'],'Łukasz Trybulski')\n",
    "# df['author'] = df['author'].replace(['Mateusz Kasiak (Radio Eska)'],'Mateusz Kasiak')\n",
    "# df['author'] = df['author'].replace(['KaJa'],'Karolina Januszek')\n",
    "# df['author'] = df['author'].replace(['RS'],'Rafał Strzelec')\n",
    "# df['author'] = df['author'].replace(['gk'],'Grzegorz Kluczyński')\n",
    "# df['author'] = df['author'].replace([''],'Nieznany')\n",
    "\n",
    "# regex_pattern = re.compile(r'(.*,.*|.*/.*|Redakcja ESKA INFO|Nieznany|Akcja partnerska)', re.I)\n",
    "# df['author'] = df['author'].replace(regex_pattern,'Więcej autorów lub nieznany')\n",
    "\n",
    "regex_pattern = re.compile(r'.*mt.*', re.I)\n",
    "df['author'] = df['author'].replace(regex_pattern,'marek targoński')\n",
    "\n",
    "df['author'].value_counts()[:50]"
   ]
  },
  {
   "cell_type": "code",
   "execution_count": 113,
   "metadata": {
    "scrolled": true
   },
   "outputs": [
    {
     "name": "stdout",
     "output_type": "stream",
     "text": [
      "<class 'pandas.core.frame.DataFrame'>\n",
      "Int64Index: 1507 entries, 0 to 1799\n",
      "Data columns (total 11 columns):\n",
      "publication_date        1507 non-null datetime64[ns]\n",
      "publication_month       1507 non-null object\n",
      "publication_day         1507 non-null object\n",
      "author                  1507 non-null category\n",
      "title                   1507 non-null object\n",
      "url                     1507 non-null object\n",
      "koronawirus_in_text     1507 non-null int64\n",
      "koronawirus_in_title    1507 non-null int64\n",
      "question_mark           1507 non-null int64\n",
      "exclamation_mark        1507 non-null int64\n",
      "all_words               1507 non-null int64\n",
      "dtypes: category(1), datetime64[ns](1), int64(5), object(4)\n",
      "memory usage: 888.4 KB\n"
     ]
    }
   ],
   "source": [
    "df['author'] = df['author'].astype('category')\n",
    "df.info(memory_usage='deep')"
   ]
  },
  {
   "cell_type": "markdown",
   "metadata": {},
   "source": [
    "### column: koronawiorus_text"
   ]
  },
  {
   "cell_type": "code",
   "execution_count": 114,
   "metadata": {},
   "outputs": [],
   "source": [
    "# df.loc[[919, 1979, 1965], 'koronawirus_in_text'] = 0"
   ]
  },
  {
   "cell_type": "markdown",
   "metadata": {},
   "source": [
    "### column: koronawiorus_anywhere_sum"
   ]
  },
  {
   "cell_type": "code",
   "execution_count": 115,
   "metadata": {
    "scrolled": false
   },
   "outputs": [
    {
     "data": {
      "text/html": [
       "<div>\n",
       "<style scoped>\n",
       "    .dataframe tbody tr th:only-of-type {\n",
       "        vertical-align: middle;\n",
       "    }\n",
       "\n",
       "    .dataframe tbody tr th {\n",
       "        vertical-align: top;\n",
       "    }\n",
       "\n",
       "    .dataframe thead th {\n",
       "        text-align: right;\n",
       "    }\n",
       "</style>\n",
       "<table border=\"1\" class=\"dataframe\">\n",
       "  <thead>\n",
       "    <tr style=\"text-align: right;\">\n",
       "      <th></th>\n",
       "      <th>publication_date</th>\n",
       "      <th>publication_month</th>\n",
       "      <th>publication_day</th>\n",
       "      <th>author</th>\n",
       "      <th>title</th>\n",
       "      <th>url</th>\n",
       "      <th>koronawirus_in_text</th>\n",
       "      <th>koronawirus_in_title</th>\n",
       "      <th>question_mark</th>\n",
       "      <th>exclamation_mark</th>\n",
       "      <th>all_words</th>\n",
       "      <th>koronawirus_anywhere</th>\n",
       "    </tr>\n",
       "  </thead>\n",
       "  <tbody>\n",
       "    <tr>\n",
       "      <td>0</td>\n",
       "      <td>2020-04-15 10:42:00</td>\n",
       "      <td>2020-04</td>\n",
       "      <td>2020-04-15</td>\n",
       "      <td>marek targoński</td>\n",
       "      <td>Lubelskie: AŻ 25 NOWYCH ZAKAŻEŃ. Koronawirus atakuje z ogromną siłą! [NOWE DANE]</td>\n",
       "      <td>https://www.se.pl/lublin/lubelskie-az-25-nowych-zakazen-koronawirus-atakuje-z-ogromna-sila-nowe-...</td>\n",
       "      <td>13</td>\n",
       "      <td>1</td>\n",
       "      <td>0</td>\n",
       "      <td>2</td>\n",
       "      <td>160</td>\n",
       "      <td>14</td>\n",
       "    </tr>\n",
       "  </tbody>\n",
       "</table>\n",
       "</div>"
      ],
      "text/plain": [
       "     publication_date publication_month publication_day           author  \\\n",
       "0 2020-04-15 10:42:00           2020-04      2020-04-15  marek targoński   \n",
       "\n",
       "                                                                              title  \\\n",
       "0  Lubelskie: AŻ 25 NOWYCH ZAKAŻEŃ. Koronawirus atakuje z ogromną siłą! [NOWE DANE]   \n",
       "\n",
       "                                                                                                   url  \\\n",
       "0  https://www.se.pl/lublin/lubelskie-az-25-nowych-zakazen-koronawirus-atakuje-z-ogromna-sila-nowe-...   \n",
       "\n",
       "   koronawirus_in_text  koronawirus_in_title  question_mark  exclamation_mark  \\\n",
       "0                   13                     1              0                 2   \n",
       "\n",
       "   all_words  koronawirus_anywhere  \n",
       "0        160                    14  "
      ]
     },
     "execution_count": 115,
     "metadata": {},
     "output_type": "execute_result"
    }
   ],
   "source": [
    "df['koronawirus_anywhere'] = 0\n",
    "df['koronawirus_anywhere'] = df['koronawirus_in_text'] + df['koronawirus_in_title']\n",
    "# df.loc[df.koronawirus_anywhere > 0, 'koronawirus_anywhere'] = 1\n",
    "df.head(1)"
   ]
  },
  {
   "cell_type": "markdown",
   "metadata": {},
   "source": [
    "### column: koronawiorus_anywhere_count"
   ]
  },
  {
   "cell_type": "code",
   "execution_count": 116,
   "metadata": {
    "scrolled": true
   },
   "outputs": [
    {
     "data": {
      "text/html": [
       "<div>\n",
       "<style scoped>\n",
       "    .dataframe tbody tr th:only-of-type {\n",
       "        vertical-align: middle;\n",
       "    }\n",
       "\n",
       "    .dataframe tbody tr th {\n",
       "        vertical-align: top;\n",
       "    }\n",
       "\n",
       "    .dataframe thead th {\n",
       "        text-align: right;\n",
       "    }\n",
       "</style>\n",
       "<table border=\"1\" class=\"dataframe\">\n",
       "  <thead>\n",
       "    <tr style=\"text-align: right;\">\n",
       "      <th></th>\n",
       "      <th>publication_date</th>\n",
       "      <th>publication_month</th>\n",
       "      <th>publication_day</th>\n",
       "      <th>author</th>\n",
       "      <th>title</th>\n",
       "      <th>url</th>\n",
       "      <th>koronawirus_in_text</th>\n",
       "      <th>koronawirus_in_title</th>\n",
       "      <th>question_mark</th>\n",
       "      <th>exclamation_mark</th>\n",
       "      <th>all_words</th>\n",
       "      <th>koronawirus_anywhere</th>\n",
       "      <th>koronawirus_anywhere_count</th>\n",
       "    </tr>\n",
       "  </thead>\n",
       "  <tbody>\n",
       "    <tr>\n",
       "      <td>0</td>\n",
       "      <td>2020-04-15 10:42:00</td>\n",
       "      <td>2020-04</td>\n",
       "      <td>2020-04-15</td>\n",
       "      <td>marek targoński</td>\n",
       "      <td>Lubelskie: AŻ 25 NOWYCH ZAKAŻEŃ. Koronawirus atakuje z ogromną siłą! [NOWE DANE]</td>\n",
       "      <td>https://www.se.pl/lublin/lubelskie-az-25-nowych-zakazen-koronawirus-atakuje-z-ogromna-sila-nowe-...</td>\n",
       "      <td>13</td>\n",
       "      <td>1</td>\n",
       "      <td>0</td>\n",
       "      <td>2</td>\n",
       "      <td>160</td>\n",
       "      <td>14</td>\n",
       "      <td>1</td>\n",
       "    </tr>\n",
       "    <tr>\n",
       "      <td>1</td>\n",
       "      <td>2020-08-19 21:41:00</td>\n",
       "      <td>2020-08</td>\n",
       "      <td>2020-08-19</td>\n",
       "      <td>mariusz mucha</td>\n",
       "      <td>Tragedia pod Parczewem. Piotrek w SZALE zatłukł cegłą nie tego brata</td>\n",
       "      <td>https://lublin.se.pl/tragedia-pod-parczewem-zatlukl-cegla-nie-tego-brata-aa-pG2R-Mdb2-2su2.html</td>\n",
       "      <td>0</td>\n",
       "      <td>0</td>\n",
       "      <td>1</td>\n",
       "      <td>0</td>\n",
       "      <td>340</td>\n",
       "      <td>0</td>\n",
       "      <td>0</td>\n",
       "    </tr>\n",
       "    <tr>\n",
       "      <td>2</td>\n",
       "      <td>2020-08-19 19:31:00</td>\n",
       "      <td>2020-08</td>\n",
       "      <td>2020-08-19</td>\n",
       "      <td>karolina januszek</td>\n",
       "      <td>Wygraj 200 złotych od Biedronki. Zobacz, jak to zrobić</td>\n",
       "      <td>https://lublin.se.pl/wygraj-200-zlotych-od-biedronki-zobacz-jak-to-zrobic-ak-XEXJ-32sC-qWAi.html</td>\n",
       "      <td>0</td>\n",
       "      <td>0</td>\n",
       "      <td>0</td>\n",
       "      <td>1</td>\n",
       "      <td>349</td>\n",
       "      <td>0</td>\n",
       "      <td>0</td>\n",
       "    </tr>\n",
       "  </tbody>\n",
       "</table>\n",
       "</div>"
      ],
      "text/plain": [
       "     publication_date publication_month publication_day             author  \\\n",
       "0 2020-04-15 10:42:00           2020-04      2020-04-15    marek targoński   \n",
       "1 2020-08-19 21:41:00           2020-08      2020-08-19      mariusz mucha   \n",
       "2 2020-08-19 19:31:00           2020-08      2020-08-19  karolina januszek   \n",
       "\n",
       "                                                                              title  \\\n",
       "0  Lubelskie: AŻ 25 NOWYCH ZAKAŻEŃ. Koronawirus atakuje z ogromną siłą! [NOWE DANE]   \n",
       "1              Tragedia pod Parczewem. Piotrek w SZALE zatłukł cegłą nie tego brata   \n",
       "2                            Wygraj 200 złotych od Biedronki. Zobacz, jak to zrobić   \n",
       "\n",
       "                                                                                                   url  \\\n",
       "0  https://www.se.pl/lublin/lubelskie-az-25-nowych-zakazen-koronawirus-atakuje-z-ogromna-sila-nowe-...   \n",
       "1      https://lublin.se.pl/tragedia-pod-parczewem-zatlukl-cegla-nie-tego-brata-aa-pG2R-Mdb2-2su2.html   \n",
       "2     https://lublin.se.pl/wygraj-200-zlotych-od-biedronki-zobacz-jak-to-zrobic-ak-XEXJ-32sC-qWAi.html   \n",
       "\n",
       "   koronawirus_in_text  koronawirus_in_title  question_mark  exclamation_mark  \\\n",
       "0                   13                     1              0                 2   \n",
       "1                    0                     0              1                 0   \n",
       "2                    0                     0              0                 1   \n",
       "\n",
       "   all_words  koronawirus_anywhere  koronawirus_anywhere_count  \n",
       "0        160                    14                           1  \n",
       "1        340                     0                           0  \n",
       "2        349                     0                           0  "
      ]
     },
     "execution_count": 116,
     "metadata": {},
     "output_type": "execute_result"
    }
   ],
   "source": [
    "df['koronawirus_anywhere_count'] = 0\n",
    "df['koronawirus_anywhere_count'] = (df['koronawirus_in_text'] + df['koronawirus_in_title']) / (df['koronawirus_in_text'] + df['koronawirus_in_title'])\n",
    "df['koronawirus_anywhere_count'] = df['koronawirus_anywhere_count'].fillna(0).astype('int')\n",
    "df.head(3)"
   ]
  },
  {
   "cell_type": "markdown",
   "metadata": {},
   "source": [
    "### Export data"
   ]
  },
  {
   "cell_type": "code",
   "execution_count": 119,
   "metadata": {},
   "outputs": [],
   "source": [
    "df.to_csv('se_lublin.csv')"
   ]
  }
 ],
 "metadata": {
  "kernelspec": {
   "display_name": "Python 3",
   "language": "python",
   "name": "python3"
  },
  "language_info": {
   "codemirror_mode": {
    "name": "ipython",
    "version": 3
   },
   "file_extension": ".py",
   "mimetype": "text/x-python",
   "name": "python",
   "nbconvert_exporter": "python",
   "pygments_lexer": "ipython3",
   "version": "3.6.9"
  }
 },
 "nbformat": 4,
 "nbformat_minor": 2
}
